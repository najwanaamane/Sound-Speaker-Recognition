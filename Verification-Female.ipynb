{
 "cells": [
  {
   "cell_type": "code",
   "execution_count": 1,
   "id": "5e9444f0",
   "metadata": {},
   "outputs": [],
   "source": [
    "import math\n",
    "import numpy as np\n",
    "import joblib\n",
    "import os\n",
    "import matplotlib.pyplot as plt\n",
    "from collections import defaultdict\n"
   ]
  },
  {
   "cell_type": "markdown",
   "id": "c92f01fc",
   "metadata": {},
   "source": [
    "# Defining the function that predicts the speaker :"
   ]
  },
  {
   "cell_type": "code",
   "execution_count": 2,
   "id": "64e9b8bf",
   "metadata": {},
   "outputs": [],
   "source": [
    "def get_scores(mfcc_features, gmm_models):\n",
    "    scores = {}\n",
    "    for model_name, gmm_model in gmm_models.items():\n",
    "        scores[model_name.split(\".\")[0]] = gmm_model.score(mfcc_features)\n",
    "    return scores\n"
   ]
  },
  {
   "cell_type": "markdown",
   "id": "e3bda8c1",
   "metadata": {},
   "source": [
    "# Loading all the gmm models and storing them in dictionaries according to the  n_components and gender : \n",
    "## key: model_name , value: gmm model "
   ]
  },
  {
   "cell_type": "code",
   "execution_count": 3,
   "id": "303cbfef",
   "metadata": {},
   "outputs": [],
   "source": [
    "# Load all GMM models from the appropriate folder\n",
    "model_folder = r'GMM\\F'\n",
    "gmm_models_F_16 = {}\n",
    "gmm_models_F_32 = {}\n",
    "gmm_models_F_128 = {}\n",
    "gmm_models_F_256 = {}\n",
    "for model_filename in os.listdir(model_folder):\n",
    "    model_path = os.path.join(model_folder, model_filename)\n",
    "    gmm_model = joblib.load(model_path)\n",
    "    if model_filename.endswith(\".16.gmm\"):\n",
    "        gmm_models_F_16[model_filename] = gmm_model\n",
    "    elif model_filename.endswith(\".32.gmm\"):\n",
    "        gmm_models_F_32[model_filename] = gmm_model\n",
    "    elif model_filename.endswith(\".128.gmm\"):\n",
    "        gmm_models_F_128[model_filename] = gmm_model\n",
    "    elif model_filename.endswith(\".256.gmm\"):\n",
    "        gmm_models_F_256[model_filename] = gmm_model"
   ]
  },
  {
   "cell_type": "markdown",
   "id": "33a9f830",
   "metadata": {},
   "source": [
    "# Loading the files containing the mfcc features and storing them in dictionaries according to duration and gender:\n",
    "## key: file_name , value: mfcc_features"
   ]
  },
  {
   "cell_type": "code",
   "execution_count": 4,
   "id": "a0e6f019",
   "metadata": {},
   "outputs": [],
   "source": [
    "# Set the path to the test folder\n",
    "test_folder = r'MFCC\\Test-segments'\n",
    "\n",
    "# Initialize dictionaries to store the loaded test files\n",
    "test_files_3_H = {}\n",
    "test_files_3_F = {}\n",
    "test_files_10_H = {}\n",
    "test_files_10_F = {}\n",
    "test_files_15_H = {}\n",
    "test_files_15_F = {}\n",
    "test_files_30_H = {}\n",
    "test_files_30_F = {}\n",
    "\n",
    "# Set the duration sub-folders\n",
    "duration_folders = [\"3\", \"10\", \"15\", \"30\"]\n",
    "\n",
    "for duration_folder in duration_folders:\n",
    "    duration_folder_path = os.path.join(test_folder, duration_folder)\n",
    "\n",
    "    # Check if the duration sub-folder exists\n",
    "    if os.path.isdir(duration_folder_path):\n",
    "        # Iterate over the gender sub-folders\n",
    "        for gender_folder in os.listdir(duration_folder_path):\n",
    "            gender_folder_path = os.path.join(duration_folder_path, gender_folder)\n",
    "\n",
    "            # Check if the item in the duration sub-folder is a directory\n",
    "            if os.path.isdir(gender_folder_path):\n",
    "                # Determine the appropriate dictionary based on duration and gender\n",
    "                if duration_folder == \"3\" and gender_folder == \"H\":\n",
    "                    test_files_dict = test_files_3_H\n",
    "                elif duration_folder == \"3\" and gender_folder == \"F\":\n",
    "                    test_files_dict = test_files_3_F\n",
    "                elif duration_folder == \"10\" and gender_folder == \"H\":\n",
    "                    test_files_dict = test_files_10_H\n",
    "                elif duration_folder == \"10\" and gender_folder == \"F\":\n",
    "                    test_files_dict = test_files_10_F\n",
    "                elif duration_folder == \"15\" and gender_folder == \"H\":\n",
    "                    test_files_dict = test_files_15_H\n",
    "                elif duration_folder == \"15\" and gender_folder == \"F\":\n",
    "                    test_files_dict = test_files_15_F\n",
    "                elif duration_folder == \"30\" and gender_folder == \"H\":\n",
    "                    test_files_dict = test_files_30_H\n",
    "                elif duration_folder == \"30\" and gender_folder == \"F\":\n",
    "                    test_files_dict = test_files_30_F\n",
    "\n",
    "                # Iterate over the test segments within the gender sub-folder\n",
    "                for filename in os.listdir(gender_folder_path):\n",
    "                    if filename.endswith(\".mfcc\"):\n",
    "                        test_segment_path = os.path.join(gender_folder_path, filename)\n",
    "\n",
    "                        # Load the MFCC features\n",
    "                        mfcc_features = np.genfromtxt(test_segment_path, delimiter=',')\n",
    "\n",
    "                        # Add the loaded features to the corresponding dictionary with the filename as the key\n",
    "                        test_files_dict[filename] = mfcc_features\n"
   ]
  },
  {
   "cell_type": "markdown",
   "id": "7c8545c6",
   "metadata": {},
   "source": [
    "# Plotting the DET curve :"
   ]
  },
  {
   "cell_type": "markdown",
   "id": "643092b8",
   "metadata": {},
   "source": [
    "\n",
    "## a. GMM 16 :\n",
    "### 3 second segments :\n"
   ]
  },
  {
   "cell_type": "markdown",
   "id": "56ea06d2",
   "metadata": {},
   "source": [
    "## Get the scores :"
   ]
  },
  {
   "cell_type": "code",
   "execution_count": 5,
   "id": "06793481",
   "metadata": {
    "scrolled": true
   },
   "outputs": [
    {
     "name": "stdout",
     "output_type": "stream",
     "text": [
      "File: F1.3.1.mfcc ,Score: {'F1': -52.38556438369983, 'F2': -54.09281773349176, 'F3': -57.28725124325555, 'F4': -62.88214232082617, 'F5': -62.87246332024069, 'F6': -57.80858608187659}\n",
      "File: F1.3.10.mfcc ,Score: {'F1': -50.68573843343561, 'F2': -53.428288869001264, 'F3': -56.02285604504211, 'F4': -60.99657229988099, 'F5': -64.07471867698656, 'F6': -54.93764224787023}\n",
      "File: F1.3.11.mfcc ,Score: {'F1': -52.27061908734399, 'F2': -53.88948989967767, 'F3': -56.729571683462275, 'F4': -61.161899424251025, 'F5': -67.07085527852892, 'F6': -59.189316047188996}\n",
      "File: F1.3.12.mfcc ,Score: {'F1': -52.043161533948464, 'F2': -52.73260119044819, 'F3': -54.761436346116646, 'F4': -60.111697412352974, 'F5': -65.82647748025494, 'F6': -57.69728810979307}\n",
      "File: F1.3.13.mfcc ,Score: {'F1': -55.3123037319506, 'F2': -58.2214437836137, 'F3': -52.04480177715755, 'F4': -58.14580240036686, 'F5': -75.25153429158178, 'F6': -62.36682517201455}\n",
      "File: F1.3.14.mfcc ,Score: {'F1': -50.02928755859594, 'F2': -53.27696835918129, 'F3': -55.81085641135471, 'F4': -58.12547875863449, 'F5': -65.46575298317003, 'F6': -55.333653570229195}\n",
      "File: F1.3.15.mfcc ,Score: {'F1': -50.570714615112486, 'F2': -53.42550513492059, 'F3': -56.45481697245157, 'F4': -59.08917531206544, 'F5': -66.84079542465506, 'F6': -55.92201514229257}\n",
      "File: F1.3.16.mfcc ,Score: {'F1': -50.51645987914506, 'F2': -54.84474695619169, 'F3': -56.18948015429652, 'F4': -58.35105324395891, 'F5': -67.91402807432735, 'F6': -56.86303698167239}\n",
      "File: F1.3.17.mfcc ,Score: {'F1': -52.6531914124215, 'F2': -56.200958438242026, 'F3': -53.56768602516552, 'F4': -60.696959566376805, 'F5': -70.82547400600129, 'F6': -59.50300335836051}\n",
      "File: F1.3.18.mfcc ,Score: {'F1': -50.99015554569427, 'F2': -54.102296500701875, 'F3': -55.96734384286821, 'F4': -59.321357735358916, 'F5': -62.91900006045488, 'F6': -56.76670470203199}\n",
      "File: F1.3.19.mfcc ,Score: {'F1': -50.249607433894255, 'F2': -57.85891257985526, 'F3': -55.69852671163586, 'F4': -57.88685381222497, 'F5': -63.80438072608199, 'F6': -56.77860739716549}\n",
      "File: F1.3.2.mfcc ,Score: {'F1': -51.669860644694474, 'F2': -54.89170495834396, 'F3': -56.25189133367882, 'F4': -58.82949712781813, 'F5': -67.01584872896127, 'F6': -59.485085794692594}\n",
      "File: F1.3.3.mfcc ,Score: {'F1': -52.13714222344137, 'F2': -53.71613698349224, 'F3': -56.41310200549917, 'F4': -60.817045049983584, 'F5': -64.32856805496913, 'F6': -58.045093591759226}\n",
      "File: F1.3.4.mfcc ,Score: {'F1': -50.66785953125448, 'F2': -52.726224722791144, 'F3': -55.51315277807335, 'F4': -59.12039648179257, 'F5': -62.81217271454294, 'F6': -55.88458932978336}\n",
      "File: F1.3.5.mfcc ,Score: {'F1': -52.28067028133015, 'F2': -53.46395529664801, 'F3': -57.5849330057874, 'F4': -61.3519640914748, 'F5': -68.5007235997093, 'F6': -58.767290190448534}\n",
      "File: F1.3.6.mfcc ,Score: {'F1': -52.17440069283266, 'F2': -53.46910724633186, 'F3': -56.34310176349535, 'F4': -61.476212674401275, 'F5': -66.7204722962948, 'F6': -60.2420237687061}\n",
      "File: F1.3.7.mfcc ,Score: {'F1': -53.13755319650088, 'F2': -52.95634933243942, 'F3': -57.247794498255246, 'F4': -62.16996307007414, 'F5': -66.04476114035982, 'F6': -58.90212125116826}\n",
      "File: F1.3.8.mfcc ,Score: {'F1': -52.957017146792104, 'F2': -53.15283295279659, 'F3': -58.66067370110873, 'F4': -62.77392006580791, 'F5': -65.94744986032646, 'F6': -59.03973604929456}\n",
      "File: F1.3.9.mfcc ,Score: {'F1': -52.8243897832028, 'F2': -52.65957339662604, 'F3': -57.412394781899046, 'F4': -62.13145498324416, 'F5': -64.14025487645131, 'F6': -57.97478065857093}\n",
      "File: F2.3.1.mfcc ,Score: {'F1': -56.19307060850768, 'F2': -49.99541677781006, 'F3': -55.10077359954975, 'F4': -61.04967198086301, 'F5': -63.662201376603456, 'F6': -57.89363090521157}\n",
      "File: F2.3.10.mfcc ,Score: {'F1': -55.328048480164746, 'F2': -50.395703989505755, 'F3': -54.42444134495627, 'F4': -61.59174714009726, 'F5': -61.501431945640455, 'F6': -56.08951646820511}\n",
      "File: F2.3.11.mfcc ,Score: {'F1': -55.892721777677146, 'F2': -50.74654244434924, 'F3': -54.841782322493344, 'F4': -63.410197253883695, 'F5': -61.89378450888432, 'F6': -57.63552526319266}\n",
      "File: F2.3.12.mfcc ,Score: {'F1': -54.91886974003416, 'F2': -49.66891051659347, 'F3': -53.571465254974136, 'F4': -59.93759852933579, 'F5': -64.83408860942406, 'F6': -56.737129751534425}\n",
      "File: F2.3.13.mfcc ,Score: {'F1': -55.997571785022, 'F2': -50.21257180203639, 'F3': -54.57721160692508, 'F4': -62.29427781937327, 'F5': -61.731395969990785, 'F6': -56.18529977931625}\n",
      "File: F2.3.14.mfcc ,Score: {'F1': -56.15824680006946, 'F2': -49.48764556634426, 'F3': -52.995690968007686, 'F4': -59.548622372967586, 'F5': -59.735620691583605, 'F6': -56.32603921934441}\n",
      "File: F2.3.15.mfcc ,Score: {'F1': -55.209602565754295, 'F2': -50.11343149567369, 'F3': -54.64863138804034, 'F4': -60.89670553522827, 'F5': -62.9555342473054, 'F6': -57.17619533943659}\n",
      "File: F2.3.16.mfcc ,Score: {'F1': -56.746882253025156, 'F2': -50.46780710206486, 'F3': -55.000550794026, 'F4': -63.10456880627998, 'F5': -62.24307338563272, 'F6': -57.339673866372905}\n",
      "File: F2.3.17.mfcc ,Score: {'F1': -54.36026678090008, 'F2': -50.464292153596496, 'F3': -53.634361926792806, 'F4': -58.381981222042306, 'F5': -62.09219447007564, 'F6': -57.02088249704535}\n",
      "File: F2.3.18.mfcc ,Score: {'F1': -56.16826446679798, 'F2': -52.10396742074302, 'F3': -57.19268477266936, 'F4': -66.02397879931002, 'F5': -63.897718194263, 'F6': -57.65190664299749}\n",
      "File: F2.3.19.mfcc ,Score: {'F1': -56.48302855075438, 'F2': -51.00699273905599, 'F3': -55.85392210784972, 'F4': -58.90305260257047, 'F5': -64.27416813750183, 'F6': -58.53635233066895}\n",
      "File: F2.3.2.mfcc ,Score: {'F1': -56.56634032999109, 'F2': -49.72813202801384, 'F3': -54.97197598556658, 'F4': -59.847279954662916, 'F5': -64.9137656011137, 'F6': -57.096416669614506}\n",
      "File: F2.3.3.mfcc ,Score: {'F1': -55.40649350930426, 'F2': -50.298640318753556, 'F3': -53.63098278841631, 'F4': -60.748327035569154, 'F5': -63.87917679502682, 'F6': -56.99704448443315}\n",
      "File: F2.3.4.mfcc ,Score: {'F1': -55.46896510129213, 'F2': -52.20855840066527, 'F3': -54.87318456668307, 'F4': -62.12189885323995, 'F5': -62.44250927531837, 'F6': -55.139427078777445}\n",
      "File: F2.3.5.mfcc ,Score: {'F1': -55.37580873937995, 'F2': -50.70113073358826, 'F3': -55.81602632325517, 'F4': -60.28089314781499, 'F5': -63.22474195251695, 'F6': -56.4394428152375}\n",
      "File: F2.3.6.mfcc ,Score: {'F1': -54.47904649789311, 'F2': -49.662846070181224, 'F3': -54.058218174496815, 'F4': -62.42925054580277, 'F5': -62.2286366251008, 'F6': -56.45977982395016}\n",
      "File: F2.3.7.mfcc ,Score: {'F1': -54.263160576292854, 'F2': -48.852506032621214, 'F3': -53.34342343080854, 'F4': -61.8306687812118, 'F5': -60.36370340858974, 'F6': -55.65948125863731}\n",
      "File: F2.3.8.mfcc ,Score: {'F1': -57.07990906351177, 'F2': -50.975932087504006, 'F3': -56.078074469360196, 'F4': -64.04699765868634, 'F5': -62.23650383474498, 'F6': -56.51976895667581}\n",
      "File: F2.3.9.mfcc ,Score: {'F1': -56.09609548469685, 'F2': -50.73635145009031, 'F3': -54.93369493566618, 'F4': -60.896612219956154, 'F5': -62.91018351588361, 'F6': -57.514312237590445}\n",
      "File: F3.3.1.mfcc ,Score: {'F1': -55.39684286676805, 'F2': -54.80153891287482, 'F3': -50.549631173989425, 'F4': -59.85262572005042, 'F5': -60.521920067077666, 'F6': -57.34050171420898}\n",
      "File: F3.3.10.mfcc ,Score: {'F1': -56.82880649071942, 'F2': -54.91092544763747, 'F3': -48.92142289192827, 'F4': -62.24995437453343, 'F5': -63.71273049423432, 'F6': -60.485374809953925}\n",
      "File: F3.3.11.mfcc ,Score: {'F1': -56.11244573097979, 'F2': -55.37559714489969, 'F3': -50.48622181612572, 'F4': -60.4348615418481, 'F5': -59.2297542667432, 'F6': -57.564409262337264}\n",
      "File: F3.3.12.mfcc ,Score: {'F1': -57.74710035111532, 'F2': -55.610867349672965, 'F3': -50.06087515481694, 'F4': -66.39351905088495, 'F5': -63.595957992327044, 'F6': -59.81881907493405}\n",
      "File: F3.3.13.mfcc ,Score: {'F1': -56.383735049040745, 'F2': -55.15922157530401, 'F3': -50.480226010485616, 'F4': -60.29058723673392, 'F5': -61.51062270632643, 'F6': -59.54228233540057}\n",
      "File: F3.3.14.mfcc ,Score: {'F1': -59.36541657991745, 'F2': -59.38550811047125, 'F3': -47.24481317892598, 'F4': -63.678659377000855, 'F5': -75.43946228538111, 'F6': -63.9833213873348}\n",
      "File: F3.3.15.mfcc ,Score: {'F1': -58.06850548782143, 'F2': -56.58445595745218, 'F3': -48.96119729129929, 'F4': -68.85413066101916, 'F5': -69.52916783144906, 'F6': -62.505857780807276}\n",
      "File: F3.3.16.mfcc ,Score: {'F1': -57.13307053819643, 'F2': -56.395700045306135, 'F3': -51.95192061555443, 'F4': -67.79936553430286, 'F5': -61.18076108899466, 'F6': -59.36025294400351}\n",
      "File: F3.3.17.mfcc ,Score: {'F1': -57.12732436775829, 'F2': -55.87386273094213, 'F3': -51.64426473336017, 'F4': -61.23954698463852, 'F5': -64.9074542259811, 'F6': -61.34744343335738}\n",
      "File: F3.3.18.mfcc ,Score: {'F1': -55.97435191421506, 'F2': -56.09453697383284, 'F3': -47.88985795498323, 'F4': -58.53156798950801, 'F5': -66.99928718806702, 'F6': -60.573820564192296}\n",
      "File: F3.3.19.mfcc ,Score: {'F1': -54.26018289225776, 'F2': -54.509835145083045, 'F3': -49.06032255861813, 'F4': -61.43131676335144, 'F5': -62.394340398018294, 'F6': -58.40168457081554}\n",
      "File: F3.3.2.mfcc ,Score: {'F1': -56.321080210910175, 'F2': -57.3270171013497, 'F3': -51.21721320966987, 'F4': -60.665867171054146, 'F5': -63.0691539543455, 'F6': -61.19174423577262}\n",
      "File: F3.3.3.mfcc ,Score: {'F1': -58.98060078904835, 'F2': -58.72920565575441, 'F3': -48.11653691931792, 'F4': -63.0195363062254, 'F5': -74.05234730339441, 'F6': -64.20707142770401}\n",
      "File: F3.3.4.mfcc ,Score: {'F1': -57.12148189539752, 'F2': -56.96652144061907, 'F3': -49.98990353150027, 'F4': -68.56672839050448, 'F5': -66.19587232576139, 'F6': -60.64934841198951}\n",
      "File: F3.3.5.mfcc ,Score: {'F1': -55.95143567379096, 'F2': -55.03780604903009, 'F3': -49.15655617486761, 'F4': -62.3034815708158, 'F5': -62.34809283990112, 'F6': -57.48039333104343}\n",
      "File: F3.3.6.mfcc ,Score: {'F1': -57.24154769972207, 'F2': -56.57991840016168, 'F3': -50.15243090326185, 'F4': -64.34367132255063, 'F5': -64.70005057190318, 'F6': -59.59558320263314}\n",
      "File: F3.3.7.mfcc ,Score: {'F1': -56.81680559697929, 'F2': -55.884770957898034, 'F3': -49.46277162293634, 'F4': -68.08965321360851, 'F5': -66.16346563902077, 'F6': -59.88561340553332}\n",
      "File: F3.3.8.mfcc ,Score: {'F1': -58.49380054855132, 'F2': -57.11445233626949, 'F3': -49.64221172226565, 'F4': -70.40405191365248, 'F5': -65.6104793801945, 'F6': -61.682647747591545}\n",
      "File: F3.3.9.mfcc ,Score: {'F1': -60.39842753817801, 'F2': -58.14847936320895, 'F3': -50.40578696526499, 'F4': -67.83723751495074, 'F5': -70.92791063718536, 'F6': -63.300665571087336}\n",
      "File: F4.3.1.mfcc ,Score: {'F1': -54.739712385094435, 'F2': -54.816565611134, 'F3': -56.096454994577485, 'F4': -50.89793717382644, 'F5': -60.29190304867563, 'F6': -58.2873029654143}\n",
      "File: F4.3.10.mfcc ,Score: {'F1': -54.28156145987549, 'F2': -55.77787842601783, 'F3': -56.22673151168016, 'F4': -51.1628242199726, 'F5': -59.98725177952605, 'F6': -56.66096428465868}\n",
      "File: F4.3.11.mfcc ,Score: {'F1': -55.690769017044246, 'F2': -56.72580236258139, 'F3': -56.99753556624402, 'F4': -51.58956311378102, 'F5': -61.368483488881004, 'F6': -58.065749456110865}\n",
      "File: F4.3.12.mfcc ,Score: {'F1': -55.06203491036949, 'F2': -54.98764508460115, 'F3': -56.57087385028909, 'F4': -50.56023308379917, 'F5': -58.5056590114007, 'F6': -56.8423287038268}\n",
      "File: F4.3.13.mfcc ,Score: {'F1': -53.52674102242761, 'F2': -54.15355917763569, 'F3': -55.56630863201694, 'F4': -50.195754845741384, 'F5': -59.727140436225625, 'F6': -57.13765299497554}\n",
      "File: F4.3.14.mfcc ,Score: {'F1': -55.01680113691586, 'F2': -56.839914784765014, 'F3': -56.29557839595338, 'F4': -51.16519100869008, 'F5': -60.55634428897923, 'F6': -59.128137653092274}\n",
      "File: F4.3.15.mfcc ,Score: {'F1': -54.626039373849174, 'F2': -54.982242512705646, 'F3': -56.1746546643904, 'F4': -50.213877043425356, 'F5': -59.315617951712085, 'F6': -56.7254026159413}\n",
      "File: F4.3.16.mfcc ,Score: {'F1': -57.09247516753623, 'F2': -56.45048107871696, 'F3': -55.97115050013256, 'F4': -52.26909325408866, 'F5': -59.201891012431275, 'F6': -57.79278813088264}\n",
      "File: F4.3.17.mfcc ,Score: {'F1': -54.211930458958435, 'F2': -53.526152112084226, 'F3': -54.911454569223935, 'F4': -50.744484060253754, 'F5': -58.804751044191775, 'F6': -57.119188696212014}\n",
      "File: F4.3.18.mfcc ,Score: {'F1': -54.47205957322387, 'F2': -57.8966635702706, 'F3': -56.963413788655465, 'F4': -53.11579881361374, 'F5': -61.27003261990614, 'F6': -58.530491555984746}\n",
      "File: F4.3.19.mfcc ,Score: {'F1': -52.41585986915899, 'F2': -54.00374322569759, 'F3': -56.053945056533266, 'F4': -50.953814747016274, 'F5': -58.279079059260255, 'F6': -54.29189549332066}\n",
      "File: F4.3.2.mfcc ,Score: {'F1': -55.306837027491106, 'F2': -57.59154028401436, 'F3': -56.623139504174496, 'F4': -51.637608160409904, 'F5': -59.46186605669022, 'F6': -58.08866061134253}\n",
      "File: F4.3.20.mfcc ,Score: {'F1': -53.798513297496186, 'F2': -56.97756905731008, 'F3': -57.7374615344507, 'F4': -52.39865796014383, 'F5': -62.36149255042308, 'F6': -57.65016591302585}\n",
      "File: F4.3.3.mfcc ,Score: {'F1': -54.162247911116786, 'F2': -53.48194068959308, 'F3': -54.93960485832029, 'F4': -50.49800454746745, 'F5': -58.61078107059131, 'F6': -56.5647239972531}\n",
      "File: F4.3.4.mfcc ,Score: {'F1': -55.02042786145499, 'F2': -56.25194457504844, 'F3': -58.7370070181608, 'F4': -50.12487296618848, 'F5': -60.878583206249026, 'F6': -57.62567242676383}\n",
      "File: F4.3.5.mfcc ,Score: {'F1': -51.824767029095604, 'F2': -55.879205074429265, 'F3': -54.728744886448474, 'F4': -49.75791168214033, 'F5': -58.639345832745114, 'F6': -56.35018988692701}\n",
      "File: F4.3.6.mfcc ,Score: {'F1': -54.592643627971285, 'F2': -55.80574541443423, 'F3': -55.87042336081652, 'F4': -51.28209440506573, 'F5': -59.853973289101205, 'F6': -57.32123061581357}\n",
      "File: F4.3.7.mfcc ,Score: {'F1': -54.573136182952176, 'F2': -56.31230590599102, 'F3': -58.004414888469306, 'F4': -50.87179386677014, 'F5': -59.794480214220286, 'F6': -58.76661628904768}\n",
      "File: F4.3.8.mfcc ,Score: {'F1': -55.15037006628656, 'F2': -56.55366444268213, 'F3': -57.12707444650451, 'F4': -50.610090390314966, 'F5': -60.07141440808657, 'F6': -57.84877003715655}\n",
      "File: F4.3.9.mfcc ,Score: {'F1': -53.298485982273476, 'F2': -52.98339719887242, 'F3': -54.75621194379391, 'F4': -51.22521888136992, 'F5': -56.07981807086497, 'F6': -55.50952100449304}\n",
      "File: F5.3.1.mfcc ,Score: {'F1': -56.77829236525161, 'F2': -56.131563842582075, 'F3': -55.17505556460334, 'F4': -64.17966968589853, 'F5': -47.814162934109476, 'F6': -57.72785916212605}\n",
      "File: F5.3.10.mfcc ,Score: {'F1': -58.23353065668249, 'F2': -57.60623570210759, 'F3': -58.623517207115896, 'F4': -61.702880790540874, 'F5': -48.9029408701653, 'F6': -58.01744121880548}\n",
      "File: F5.3.11.mfcc ,Score: {'F1': -56.65589821595702, 'F2': -55.362727527695775, 'F3': -55.64358168014022, 'F4': -61.20744156529905, 'F5': -48.16791296606727, 'F6': -56.582412081561515}\n",
      "File: F5.3.12.mfcc ,Score: {'F1': -57.30258665709504, 'F2': -56.15685368704008, 'F3': -56.352386938599835, 'F4': -63.69395021345646, 'F5': -49.18124058233577, 'F6': -58.353478686922436}\n",
      "File: F5.3.13.mfcc ,Score: {'F1': -55.12387959820814, 'F2': -56.16506654636648, 'F3': -55.825109144102704, 'F4': -63.90185025449823, 'F5': -49.60728347937738, 'F6': -57.5621273214774}\n",
      "File: F5.3.14.mfcc ,Score: {'F1': -56.44054314163351, 'F2': -56.10393011401803, 'F3': -58.498012440326846, 'F4': -65.66351488894233, 'F5': -50.23344988408286, 'F6': -58.175763026265415}\n",
      "File: F5.3.15.mfcc ,Score: {'F1': -57.88827698680323, 'F2': -57.17804402860996, 'F3': -58.85921984911634, 'F4': -63.06834857870215, 'F5': -49.0114686233505, 'F6': -58.813658258621906}\n",
      "File: F5.3.16.mfcc ,Score: {'F1': -56.20247123685351, 'F2': -57.635250665675244, 'F3': -57.79908278395117, 'F4': -61.799685488415996, 'F5': -49.25374414452406, 'F6': -59.439015696529886}\n",
      "File: F5.3.17.mfcc ,Score: {'F1': -57.15812220435279, 'F2': -57.46258711373368, 'F3': -58.41997166410145, 'F4': -62.42982003825019, 'F5': -49.29189276294148, 'F6': -57.87586310306574}\n",
      "File: F5.3.18.mfcc ,Score: {'F1': -56.0206870576641, 'F2': -56.54979856262619, 'F3': -56.227538645190364, 'F4': -65.7244121301655, 'F5': -50.24945677471032, 'F6': -58.21770936277232}\n",
      "File: F5.3.19.mfcc ,Score: {'F1': -58.5100743341643, 'F2': -57.306893691324724, 'F3': -56.923637739264464, 'F4': -62.824086140911376, 'F5': -50.09012464593369, 'F6': -60.27888995013013}\n",
      "File: F5.3.2.mfcc ,Score: {'F1': -57.2145083769417, 'F2': -55.56303864759148, 'F3': -57.168217494039055, 'F4': -61.657547884684206, 'F5': -48.005988888746565, 'F6': -58.48118638422614}\n",
      "File: F5.3.3.mfcc ,Score: {'F1': -56.90256241521024, 'F2': -56.0232578506, 'F3': -56.63002248733524, 'F4': -62.7136906389282, 'F5': -49.17205405314715, 'F6': -57.62958543972345}\n",
      "File: F5.3.4.mfcc ,Score: {'F1': -56.16362382182798, 'F2': -55.48987076345989, 'F3': -56.59517757686005, 'F4': -62.71401089572304, 'F5': -48.417727626199145, 'F6': -56.939221135541544}\n",
      "File: F5.3.5.mfcc ,Score: {'F1': -56.63481612221852, 'F2': -55.749235601579905, 'F3': -55.98769635061847, 'F4': -63.21944160821125, 'F5': -48.218998857309536, 'F6': -57.68718803555896}\n",
      "File: F5.3.6.mfcc ,Score: {'F1': -56.51880789669991, 'F2': -57.951874803765534, 'F3': -59.07767854236408, 'F4': -60.99388101999859, 'F5': -48.44491062651949, 'F6': -59.313299567374074}\n",
      "File: F5.3.7.mfcc ,Score: {'F1': -57.45074370353343, 'F2': -55.67909261099835, 'F3': -56.78893922553728, 'F4': -60.10825609395383, 'F5': -47.7438438173617, 'F6': -57.15217522223973}\n",
      "File: F5.3.8.mfcc ,Score: {'F1': -55.77432801388322, 'F2': -54.7285126945778, 'F3': -54.05042634896722, 'F4': -61.138354065766784, 'F5': -47.59870686716669, 'F6': -56.51778919335571}\n",
      "File: F5.3.9.mfcc ,Score: {'F1': -58.45344906397483, 'F2': -57.70908159698504, 'F3': -57.80281856281431, 'F4': -62.61471818898181, 'F5': -49.7823901065058, 'F6': -58.92836399331119}\n",
      "File: F6.3.1.mfcc ,Score: {'F1': -59.13980435321154, 'F2': -58.322021749555994, 'F3': -60.23697704124742, 'F4': -65.9527292258637, 'F5': -68.53700283705555, 'F6': -49.38868685040157}\n",
      "File: F6.3.10.mfcc ,Score: {'F1': -58.080282333185934, 'F2': -57.8407855174218, 'F3': -59.804371996894965, 'F4': -65.66122078432142, 'F5': -70.21589299441935, 'F6': -48.45540794108973}\n",
      "File: F6.3.11.mfcc ,Score: {'F1': -55.30185332389432, 'F2': -55.32991818398429, 'F3': -57.01776994253551, 'F4': -62.59925117338023, 'F5': -63.62731830029149, 'F6': -48.635412985205754}\n",
      "File: F6.3.12.mfcc ,Score: {'F1': -56.38800237260493, 'F2': -56.01891686715574, 'F3': -58.20179840772107, 'F4': -62.24848278152446, 'F5': -65.61999554331564, 'F6': -48.744787645549266}\n",
      "File: F6.3.13.mfcc ,Score: {'F1': -59.551542112894516, 'F2': -60.70376696184057, 'F3': -61.74134121983407, 'F4': -70.78483918253616, 'F5': -74.24932722942896, 'F6': -48.256537004664985}\n",
      "File: F6.3.14.mfcc ,Score: {'F1': -56.762170223364116, 'F2': -56.391487706343156, 'F3': -58.14214321490232, 'F4': -65.15687070073925, 'F5': -67.0164987026751, 'F6': -49.281469549030874}\n",
      "File: F6.3.15.mfcc ,Score: {'F1': -57.140887682224154, 'F2': -57.58867873578712, 'F3': -58.408847678787254, 'F4': -65.35417843973839, 'F5': -67.25056153360548, 'F6': -48.28928447490513}\n",
      "File: F6.3.16.mfcc ,Score: {'F1': -54.15729173845951, 'F2': -54.69002016500757, 'F3': -55.65025565778018, 'F4': -58.534663755350884, 'F5': -61.72948595914417, 'F6': -48.594465591519956}\n",
      "File: F6.3.17.mfcc ,Score: {'F1': -59.07474638622121, 'F2': -60.2016467930528, 'F3': -60.47244807490507, 'F4': -67.0338505850419, 'F5': -69.33811604050496, 'F6': -47.391792529222236}\n",
      "File: F6.3.18.mfcc ,Score: {'F1': -56.203687371478544, 'F2': -56.3418839753676, 'F3': -58.43712135050835, 'F4': -63.515954032605904, 'F5': -66.57664874046498, 'F6': -48.816438513144135}\n",
      "File: F6.3.19.mfcc ,Score: {'F1': -54.294437714035894, 'F2': -55.2084294193811, 'F3': -56.92799181746621, 'F4': -61.40295041298065, 'F5': -63.766163528051, 'F6': -48.395933649175134}\n",
      "File: F6.3.2.mfcc ,Score: {'F1': -59.559375497428825, 'F2': -59.10088080638132, 'F3': -60.65996025537936, 'F4': -68.77578003305253, 'F5': -71.68118547926798, 'F6': -49.20576674646122}\n",
      "File: F6.3.3.mfcc ,Score: {'F1': -57.62461682162147, 'F2': -57.057434593089866, 'F3': -59.05181382403562, 'F4': -63.39664149412867, 'F5': -66.79881931482964, 'F6': -49.85214330322279}\n",
      "File: F6.3.4.mfcc ,Score: {'F1': -58.05785284673914, 'F2': -57.95528474204901, 'F3': -59.40320293648988, 'F4': -65.71725075862224, 'F5': -67.38894451257815, 'F6': -48.94088777187779}\n",
      "File: F6.3.5.mfcc ,Score: {'F1': -54.96801892832353, 'F2': -54.74087132388605, 'F3': -56.869254729830914, 'F4': -64.21743910621306, 'F5': -64.6945853813538, 'F6': -49.374962281314254}\n",
      "File: F6.3.6.mfcc ,Score: {'F1': -59.071492269458105, 'F2': -59.411565165475004, 'F3': -60.541424109408666, 'F4': -66.32986356447084, 'F5': -70.07888867398106, 'F6': -48.23447461557612}\n",
      "File: F6.3.7.mfcc ,Score: {'F1': -55.93084598728458, 'F2': -55.56606580708814, 'F3': -58.49303527747345, 'F4': -62.159766722508515, 'F5': -65.64136024319981, 'F6': -48.80631166215431}\n",
      "File: F6.3.8.mfcc ,Score: {'F1': -58.88858454555402, 'F2': -58.8484488195169, 'F3': -60.53365293663626, 'F4': -66.63346178021611, 'F5': -68.20598346295245, 'F6': -49.3341311764488}\n",
      "File: F6.3.9.mfcc ,Score: {'F1': -58.182967622095745, 'F2': -56.42477139798187, 'F3': -58.229801864312975, 'F4': -64.33673151735925, 'F5': -67.06633822588972, 'F6': -49.71713123524125}\n"
     ]
    }
   ],
   "source": [
    "results_3_F_16 = []\n",
    "\n",
    "# Calculate scores for each GMM model and store file name with score\n",
    "for test_segment_name, test_segment in test_files_3_F.items():\n",
    "    score = get_scores(test_segment, gmm_models_F_16)\n",
    "    results_3_F_16.append((test_segment_name, score))\n",
    "\n",
    "# Printing the results\n",
    "for result in results_3_F_16:\n",
    "    file_name, score = result\n",
    "    print(f\"File: {file_name} ,Score: {score}\")\n"
   ]
  },
  {
   "cell_type": "markdown",
   "id": "1285224a",
   "metadata": {},
   "source": [
    "## Sort the scores :"
   ]
  },
  {
   "cell_type": "code",
   "execution_count": 6,
   "id": "f64ed4de",
   "metadata": {},
   "outputs": [],
   "source": [
    "scores = [score for _, score in results_3_F_16]\n",
    "    \n",
    "scores_array = np.array([list(item.values()) for item in scores]).flatten()\n",
    "\n",
    "sorted_scores_array = np.sort(scores_array)"
   ]
  },
  {
   "cell_type": "markdown",
   "id": "7618e3a9",
   "metadata": {},
   "source": [
    "# Plot DET curve :"
   ]
  },
  {
   "cell_type": "code",
   "execution_count": 7,
   "id": "4c673b27",
   "metadata": {},
   "outputs": [
    {
     "data": {
      "image/png": "[encoded data removed]",
      "text/plain": [
       "<Figure size 640x480 with 1 Axes>"
      ]
     },
     "metadata": {},
     "output_type": "display_data"
    }
   ],
   "source": [
    "# Initialize variables\n",
    "genuine_scores = defaultdict(list)  # Dictionary to store genuine scores for each client\n",
    "impostor_scores = []  # List to store impostor scores\n",
    "\n",
    "# Extract genuine scores and impostor scores\n",
    "for result in results_3_F_16:\n",
    "    file_name, score = result\n",
    "    client_name = file_name.split('.')[0]  # Extract client name from file name\n",
    "\n",
    "    genuine_scores[client_name].append(score[client_name])\n",
    "\n",
    "    impostor_scores.extend([s for key, s in score.items() if key != client_name])\n",
    "\n",
    "# Compute the minimum and maximum scores\n",
    "min_score = min(sorted_scores_array)\n",
    "max_score = max(sorted_scores_array)\n",
    "\n",
    "# Set the number of thresholds and generate them using linspace\n",
    "num_thresholds = 1000\n",
    "thresholds = np.geomspace(max_score, min_score, num_thresholds)\n",
    "\n",
    "# Initialize lists for FAR and FRR\n",
    "far = []\n",
    "frr = []\n",
    "\n",
    "# Iterate over thresholds\n",
    "for threshold in thresholds:\n",
    "    # Compute the number of false accepts (FAR) and false rejects (FRR)\n",
    "    false_accepts = sum(score >= threshold for score in impostor_scores)\n",
    "    false_rejects = 0\n",
    "    for client_scores in genuine_scores.values():\n",
    "        false_rejects += sum(score < threshold for score in client_scores)\n",
    "\n",
    "    # Compute the FAR and FRR rates\n",
    "    far_rate = false_accepts / len(impostor_scores)\n",
    "    frr_rate = false_rejects / sum(len(client_scores) for client_scores in genuine_scores.values())\n",
    "\n",
    "    # Append the FAR and FRR rates to the lists\n",
    "    far.append(far_rate)\n",
    "    frr.append(frr_rate)\n",
    "\n",
    "# Find the threshold with the closest FAR and FRR\n",
    "eer_threshold = thresholds[np.argmin(np.abs(np.array(far) - np.array(frr)))]\n",
    "\n",
    "# Compute the EER values\n",
    "eer_far = far[np.argmin(np.abs(np.array(far) - np.array(frr)))]\n",
    "eer_frr = frr[np.argmin(np.abs(np.array(far) - np.array(frr)))]\n",
    "\n",
    "# Plot the FAR and FRR curve\n",
    "plt.plot(far, frr)\n",
    "plt.xlabel('False Acceptance Rate (FAR)')\n",
    "plt.ylabel('False Rejection Rate (FRR)')\n",
    "plt.title('DET Curve')\n",
    "plt.grid(True)\n",
    "\n",
    "# Plot the EER point\n",
    "plt.scatter(eer_far, eer_frr, color='red', marker='o', label='EER')\n",
    "\n",
    "# Add legend\n",
    "plt.legend()\n",
    "\n",
    "# Add text annotation for EER point\n",
    "plt.annotate(f'EER: ({eer_far:.3f}, {eer_frr:.3f})', (eer_far, eer_frr), xytext=(eer_far + 0.05, eer_frr), color='red')\n",
    "\n",
    "plt.show()\n"
   ]
  },
  {
   "cell_type": "markdown",
   "id": "796760a7",
   "metadata": {},
   "source": [
    "## 10 seconds segments :"
   ]
  },
  {
   "cell_type": "markdown",
   "id": "d81c4f02",
   "metadata": {},
   "source": [
    "### Get the scores "
   ]
  },
  {
   "cell_type": "code",
   "execution_count": 8,
   "id": "5b358c1f",
   "metadata": {
    "scrolled": true
   },
   "outputs": [
    {
     "name": "stdout",
     "output_type": "stream",
     "text": [
      "File: F1.10.1.mfcc ,Score: {'F1': -51.89459715056389, 'F2': -54.02569166263359, 'F3': -56.692217377730955, 'F4': -60.757663078291785, 'F5': -64.89065713677624, 'F6': -58.374660295226064}\n",
      "File: F1.10.2.mfcc ,Score: {'F1': -52.115414027909836, 'F2': -53.26756133538452, 'F3': -56.534812582180855, 'F4': -60.905901903216844, 'F5': -65.66724530522389, 'F6': -58.39396609868802}\n",
      "File: F1.10.3.mfcc ,Score: {'F1': -52.26604771668157, 'F2': -53.07384444957058, 'F3': -57.39411538691663, 'F4': -62.10118546808248, 'F5': -65.17932753865256, 'F6': -57.557458295337035}\n",
      "File: F1.10.4.mfcc ,Score: {'F1': -52.9130926789827, 'F2': -54.77271643831537, 'F3': -54.65345144572596, 'F4': -59.43648764125264, 'F5': -68.98744907724924, 'F6': -59.23239401430622}\n",
      "File: F1.10.5.mfcc ,Score: {'F1': -51.12362716436497, 'F2': -54.70103580491268, 'F3': -55.40598419048166, 'F4': -59.14912222928677, 'F5': -68.17186669858089, 'F6': -57.343922947904936}\n",
      "File: F1.10.6.mfcc ,Score: {'F1': -50.527014852405586, 'F2': -55.36802373112917, 'F3': -55.882662381914386, 'F4': -59.064370469469885, 'F5': -63.731791273186275, 'F6': -56.476429384777894}\n",
      "File: F2.10.1.mfcc ,Score: {'F1': -56.01452934665767, 'F2': -50.2787186454115, 'F3': -54.54887024709431, 'F4': -60.837082292664746, 'F5': -64.04492866260362, 'F6': -57.10264818422885}\n",
      "File: F2.10.2.mfcc ,Score: {'F1': -54.90476936693768, 'F2': -50.30041764630219, 'F3': -54.72041584925959, 'F4': -61.95629010259583, 'F5': -61.98677746423689, 'F6': -56.111744822616494}\n",
      "File: F2.10.3.mfcc ,Score: {'F1': -55.95778280371501, 'F2': -50.48742907490635, 'F3': -54.899952589273774, 'F4': -61.65963180011074, 'F5': -62.17715017232115, 'F6': -56.52825320265455}\n",
      "File: F2.10.4.mfcc ,Score: {'F1': -55.43564117311617, 'F2': -50.04266662203014, 'F3': -54.15419206794901, 'F4': -61.43948846654552, 'F5': -62.63813793478713, 'F6': -56.74864937761563}\n",
      "File: F2.10.5.mfcc ,Score: {'F1': -55.89617372798245, 'F2': -50.28649288056519, 'F3': -54.20360661673466, 'F4': -61.13294421125111, 'F5': -61.758063644849024, 'F6': -57.151788234054166}\n",
      "File: F2.10.6.mfcc ,Score: {'F1': -55.997628432270695, 'F2': -51.4224188333558, 'F3': -56.255509662136745, 'F4': -62.167692506431976, 'F5': -63.786171809500104, 'F6': -57.70886435052574}\n",
      "File: F3.10.1.mfcc ,Score: {'F1': -56.90186790093365, 'F2': -57.10402550477724, 'F3': -49.797628899730555, 'F4': -61.444987256984824, 'F5': -65.92971420495442, 'F6': -60.94696216813194}\n",
      "File: F3.10.2.mfcc ,Score: {'F1': -56.62279449821105, 'F2': -55.63911749991859, 'F3': -49.7972498457107, 'F4': -65.3472890277588, 'F5': -64.06655625005521, 'F6': -58.8516769741951}\n",
      "File: F3.10.3.mfcc ,Score: {'F1': -58.54058639387484, 'F2': -56.90704769474529, 'F3': -49.68946078905939, 'F4': -67.40756596464017, 'F5': -67.19433650889583, 'F6': -61.94704401492831}\n",
      "File: F3.10.4.mfcc ,Score: {'F1': -56.5631157400889, 'F2': -55.15652488811969, 'F3': -50.299240024118916, 'F4': -62.27627916710376, 'F5': -61.59173149134748, 'F6': -58.78483356822478}\n",
      "File: F3.10.5.mfcc ,Score: {'F1': -58.442188447675086, 'F2': -57.782060091650905, 'F3': -49.92651970542708, 'F4': -66.30521577888503, 'F5': -68.90168391123119, 'F6': -62.74217541917633}\n",
      "File: F3.10.6.mfcc ,Score: {'F1': -55.53750531734675, 'F2': -55.28176962308412, 'F3': -48.6101769310646, 'F4': -59.53256649691213, 'F5': -64.83008792454694, 'F6': -59.40395229962865}\n",
      "File: F4.10.1.mfcc ,Score: {'F1': -54.732753791889884, 'F2': -55.35421319232557, 'F3': -56.14907696723676, 'F4': -51.0007377748511, 'F5': -59.545235337657736, 'F6': -57.56281709604462}\n",
      "File: F4.10.2.mfcc ,Score: {'F1': -53.82828939724788, 'F2': -56.00136399581069, 'F3': -56.36374865790026, 'F4': -50.42517024834245, 'F5': -59.70032267455432, 'F6': -57.62231462391407}\n",
      "File: F4.10.3.mfcc ,Score: {'F1': -54.32401367094581, 'F2': -55.28067909852878, 'F3': -56.42011659874676, 'F4': -50.994598864864244, 'F5': -58.85526708081305, 'F6': -56.721963915702396}\n",
      "File: F4.10.4.mfcc ,Score: {'F1': -54.84366595777012, 'F2': -55.282759458804655, 'F3': -56.481171338762984, 'F4': -50.73211195720792, 'F5': -59.81138111008967, 'F6': -57.42606983491428}\n",
      "File: F4.10.5.mfcc ,Score: {'F1': -55.35002442775818, 'F2': -55.671253531934106, 'F3': -55.81874594008055, 'F4': -51.28604574915727, 'F5': -59.75649904924709, 'F6': -57.85147122938922}\n",
      "File: F4.10.6.mfcc ,Score: {'F1': -53.55656591952451, 'F2': -55.90389925893055, 'F3': -56.55712245914326, 'F4': -51.89436163271252, 'F5': -60.019779389961336, 'F6': -56.60519184061173}\n",
      "File: F5.10.1.mfcc ,Score: {'F1': -56.78093544011742, 'F2': -55.922020043835886, 'F3': -56.230438064037166, 'F4': -63.08035797252912, 'F5': -48.30889195267822, 'F6': -57.87008099494085}\n",
      "File: F5.10.2.mfcc ,Score: {'F1': -56.79391004821529, 'F2': -56.32231430816238, 'F3': -57.307950185245716, 'F4': -61.521506601720226, 'F5': -48.27958937862036, 'F6': -57.842061983641116}\n",
      "File: F5.10.3.mfcc ,Score: {'F1': -57.462553242534476, 'F2': -56.545194882276014, 'F3': -56.8314765587936, 'F4': -61.710870687556785, 'F5': -48.642036062870666, 'F6': -57.806089827096734}\n",
      "File: F5.10.4.mfcc ,Score: {'F1': -56.26991801552725, 'F2': -55.8724642056854, 'F3': -56.08391799357822, 'F4': -63.32154893772882, 'F5': -49.044357992465564, 'F6': -57.40262833871829}\n",
      "File: F5.10.5.mfcc ,Score: {'F1': -57.0719864378122, 'F2': -57.38370580369518, 'F3': -58.517061256394875, 'F4': -62.94580595722393, 'F5': -49.48904306838868, 'F6': -58.93017560370983}\n",
      "File: F5.10.6.mfcc ,Score: {'F1': -57.19765430896924, 'F2': -56.736590205514275, 'F3': -56.803748429986726, 'F4': -64.05200174206986, 'F5': -49.988222689270636, 'F6': -58.92289043955907}\n",
      "File: F6.10.1.mfcc ,Score: {'F1': -58.641144069729485, 'F2': -58.045037574179496, 'F3': -59.844002490519095, 'F4': -65.55032999754671, 'F5': -68.29088911465696, 'F6': -49.483125854166914}\n",
      "File: F6.10.2.mfcc ,Score: {'F1': -57.09691967661752, 'F2': -57.1405887498183, 'F3': -58.979188250399346, 'F4': -65.47465012168713, 'F5': -68.08325420880946, 'F6': -48.7188546684828}\n",
      "File: F6.10.3.mfcc ,Score: {'F1': -58.113088615123864, 'F2': -57.39481265273599, 'F3': -59.32385775059442, 'F4': -64.92928537679306, 'F5': -67.71855701419184, 'F6': -49.19099055248663}\n",
      "File: F6.10.4.mfcc ,Score: {'F1': -57.56752024573983, 'F2': -57.61872954255833, 'F3': -59.19950674369288, 'F4': -66.02087057677747, 'F5': -68.60114698637096, 'F6': -48.62313259359931}\n",
      "File: F6.10.5.mfcc ,Score: {'F1': -55.610265862747184, 'F2': -56.19883866853248, 'F3': -57.252822293381875, 'F4': -62.16527023947107, 'F5': -64.29995930706654, 'F6': -48.619398670124234}\n",
      "File: F6.10.6.mfcc ,Score: {'F1': -56.63012992452726, 'F2': -57.22889677754602, 'F3': -58.82055406080099, 'F4': -64.27989545853256, 'F5': -67.26507965786352, 'F6': -48.08337719511369}\n"
     ]
    }
   ],
   "source": [
    "results_10_F_16 = []\n",
    "\n",
    "# Calculate scores for each GMM model and store file name with score\n",
    "for test_segment_name, test_segment in test_files_10_F.items():\n",
    "    score = get_scores(test_segment, gmm_models_F_16)\n",
    "    results_10_F_16.append((test_segment_name, score))\n",
    "\n",
    "# Printing the results\n",
    "for result in results_10_F_16:\n",
    "    file_name, score = result\n",
    "    print(f\"File: {file_name} ,Score: {score}\")\n",
    "\n",
    "\n"
   ]
  },
  {
   "cell_type": "markdown",
   "id": "419b7e5b",
   "metadata": {},
   "source": [
    "## Sort the scores :"
   ]
  },
  {
   "cell_type": "code",
   "execution_count": 9,
   "id": "d81b9cf4",
   "metadata": {},
   "outputs": [],
   "source": [
    "scores = [score for _, score in results_10_F_16]\n",
    "    \n",
    "scores_array = np.array([list(item.values()) for item in scores]).flatten()\n",
    "\n",
    "sorted_scores_array = np.sort(scores_array)"
   ]
  },
  {
   "cell_type": "markdown",
   "id": "d62d7d16",
   "metadata": {},
   "source": [
    "## Plot DET curve"
   ]
  },
  {
   "cell_type": "code",
   "execution_count": 10,
   "id": "f426b03a",
   "metadata": {},
   "outputs": [
    {
     "data": {
      "image/png": "[encoded data removed]",
      "text/plain": [
       "<Figure size 640x480 with 1 Axes>"
      ]
     },
     "metadata": {},
     "output_type": "display_data"
    }
   ],
   "source": [
    "# Initialize variables\n",
    "genuine_scores = defaultdict(list)  # Dictionary to store genuine scores for each client\n",
    "impostor_scores = []  # List to store impostor scores\n",
    "\n",
    "# Extract genuine scores and impostor scores\n",
    "for result in results_10_F_16:\n",
    "    file_name, score = result\n",
    "    client_name = file_name.split('.')[0]  # Extract client name from file name\n",
    "\n",
    "    genuine_scores[client_name].append(score[client_name])\n",
    "\n",
    "    impostor_scores.extend([s for key, s in score.items() if key != client_name])\n",
    "\n",
    "# Compute the minimum and maximum scores\n",
    "min_score = min(sorted_scores_array)\n",
    "max_score = max(sorted_scores_array)\n",
    "\n",
    "# Set the number of thresholds and generate them using linspace\n",
    "num_thresholds = 1000\n",
    "thresholds = np.geomspace(max_score, min_score, num_thresholds)\n",
    "\n",
    "# Initialize lists for FAR and FRR\n",
    "far = []\n",
    "frr = []\n",
    "\n",
    "# Iterate over thresholds\n",
    "for threshold in thresholds:\n",
    "    # Compute the number of false accepts (FAR) and false rejects (FRR)\n",
    "    false_accepts = sum(score >= threshold for score in impostor_scores)\n",
    "    false_rejects = 0\n",
    "    for client_scores in genuine_scores.values():\n",
    "        false_rejects += sum(score < threshold for score in client_scores)\n",
    "\n",
    "    # Compute the FAR and FRR rates\n",
    "    far_rate = false_accepts / len(impostor_scores)\n",
    "    frr_rate = false_rejects / sum(len(client_scores) for client_scores in genuine_scores.values())\n",
    "\n",
    "    # Append the FAR and FRR rates to the lists\n",
    "    far.append(far_rate)\n",
    "    frr.append(frr_rate)\n",
    "\n",
    "# Find the threshold with the closest FAR and FRR\n",
    "eer_threshold = thresholds[np.argmin(np.abs(np.array(far) - np.array(frr)))]\n",
    "\n",
    "# Compute the EER values\n",
    "eer_far = far[np.argmin(np.abs(np.array(far) - np.array(frr)))]\n",
    "eer_frr = frr[np.argmin(np.abs(np.array(far) - np.array(frr)))]\n",
    "\n",
    "# Plot the FAR and FRR curve\n",
    "plt.plot(far, frr)\n",
    "plt.xlabel('False Acceptance Rate (FAR)')\n",
    "plt.ylabel('False Rejection Rate (FRR)')\n",
    "plt.title('DET Curve')\n",
    "plt.grid(True)\n",
    "\n",
    "# Plot the EER point\n",
    "plt.scatter(eer_far, eer_frr, color='red', marker='o', label='EER')\n",
    "\n",
    "# Add legend\n",
    "plt.legend()\n",
    "\n",
    "# Add text annotation for EER point\n",
    "plt.annotate(f'EER: ({eer_far:.3f}, {eer_frr:.3f})', (eer_far, eer_frr), xytext=(eer_far + 0.05, eer_frr), color='red')\n",
    "\n",
    "plt.show()\n"
   ]
  },
  {
   "cell_type": "markdown",
   "id": "6391f646",
   "metadata": {},
   "source": [
    "### 15 seconds segments :"
   ]
  },
  {
   "cell_type": "markdown",
   "id": "853a6bb3",
   "metadata": {},
   "source": [
    "## Get the scores"
   ]
  },
  {
   "cell_type": "code",
   "execution_count": 11,
   "id": "513db731",
   "metadata": {
    "scrolled": true
   },
   "outputs": [
    {
     "name": "stdout",
     "output_type": "stream",
     "text": [
      "File: F1.15.1.mfcc ,Score: {'F1': -51.82821941288407, 'F2': -53.77816793895342, 'F3': -56.61006607325886, 'F4': -60.600209014379054, 'F5': -65.10595528368466, 'F6': -57.998128997712065}\n",
      "File: F1.15.2.mfcc ,Score: {'F1': -52.355819850552805, 'F2': -53.13323035943903, 'F3': -57.1373641579601, 'F4': -61.90962461868169, 'F5': -65.3855313700838, 'F6': -58.21926079512201}\n",
      "File: F1.15.3.mfcc ,Score: {'F1': -52.0452173053903, 'F2': -54.30920167356828, 'F3': -55.16029663810855, 'F4': -59.32681066153416, 'F5': -68.09108309163815, 'F6': -58.10181960830367}\n",
      "File: F1.15.4.mfcc ,Score: {'F1': -51.14253532278904, 'F2': -55.65243722791019, 'F3': -55.33960783399782, 'F4': -59.11952635385316, 'F5': -66.48641212988764, 'F6': -57.51078615385879}\n",
      "File: F2.15.1.mfcc ,Score: {'F1': -55.802135657695025, 'F2': -50.5863756517662, 'F3': -54.87858865269417, 'F4': -60.809614194430004, 'F5': -63.62447900011586, 'F6': -56.71319239065484}\n",
      "File: F2.15.2.mfcc ,Score: {'F1': -55.449252020511864, 'F2': -50.1246679259805, 'F3': -54.56757047105761, 'F4': -62.159055269150876, 'F5': -61.84809186599191, 'F6': -56.44857174901176}\n",
      "File: F2.15.3.mfcc ,Score: {'F1': -55.63540253371142, 'F2': -50.04582036499941, 'F3': -54.12695630808812, 'F4': -61.21748030215772, 'F5': -62.230084805437635, 'F6': -56.812037870564865}\n",
      "File: F2.15.4.mfcc ,Score: {'F1': -55.88804529759564, 'F2': -51.01112279176668, 'F3': -55.37924085874543, 'F4': -61.859632261307944, 'F5': -63.01791311126073, 'F6': -57.551883174029044}\n",
      "File: F3.15.1.mfcc ,Score: {'F1': -56.75428828718301, 'F2': -56.57241783192562, 'F3': -49.805968201869014, 'F4': -62.88164783173004, 'F5': -65.23747729809601, 'F6': -60.17381182414371}\n",
      "File: F3.15.2.mfcc ,Score: {'F1': -57.955877574830026, 'F2': -56.527709301035124, 'F3': -49.71692482113143, 'F4': -66.58491366785915, 'F5': -66.22292734450764, 'F6': -60.98997694735986}\n",
      "File: F3.15.3.mfcc ,Score: {'F1': -57.53544063977495, 'F2': -56.42313002756002, 'F3': -49.44666669033071, 'F4': -63.930351573497404, 'F5': -65.86099301644536, 'F6': -60.6829379681628}\n",
      "File: F3.15.4.mfcc ,Score: {'F1': -56.45259411090379, 'F2': -55.93177464944539, 'F3': -50.32652127274856, 'F4': -62.39500212170294, 'F5': -64.13095254772061, 'F6': -60.18887963819982}\n",
      "File: F4.15.1.mfcc ,Score: {'F1': -54.21079844285058, 'F2': -55.60423924684383, 'F3': -56.22499025233631, 'F4': -50.583266906006514, 'F5': -59.576495842990255, 'F6': -57.38330997754016}\n",
      "File: F4.15.2.mfcc ,Score: {'F1': -54.3792394638718, 'F2': -55.48659827759952, 'F3': -56.39697123025288, 'F4': -51.03040435269868, 'F5': -59.15738755235982, 'F6': -57.2214204462339}\n",
      "File: F4.15.3.mfcc ,Score: {'F1': -54.78447709212128, 'F2': -55.53783278445777, 'F3': -56.320990221778764, 'F4': -50.744923819087404, 'F5': -59.89464903543973, 'F6': -57.579854284789356}\n",
      "File: F4.15.4.mfcc ,Score: {'F1': -54.44008359968437, 'F2': -55.68657699401387, 'F3': -56.22892753518018, 'F4': -51.86125975067103, 'F5': -59.81722369181334, 'F6': -57.03683500524339}\n",
      "File: F5.15.1.mfcc ,Score: {'F1': -56.73876062029001, 'F2': -55.79139334116267, 'F3': -56.31123389469123, 'F4': -62.89687214268904, 'F5': -48.325786471902376, 'F6': -57.69300803143523}\n",
      "File: F5.15.2.mfcc ,Score: {'F1': -57.28617186695478, 'F2': -56.73495948168686, 'F3': -57.268675977359756, 'F4': -61.311618031848376, 'F5': -48.4945584575438, 'F6': -57.98581383901724}\n",
      "File: F5.15.3.mfcc ,Score: {'F1': -56.682236919939385, 'F2': -56.193324380746056, 'F3': -57.035662010457195, 'F4': -63.50702110017964, 'F5': -49.24027110704275, 'F6': -57.89748787496973}\n",
      "File: F5.15.4.mfcc ,Score: {'F1': -56.96252169063515, 'F2': -57.238174379595094, 'F3': -57.34536925154205, 'F4': -63.196986954862105, 'F5': -49.718829279585066, 'F6': -58.94397006220501}\n",
      "File: F6.15.1.mfcc ,Score: {'F1': -57.869933689464894, 'F2': -57.43529864299245, 'F3': -59.24424175739664, 'F4': -65.61196812357605, 'F5': -67.82010750501703, 'F6': -49.35248939065552}\n",
      "File: F6.15.2.mfcc ,Score: {'F1': -58.03083455151568, 'F2': -57.61832734149675, 'F3': -59.52045723694526, 'F4': -65.02420887377522, 'F5': -68.24169272008848, 'F6': -48.909491326102035}\n",
      "File: F6.15.3.mfcc ,Score: {'F1': -57.02889114299641, 'F2': -57.20655369102217, 'F3': -58.702380092756044, 'F4': -65.2287244555837, 'F5': -67.55274026186333, 'F6': -48.6414983318712}\n",
      "File: F6.15.4.mfcc ,Score: {'F1': -56.02941009374946, 'F2': -56.693406297214636, 'F3': -57.92777547963611, 'F4': -62.69393464971236, 'F5': -65.4464177617565, 'F6': -48.29396428104476}\n"
     ]
    }
   ],
   "source": [
    "results_15_F_16 = []\n",
    "\n",
    "# Calculate scores for each GMM model and store file name with score\n",
    "for test_segment_name, test_segment in test_files_15_F.items():\n",
    "    score = get_scores(test_segment, gmm_models_F_16)\n",
    "    results_15_F_16.append((test_segment_name, score))\n",
    "\n",
    "# Printing the results\n",
    "for result in results_15_F_16:\n",
    "    file_name, score = result\n",
    "    print(f\"File: {file_name} ,Score: {score}\")"
   ]
  },
  {
   "cell_type": "markdown",
   "id": "7b5ab0ad",
   "metadata": {},
   "source": [
    "## Sort the scores "
   ]
  },
  {
   "cell_type": "code",
   "execution_count": 12,
   "id": "fbeebd66",
   "metadata": {
    "scrolled": true
   },
   "outputs": [],
   "source": [
    "# Extract the scores from results_15_H_16\n",
    "scores = [score for _, score in results_15_F_16]\n",
    "    \n",
    "scores_array = np.array([list(item.values()) for item in scores]).flatten()\n",
    "\n",
    "sorted_scores_array = np.sort(scores_array)\n"
   ]
  },
  {
   "cell_type": "markdown",
   "id": "9ae150fd",
   "metadata": {},
   "source": [
    "## Plot the Det curve "
   ]
  },
  {
   "cell_type": "code",
   "execution_count": 13,
   "id": "943f1eb0",
   "metadata": {},
   "outputs": [
    {
     "data": {
      "image/png": "[encoded data removed]",
      "text/plain": [
       "<Figure size 640x480 with 1 Axes>"
      ]
     },
     "metadata": {},
     "output_type": "display_data"
    }
   ],
   "source": [
    "# Initialize variables\n",
    "genuine_scores = defaultdict(list)  # Dictionary to store genuine scores for each client\n",
    "impostor_scores = []  # List to store impostor scores\n",
    "\n",
    "# Extract genuine scores and impostor scores\n",
    "for result in results_15_F_16:\n",
    "    file_name, score = result\n",
    "    client_name = file_name.split('.')[0]  # Extract client name from file name\n",
    "\n",
    "    genuine_scores[client_name].append(score[client_name])\n",
    "\n",
    "    impostor_scores.extend([s for key, s in score.items() if key != client_name])\n",
    "\n",
    "# Compute the minimum and maximum scores\n",
    "min_score = min(sorted_scores_array)\n",
    "max_score = max(sorted_scores_array)\n",
    "\n",
    "# Set the number of thresholds and generate them using linspace\n",
    "num_thresholds = 1000\n",
    "thresholds = np.geomspace(max_score, min_score, num_thresholds)\n",
    "\n",
    "# Initialize lists for FAR and FRR\n",
    "far = []\n",
    "frr = []\n",
    "\n",
    "# Iterate over thresholds\n",
    "for threshold in thresholds:\n",
    "    # Compute the number of false accepts (FAR) and false rejects (FRR)\n",
    "    false_accepts = sum(score >= threshold for score in impostor_scores)\n",
    "    false_rejects = 0\n",
    "    for client_scores in genuine_scores.values():\n",
    "        false_rejects += sum(score < threshold for score in client_scores)\n",
    "\n",
    "    # Compute the FAR and FRR rates\n",
    "    far_rate = false_accepts / len(impostor_scores)\n",
    "    frr_rate = false_rejects / sum(len(client_scores) for client_scores in genuine_scores.values())\n",
    "\n",
    "    # Append the FAR and FRR rates to the lists\n",
    "    far.append(far_rate)\n",
    "    frr.append(frr_rate)\n",
    "\n",
    "# Find the threshold with the closest FAR and FRR\n",
    "eer_threshold = thresholds[np.argmin(np.abs(np.array(far) - np.array(frr)))]\n",
    "\n",
    "# Compute the EER values\n",
    "eer_far = far[np.argmin(np.abs(np.array(far) - np.array(frr)))]\n",
    "eer_frr = frr[np.argmin(np.abs(np.array(far) - np.array(frr)))]\n",
    "\n",
    "# Plot the FAR and FRR curve\n",
    "plt.plot(far, frr)\n",
    "plt.xlabel('False Acceptance Rate (FAR)')\n",
    "plt.ylabel('False Rejection Rate (FRR)')\n",
    "plt.title('DET Curve')\n",
    "plt.grid(True)\n",
    "\n",
    "# Plot the EER point\n",
    "plt.scatter(eer_far, eer_frr, color='red', marker='o', label='EER')\n",
    "\n",
    "# Add legend\n",
    "plt.legend()\n",
    "\n",
    "# Add text annotation for EER point\n",
    "plt.annotate(f'EER: ({eer_far:.3f}, {eer_frr:.3f})', (eer_far, eer_frr), xytext=(eer_far + 0.05, eer_frr), color='red')\n",
    "\n",
    "plt.show()\n"
   ]
  },
  {
   "cell_type": "markdown",
   "id": "30125d8e",
   "metadata": {},
   "source": [
    "### 30 seconds segments :"
   ]
  },
  {
   "cell_type": "markdown",
   "id": "3abb2265",
   "metadata": {},
   "source": [
    "## Get the scores"
   ]
  },
  {
   "cell_type": "code",
   "execution_count": 14,
   "id": "6f1b32f3",
   "metadata": {
    "scrolled": true
   },
   "outputs": [
    {
     "name": "stdout",
     "output_type": "stream",
     "text": [
      "File: F1.30.1.mfcc ,Score: {'F1': -52.09201963171844, 'F2': -53.45569914919623, 'F3': -56.87371511560948, 'F4': -61.25491681653037, 'F5': -65.24574332688422, 'F6': -58.10869489641704}\n",
      "File: F1.30.2.mfcc ,Score: {'F1': -51.654259802721725, 'F2': -54.890965825222025, 'F3': -55.23795749619212, 'F4': -59.23703446478344, 'F5': -67.39608954584597, 'F6': -57.84583913256904}\n",
      "File: F2.30.1.mfcc ,Score: {'F1': -55.62569383910345, 'F2': -50.355521788873354, 'F3': -54.72307956187589, 'F4': -61.48433473179043, 'F5': -62.736285433053894, 'F6': -56.58088206983331}\n",
      "File: F2.30.2.mfcc ,Score: {'F1': -55.742065272238804, 'F2': -50.453359448103, 'F3': -54.65565579480631, 'F4': -61.48858914161404, 'F5': -62.56269644764954, 'F6': -57.12439166586408}\n",
      "File: F3.30.1.mfcc ,Score: {'F1': -57.35508293100652, 'F2': -56.550063566480375, 'F3': -49.761446511500225, 'F4': -64.7332807497946, 'F5': -65.73020232130183, 'F6': -60.58189438575178}\n",
      "File: F3.30.2.mfcc ,Score: {'F1': -57.09714561618425, 'F2': -56.22424808879934, 'F3': -49.80279830702365, 'F4': -63.30890060491393, 'F5': -65.16073854100915, 'F6': -60.48296197746349}\n",
      "File: F4.30.1.mfcc ,Score: {'F1': -54.295018953361186, 'F2': -55.54541876222167, 'F3': -56.31098074129459, 'F4': -50.8068356293526, 'F5': -59.36694169767504, 'F6': -57.302365211887036}\n",
      "File: F4.30.2.mfcc ,Score: {'F1': -54.6180953979805, 'F2': -55.60969335709653, 'F3': -56.27651334837724, 'F4': -51.28424255653752, 'F5': -59.85724368335007, 'F6': -57.317513475029386}\n",
      "File: F5.30.1.mfcc ,Score: {'F1': -57.0124662436224, 'F2': -56.263176411424766, 'F3': -56.7899549360255, 'F4': -62.104245087268716, 'F5': -48.41017246472309, 'F6': -57.839410935226226}\n",
      "File: F5.30.2.mfcc ,Score: {'F1': -56.806345183932464, 'F2': -56.655977129122, 'F3': -57.172798351977676, 'F4': -63.369740007602196, 'F5': -49.45217353708378, 'F6': -58.36086334569204}\n",
      "File: F6.30.1.mfcc ,Score: {'F1': -57.950384120490284, 'F2': -57.5268129922446, 'F3': -59.38234949717096, 'F4': -65.31808849867564, 'F5': -68.03090011255276, 'F6': -49.13099035837879}\n",
      "File: F6.30.2.mfcc ,Score: {'F1': -56.598806817589356, 'F2': -56.985742450162334, 'F3': -58.369061814493655, 'F4': -64.13798505184188, 'F5': -66.646373610659, 'F6': -48.49195177676814}\n"
     ]
    }
   ],
   "source": [
    "results_30_F_16 = []\n",
    "\n",
    "# Calculate scores for each GMM model and store file name with score\n",
    "for test_segment_name, test_segment in test_files_30_F.items():\n",
    "    score = get_scores(test_segment, gmm_models_F_16)\n",
    "    results_30_F_16.append((test_segment_name, score))\n",
    "\n",
    "# Printing the results\n",
    "for result in results_30_F_16:\n",
    "    file_name, score = result\n",
    "    print(f\"File: {file_name} ,Score: {score}\")"
   ]
  },
  {
   "cell_type": "markdown",
   "id": "5664467b",
   "metadata": {},
   "source": [
    "## Sort the scores "
   ]
  },
  {
   "cell_type": "code",
   "execution_count": 15,
   "id": "09c49427",
   "metadata": {
    "scrolled": true
   },
   "outputs": [],
   "source": [
    "# Extract the scores from results_30_F_16\n",
    "scores = [score for _, score in results_30_F_16]\n",
    "    \n",
    "scores_array = np.array([list(item.values()) for item in scores]).flatten()\n",
    "\n",
    "sorted_scores_array = np.sort(scores_array)\n"
   ]
  },
  {
   "cell_type": "markdown",
   "id": "112a3800",
   "metadata": {},
   "source": [
    "## Plot the Det curve"
   ]
  },
  {
   "cell_type": "code",
   "execution_count": 16,
   "id": "6a5d0d38",
   "metadata": {},
   "outputs": [
    {
     "data": {
      "image/png": "[encoded data removed]",
      "text/plain": [
       "<Figure size 640x480 with 1 Axes>"
      ]
     },
     "metadata": {},
     "output_type": "display_data"
    }
   ],
   "source": [
    "# Initialize variables\n",
    "genuine_scores = defaultdict(list)  # Dictionary to store genuine scores for each client\n",
    "impostor_scores = []  # List to store impostor scores\n",
    "\n",
    "# Extract genuine scores and impostor scores\n",
    "for result in results_30_F_16:\n",
    "    file_name, score = result\n",
    "    client_name = file_name.split('.')[0]  # Extract client name from file name\n",
    "\n",
    "    genuine_scores[client_name].append(score[client_name])\n",
    "\n",
    "    impostor_scores.extend([s for key, s in score.items() if key != client_name])\n",
    "\n",
    "# Compute the minimum and maximum scores\n",
    "min_score = min(sorted_scores_array)\n",
    "max_score = max(sorted_scores_array)\n",
    "\n",
    "# Set the number of thresholds and generate them using linspace\n",
    "num_thresholds = 1000\n",
    "thresholds = np.geomspace(max_score, min_score, num_thresholds)\n",
    "\n",
    "# Initialize lists for FAR and FRR\n",
    "far = []\n",
    "frr = []\n",
    "\n",
    "# Iterate over thresholds\n",
    "for threshold in thresholds:\n",
    "    # Compute the number of false accepts (FAR) and false rejects (FRR)\n",
    "    false_accepts = sum(score >= threshold for score in impostor_scores)\n",
    "    false_rejects = 0\n",
    "    for client_scores in genuine_scores.values():\n",
    "        false_rejects += sum(score < threshold for score in client_scores)\n",
    "\n",
    "    # Compute the FAR and FRR rates\n",
    "    far_rate = false_accepts / len(impostor_scores)\n",
    "    frr_rate = false_rejects / sum(len(client_scores) for client_scores in genuine_scores.values())\n",
    "\n",
    "    # Append the FAR and FRR rates to the lists\n",
    "    far.append(far_rate)\n",
    "    frr.append(frr_rate)\n",
    "\n",
    "# Find the threshold with the closest FAR and FRR\n",
    "eer_threshold = thresholds[np.argmin(np.abs(np.array(far) - np.array(frr)))]\n",
    "\n",
    "# Compute the EER values\n",
    "eer_far = far[np.argmin(np.abs(np.array(far) - np.array(frr)))]\n",
    "eer_frr = frr[np.argmin(np.abs(np.array(far) - np.array(frr)))]\n",
    "\n",
    "# Plot the FAR and FRR curve\n",
    "plt.plot(far, frr)\n",
    "plt.xlabel('False Acceptance Rate (FAR)')\n",
    "plt.ylabel('False Rejection Rate (FRR)')\n",
    "plt.title('DET Curve')\n",
    "plt.grid(True)\n",
    "\n",
    "# Plot the EER point\n",
    "plt.scatter(eer_far, eer_frr, color='red', marker='o', label='EER')\n",
    "\n",
    "# Add legend\n",
    "plt.legend()\n",
    "\n",
    "# Add text annotation for EER point\n",
    "plt.annotate(f'EER: ({eer_far:.3f}, {eer_frr:.3f})', (eer_far, eer_frr), xytext=(eer_far + 0.05, eer_frr), color='red')\n",
    "\n",
    "plt.show()\n"
   ]
  },
  {
   "cell_type": "markdown",
   "id": "4040ba37",
   "metadata": {},
   "source": [
    "## b. GMM 32:\n",
    "### 3 seconds segments :"
   ]
  },
  {
   "cell_type": "markdown",
   "id": "14ac5eef",
   "metadata": {},
   "source": [
    "## Get scores"
   ]
  },
  {
   "cell_type": "code",
   "execution_count": 17,
   "id": "303519b5",
   "metadata": {},
   "outputs": [
    {
     "name": "stdout",
     "output_type": "stream",
     "text": [
      "File: F1.3.1.mfcc ,Score: {'F1': -53.243223604949, 'F2': -55.11789512377594, 'F3': -58.75007873552489, 'F4': -67.28397655996503, 'F5': -64.56912451464166, 'F6': -58.688778405361276}\n",
      "File: F1.3.10.mfcc ,Score: {'F1': -51.118228398245385, 'F2': -54.164390391813555, 'F3': -56.413485683797504, 'F4': -67.50953104336905, 'F5': -65.72614014869133, 'F6': -56.21974755726219}\n",
      "File: F1.3.11.mfcc ,Score: {'F1': -52.873031108378974, 'F2': -54.57519258609099, 'F3': -58.28054566733646, 'F4': -67.03875059497508, 'F5': -68.65644141213927, 'F6': -60.16502698063685}\n",
      "File: F1.3.12.mfcc ,Score: {'F1': -52.44635765794575, 'F2': -53.69200167728986, 'F3': -55.79787239213878, 'F4': -63.908600332483594, 'F5': -67.94514755905298, 'F6': -58.99157493181055}\n",
      "File: F1.3.13.mfcc ,Score: {'F1': -53.586678220660616, 'F2': -58.80237920283546, 'F3': -52.62559128714363, 'F4': -58.82749193968537, 'F5': -68.66117062245928, 'F6': -64.64148287431253}\n",
      "File: F1.3.14.mfcc ,Score: {'F1': -50.948435473771596, 'F2': -53.78491114029682, 'F3': -56.90660842995232, 'F4': -64.88420576992216, 'F5': -68.00849315750911, 'F6': -55.88576395114566}\n",
      "File: F1.3.15.mfcc ,Score: {'F1': -51.361109435243165, 'F2': -53.86908568129311, 'F3': -57.87225776764254, 'F4': -66.44697747655366, 'F5': -67.84790281146806, 'F6': -56.62380718190188}\n",
      "File: F1.3.16.mfcc ,Score: {'F1': -51.3724076514504, 'F2': -55.77553030138993, 'F3': -57.2730575197038, 'F4': -66.08949131380984, 'F5': -67.93257615329081, 'F6': -57.80227491382156}\n",
      "File: F1.3.17.mfcc ,Score: {'F1': -52.2371094603067, 'F2': -56.42016068591182, 'F3': -54.18982434007208, 'F4': -65.40803230058286, 'F5': -69.74939753251043, 'F6': -60.417630868926075}\n",
      "File: F1.3.18.mfcc ,Score: {'F1': -51.753865543826834, 'F2': -55.29506765512015, 'F3': -56.806749617780184, 'F4': -62.812472452067944, 'F5': -65.67840125859117, 'F6': -58.427663199835564}\n",
      "File: F1.3.19.mfcc ,Score: {'F1': -51.460608277438105, 'F2': -59.70456572647323, 'F3': -56.87351068765607, 'F4': -61.98242978619515, 'F5': -64.74391427337666, 'F6': -59.15969253633813}\n",
      "File: F1.3.2.mfcc ,Score: {'F1': -52.02714502985362, 'F2': -56.05933336402877, 'F3': -57.25065721305115, 'F4': -62.47402579492649, 'F5': -66.91209544551205, 'F6': -60.60288908607599}\n",
      "File: F1.3.3.mfcc ,Score: {'F1': -53.16290669528929, 'F2': -54.96471954227604, 'F3': -58.19141196213187, 'F4': -66.69161385027401, 'F5': -64.77903899534151, 'F6': -59.431587921521334}\n",
      "File: F1.3.4.mfcc ,Score: {'F1': -51.09947884339335, 'F2': -53.87695526837175, 'F3': -56.54846976109453, 'F4': -61.60992819580485, 'F5': -64.90693160812536, 'F6': -57.08022591253534}\n",
      "File: F1.3.5.mfcc ,Score: {'F1': -53.59209556001366, 'F2': -54.12644734912873, 'F3': -59.40397447723044, 'F4': -66.15057146327908, 'F5': -69.63173090988745, 'F6': -60.212404243894916}\n",
      "File: F1.3.6.mfcc ,Score: {'F1': -53.44962483366287, 'F2': -54.9144011415449, 'F3': -58.52873597306257, 'F4': -67.28458391869108, 'F5': -68.26283560497941, 'F6': -60.56069355601405}\n",
      "File: F1.3.7.mfcc ,Score: {'F1': -54.2313521344974, 'F2': -54.354126618605875, 'F3': -59.24934177509082, 'F4': -68.48090579355602, 'F5': -66.57134123170331, 'F6': -60.732730763717264}\n",
      "File: F1.3.8.mfcc ,Score: {'F1': -54.421014727930945, 'F2': -54.83088138594552, 'F3': -60.03710626663832, 'F4': -69.6535969823012, 'F5': -67.07622637290136, 'F6': -60.174204917708195}\n",
      "File: F1.3.9.mfcc ,Score: {'F1': -53.78528817682506, 'F2': -53.971215947349826, 'F3': -59.02320916777195, 'F4': -66.4226429933293, 'F5': -65.70442766459757, 'F6': -58.74614658014549}\n",
      "File: F2.3.1.mfcc ,Score: {'F1': -57.5267089259673, 'F2': -50.84257362306963, 'F3': -55.92622310811821, 'F4': -65.49679254591969, 'F5': -63.58694245664498, 'F6': -58.07430784718907}\n",
      "File: F2.3.10.mfcc ,Score: {'F1': -56.72223501248715, 'F2': -51.02653950921347, 'F3': -55.67683650113452, 'F4': -67.24686150104047, 'F5': -63.22308582358501, 'F6': -57.03337255955122}\n",
      "File: F2.3.11.mfcc ,Score: {'F1': -56.95119219734511, 'F2': -51.13249660542655, 'F3': -55.97869941097733, 'F4': -68.70127280744691, 'F5': -63.064188288329184, 'F6': -58.06593597817832}\n",
      "File: F2.3.12.mfcc ,Score: {'F1': -55.984862676725385, 'F2': -50.126848957244135, 'F3': -54.30975315497606, 'F4': -64.25234471594696, 'F5': -66.15671646507272, 'F6': -56.945081425614056}\n",
      "File: F2.3.13.mfcc ,Score: {'F1': -57.23429044256423, 'F2': -50.72945975375612, 'F3': -55.177360568975004, 'F4': -66.0616285427549, 'F5': -62.71823608569158, 'F6': -57.00907172686617}\n",
      "File: F2.3.14.mfcc ,Score: {'F1': -57.77947890262931, 'F2': -50.41316025753948, 'F3': -53.987306169328114, 'F4': -63.09113842360666, 'F5': -61.47797622609647, 'F6': -56.892344988298575}\n",
      "File: F2.3.15.mfcc ,Score: {'F1': -56.337585341677936, 'F2': -50.60155864797143, 'F3': -55.35739794916801, 'F4': -67.14190183155027, 'F5': -64.09143843311345, 'F6': -58.036956561264184}\n",
      "File: F2.3.16.mfcc ,Score: {'F1': -58.80627080318278, 'F2': -50.782426100609854, 'F3': -55.34052556662777, 'F4': -69.20805265114609, 'F5': -64.01244083556433, 'F6': -57.42209695318667}\n",
      "File: F2.3.17.mfcc ,Score: {'F1': -55.78793862468007, 'F2': -51.00170075582561, 'F3': -53.98497067320311, 'F4': -63.13040968163611, 'F5': -62.19212716533484, 'F6': -58.304317281413326}\n",
      "File: F2.3.18.mfcc ,Score: {'F1': -57.496501620002796, 'F2': -52.98431653971971, 'F3': -58.44491567623748, 'F4': -72.56673185364961, 'F5': -64.26517276253284, 'F6': -58.58709053362921}\n",
      "File: F2.3.19.mfcc ,Score: {'F1': -58.05834716049983, 'F2': -51.65596833053685, 'F3': -57.57197224957195, 'F4': -64.41634478863288, 'F5': -64.71810629149154, 'F6': -59.86769483163665}\n",
      "File: F2.3.2.mfcc ,Score: {'F1': -57.59352013960578, 'F2': -50.02400509100218, 'F3': -56.044581731828124, 'F4': -64.13222652228379, 'F5': -66.33671305265653, 'F6': -57.42369093332101}\n",
      "File: F2.3.3.mfcc ,Score: {'F1': -56.957202983550914, 'F2': -50.99476129526834, 'F3': -54.88672187834905, 'F4': -65.37925460212456, 'F5': -64.74074493995055, 'F6': -57.39450883908641}\n",
      "File: F2.3.4.mfcc ,Score: {'F1': -57.06689763374369, 'F2': -52.73149226469948, 'F3': -56.086455170308476, 'F4': -65.65949775505743, 'F5': -63.501043445768545, 'F6': -56.32295302796905}\n",
      "File: F2.3.5.mfcc ,Score: {'F1': -56.9470560874228, 'F2': -51.523202418696116, 'F3': -56.0311379446211, 'F4': -64.2290599631295, 'F5': -64.23168443331484, 'F6': -57.484807572692155}\n",
      "File: F2.3.6.mfcc ,Score: {'F1': -55.701009034725175, 'F2': -50.53746676008102, 'F3': -55.51474047710079, 'F4': -66.62818516997271, 'F5': -64.3498241042486, 'F6': -57.472442948691324}\n",
      "File: F2.3.7.mfcc ,Score: {'F1': -54.679313798066296, 'F2': -49.16751155436243, 'F3': -54.25188835758289, 'F4': -66.59820451198209, 'F5': -61.13452035283489, 'F6': -55.97508340685431}\n",
      "File: F2.3.8.mfcc ,Score: {'F1': -58.20561125372152, 'F2': -51.17490999664442, 'F3': -56.369084772844026, 'F4': -69.5400281160567, 'F5': -62.96470394869551, 'F6': -57.971797641392016}\n",
      "File: F2.3.9.mfcc ,Score: {'F1': -58.1903257504391, 'F2': -51.55706785698691, 'F3': -55.353586916054944, 'F4': -63.68644004631179, 'F5': -63.87236470254417, 'F6': -58.64513345215461}\n",
      "File: F3.3.1.mfcc ,Score: {'F1': -56.00442421541307, 'F2': -56.42264618437769, 'F3': -51.199387433477646, 'F4': -64.2896387031804, 'F5': -62.418870451296634, 'F6': -58.04554992992831}\n",
      "File: F3.3.10.mfcc ,Score: {'F1': -57.93730165875026, 'F2': -56.886561724905626, 'F3': -49.38945819045869, 'F4': -65.84225302809105, 'F5': -66.09184855585072, 'F6': -60.4588527803411}\n",
      "File: F3.3.11.mfcc ,Score: {'F1': -57.91630687647863, 'F2': -57.87108087750615, 'F3': -51.182746942829326, 'F4': -65.12098126284722, 'F5': -60.69547471153251, 'F6': -58.30488879074305}\n",
      "File: F3.3.12.mfcc ,Score: {'F1': -57.84066333969545, 'F2': -57.54381986943669, 'F3': -50.838572770888604, 'F4': -70.93725690336738, 'F5': -65.48678777908532, 'F6': -59.887865185760454}\n",
      "File: F3.3.13.mfcc ,Score: {'F1': -57.41768383261265, 'F2': -56.88332213552995, 'F3': -50.73641515620413, 'F4': -65.46421100743095, 'F5': -63.25666653576286, 'F6': -59.81579414251658}\n",
      "File: F3.3.14.mfcc ,Score: {'F1': -56.91945269392984, 'F2': -60.444146328141024, 'F3': -47.474606071791335, 'F4': -64.114726181246, 'F5': -70.20629585315908, 'F6': -67.02106518352203}\n",
      "File: F3.3.15.mfcc ,Score: {'F1': -58.582441723376775, 'F2': -58.169927199072916, 'F3': -50.432205139386895, 'F4': -70.20707240223153, 'F5': -69.19072068310342, 'F6': -63.48001896051064}\n",
      "File: F3.3.16.mfcc ,Score: {'F1': -59.23772720175585, 'F2': -57.24521960011344, 'F3': -53.861836436763085, 'F4': -71.82421170457509, 'F5': -62.9080287628272, 'F6': -60.06460410109452}\n",
      "File: F3.3.17.mfcc ,Score: {'F1': -57.97921159686169, 'F2': -58.27976836727545, 'F3': -52.37256079874842, 'F4': -65.39109193890876, 'F5': -66.19648078893721, 'F6': -61.91985671274375}\n",
      "File: F3.3.18.mfcc ,Score: {'F1': -55.98892356890626, 'F2': -57.71594751073229, 'F3': -48.381799632012374, 'F4': -61.24391300212004, 'F5': -65.40923643836871, 'F6': -61.59581994227328}\n",
      "File: F3.3.19.mfcc ,Score: {'F1': -54.22894034191515, 'F2': -55.15322178013999, 'F3': -49.59100137893453, 'F4': -67.26231393406597, 'F5': -64.83330145878875, 'F6': -59.82585743801066}\n",
      "File: F3.3.2.mfcc ,Score: {'F1': -57.52331270280649, 'F2': -59.43451210282071, 'F3': -51.71944070329281, 'F4': -65.27862442802305, 'F5': -64.50787183248991, 'F6': -62.00838113881225}\n",
      "File: F3.3.3.mfcc ,Score: {'F1': -57.73147885641704, 'F2': -60.441569740220125, 'F3': -48.747101970887734, 'F4': -65.04684698977893, 'F5': -71.62818920054565, 'F6': -65.36264470601742}\n",
      "File: F3.3.4.mfcc ,Score: {'F1': -58.94248056225237, 'F2': -58.59740613507122, 'F3': -51.6068545055723, 'F4': -71.64863466588457, 'F5': -66.25284122932695, 'F6': -62.819397311932434}\n",
      "File: F3.3.5.mfcc ,Score: {'F1': -57.5075466082329, 'F2': -56.373179428903846, 'F3': -50.07827733864657, 'F4': -67.30980595459289, 'F5': -63.83629028425821, 'F6': -58.253731495515964}\n",
      "File: F3.3.6.mfcc ,Score: {'F1': -58.048664927178045, 'F2': -58.01210021658295, 'F3': -51.36430018245958, 'F4': -68.69039896316177, 'F5': -64.50674842912109, 'F6': -60.39226278209482}\n",
      "File: F3.3.7.mfcc ,Score: {'F1': -58.366022454803215, 'F2': -57.15858358589777, 'F3': -49.99694190888334, 'F4': -72.02684120663483, 'F5': -66.14299255982083, 'F6': -61.872119425053654}\n",
      "File: F3.3.8.mfcc ,Score: {'F1': -58.812949672426825, 'F2': -58.964893003608886, 'F3': -50.70010119385688, 'F4': -80.68678242339547, 'F5': -66.53034432792398, 'F6': -63.71730820572781}\n",
      "File: F3.3.9.mfcc ,Score: {'F1': -62.20683089110416, 'F2': -59.046592454948964, 'F3': -51.81159033717159, 'F4': -71.41690384516338, 'F5': -69.43798445793348, 'F6': -64.39722531660902}\n",
      "File: F4.3.1.mfcc ,Score: {'F1': -56.20014139926899, 'F2': -55.735408415610145, 'F3': -57.37664965366191, 'F4': -52.43929430465416, 'F5': -63.13567551218795, 'F6': -58.197018486666636}\n",
      "File: F4.3.10.mfcc ,Score: {'F1': -55.26738509505299, 'F2': -56.89652465670471, 'F3': -57.338312786650775, 'F4': -53.32300078462332, 'F5': -60.32318828806429, 'F6': -57.6152200045408}\n",
      "File: F4.3.11.mfcc ,Score: {'F1': -57.06149995597159, 'F2': -57.69574761179503, 'F3': -57.79044596542763, 'F4': -53.98780656683553, 'F5': -61.24789162623072, 'F6': -59.256857546701525}\n",
      "File: F4.3.12.mfcc ,Score: {'F1': -56.226836177311014, 'F2': -56.46480873794009, 'F3': -56.76855105911748, 'F4': -52.388435149426904, 'F5': -60.15073041936293, 'F6': -58.263827621546355}\n",
      "File: F4.3.13.mfcc ,Score: {'F1': -54.98440138471764, 'F2': -55.189772473340646, 'F3': -56.60409013494714, 'F4': -51.85600824310158, 'F5': -60.53630002963753, 'F6': -57.73531080636055}\n",
      "File: F4.3.14.mfcc ,Score: {'F1': -56.352986950927466, 'F2': -58.48792423741858, 'F3': -57.7857040708819, 'F4': -53.14083006117384, 'F5': -61.30033801140478, 'F6': -60.42288502938}\n",
      "File: F4.3.15.mfcc ,Score: {'F1': -55.147078828542156, 'F2': -55.68648484369507, 'F3': -57.585492667562406, 'F4': -51.96832303537041, 'F5': -60.27661463843928, 'F6': -58.01229303053161}\n",
      "File: F4.3.16.mfcc ,Score: {'F1': -57.38580593240238, 'F2': -56.66320745780817, 'F3': -57.67141370961754, 'F4': -53.681699511995724, 'F5': -59.94751903598123, 'F6': -60.130272583113765}\n",
      "File: F4.3.17.mfcc ,Score: {'F1': -55.554906137231086, 'F2': -55.028158466669, 'F3': -56.09888194981488, 'F4': -52.13687459975751, 'F5': -60.08950696283561, 'F6': -57.87806474310853}\n",
      "File: F4.3.18.mfcc ,Score: {'F1': -55.27576655363617, 'F2': -59.40867383613549, 'F3': -57.958399191423645, 'F4': -55.94833196671904, 'F5': -60.49635360578115, 'F6': -59.668462503359514}\n",
      "File: F4.3.19.mfcc ,Score: {'F1': -53.949194268747355, 'F2': -54.76961233824185, 'F3': -56.90856688230056, 'F4': -52.63262835238021, 'F5': -59.081456159313774, 'F6': -55.4869990385751}\n",
      "File: F4.3.2.mfcc ,Score: {'F1': -56.92806586906537, 'F2': -59.35739178488172, 'F3': -57.482598709499, 'F4': -53.46254125384386, 'F5': -60.75589588887585, 'F6': -59.35015976705763}\n",
      "File: F4.3.20.mfcc ,Score: {'F1': -54.407678428105505, 'F2': -58.39825584030826, 'F3': -58.394260720549866, 'F4': -54.76433239320695, 'F5': -62.955420258488566, 'F6': -59.48237838316307}\n",
      "File: F4.3.3.mfcc ,Score: {'F1': -54.71249664105907, 'F2': -54.72946585036344, 'F3': -56.135359073941615, 'F4': -52.47608330915197, 'F5': -60.111093290022666, 'F6': -57.26365192174189}\n",
      "File: F4.3.4.mfcc ,Score: {'F1': -56.55741045602207, 'F2': -57.44706569000277, 'F3': -58.40226396887496, 'F4': -51.61618143173472, 'F5': -61.6364703757084, 'F6': -59.365896888992964}\n",
      "File: F4.3.5.mfcc ,Score: {'F1': -53.230113717209576, 'F2': -57.04910171773032, 'F3': -55.10551140296586, 'F4': -51.91134178072674, 'F5': -59.93811454710341, 'F6': -56.75574281651787}\n",
      "File: F4.3.6.mfcc ,Score: {'F1': -55.99441270200685, 'F2': -57.53592765483547, 'F3': -56.7534130823432, 'F4': -53.50230673392562, 'F5': -60.79575357931123, 'F6': -58.3593198874751}\n",
      "File: F4.3.7.mfcc ,Score: {'F1': -55.921445866014885, 'F2': -57.708067696482516, 'F3': -58.10586632089241, 'F4': -52.477154977916214, 'F5': -61.28450888525486, 'F6': -59.1051001542186}\n",
      "File: F4.3.8.mfcc ,Score: {'F1': -56.836337407861244, 'F2': -58.02947009466209, 'F3': -58.22520977852237, 'F4': -52.82899170594701, 'F5': -61.400923061202384, 'F6': -58.549100588708995}\n",
      "File: F4.3.9.mfcc ,Score: {'F1': -54.27394800249255, 'F2': -53.78417119311645, 'F3': -55.44029588393017, 'F4': -52.09437100256517, 'F5': -56.94805197548708, 'F6': -56.01235601133695}\n",
      "File: F5.3.1.mfcc ,Score: {'F1': -58.04434740562078, 'F2': -57.88845556280195, 'F3': -56.50535017859528, 'F4': -69.86396765099018, 'F5': -48.05113370777777, 'F6': -58.51304806730261}\n",
      "File: F5.3.10.mfcc ,Score: {'F1': -59.14629728184016, 'F2': -59.76082796067275, 'F3': -59.14640434134904, 'F4': -65.41848652426553, 'F5': -49.237850146894125, 'F6': -59.51737608078455}\n",
      "File: F5.3.11.mfcc ,Score: {'F1': -57.75301703126165, 'F2': -56.98972689681655, 'F3': -56.67195468228587, 'F4': -65.78708238133652, 'F5': -48.22427537245638, 'F6': -57.38081281582513}\n",
      "File: F5.3.12.mfcc ,Score: {'F1': -58.57418072072765, 'F2': -58.05927631643938, 'F3': -57.40360129132514, 'F4': -67.51732164834021, 'F5': -48.95647575541774, 'F6': -58.81209981189806}\n",
      "File: F5.3.13.mfcc ,Score: {'F1': -56.57450113011365, 'F2': -58.40227458034155, 'F3': -56.335424840556506, 'F4': -69.25716261404843, 'F5': -49.997077263856724, 'F6': -59.209661042832835}\n",
      "File: F5.3.14.mfcc ,Score: {'F1': -58.23221509440836, 'F2': -58.63045447599332, 'F3': -60.32632912504483, 'F4': -70.30416895366783, 'F5': -50.6438812062646, 'F6': -59.38099779933478}\n",
      "File: F5.3.15.mfcc ,Score: {'F1': -60.24689401242911, 'F2': -59.68161438051941, 'F3': -59.37633857666219, 'F4': -67.74911933450119, 'F5': -49.25484492735915, 'F6': -59.667395244495495}\n",
      "File: F5.3.16.mfcc ,Score: {'F1': -58.05239517839124, 'F2': -60.23878939138483, 'F3': -58.512441949204025, 'F4': -67.62342581720176, 'F5': -50.01636774739481, 'F6': -60.68144747295914}\n",
      "File: F5.3.17.mfcc ,Score: {'F1': -58.139857471629945, 'F2': -59.89517085781668, 'F3': -59.286482347449855, 'F4': -66.89677701192487, 'F5': -49.40625986624513, 'F6': -59.88434249435275}\n",
      "File: F5.3.18.mfcc ,Score: {'F1': -58.36360218014111, 'F2': -59.14420724639064, 'F3': -58.07736088418523, 'F4': -72.19009858150574, 'F5': -50.71417423692472, 'F6': -59.38842833354831}\n",
      "File: F5.3.19.mfcc ,Score: {'F1': -60.7355726982981, 'F2': -60.24643347941412, 'F3': -59.52845763943607, 'F4': -65.8044535170324, 'F5': -50.973473400509896, 'F6': -60.86528560369405}\n",
      "File: F5.3.2.mfcc ,Score: {'F1': -58.30094959572942, 'F2': -57.698211366789536, 'F3': -58.19824564904663, 'F4': -66.06056687821227, 'F5': -48.486796311437544, 'F6': -59.001803397614836}\n",
      "File: F5.3.3.mfcc ,Score: {'F1': -58.61819152198544, 'F2': -57.83633437497427, 'F3': -58.247367776108526, 'F4': -66.4149630595695, 'F5': -49.31212005870054, 'F6': -58.11474968231557}\n",
      "File: F5.3.4.mfcc ,Score: {'F1': -56.82865256597697, 'F2': -57.54430950741863, 'F3': -57.737323094134965, 'F4': -66.66703320215049, 'F5': -48.6465000677947, 'F6': -57.90217606673623}\n",
      "File: F5.3.5.mfcc ,Score: {'F1': -57.88215562213268, 'F2': -57.159941723359005, 'F3': -58.088277223637235, 'F4': -67.18310085216896, 'F5': -48.41969176858608, 'F6': -58.623772124066356}\n",
      "File: F5.3.6.mfcc ,Score: {'F1': -57.053746376813066, 'F2': -60.86564847104603, 'F3': -59.37169726953347, 'F4': -63.713412342432214, 'F5': -48.97590032191191, 'F6': -60.527425503726455}\n",
      "File: F5.3.7.mfcc ,Score: {'F1': -58.99407884650704, 'F2': -58.14643711758834, 'F3': -57.98228279869729, 'F4': -64.6821920019068, 'F5': -47.733566578720016, 'F6': -58.39122324200342}\n",
      "File: F5.3.8.mfcc ,Score: {'F1': -57.4197938505969, 'F2': -56.40564791286141, 'F3': -55.62919428275345, 'F4': -64.5357442709877, 'F5': -47.71280173017501, 'F6': -56.67051008736032}\n",
      "File: F5.3.9.mfcc ,Score: {'F1': -60.14214801313775, 'F2': -60.453667592392655, 'F3': -59.33319595328559, 'F4': -66.15053079697972, 'F5': -50.168534319565225, 'F6': -60.7491200792497}\n",
      "File: F6.3.1.mfcc ,Score: {'F1': -59.41668910316294, 'F2': -60.60623107848063, 'F3': -61.231384568732636, 'F4': -72.78574527659366, 'F5': -70.10040258895971, 'F6': -50.207479769463184}\n",
      "File: F6.3.10.mfcc ,Score: {'F1': -58.26397919731848, 'F2': -58.95947072696719, 'F3': -59.731407778008844, 'F4': -70.58288268900318, 'F5': -70.87129669819763, 'F6': -48.78458513559651}\n",
      "File: F6.3.11.mfcc ,Score: {'F1': -56.47340866040096, 'F2': -56.725791320834674, 'F3': -58.17786448480842, 'F4': -65.59294891951724, 'F5': -65.13754484470725, 'F6': -48.768216171718294}\n",
      "File: F6.3.12.mfcc ,Score: {'F1': -56.23295176899087, 'F2': -57.19816143812385, 'F3': -58.798186224399714, 'F4': -68.14615996214867, 'F5': -66.2077054654419, 'F6': -49.2635928193988}\n",
      "File: F6.3.13.mfcc ,Score: {'F1': -60.08459894204532, 'F2': -62.48216848327136, 'F3': -63.35031053348982, 'F4': -82.90220126130147, 'F5': -73.97204079631963, 'F6': -49.171257981463356}\n",
      "File: F6.3.14.mfcc ,Score: {'F1': -56.6600073377442, 'F2': -57.91553791529063, 'F3': -58.80053410949735, 'F4': -70.57593939495725, 'F5': -67.51318186632749, 'F6': -49.83880294998881}\n",
      "File: F6.3.15.mfcc ,Score: {'F1': -58.073028522904096, 'F2': -58.743741676418686, 'F3': -59.89031037578101, 'F4': -72.07162919163379, 'F5': -68.82311569427996, 'F6': -48.68775601540818}\n",
      "File: F6.3.16.mfcc ,Score: {'F1': -54.65756762627734, 'F2': -55.308277802753246, 'F3': -56.30496132424673, 'F4': -62.55368043429924, 'F5': -63.399831724421276, 'F6': -48.610818700708386}\n",
      "File: F6.3.17.mfcc ,Score: {'F1': -58.40529772384803, 'F2': -61.51233764330231, 'F3': -61.521738248399004, 'F4': -74.27729917869901, 'F5': -69.51252437795556, 'F6': -47.54379354993921}\n",
      "File: F6.3.18.mfcc ,Score: {'F1': -56.89001224359607, 'F2': -57.30150319572776, 'F3': -58.756103272666245, 'F4': -70.53698558157448, 'F5': -67.91151204372994, 'F6': -49.085686981870175}\n",
      "File: F6.3.19.mfcc ,Score: {'F1': -54.699924427864225, 'F2': -56.11320856479612, 'F3': -57.622673919350845, 'F4': -66.47377453918959, 'F5': -65.68290534687219, 'F6': -48.59503281882155}\n",
      "File: F6.3.2.mfcc ,Score: {'F1': -60.09133634841309, 'F2': -60.85273650740328, 'F3': -61.20591987861558, 'F4': -78.36152340993638, 'F5': -70.02570864628255, 'F6': -50.28001404774946}\n",
      "File: F6.3.3.mfcc ,Score: {'F1': -58.41986968029814, 'F2': -58.34912402263927, 'F3': -59.907981679188694, 'F4': -68.71761518849597, 'F5': -67.51445968465599, 'F6': -50.146775417637485}\n",
      "File: F6.3.4.mfcc ,Score: {'F1': -58.087984923417814, 'F2': -58.822879584710655, 'F3': -59.9624890086317, 'F4': -72.0593628015185, 'F5': -68.55691503090075, 'F6': -49.229763583979064}\n",
      "File: F6.3.5.mfcc ,Score: {'F1': -55.46871659497747, 'F2': -55.354298919347954, 'F3': -57.49155174467527, 'F4': -70.21008478529951, 'F5': -67.33833570589167, 'F6': -49.86270628944673}\n",
      "File: F6.3.6.mfcc ,Score: {'F1': -59.10606613696349, 'F2': -60.823881109984555, 'F3': -62.080412867150905, 'F4': -74.45145199066746, 'F5': -70.58960003154039, 'F6': -48.81849159521942}\n",
      "File: F6.3.7.mfcc ,Score: {'F1': -55.99898352649885, 'F2': -56.08333561306167, 'F3': -58.636359855316066, 'F4': -67.8027332654808, 'F5': -67.33701752713525, 'F6': -49.15016181215377}\n",
      "File: F6.3.8.mfcc ,Score: {'F1': -59.69146242533032, 'F2': -59.66451759027579, 'F3': -62.00185044868127, 'F4': -74.97205847705567, 'F5': -69.78670084488225, 'F6': -49.94099235130127}\n",
      "File: F6.3.9.mfcc ,Score: {'F1': -58.90749460007428, 'F2': -57.65957563939458, 'F3': -59.1754304223309, 'F4': -69.37886126597587, 'F5': -66.98851393194076, 'F6': -50.0679006978527}\n"
     ]
    }
   ],
   "source": [
    "results_3_F_32 = []\n",
    "\n",
    "# Calculate scores for each GMM model and store file name with score\n",
    "for test_segment_name, test_segment in test_files_3_F.items():\n",
    "    score = get_scores(test_segment, gmm_models_F_32)\n",
    "    results_3_F_32.append((test_segment_name, score))\n",
    "\n",
    "# Printing the results\n",
    "for result in results_3_F_32:\n",
    "    file_name, score = result\n",
    "    print(f\"File: {file_name} ,Score: {score}\")"
   ]
  },
  {
   "cell_type": "markdown",
   "id": "955c41ab",
   "metadata": {},
   "source": [
    "## Sort the scores"
   ]
  },
  {
   "cell_type": "code",
   "execution_count": 18,
   "id": "62452a9b",
   "metadata": {},
   "outputs": [],
   "source": [
    "# Extract the scores from results_3_F_32\n",
    "scores = [score for _, score in results_3_F_32]\n",
    "    \n",
    "scores_array = np.array([list(item.values()) for item in scores]).flatten()\n",
    "\n",
    "sorted_scores_array = np.sort(scores_array)\n"
   ]
  },
  {
   "cell_type": "markdown",
   "id": "1c7f463a",
   "metadata": {},
   "source": [
    "## Plot the Det curve"
   ]
  },
  {
   "cell_type": "code",
   "execution_count": 19,
   "id": "dcf0def4",
   "metadata": {},
   "outputs": [
    {
     "data": {
      "image/png": "[encoded data removed]",
      "text/plain": [
       "<Figure size 640x480 with 1 Axes>"
      ]
     },
     "metadata": {},
     "output_type": "display_data"
    }
   ],
   "source": [
    "# Initialize variables\n",
    "genuine_scores = defaultdict(list)  # Dictionary to store genuine scores for each client\n",
    "impostor_scores = []  # List to store impostor scores\n",
    "\n",
    "# Extract genuine scores and impostor scores\n",
    "for result in results_3_F_32:\n",
    "    file_name, score = result\n",
    "    client_name = file_name.split('.')[0]  # Extract client name from file name\n",
    "\n",
    "    genuine_scores[client_name].append(score[client_name])\n",
    "\n",
    "    impostor_scores.extend([s for key, s in score.items() if key != client_name])\n",
    "\n",
    "# Compute the minimum and maximum scores\n",
    "min_score = min(sorted_scores_array)\n",
    "max_score = max(sorted_scores_array)\n",
    "\n",
    "# Set the number of thresholds and generate them using linspace\n",
    "num_thresholds = 1000\n",
    "thresholds = np.geomspace(max_score, min_score, num_thresholds)\n",
    "\n",
    "# Initialize lists for FAR and FRR\n",
    "far = []\n",
    "frr = []\n",
    "\n",
    "# Iterate over thresholds\n",
    "for threshold in thresholds:\n",
    "    # Compute the number of false accepts (FAR) and false rejects (FRR)\n",
    "    false_accepts = sum(score >= threshold for score in impostor_scores)\n",
    "    false_rejects = 0\n",
    "    for client_scores in genuine_scores.values():\n",
    "        false_rejects += sum(score < threshold for score in client_scores)\n",
    "\n",
    "    # Compute the FAR and FRR rates\n",
    "    far_rate = false_accepts / len(impostor_scores)\n",
    "    frr_rate = false_rejects / sum(len(client_scores) for client_scores in genuine_scores.values())\n",
    "\n",
    "    # Append the FAR and FRR rates to the lists\n",
    "    far.append(far_rate)\n",
    "    frr.append(frr_rate)\n",
    "\n",
    "# Find the threshold with the closest FAR and FRR\n",
    "eer_threshold = thresholds[np.argmin(np.abs(np.array(far) - np.array(frr)))]\n",
    "\n",
    "# Compute the EER values\n",
    "eer_far = far[np.argmin(np.abs(np.array(far) - np.array(frr)))]\n",
    "eer_frr = frr[np.argmin(np.abs(np.array(far) - np.array(frr)))]\n",
    "\n",
    "# Plot the FAR and FRR curve\n",
    "plt.plot(far, frr)\n",
    "plt.xlabel('False Acceptance Rate (FAR)')\n",
    "plt.ylabel('False Rejection Rate (FRR)')\n",
    "plt.title('DET Curve')\n",
    "plt.grid(True)\n",
    "\n",
    "# Plot the EER point\n",
    "plt.scatter(eer_far, eer_frr, color='red', marker='o', label='EER')\n",
    "\n",
    "# Add legend\n",
    "plt.legend()\n",
    "\n",
    "# Add text annotation for EER point\n",
    "plt.annotate(f'EER: ({eer_far:.3f}, {eer_frr:.3f})', (eer_far, eer_frr), xytext=(eer_far + 0.05, eer_frr), color='red')\n",
    "\n",
    "plt.show()\n"
   ]
  },
  {
   "cell_type": "markdown",
   "id": "e9595ac8",
   "metadata": {},
   "source": [
    "### 10 seconds segments :"
   ]
  },
  {
   "cell_type": "markdown",
   "id": "0d3ce7ef",
   "metadata": {},
   "source": [
    "## Get scores"
   ]
  },
  {
   "cell_type": "code",
   "execution_count": 20,
   "id": "e13c79c5",
   "metadata": {
    "scrolled": true
   },
   "outputs": [
    {
     "name": "stdout",
     "output_type": "stream",
     "text": [
      "File: F1.10.1.mfcc ,Score: {'F1': -52.668055266919914, 'F2': -55.205471937335645, 'F3': -58.08410437783894, 'F4': -65.43000449274493, 'F5': -65.68457045051954, 'F6': -59.48963469545817}\n",
      "File: F1.10.2.mfcc ,Score: {'F1': -53.05423713882975, 'F2': -54.32418896864928, 'F3': -58.327299728106865, 'F4': -65.43646234433488, 'F5': -66.98691767964135, 'F6': -59.500013137246846}\n",
      "File: F1.10.3.mfcc ,Score: {'F1': -53.31681499564852, 'F2': -54.38444893386735, 'F3': -58.60753719867239, 'F4': -68.20194614156902, 'F5': -66.57047961875338, 'F6': -58.74517485056579}\n",
      "File: F1.10.4.mfcc ,Score: {'F1': -52.77768764218094, 'F2': -55.47097967870198, 'F3': -55.596277931550645, 'F4': -63.229359494839564, 'F5': -68.36903102677469, 'F6': -60.660873259946975}\n",
      "File: F1.10.5.mfcc ,Score: {'F1': -51.609235907024086, 'F2': -55.241959497559456, 'F3': -56.593409723468675, 'F4': -65.83895651004455, 'F5': -68.29742393163001, 'F6': -58.027731316622685}\n",
      "File: F1.10.6.mfcc ,Score: {'F1': -51.46452701628478, 'F2': -56.716227045695696, 'F3': -56.85286080599845, 'F4': -63.16434733211155, 'F5': -65.95109458970946, 'F6': -58.438463247812294}\n",
      "File: F2.10.1.mfcc ,Score: {'F1': -57.40673217209856, 'F2': -50.88308923462499, 'F3': -55.630445111289816, 'F4': -65.16807912906675, 'F5': -64.80731256071181, 'F6': -57.52179789725366}\n",
      "File: F2.10.2.mfcc ,Score: {'F1': -56.121607591260315, 'F2': -51.004389690802, 'F3': -55.64050198741332, 'F4': -65.94013064022384, 'F5': -63.234105644879016, 'F6': -56.92225672089792}\n",
      "File: F2.10.3.mfcc ,Score: {'F1': -57.34862442256005, 'F2': -50.98638018558021, 'F3': -55.571429958679495, 'F4': -66.47075545087304, 'F5': -63.34106997248225, 'F6': -57.69537485051877}\n",
      "File: F2.10.4.mfcc ,Score: {'F1': -56.59380673764875, 'F2': -50.53259190174159, 'F3': -54.91701392694445, 'F4': -65.73052677013877, 'F5': -63.84489906112816, 'F6': -57.275877306504}\n",
      "File: F2.10.5.mfcc ,Score: {'F1': -57.458067784512075, 'F2': -50.83519042983763, 'F3': -54.78954106927247, 'F4': -66.54588080934539, 'F5': -63.032790286345914, 'F6': -57.70855449009214}\n",
      "File: F2.10.6.mfcc ,Score: {'F1': -57.451338429428574, 'F2': -52.16170762858031, 'F3': -57.63729918715946, 'F4': -68.11281904598853, 'F5': -64.09487980566925, 'F6': -58.940444672717796}\n",
      "File: F3.10.1.mfcc ,Score: {'F1': -57.35003618884283, 'F2': -58.80521409189884, 'F3': -50.44288635371091, 'F4': -65.04312673516796, 'F5': -65.95228285347326, 'F6': -61.91000699464869}\n",
      "File: F3.10.2.mfcc ,Score: {'F1': -57.758795961259935, 'F2': -57.22274689506289, 'F3': -50.9179830987349, 'F4': -69.90747547014273, 'F5': -64.96325549372064, 'F6': -60.15827940990349}\n",
      "File: F3.10.3.mfcc ,Score: {'F1': -59.81547161471254, 'F2': -58.3734523862396, 'F3': -50.62316667696633, 'F4': -72.72041685706124, 'F5': -67.49065605137633, 'F6': -63.129955523057625}\n",
      "File: F3.10.4.mfcc ,Score: {'F1': -57.538258439700236, 'F2': -57.151770776478195, 'F3': -50.807365157318685, 'F4': -66.90319076378442, 'F5': -63.293950105960555, 'F6': -59.17912506996104}\n",
      "File: F3.10.5.mfcc ,Score: {'F1': -58.53839367561697, 'F2': -59.187748963066, 'F3': -51.178047784610975, 'F4': -68.68885430879337, 'F5': -67.9609910656251, 'F6': -64.17198673270681}\n",
      "File: F3.10.6.mfcc ,Score: {'F1': -55.76066149191875, 'F2': -56.77853161618266, 'F3': -49.134096361787954, 'F4': -63.02013830832349, 'F5': -64.48069705634978, 'F6': -60.49031729931292}\n",
      "File: F4.10.1.mfcc ,Score: {'F1': -55.91727291659392, 'F2': -56.55547232718531, 'F3': -57.11707960666462, 'F4': -52.739222828911416, 'F5': -61.29356114380402, 'F6': -58.296687505247654}\n",
      "File: F4.10.2.mfcc ,Score: {'F1': -55.324099386571824, 'F2': -57.48623355866401, 'F3': -56.82486827483949, 'F4': -52.35414352449778, 'F5': -61.00665669425409, 'F6': -58.42240739116818}\n",
      "File: F4.10.3.mfcc ,Score: {'F1': -55.535154843650325, 'F2': -56.44007254046755, 'F3': -57.16769631688057, 'F4': -52.74601383211745, 'F5': -59.59868478290734, 'F6': -57.452975061761386}\n",
      "File: F4.10.4.mfcc ,Score: {'F1': -56.0971330961989, 'F2': -56.42581076650997, 'F3': -57.28455977279849, 'F4': -52.71126246017043, 'F5': -60.621545208976634, 'F6': -58.604244904416305}\n",
      "File: F4.10.5.mfcc ,Score: {'F1': -56.10772766969955, 'F2': -56.59860265709003, 'F3': -57.20412576162798, 'F4': -52.95607857910479, 'F5': -60.599458117690894, 'F6': -59.18413661580441}\n",
      "File: F4.10.6.mfcc ,Score: {'F1': -54.7306354029101, 'F2': -57.19551137145837, 'F3': -57.49270379207601, 'F4': -54.010349612173854, 'F5': -60.3481205235513, 'F6': -57.96402525940276}\n",
      "File: F5.10.1.mfcc ,Score: {'F1': -58.2022125386853, 'F2': -57.859636810805355, 'F3': -57.45613470243137, 'F4': -67.60050543464308, 'F5': -48.5753590797353, 'F6': -58.46329353930876}\n",
      "File: F5.10.2.mfcc ,Score: {'F1': -57.53099173170966, 'F2': -58.47609290003656, 'F3': -58.63914410109772, 'F4': -65.2484500903104, 'F5': -48.56263591327444, 'F6': -59.00193635806273}\n",
      "File: F5.10.3.mfcc ,Score: {'F1': -58.995904053707115, 'F2': -58.792114766129465, 'F3': -57.97652276661335, 'F4': -65.35804374894552, 'F5': -48.88547351045912, 'F6': -58.93813140197651}\n",
      "File: F5.10.4.mfcc ,Score: {'F1': -57.62960145797568, 'F2': -57.726763075173864, 'F3': -56.98550883802843, 'F4': -68.03766235408635, 'F5': -49.1450997025769, 'F6': -58.37162552922947}\n",
      "File: F5.10.5.mfcc ,Score: {'F1': -58.881015762292925, 'F2': -60.13083238347806, 'F3': -59.471181236665615, 'F4': -67.97145963163595, 'F5': -49.904227699046125, 'F6': -60.226790534595665}\n",
      "File: F5.10.6.mfcc ,Score: {'F1': -59.25602435457406, 'F2': -59.3162100593175, 'F3': -58.847687377218755, 'F4': -68.50191523700741, 'F5': -50.57649384985786, 'F6': -59.965033001484784}\n",
      "File: F6.10.1.mfcc ,Score: {'F1': -59.20581560595796, 'F2': -59.76065972823505, 'F3': -60.58688500024088, 'F4': -72.89077425668907, 'F5': -68.80894020256306, 'F6': -50.16296327433585}\n",
      "File: F6.10.2.mfcc ,Score: {'F1': -57.14582275244419, 'F2': -58.001768514819126, 'F3': -59.78318695862856, 'F4': -72.14434431030823, 'F5': -69.33686767210625, 'F6': -49.193741628763064}\n",
      "File: F6.10.3.mfcc ,Score: {'F1': -58.684136402534314, 'F2': -58.3903869946255, 'F3': -60.05736451653012, 'F4': -70.76157717801084, 'F5': -68.58687733244678, 'F6': -49.58995630702097}\n",
      "File: F6.10.4.mfcc ,Score: {'F1': -57.910402291113655, 'F2': -59.14817765847891, 'F3': -60.30850381800436, 'F4': -73.22660285919405, 'F5': -68.98812434527838, 'F6': -49.22568763628324}\n",
      "File: F6.10.5.mfcc ,Score: {'F1': -56.04665444920503, 'F2': -57.11133050875057, 'F3': -58.16313264663093, 'F4': -67.2082479275752, 'F5': -65.80926957827047, 'F6': -48.818090044579684}\n",
      "File: F6.10.6.mfcc ,Score: {'F1': -56.921149287702605, 'F2': -58.40620106016552, 'F3': -59.4541060514375, 'F4': -71.16997133981243, 'F5': -68.32537135264971, 'F6': -48.29359007436185}\n"
     ]
    }
   ],
   "source": [
    "results_10_F_32 = []\n",
    "\n",
    "# Calculate scores for each GMM model and store file name with score\n",
    "for test_segment_name, test_segment in test_files_10_F.items():\n",
    "    score = get_scores(test_segment, gmm_models_F_32)\n",
    "    results_10_F_32.append((test_segment_name, score))\n",
    "\n",
    "# Printing the results\n",
    "for result in results_10_F_32:\n",
    "    file_name, score = result\n",
    "    print(f\"File: {file_name} ,Score: {score}\")"
   ]
  },
  {
   "cell_type": "markdown",
   "id": "7bfbbbfe",
   "metadata": {},
   "source": [
    "## Sort the scores "
   ]
  },
  {
   "cell_type": "code",
   "execution_count": 21,
   "id": "b5576588",
   "metadata": {},
   "outputs": [],
   "source": [
    "# Extract the scores from results_3_F_32\n",
    "scores = [score for _, score in results_10_F_32]\n",
    "    \n",
    "scores_array = np.array([list(item.values()) for item in scores]).flatten()\n",
    "\n",
    "sorted_scores_array = np.sort(scores_array)\n"
   ]
  },
  {
   "cell_type": "markdown",
   "id": "95203b41",
   "metadata": {},
   "source": [
    "## Plot the Det curve "
   ]
  },
  {
   "cell_type": "code",
   "execution_count": 22,
   "id": "89e2347a",
   "metadata": {},
   "outputs": [
    {
     "data": {
      "image/png": "[encoded data removed]",
      "text/plain": [
       "<Figure size 640x480 with 1 Axes>"
      ]
     },
     "metadata": {},
     "output_type": "display_data"
    }
   ],
   "source": [
    "# Initialize variables\n",
    "genuine_scores = defaultdict(list)  # Dictionary to store genuine scores for each client\n",
    "impostor_scores = []  # List to store impostor scores\n",
    "\n",
    "# Extract genuine scores and impostor scores\n",
    "for result in results_10_F_32:\n",
    "    file_name, score = result\n",
    "    client_name = file_name.split('.')[0]  # Extract client name from file name\n",
    "\n",
    "    genuine_scores[client_name].append(score[client_name])\n",
    "\n",
    "    impostor_scores.extend([s for key, s in score.items() if key != client_name])\n",
    "\n",
    "# Compute the minimum and maximum scores\n",
    "min_score = min(sorted_scores_array)\n",
    "max_score = max(sorted_scores_array)\n",
    "\n",
    "# Set the number of thresholds and generate them using linspace\n",
    "num_thresholds = 1000\n",
    "thresholds = np.geomspace(max_score, min_score, num_thresholds)\n",
    "\n",
    "# Initialize lists for FAR and FRR\n",
    "far = []\n",
    "frr = []\n",
    "\n",
    "# Iterate over thresholds\n",
    "for threshold in thresholds:\n",
    "    # Compute the number of false accepts (FAR) and false rejects (FRR)\n",
    "    false_accepts = sum(score >= threshold for score in impostor_scores)\n",
    "    false_rejects = 0\n",
    "    for client_scores in genuine_scores.values():\n",
    "        false_rejects += sum(score < threshold for score in client_scores)\n",
    "\n",
    "    # Compute the FAR and FRR rates\n",
    "    far_rate = false_accepts / len(impostor_scores)\n",
    "    frr_rate = false_rejects / sum(len(client_scores) for client_scores in genuine_scores.values())\n",
    "\n",
    "    # Append the FAR and FRR rates to the lists\n",
    "    far.append(far_rate)\n",
    "    frr.append(frr_rate)\n",
    "\n",
    "# Find the threshold with the closest FAR and FRR\n",
    "eer_threshold = thresholds[np.argmin(np.abs(np.array(far) - np.array(frr)))]\n",
    "\n",
    "# Compute the EER values\n",
    "eer_far = far[np.argmin(np.abs(np.array(far) - np.array(frr)))]\n",
    "eer_frr = frr[np.argmin(np.abs(np.array(far) - np.array(frr)))]\n",
    "\n",
    "# Plot the FAR and FRR curve\n",
    "plt.plot(far, frr)\n",
    "plt.xlabel('False Acceptance Rate (FAR)')\n",
    "plt.ylabel('False Rejection Rate (FRR)')\n",
    "plt.title('DET Curve')\n",
    "plt.grid(True)\n",
    "\n",
    "# Plot the EER point\n",
    "plt.scatter(eer_far, eer_frr, color='red', marker='o', label='EER')\n",
    "\n",
    "# Add legend\n",
    "plt.legend()\n",
    "\n",
    "# Add text annotation for EER point\n",
    "plt.annotate(f'EER: ({eer_far:.3f}, {eer_frr:.3f})', (eer_far, eer_frr), xytext=(eer_far + 0.05, eer_frr), color='red')\n",
    "\n",
    "plt.show()\n"
   ]
  },
  {
   "cell_type": "markdown",
   "id": "86e34de4",
   "metadata": {},
   "source": [
    "### 15 seconds segments :"
   ]
  },
  {
   "cell_type": "markdown",
   "id": "d46c46be",
   "metadata": {},
   "source": [
    "## Get the scores "
   ]
  },
  {
   "cell_type": "code",
   "execution_count": 23,
   "id": "5a142c1f",
   "metadata": {
    "scrolled": true
   },
   "outputs": [
    {
     "name": "stdout",
     "output_type": "stream",
     "text": [
      "File: F1.15.1.mfcc ,Score: {'F1': -52.62496994669978, 'F2': -54.829070129516246, 'F3': -58.02891842980657, 'F4': -64.84202317284989, 'F5': -66.15978429470161, 'F6': -59.203177113877764}\n",
      "File: F1.15.2.mfcc ,Score: {'F1': -53.401101654232335, 'F2': -54.447003097051926, 'F3': -58.65037577327222, 'F4': -67.87025214624933, 'F5': -66.66819420457459, 'F6': -59.28670467496943}\n",
      "File: F1.15.3.mfcc ,Score: {'F1': -52.24312237920003, 'F2': -54.94471405756124, 'F3': -56.29657510884275, 'F4': -64.22120522272398, 'F5': -68.22383111252574, 'F6': -59.261531183961495}\n",
      "File: F1.15.4.mfcc ,Score: {'F1': -51.717560587194555, 'F2': -56.66191165919631, 'F3': -56.25809168623928, 'F4': -64.17162002385881, 'F5': -67.1336085467438, 'F6': -58.94202012104201}\n",
      "File: F2.15.1.mfcc ,Score: {'F1': -57.2182771540581, 'F2': -51.22320693854715, 'F3': -55.79502396664499, 'F4': -64.97936627770301, 'F5': -64.47942566566708, 'F6': -57.340053644051544}\n",
      "File: F2.15.2.mfcc ,Score: {'F1': -56.69969896988785, 'F2': -50.69269913545765, 'F3': -55.43322740494344, 'F4': -66.73994386907276, 'F5': -63.10889978638164, 'F6': -57.419566001728704}\n",
      "File: F2.15.3.mfcc ,Score: {'F1': -56.8574819121884, 'F2': -50.600704844387536, 'F3': -54.96210345068491, 'F4': -65.84965726426114, 'F5': -63.50171109966068, 'F6': -57.38987813604425}\n",
      "File: F2.15.4.mfcc ,Score: {'F1': -57.4878187571329, 'F2': -51.601371178496144, 'F3': -56.218275671292524, 'F4': -67.6068994840343, 'F5': -63.70955388883389, 'F6': -58.41981716922404}\n",
      "File: F3.15.1.mfcc ,Score: {'F1': -57.54184858902437, 'F2': -58.25386271827872, 'F3': -50.67021239037541, 'F4': -66.71471014829197, 'F5': -65.72881259958348, 'F6': -61.29794091644128}\n",
      "File: F3.15.2.mfcc ,Score: {'F1': -59.074353920852495, 'F2': -58.01374619718884, 'F3': -50.652478362566015, 'F4': -71.73263589328931, 'F5': -66.54198366613001, 'F6': -62.167553701965275}\n",
      "File: F3.15.3.mfcc ,Score: {'F1': -57.735309693218674, 'F2': -58.182459281937334, 'F3': -50.132909216220064, 'F4': -67.16884955142461, 'F5': -65.76718911252864, 'F6': -61.70192645261054}\n",
      "File: F3.15.4.mfcc ,Score: {'F1': -57.32277603067348, 'F2': -57.441830644169755, 'F3': -51.3095874762052, 'F4': -66.28357124095008, 'F5': -64.83737252166136, 'F6': -61.032536391563475}\n",
      "File: F4.15.1.mfcc ,Score: {'F1': -55.52564561652502, 'F2': -56.86368669171768, 'F3': -56.900476561788665, 'F4': -52.38108841602229, 'F5': -61.11544992277966, 'F6': -58.18649397619539}\n",
      "File: F4.15.2.mfcc ,Score: {'F1': -55.6587058146857, 'F2': -56.790832259160254, 'F3': -57.17261957046777, 'F4': -52.84516504099547, 'F5': -60.150485157863976, 'F6': -57.92821932925609}\n",
      "File: F4.15.3.mfcc ,Score: {'F1': -55.95456065949398, 'F2': -56.704947580837874, 'F3': -57.30685677958731, 'F4': -52.66828061118165, 'F5': -60.702374945015045, 'F6': -58.738234806904}\n",
      "File: F4.15.4.mfcc ,Score: {'F1': -55.37806912274066, 'F2': -56.74560863723154, 'F3': -57.3372462093424, 'F4': -53.76765725583706, 'F5': -60.34339915933539, 'F6': -58.46261062328531}\n",
      "File: F5.15.1.mfcc ,Score: {'F1': -57.93485934228906, 'F2': -57.6254505070687, 'F3': -57.75531278430453, 'F4': -67.23792632861829, 'F5': -48.58324838285932, 'F6': -58.43110986760713}\n",
      "File: F5.15.2.mfcc ,Score: {'F1': -58.55121287377899, 'F2': -59.126445810912244, 'F3': -58.29255492912377, 'F4': -64.90007318731438, 'F5': -48.76573061945325, 'F6': -59.17113099862489}\n",
      "File: F5.15.3.mfcc ,Score: {'F1': -58.27616159778808, 'F2': -58.35266933002204, 'F3': -58.02272970317491, 'F4': -68.12297098637885, 'F5': -49.41531090507092, 'F6': -58.89019334287726}\n",
      "File: F5.15.4.mfcc ,Score: {'F1': -58.81001986321455, 'F2': -59.878698678411546, 'F3': -58.84664025584486, 'F4': -68.14428762597583, 'F5': -50.27289831217977, 'F6': -60.200443696759}\n",
      "File: F6.15.1.mfcc ,Score: {'F1': -58.29691933005388, 'F2': -58.79705402251636, 'F3': -59.959865375968775, 'F4': -72.42686629236881, 'F5': -68.70716433133813, 'F6': -49.94534782165519}\n",
      "File: F6.15.2.mfcc ,Score: {'F1': -58.393597177237076, 'F2': -58.638156135936754, 'F3': -60.32509227429759, 'F4': -71.4375975376366, 'F5': -69.11462580673927, 'F6': -49.35242631842473}\n",
      "File: F6.15.3.mfcc ,Score: {'F1': -57.5047990464171, 'F2': -58.61308016678784, 'F3': -59.80344114559526, 'F4': -71.85777574591168, 'F5': -68.33071773341526, 'F6': -49.14592518759548}\n",
      "File: F6.15.4.mfcc ,Score: {'F1': -56.249731394359046, 'F2': -57.644318789172544, 'F3': -58.60628762295, 'F4': -68.57791617475992, 'F5': -66.68250431566925, 'F6': -48.45077883189828}\n"
     ]
    }
   ],
   "source": [
    "results_15_F_32 = []\n",
    "\n",
    "# Calculate scores for each GMM model and store file name with score\n",
    "for test_segment_name, test_segment in test_files_15_F.items():\n",
    "    score = get_scores(test_segment, gmm_models_F_32)\n",
    "    results_15_F_32.append((test_segment_name, score))\n",
    "\n",
    "# Printing the results\n",
    "for result in results_15_F_32:\n",
    "    file_name, score = result\n",
    "    print(f\"File: {file_name} ,Score: {score}\")"
   ]
  },
  {
   "cell_type": "markdown",
   "id": "c5154f3d",
   "metadata": {},
   "source": [
    "## Sort the scores "
   ]
  },
  {
   "cell_type": "code",
   "execution_count": 24,
   "id": "8f01ed5a",
   "metadata": {
    "scrolled": true
   },
   "outputs": [
    {
     "name": "stdout",
     "output_type": "stream",
     "text": [
      "[-72.42686629 -71.85777575 -71.73263589 -71.43759754 -69.11462581\n",
      " -68.70716433 -68.57791617 -68.33071773 -68.22383111 -68.14428763\n",
      " -68.12297099 -67.87025215 -67.60689948 -67.23792633 -67.16884955\n",
      " -67.13360855 -66.73994387 -66.71471015 -66.68250432 -66.6681942\n",
      " -66.54198367 -66.28357124 -66.15978429 -65.84965726 -65.76718911\n",
      " -65.7288126  -64.97936628 -64.90007319 -64.84202317 -64.83737252\n",
      " -64.47942567 -64.22120522 -64.17162002 -63.70955389 -63.5017111\n",
      " -63.10889979 -62.1675537  -61.70192645 -61.29794092 -61.11544992\n",
      " -61.03253639 -60.70237495 -60.34339916 -60.32509227 -60.2004437\n",
      " -60.15048516 -59.95986538 -59.87869868 -59.80344115 -59.28670467\n",
      " -59.26153118 -59.20317711 -59.171131   -59.12644581 -59.07435392\n",
      " -58.94202012 -58.89019334 -58.84664026 -58.81001986 -58.79705402\n",
      " -58.73823481 -58.65037577 -58.63815614 -58.61308017 -58.60628762\n",
      " -58.55121287 -58.46261062 -58.43110987 -58.41981717 -58.39359718\n",
      " -58.35266933 -58.29691933 -58.29255493 -58.2761616  -58.25386272\n",
      " -58.18649398 -58.18245928 -58.02891843 -58.0227297  -58.0137462\n",
      " -57.93485934 -57.92821933 -57.75531278 -57.73530969 -57.64431879\n",
      " -57.62545051 -57.54184859 -57.50479905 -57.48781876 -57.44183064\n",
      " -57.419566   -57.38987814 -57.34005364 -57.33724621 -57.32277603\n",
      " -57.30685678 -57.21827715 -57.17261957 -56.90047656 -56.86368669\n",
      " -56.85748191 -56.79083226 -56.74560864 -56.70494758 -56.69969897\n",
      " -56.66191166 -56.29657511 -56.25809169 -56.24973139 -56.21827567\n",
      " -55.95456066 -55.79502397 -55.65870581 -55.52564562 -55.4332274\n",
      " -55.37806912 -54.96210345 -54.94471406 -54.82907013 -54.4470031\n",
      " -53.76765726 -53.40110165 -52.84516504 -52.66828061 -52.62496995\n",
      " -52.38108842 -52.24312238 -51.71756059 -51.60137118 -51.30958748\n",
      " -51.22320694 -50.69269914 -50.67021239 -50.65247836 -50.60070484\n",
      " -50.27289831 -50.13290922 -49.94534782 -49.41531091 -49.35242632\n",
      " -49.14592519 -48.76573062 -48.58324838 -48.45077883]\n"
     ]
    }
   ],
   "source": [
    "# Extract the scores from results_15_F_32\n",
    "scores = [score for _, score in results_15_F_32]\n",
    "    \n",
    "scores_array = np.array([list(item.values()) for item in scores]).flatten()\n",
    "\n",
    "sorted_scores_array = np.sort(scores_array)\n",
    "\n",
    "# Print the sorted array\n",
    "print(sorted_scores_array)"
   ]
  },
  {
   "cell_type": "markdown",
   "id": "e05b9589",
   "metadata": {},
   "source": [
    "## Plot the Det curve"
   ]
  },
  {
   "cell_type": "code",
   "execution_count": 25,
   "id": "b6b3d1ff",
   "metadata": {},
   "outputs": [
    {
     "data": {
      "image/png": "[encoded data removed]",
      "text/plain": [
       "<Figure size 640x480 with 1 Axes>"
      ]
     },
     "metadata": {},
     "output_type": "display_data"
    }
   ],
   "source": [
    "# Initialize variables\n",
    "genuine_scores = defaultdict(list)  # Dictionary to store genuine scores for each client\n",
    "impostor_scores = []  # List to store impostor scores\n",
    "\n",
    "# Extract genuine scores and impostor scores\n",
    "for result in results_15_F_32:\n",
    "    file_name, score = result\n",
    "    client_name = file_name.split('.')[0]  # Extract client name from file name\n",
    "\n",
    "    genuine_scores[client_name].append(score[client_name])\n",
    "\n",
    "    impostor_scores.extend([s for key, s in score.items() if key != client_name])\n",
    "\n",
    "# Compute the minimum and maximum scores\n",
    "min_score = min(sorted_scores_array)\n",
    "max_score = max(sorted_scores_array)\n",
    "\n",
    "# Set the number of thresholds and generate them using linspace\n",
    "num_thresholds = 1000\n",
    "thresholds = np.geomspace(max_score, min_score, num_thresholds)\n",
    "\n",
    "# Initialize lists for FAR and FRR\n",
    "far = []\n",
    "frr = []\n",
    "\n",
    "# Iterate over thresholds\n",
    "for threshold in thresholds:\n",
    "    # Compute the number of false accepts (FAR) and false rejects (FRR)\n",
    "    false_accepts = sum(score >= threshold for score in impostor_scores)\n",
    "    false_rejects = 0\n",
    "    for client_scores in genuine_scores.values():\n",
    "        false_rejects += sum(score < threshold for score in client_scores)\n",
    "\n",
    "    # Compute the FAR and FRR rates\n",
    "    far_rate = false_accepts / len(impostor_scores)\n",
    "    frr_rate = false_rejects / sum(len(client_scores) for client_scores in genuine_scores.values())\n",
    "\n",
    "    # Append the FAR and FRR rates to the lists\n",
    "    far.append(far_rate)\n",
    "    frr.append(frr_rate)\n",
    "\n",
    "# Find the threshold with the closest FAR and FRR\n",
    "eer_threshold = thresholds[np.argmin(np.abs(np.array(far) - np.array(frr)))]\n",
    "\n",
    "# Compute the EER values\n",
    "eer_far = far[np.argmin(np.abs(np.array(far) - np.array(frr)))]\n",
    "eer_frr = frr[np.argmin(np.abs(np.array(far) - np.array(frr)))]\n",
    "\n",
    "# Plot the FAR and FRR curve\n",
    "plt.plot(far, frr)\n",
    "plt.xlabel('False Acceptance Rate (FAR)')\n",
    "plt.ylabel('False Rejection Rate (FRR)')\n",
    "plt.title('DET Curve')\n",
    "plt.grid(True)\n",
    "\n",
    "# Plot the EER point\n",
    "plt.scatter(eer_far, eer_frr, color='red', marker='o', label='EER')\n",
    "\n",
    "# Add legend\n",
    "plt.legend()\n",
    "\n",
    "# Add text annotation for EER point\n",
    "plt.annotate(f'EER: ({eer_far:.3f}, {eer_frr:.3f})', (eer_far, eer_frr), xytext=(eer_far + 0.05, eer_frr), color='red')\n",
    "\n",
    "plt.show()\n"
   ]
  },
  {
   "cell_type": "markdown",
   "id": "551a5e34",
   "metadata": {},
   "source": [
    "### 30 seconds segments :"
   ]
  },
  {
   "cell_type": "markdown",
   "id": "0698f285",
   "metadata": {},
   "source": [
    "## Get the scores "
   ]
  },
  {
   "cell_type": "code",
   "execution_count": 26,
   "id": "13ca140e",
   "metadata": {
    "scrolled": true
   },
   "outputs": [
    {
     "name": "stdout",
     "output_type": "stream",
     "text": [
      "File: F1.30.1.mfcc ,Score: {'F1': -53.013035800466064, 'F2': -54.638036613284086, 'F3': -58.3396471015394, 'F4': -66.35613765954962, 'F5': -66.4139892496381, 'F6': -59.24494089442359}\n",
      "File: F1.30.2.mfcc ,Score: {'F1': -52.01549811100716, 'F2': -55.68844363105853, 'F3': -56.27990768544759, 'F4': -64.199729547025, 'F5': -67.75164855002156, 'F6': -59.1231488415179}\n",
      "File: F2.30.1.mfcc ,Score: {'F1': -56.958988061972974, 'F2': -50.9579530370024, 'F3': -55.614125685794214, 'F4': -65.85965507338788, 'F5': -63.79416272602436, 'F6': -57.37980982289011}\n",
      "File: F2.30.2.mfcc ,Score: {'F1': -57.1236025524269, 'F2': -51.02317414414988, 'F3': -55.49244426493219, 'F4': -66.59154381005135, 'F5': -63.58945982729313, 'F6': -57.824706017540805}\n",
      "File: F3.30.1.mfcc ,Score: {'F1': -58.30810125493844, 'F2': -58.133804457733774, 'F3': -50.661345376470706, 'F4': -69.22367302079064, 'F5': -66.13539813285674, 'F6': -61.732747309203276}\n",
      "File: F3.30.2.mfcc ,Score: {'F1': -57.56833178218847, 'F2': -57.882681023793324, 'F3': -50.60918375002357, 'F4': -66.81052261623253, 'F5': -65.39083477812997, 'F6': -61.43098285647245}\n",
      "File: F4.30.1.mfcc ,Score: {'F1': -55.59217571560536, 'F2': -56.827259475438964, 'F3': -57.03654806612822, 'F4': -52.613126728508874, 'F5': -60.632967540321815, 'F6': -58.05735665272574}\n",
      "File: F4.30.2.mfcc ,Score: {'F1': -55.676048897079035, 'F2': -56.72459155088058, 'F3': -57.32153837177085, 'F4': -53.19940606114956, 'F5': -60.52894832491758, 'F6': -58.60507660379119}\n",
      "File: F5.30.1.mfcc ,Score: {'F1': -58.24303610803402, 'F2': -58.37594815899047, 'F3': -58.02393385671415, 'F4': -66.06899975796634, 'F5': -48.67448950115628, 'F6': -58.801120433116004}\n",
      "File: F5.30.2.mfcc ,Score: {'F1': -58.51255054741229, 'F2': -59.02838514847683, 'F3': -58.38755190926056, 'F4': -68.13240985502654, 'F5': -49.79504500212656, 'F6': -59.47036363330334}\n",
      "File: F6.30.1.mfcc ,Score: {'F1': -58.34525825364548, 'F2': -58.717605079226566, 'F3': -60.14247882513319, 'F4': -71.9322319150027, 'F5': -68.91089506903869, 'F6': -49.648887070039954}\n",
      "File: F6.30.2.mfcc ,Score: {'F1': -56.96473385470355, 'F2': -58.196214750594095, 'F3': -59.28829684587742, 'F4': -70.44642713439822, 'F5': -67.62147891749947, 'F6': -48.846798404076715}\n"
     ]
    }
   ],
   "source": [
    "results_30_F_32 = []\n",
    "\n",
    "# Calculate scores for each GMM model and store file name with score\n",
    "for test_segment_name, test_segment in test_files_30_F.items():\n",
    "    score = get_scores(test_segment, gmm_models_F_32)\n",
    "    results_30_F_32.append((test_segment_name, score))\n",
    "\n",
    "# Printing the results\n",
    "for result in results_30_F_32:\n",
    "    file_name, score = result\n",
    "    print(f\"File: {file_name} ,Score: {score}\")"
   ]
  },
  {
   "cell_type": "markdown",
   "id": "442ea0f6",
   "metadata": {},
   "source": [
    "## Sort the scores"
   ]
  },
  {
   "cell_type": "code",
   "execution_count": 27,
   "id": "30f432f4",
   "metadata": {
    "scrolled": true
   },
   "outputs": [],
   "source": [
    "# Extract the scores from results_30_H_32\n",
    "scores = [score for _, score in results_30_F_32]\n",
    "    \n",
    "scores_array = np.array([list(item.values()) for item in scores]).flatten()\n",
    "\n",
    "sorted_scores_array = np.sort(scores_array)\n"
   ]
  },
  {
   "cell_type": "markdown",
   "id": "644d4388",
   "metadata": {},
   "source": [
    "## Plot the Det curve "
   ]
  },
  {
   "cell_type": "code",
   "execution_count": 28,
   "id": "38a0357c",
   "metadata": {},
   "outputs": [
    {
     "data": {
      "image/png": "[encoded data removed]",
      "text/plain": [
       "<Figure size 640x480 with 1 Axes>"
      ]
     },
     "metadata": {},
     "output_type": "display_data"
    }
   ],
   "source": [
    "# Initialize variables\n",
    "genuine_scores = defaultdict(list)  # Dictionary to store genuine scores for each client\n",
    "impostor_scores = []  # List to store impostor scores\n",
    "\n",
    "# Extract genuine scores and impostor scores\n",
    "for result in results_30_F_32:\n",
    "    file_name, score = result\n",
    "    client_name = file_name.split('.')[0]  # Extract client name from file name\n",
    "\n",
    "    genuine_scores[client_name].append(score[client_name])\n",
    "\n",
    "    impostor_scores.extend([s for key, s in score.items() if key != client_name])\n",
    "\n",
    "# Compute the minimum and maximum scores\n",
    "min_score = min(sorted_scores_array)\n",
    "max_score = max(sorted_scores_array)\n",
    "\n",
    "# Set the number of thresholds and generate them using linspace\n",
    "num_thresholds = 1000\n",
    "thresholds = np.geomspace(max_score, min_score, num_thresholds)\n",
    "\n",
    "# Initialize lists for FAR and FRR\n",
    "far = []\n",
    "frr = []\n",
    "\n",
    "# Iterate over thresholds\n",
    "for threshold in thresholds:\n",
    "    # Compute the number of false accepts (FAR) and false rejects (FRR)\n",
    "    false_accepts = sum(score >= threshold for score in impostor_scores)\n",
    "    false_rejects = 0\n",
    "    for client_scores in genuine_scores.values():\n",
    "        false_rejects += sum(score < threshold for score in client_scores)\n",
    "\n",
    "    # Compute the FAR and FRR rates\n",
    "    far_rate = false_accepts / len(impostor_scores)\n",
    "    frr_rate = false_rejects / sum(len(client_scores) for client_scores in genuine_scores.values())\n",
    "\n",
    "    # Append the FAR and FRR rates to the lists\n",
    "    far.append(far_rate)\n",
    "    frr.append(frr_rate)\n",
    "\n",
    "# Find the threshold with the closest FAR and FRR\n",
    "eer_threshold = thresholds[np.argmin(np.abs(np.array(far) - np.array(frr)))]\n",
    "\n",
    "# Compute the EER values\n",
    "eer_far = far[np.argmin(np.abs(np.array(far) - np.array(frr)))]\n",
    "eer_frr = frr[np.argmin(np.abs(np.array(far) - np.array(frr)))]\n",
    "\n",
    "# Plot the FAR and FRR curve\n",
    "plt.plot(far, frr)\n",
    "plt.xlabel('False Acceptance Rate (FAR)')\n",
    "plt.ylabel('False Rejection Rate (FRR)')\n",
    "plt.title('DET Curve')\n",
    "plt.grid(True)\n",
    "\n",
    "# Plot the EER point\n",
    "plt.scatter(eer_far, eer_frr, color='red', marker='o', label='EER')\n",
    "\n",
    "# Add legend\n",
    "plt.legend()\n",
    "\n",
    "# Add text annotation for EER point\n",
    "plt.annotate(f'EER: ({eer_far:.3f}, {eer_frr:.3f})', (eer_far, eer_frr), xytext=(eer_far + 0.05, eer_frr), color='red')\n",
    "\n",
    "plt.show()\n"
   ]
  },
  {
   "cell_type": "markdown",
   "id": "b029370e",
   "metadata": {},
   "source": [
    "## c. GMM 128:\n",
    "### 3 seconds segments :"
   ]
  },
  {
   "cell_type": "markdown",
   "id": "5788eb3d",
   "metadata": {},
   "source": [
    "## Get the scores"
   ]
  },
  {
   "cell_type": "code",
   "execution_count": 29,
   "id": "4ac963e5",
   "metadata": {},
   "outputs": [
    {
     "name": "stdout",
     "output_type": "stream",
     "text": [
      "File: F1.3.1.mfcc ,Score: {'F1': -59.2303015734698, 'F2': -61.77347811811446, 'F3': -67.50588131585131, 'F4': -94.35829151453676, 'F5': -74.29120587799798, 'F6': -68.27618013791196}\n",
      "File: F1.3.10.mfcc ,Score: {'F1': -55.635464764634285, 'F2': -59.056258675198876, 'F3': -65.8695726748634, 'F4': -90.21469759937366, 'F5': -76.2842474779574, 'F6': -62.9100366537239}\n",
      "File: F1.3.11.mfcc ,Score: {'F1': -58.39112181236604, 'F2': -59.85187383260778, 'F3': -65.9783174670682, 'F4': -91.59020682438687, 'F5': -79.94856541036793, 'F6': -68.02261062457744}\n",
      "File: F1.3.12.mfcc ,Score: {'F1': -57.49028306383304, 'F2': -58.26974763714045, 'F3': -61.19578624396801, 'F4': -83.84023964359191, 'F5': -79.02627505324526, 'F6': -66.65401323616449}\n",
      "File: F1.3.13.mfcc ,Score: {'F1': -57.72363305713921, 'F2': -68.20538776129324, 'F3': -60.66136073399333, 'F4': -83.72435825028082, 'F5': -85.98456699847598, 'F6': -78.01670804747215}\n",
      "File: F1.3.14.mfcc ,Score: {'F1': -55.61519837304769, 'F2': -58.74464128872596, 'F3': -65.69650660920084, 'F4': -84.9953265950667, 'F5': -77.49550388268932, 'F6': -64.64418049332066}\n",
      "File: F1.3.15.mfcc ,Score: {'F1': -55.85321728246038, 'F2': -58.59619553796536, 'F3': -65.68684070629926, 'F4': -86.55526903559924, 'F5': -78.49377488017447, 'F6': -64.35506229981014}\n",
      "File: F1.3.16.mfcc ,Score: {'F1': -55.97564664362099, 'F2': -61.95046919599726, 'F3': -65.85064594624285, 'F4': -87.8917283388574, 'F5': -77.83296055671369, 'F6': -67.0857696145767}\n",
      "File: F1.3.17.mfcc ,Score: {'F1': -56.21596869612109, 'F2': -63.805657727828304, 'F3': -61.32024561607883, 'F4': -91.95637819560002, 'F5': -81.78637538204954, 'F6': -70.93177445601937}\n",
      "File: F1.3.18.mfcc ,Score: {'F1': -56.281449496817274, 'F2': -60.67486183707518, 'F3': -65.96157710439812, 'F4': -84.40402904048928, 'F5': -75.1703996792301, 'F6': -66.4066437573978}\n",
      "File: F1.3.19.mfcc ,Score: {'F1': -55.18498693503435, 'F2': -69.14598916470767, 'F3': -67.36621233690339, 'F4': -82.7367409145177, 'F5': -72.9154641726258, 'F6': -67.58177833194982}\n",
      "File: F1.3.2.mfcc ,Score: {'F1': -57.19417410200474, 'F2': -61.75067290559252, 'F3': -64.35560003620715, 'F4': -84.23668022299788, 'F5': -77.04889404758914, 'F6': -67.97088664290565}\n",
      "File: F1.3.3.mfcc ,Score: {'F1': -59.516224589403876, 'F2': -61.54843835903001, 'F3': -66.65877862597492, 'F4': -89.05898922824525, 'F5': -76.24778803576953, 'F6': -67.89328423822913}\n",
      "File: F1.3.4.mfcc ,Score: {'F1': -55.27556003556861, 'F2': -56.81085951197601, 'F3': -62.55534586024311, 'F4': -80.80489569582629, 'F5': -74.57974921369176, 'F6': -64.03760634454149}\n",
      "File: F1.3.5.mfcc ,Score: {'F1': -59.10079919205758, 'F2': -58.86172206211515, 'F3': -67.06021871898714, 'F4': -91.35427925560383, 'F5': -81.92607587124265, 'F6': -68.27095331422419}\n",
      "File: F1.3.6.mfcc ,Score: {'F1': -58.72519256264796, 'F2': -59.671164752161665, 'F3': -63.98093967588331, 'F4': -89.67946367725307, 'F5': -77.08817493707147, 'F6': -68.88932672524884}\n",
      "File: F1.3.7.mfcc ,Score: {'F1': -59.712679411520476, 'F2': -60.37052777095556, 'F3': -67.05951808373798, 'F4': -92.84984475256509, 'F5': -80.040272398923, 'F6': -69.51097267970343}\n",
      "File: F1.3.8.mfcc ,Score: {'F1': -60.41885414214773, 'F2': -60.28289425853174, 'F3': -71.074680016181, 'F4': -96.77745306692697, 'F5': -81.24183269966252, 'F6': -69.49184003343498}\n",
      "File: F1.3.9.mfcc ,Score: {'F1': -60.03639408434763, 'F2': -59.236497794194875, 'F3': -67.94976246800908, 'F4': -87.12571810388256, 'F5': -75.39738900742994, 'F6': -66.95864562750347}\n",
      "File: F2.3.1.mfcc ,Score: {'F1': -68.16576728432597, 'F2': -55.26467101578872, 'F3': -64.32522474985625, 'F4': -89.46277785889284, 'F5': -72.82689494102208, 'F6': -67.88417545856714}\n",
      "File: F2.3.10.mfcc ,Score: {'F1': -66.03086595711281, 'F2': -54.73781680255076, 'F3': -62.67077580135465, 'F4': -89.80892009009173, 'F5': -72.09704357876207, 'F6': -64.22541174357454}\n",
      "File: F2.3.11.mfcc ,Score: {'F1': -65.81977132291084, 'F2': -55.62531873152999, 'F3': -64.08860987495149, 'F4': -91.68492940804857, 'F5': -71.38769689455592, 'F6': -66.36934743497501}\n",
      "File: F2.3.12.mfcc ,Score: {'F1': -64.04211923803715, 'F2': -53.735474169929546, 'F3': -59.2519674027427, 'F4': -86.23220309120498, 'F5': -74.10972950600859, 'F6': -65.3881838684095}\n",
      "File: F2.3.13.mfcc ,Score: {'F1': -65.14800579768644, 'F2': -54.11127135557413, 'F3': -62.189119210591706, 'F4': -88.15466621118989, 'F5': -71.39905321892589, 'F6': -64.63301330710382}\n",
      "File: F2.3.14.mfcc ,Score: {'F1': -64.69093794725933, 'F2': -54.41306349062425, 'F3': -59.518808847415144, 'F4': -81.76795374513024, 'F5': -66.82777964435846, 'F6': -65.25724680991313}\n",
      "File: F2.3.15.mfcc ,Score: {'F1': -63.75079878132521, 'F2': -54.490043093092915, 'F3': -61.71779510177598, 'F4': -86.72723930454848, 'F5': -72.19405906667839, 'F6': -66.83223126584895}\n",
      "File: F2.3.16.mfcc ,Score: {'F1': -67.47523401422185, 'F2': -55.2910568153802, 'F3': -61.76767041938765, 'F4': -89.10584860553548, 'F5': -70.89679044425475, 'F6': -66.39532674921048}\n",
      "File: F2.3.17.mfcc ,Score: {'F1': -63.89104843770666, 'F2': -54.1763160342456, 'F3': -60.70452741587526, 'F4': -83.88724049045085, 'F5': -71.00112512561779, 'F6': -65.2613464459722}\n",
      "File: F2.3.18.mfcc ,Score: {'F1': -66.57102219671964, 'F2': -57.464649316680756, 'F3': -68.72950487621682, 'F4': -98.88754315755534, 'F5': -73.4952890203485, 'F6': -68.2705449148938}\n",
      "File: F2.3.19.mfcc ,Score: {'F1': -65.23728017199117, 'F2': -56.545372778230764, 'F3': -64.87009713039497, 'F4': -86.46352389764621, 'F5': -72.71014077495707, 'F6': -69.6034269776422}\n",
      "File: F2.3.2.mfcc ,Score: {'F1': -65.95175194339626, 'F2': -53.01253364665608, 'F3': -63.47920213731502, 'F4': -90.34105503678528, 'F5': -73.73608070053875, 'F6': -66.17756105635144}\n",
      "File: F2.3.3.mfcc ,Score: {'F1': -64.3281714519603, 'F2': -54.89417288548433, 'F3': -61.12922731455879, 'F4': -85.43566441665818, 'F5': -72.80382554589542, 'F6': -66.40870230979621}\n",
      "File: F2.3.4.mfcc ,Score: {'F1': -64.03873938123193, 'F2': -57.872694157835724, 'F3': -64.09910659493839, 'F4': -93.50304192491019, 'F5': -72.39085613322167, 'F6': -63.802763253378934}\n",
      "File: F2.3.5.mfcc ,Score: {'F1': -65.74538273380651, 'F2': -55.85893259202362, 'F3': -63.1189875749239, 'F4': -84.71185535073359, 'F5': -73.40999571896343, 'F6': -65.79512474669623}\n",
      "File: F2.3.6.mfcc ,Score: {'F1': -63.60156922936592, 'F2': -53.646900593921664, 'F3': -61.61794731425524, 'F4': -90.77599108688813, 'F5': -72.76927312311489, 'F6': -64.88538537774119}\n",
      "File: F2.3.7.mfcc ,Score: {'F1': -61.12257067998449, 'F2': -52.06170190347758, 'F3': -60.26030128607809, 'F4': -88.71624545517506, 'F5': -69.05206492337678, 'F6': -63.24987683070894}\n",
      "File: F2.3.8.mfcc ,Score: {'F1': -65.75607848030045, 'F2': -55.60369187195654, 'F3': -65.8481854648139, 'F4': -94.10784479004563, 'F5': -71.86172644368658, 'F6': -66.33478510103566}\n",
      "File: F2.3.9.mfcc ,Score: {'F1': -65.22531433474735, 'F2': -55.867354216405474, 'F3': -62.170016905923084, 'F4': -85.78178006321755, 'F5': -73.29695614337464, 'F6': -66.61454912465352}\n",
      "File: F3.3.1.mfcc ,Score: {'F1': -64.86226094416513, 'F2': -63.58578531346609, 'F3': -55.20178617325985, 'F4': -89.554625826538, 'F5': -69.81000920370326, 'F6': -68.02107825338784}\n",
      "File: F3.3.10.mfcc ,Score: {'F1': -66.67760204530181, 'F2': -63.860163120724195, 'F3': -52.94324543879311, 'F4': -91.81481990490167, 'F5': -74.07271440238502, 'F6': -71.92258743096075}\n",
      "File: F3.3.11.mfcc ,Score: {'F1': -65.4844154942902, 'F2': -65.05659839554302, 'F3': -56.256935634814894, 'F4': -90.75096712063393, 'F5': -67.27600523851419, 'F6': -67.17033298543625}\n",
      "File: F3.3.12.mfcc ,Score: {'F1': -67.70510445498321, 'F2': -64.51016991769043, 'F3': -57.63211431845825, 'F4': -100.78034363708319, 'F5': -72.16606448581292, 'F6': -71.39729318410849}\n",
      "File: F3.3.13.mfcc ,Score: {'F1': -65.35586959987394, 'F2': -63.69314748255145, 'F3': -55.61592306991823, 'F4': -92.8047642554758, 'F5': -72.57942685797862, 'F6': -70.02748641197583}\n",
      "File: F3.3.14.mfcc ,Score: {'F1': -64.80365190067701, 'F2': -70.05258702659984, 'F3': -53.7773355396816, 'F4': -95.59639394255817, 'F5': -84.51765645795241, 'F6': -82.76096283683786}\n",
      "File: F3.3.15.mfcc ,Score: {'F1': -66.62180404021072, 'F2': -65.63701613271097, 'F3': -56.636655202136595, 'F4': -103.76027205339527, 'F5': -80.41237330158933, 'F6': -76.54886645000298}\n",
      "File: F3.3.16.mfcc ,Score: {'F1': -67.298563857189, 'F2': -68.24766228453691, 'F3': -60.62661746351269, 'F4': -100.66948140584148, 'F5': -72.13336697133263, 'F6': -71.72612796642754}\n",
      "File: F3.3.17.mfcc ,Score: {'F1': -65.57165680411464, 'F2': -64.9210996417064, 'F3': -57.93759030587682, 'F4': -87.74306939917616, 'F5': -74.27807638812729, 'F6': -74.23468691797429}\n",
      "File: F3.3.18.mfcc ,Score: {'F1': -62.62242194362225, 'F2': -63.76758519545668, 'F3': -51.56896945062734, 'F4': -85.46202044743873, 'F5': -76.93802155582438, 'F6': -73.16673302726156}\n",
      "File: F3.3.19.mfcc ,Score: {'F1': -61.384703412846186, 'F2': -60.61292286919422, 'F3': -53.584683186807524, 'F4': -92.20605367405098, 'F5': -72.45466902379675, 'F6': -68.95212663641469}\n",
      "File: F3.3.2.mfcc ,Score: {'F1': -66.46868906801782, 'F2': -68.82954797220397, 'F3': -56.49799876274837, 'F4': -89.54307316215287, 'F5': -73.10756520010612, 'F6': -75.42390815313534}\n",
      "File: F3.3.3.mfcc ,Score: {'F1': -64.45009944865986, 'F2': -70.08816785206685, 'F3': -53.777110739968485, 'F4': -95.7911893122763, 'F5': -84.01958514239263, 'F6': -79.13903438413615}\n",
      "File: F3.3.4.mfcc ,Score: {'F1': -66.48978251479544, 'F2': -67.7359233052013, 'F3': -57.44208646410085, 'F4': -114.99219428272103, 'F5': -74.44411010644983, 'F6': -73.58887533752936}\n",
      "File: F3.3.5.mfcc ,Score: {'F1': -65.16444853665574, 'F2': -64.18067142950943, 'F3': -55.516697737433326, 'F4': -95.14893206902255, 'F5': -72.29846128632089, 'F6': -68.15391909054502}\n",
      "File: F3.3.6.mfcc ,Score: {'F1': -66.45494113570489, 'F2': -65.70425025313979, 'F3': -56.043108236500885, 'F4': -103.16621494574545, 'F5': -73.58061850892155, 'F6': -71.25009523690659}\n",
      "File: F3.3.7.mfcc ,Score: {'F1': -66.35287448585233, 'F2': -65.54823773971953, 'F3': -55.09170997651591, 'F4': -102.5997625625789, 'F5': -76.59861125630087, 'F6': -72.6854634360286}\n",
      "File: F3.3.8.mfcc ,Score: {'F1': -66.45708390904477, 'F2': -66.45582511251217, 'F3': -57.81701049963801, 'F4': -109.57772486043461, 'F5': -75.24188123675872, 'F6': -75.79402085850066}\n",
      "File: F3.3.9.mfcc ,Score: {'F1': -70.92919290118759, 'F2': -69.2754022515205, 'F3': -57.7677386038091, 'F4': -106.64546374506727, 'F5': -81.19454661281596, 'F6': -76.7189642230053}\n",
      "File: F4.3.1.mfcc ,Score: {'F1': -64.49389601029385, 'F2': -62.578942537634646, 'F3': -65.73090638825718, 'F4': -69.23321367065645, 'F5': -70.0563972612781, 'F6': -67.4671933642242}\n",
      "File: F4.3.10.mfcc ,Score: {'F1': -61.831703638885315, 'F2': -63.808969965871974, 'F3': -66.09963640558986, 'F4': -68.3631133897815, 'F5': -66.70829426263411, 'F6': -65.56238323634547}\n",
      "File: F4.3.11.mfcc ,Score: {'F1': -65.7753272338859, 'F2': -66.16596371207798, 'F3': -66.91142017820636, 'F4': -70.5883272934221, 'F5': -69.10445201646593, 'F6': -68.54198219678533}\n",
      "File: F4.3.12.mfcc ,Score: {'F1': -64.76846845450011, 'F2': -63.637353948021676, 'F3': -66.7772700893278, 'F4': -67.89040794371691, 'F5': -65.82572158989767, 'F6': -66.63043090651327}\n",
      "File: F4.3.13.mfcc ,Score: {'F1': -62.27994196672296, 'F2': -60.99002750297274, 'F3': -64.63702506336983, 'F4': -66.0375992450632, 'F5': -66.58903343994173, 'F6': -64.99943552037446}\n",
      "File: F4.3.14.mfcc ,Score: {'F1': -65.04519426039678, 'F2': -66.63389202160691, 'F3': -65.46063565022226, 'F4': -69.07786073800385, 'F5': -68.30651107050186, 'F6': -70.84048494434093}\n",
      "File: F4.3.15.mfcc ,Score: {'F1': -64.31561936394998, 'F2': -62.90949517674773, 'F3': -66.54549303505424, 'F4': -68.81015030151255, 'F5': -66.14359422047411, 'F6': -66.6610404087776}\n",
      "File: F4.3.16.mfcc ,Score: {'F1': -66.79978610997188, 'F2': -65.45315980425413, 'F3': -67.36243922257886, 'F4': -73.84857045912872, 'F5': -66.89515383316852, 'F6': -70.4717087278847}\n",
      "File: F4.3.17.mfcc ,Score: {'F1': -64.04543818350749, 'F2': -60.721901466869056, 'F3': -64.54583809503012, 'F4': -67.17319239878425, 'F5': -66.50210321347116, 'F6': -66.4194694907197}\n",
      "File: F4.3.18.mfcc ,Score: {'F1': -62.357146140029776, 'F2': -66.09116793336081, 'F3': -67.09297413061718, 'F4': -74.70602317448555, 'F5': -69.45790861419364, 'F6': -68.32958922240024}\n",
      "File: F4.3.19.mfcc ,Score: {'F1': -61.13222692579746, 'F2': -60.49159893601706, 'F3': -65.92074846485903, 'F4': -67.04065844187468, 'F5': -64.95724754963146, 'F6': -61.09104689645397}\n",
      "File: F4.3.2.mfcc ,Score: {'F1': -65.42101637384059, 'F2': -67.07555211710178, 'F3': -66.30774450305778, 'F4': -72.60690168323399, 'F5': -67.87295451090138, 'F6': -69.07864370126255}\n",
      "File: F4.3.20.mfcc ,Score: {'F1': -61.15775573305581, 'F2': -66.2326089689083, 'F3': -67.57291884013925, 'F4': -73.13228943771165, 'F5': -70.09493728401414, 'F6': -67.80788278906621}\n",
      "File: F4.3.3.mfcc ,Score: {'F1': -64.2202309192478, 'F2': -61.17025525311083, 'F3': -63.49315206763211, 'F4': -68.38524662397442, 'F5': -66.52967307366774, 'F6': -65.05436748627578}\n",
      "File: F4.3.4.mfcc ,Score: {'F1': -65.37895910446932, 'F2': -64.87038555379227, 'F3': -67.86010886274707, 'F4': -65.4337219021293, 'F5': -68.41320691023361, 'F6': -68.52399728403846}\n",
      "File: F4.3.5.mfcc ,Score: {'F1': -58.26464759118199, 'F2': -64.47481278631541, 'F3': -62.332843039167976, 'F4': -66.83205925078632, 'F5': -66.02768647080934, 'F6': -64.42748604494842}\n",
      "File: F4.3.6.mfcc ,Score: {'F1': -64.02192508965449, 'F2': -65.17859012887058, 'F3': -65.59797427240872, 'F4': -70.09475094758767, 'F5': -67.56635187814236, 'F6': -64.14623574349604}\n",
      "File: F4.3.7.mfcc ,Score: {'F1': -64.73609957389611, 'F2': -64.99297804474205, 'F3': -68.2139508698896, 'F4': -66.95750334825634, 'F5': -68.63336235928664, 'F6': -68.66976242050565}\n",
      "File: F4.3.8.mfcc ,Score: {'F1': -66.48509279722632, 'F2': -64.07373172043455, 'F3': -67.90117654115537, 'F4': -68.72147798511448, 'F5': -67.77016424799668, 'F6': -67.83139517495654}\n",
      "File: F4.3.9.mfcc ,Score: {'F1': -61.930108205161545, 'F2': -59.11563299580653, 'F3': -64.1145955916575, 'F4': -68.35527448647156, 'F5': -63.633132329283555, 'F6': -62.83979734197834}\n",
      "File: F5.3.1.mfcc ,Score: {'F1': -66.0120149813875, 'F2': -67.25720178056753, 'F3': -66.39758686449791, 'F4': -92.75393361894076, 'F5': -51.43141344506236, 'F6': -69.26925171481753}\n",
      "File: F5.3.10.mfcc ,Score: {'F1': -69.07659175692078, 'F2': -70.76815319743238, 'F3': -71.0975071369054, 'F4': -89.37967758227167, 'F5': -53.11403740244777, 'F6': -71.56268054326948}\n",
      "File: F5.3.11.mfcc ,Score: {'F1': -66.67668601760604, 'F2': -65.00966438870492, 'F3': -65.11073181614229, 'F4': -90.16666850344188, 'F5': -52.037639358205375, 'F6': -67.10897313125824}\n",
      "File: F5.3.12.mfcc ,Score: {'F1': -68.40226514667997, 'F2': -66.22284507950683, 'F3': -67.94075895571731, 'F4': -93.22899421151365, 'F5': -53.65635758022507, 'F6': -70.01170887477267}\n",
      "File: F5.3.13.mfcc ,Score: {'F1': -63.85708294567356, 'F2': -69.04728017448997, 'F3': -65.90598456840905, 'F4': -94.08927067473107, 'F5': -55.4064172461135, 'F6': -69.2839864747374}\n",
      "File: F5.3.14.mfcc ,Score: {'F1': -67.79371379009244, 'F2': -67.80110471680622, 'F3': -72.08430217529792, 'F4': -90.15329800771904, 'F5': -55.40525959118413, 'F6': -70.21138841122743}\n",
      "File: F5.3.15.mfcc ,Score: {'F1': -68.70081561403941, 'F2': -68.83520624037352, 'F3': -71.74817764442209, 'F4': -85.34780239514463, 'F5': -52.86670235761064, 'F6': -72.08007200662787}\n",
      "File: F5.3.16.mfcc ,Score: {'F1': -66.40954408524425, 'F2': -69.27537156458263, 'F3': -69.68105562844528, 'F4': -90.78508986671545, 'F5': -54.35785348027718, 'F6': -73.2328997711636}\n",
      "File: F5.3.17.mfcc ,Score: {'F1': -66.05073106041425, 'F2': -72.22335309859557, 'F3': -71.61738717267693, 'F4': -91.02177954386147, 'F5': -53.90943722329846, 'F6': -70.01833328289409}\n",
      "File: F5.3.18.mfcc ,Score: {'F1': -65.69807297510742, 'F2': -70.07347060711594, 'F3': -68.9909621090879, 'F4': -98.93946823971551, 'F5': -55.13681247586246, 'F6': -69.98698994723549}\n",
      "File: F5.3.19.mfcc ,Score: {'F1': -72.02841907076971, 'F2': -68.94063430200039, 'F3': -68.09184369909373, 'F4': -89.68385103129604, 'F5': -55.82724230627449, 'F6': -71.71978871611394}\n",
      "File: F5.3.2.mfcc ,Score: {'F1': -67.10419681471967, 'F2': -67.26054005713675, 'F3': -68.0933347354197, 'F4': -86.63860256996773, 'F5': -51.967982335684816, 'F6': -70.47490759608068}\n",
      "File: F5.3.3.mfcc ,Score: {'F1': -68.7111441919425, 'F2': -66.1144067696835, 'F3': -66.863890706821, 'F4': -88.20544542237295, 'F5': -53.36727798030426, 'F6': -68.29461180407174}\n",
      "File: F5.3.4.mfcc ,Score: {'F1': -66.44745664039421, 'F2': -66.18069829247501, 'F3': -67.7830608869371, 'F4': -85.9415373505341, 'F5': -52.67337665426997, 'F6': -67.75933773679462}\n",
      "File: F5.3.5.mfcc ,Score: {'F1': -66.65685727367645, 'F2': -65.85161386148403, 'F3': -68.21521905589081, 'F4': -86.77653279908417, 'F5': -51.49737998324986, 'F6': -68.4785663776181}\n",
      "File: F5.3.6.mfcc ,Score: {'F1': -65.5541231744209, 'F2': -71.40939666712207, 'F3': -70.66272207441062, 'F4': -87.40559725259389, 'F5': -52.589300034132954, 'F6': -72.92520336571877}\n",
      "File: F5.3.7.mfcc ,Score: {'F1': -67.90495418121996, 'F2': -68.23267710877889, 'F3': -69.91327627561591, 'F4': -87.03653513826815, 'F5': -50.39698374567411, 'F6': -69.02318683287747}\n",
      "File: F5.3.8.mfcc ,Score: {'F1': -66.38643517614611, 'F2': -63.27290179863191, 'F3': -63.89762603924457, 'F4': -84.63246943746783, 'F5': -50.71545250548543, 'F6': -65.61977279992479}\n",
      "File: F5.3.9.mfcc ,Score: {'F1': -71.08330686213344, 'F2': -69.57041676299853, 'F3': -69.85778492150388, 'F4': -89.49977477513848, 'F5': -56.349476437832564, 'F6': -71.60323252853613}\n",
      "File: F6.3.1.mfcc ,Score: {'F1': -70.5151508238387, 'F2': -69.9108134355486, 'F3': -72.27627906103602, 'F4': -108.2380337260895, 'F5': -81.2311167767389, 'F6': -53.78155948013329}\n",
      "File: F6.3.10.mfcc ,Score: {'F1': -67.4876249666211, 'F2': -67.30270514845144, 'F3': -69.34009253242597, 'F4': -109.40499227198796, 'F5': -83.32965108617046, 'F6': -52.73270644612095}\n",
      "File: F6.3.11.mfcc ,Score: {'F1': -64.34539587728021, 'F2': -63.99955262166836, 'F3': -65.4932919422686, 'F4': -92.96566112334477, 'F5': -77.65120655751855, 'F6': -53.56738239244175}\n",
      "File: F6.3.12.mfcc ,Score: {'F1': -65.2323788728519, 'F2': -64.75858323365304, 'F3': -68.08288605728166, 'F4': -93.86136898008536, 'F5': -78.04682992422615, 'F6': -52.76659665243272}\n",
      "File: F6.3.13.mfcc ,Score: {'F1': -76.05257273115178, 'F2': -70.71304903995583, 'F3': -72.94215744662205, 'F4': -127.49870292267275, 'F5': -85.39885186032197, 'F6': -53.074709493236846}\n",
      "File: F6.3.14.mfcc ,Score: {'F1': -66.74042902445665, 'F2': -64.71755040608875, 'F3': -68.02737279485844, 'F4': -103.52775652698695, 'F5': -78.75264973517133, 'F6': -54.21568067908134}\n",
      "File: F6.3.15.mfcc ,Score: {'F1': -67.89088382116697, 'F2': -69.10021271628332, 'F3': -69.77419413074453, 'F4': -103.82227703017435, 'F5': -80.55062941243402, 'F6': -52.405710350548546}\n",
      "File: F6.3.16.mfcc ,Score: {'F1': -61.68443361825598, 'F2': -62.55588155320489, 'F3': -64.55059429059263, 'F4': -87.29062666628653, 'F5': -71.40065374807013, 'F6': -50.619751155620904}\n",
      "File: F6.3.17.mfcc ,Score: {'F1': -69.67168073802507, 'F2': -69.32065692240114, 'F3': -72.7348173792119, 'F4': -117.66037718585416, 'F5': -78.1985734650451, 'F6': -51.071766907528996}\n",
      "File: F6.3.18.mfcc ,Score: {'F1': -64.9754334839663, 'F2': -64.8966123991041, 'F3': -66.47439067828971, 'F4': -101.8385509887314, 'F5': -78.97484903624076, 'F6': -52.53534119022285}\n",
      "File: F6.3.19.mfcc ,Score: {'F1': -61.93594763069582, 'F2': -63.257563056987756, 'F3': -66.92656823386281, 'F4': -94.69771543998375, 'F5': -74.26076194433209, 'F6': -51.75136202983531}\n",
      "File: F6.3.2.mfcc ,Score: {'F1': -72.1564239243769, 'F2': -69.940478204407, 'F3': -72.45311083622525, 'F4': -127.54900755563072, 'F5': -84.07077197357178, 'F6': -53.03351257467431}\n",
      "File: F6.3.3.mfcc ,Score: {'F1': -68.47787687206325, 'F2': -67.09842320096706, 'F3': -69.82710566984774, 'F4': -100.1151790045493, 'F5': -80.04574487509765, 'F6': -53.90691077549403}\n",
      "File: F6.3.4.mfcc ,Score: {'F1': -67.52448027930265, 'F2': -69.04615535664897, 'F3': -70.65592257717874, 'F4': -110.3195436015671, 'F5': -80.13805517432452, 'F6': -53.04516759505203}\n",
      "File: F6.3.5.mfcc ,Score: {'F1': -61.93105019156679, 'F2': -62.35774567941999, 'F3': -64.99871132258899, 'F4': -99.90216148435006, 'F5': -79.36873300509865, 'F6': -53.18028414673013}\n",
      "File: F6.3.6.mfcc ,Score: {'F1': -71.18081927960009, 'F2': -70.49976738072968, 'F3': -72.88640126608793, 'F4': -107.1617096627433, 'F5': -83.58937806518564, 'F6': -52.70693887874757}\n",
      "File: F6.3.7.mfcc ,Score: {'F1': -64.65573304798151, 'F2': -62.835665220372356, 'F3': -67.89804740939597, 'F4': -96.24805141245909, 'F5': -76.45308253116988, 'F6': -53.132488199509375}\n",
      "File: F6.3.8.mfcc ,Score: {'F1': -70.04479678374793, 'F2': -70.07760674943265, 'F3': -71.9504954472068, 'F4': -115.8909011627673, 'F5': -80.58224653835296, 'F6': -53.384632973781805}\n",
      "File: F6.3.9.mfcc ,Score: {'F1': -68.02346184876963, 'F2': -66.16265928373696, 'F3': -68.84608591435104, 'F4': -106.21483386404657, 'F5': -78.25256227555651, 'F6': -54.03191755618162}\n"
     ]
    }
   ],
   "source": [
    "results_3_F_128 = []\n",
    "\n",
    "# Calculate scores for each GMM model and store file name with score\n",
    "for test_segment_name, test_segment in test_files_3_F.items():\n",
    "    score = get_scores(test_segment, gmm_models_F_128)\n",
    "    results_3_F_128.append((test_segment_name, score))\n",
    "\n",
    "# Printing the results\n",
    "for result in results_3_F_128:\n",
    "    file_name, score = result\n",
    "    print(f\"File: {file_name} ,Score: {score}\")"
   ]
  },
  {
   "cell_type": "markdown",
   "id": "52ef2721",
   "metadata": {},
   "source": [
    "## Sort the scores"
   ]
  },
  {
   "cell_type": "code",
   "execution_count": 30,
   "id": "a42e3f04",
   "metadata": {},
   "outputs": [],
   "source": [
    "# Extract the scores from results_3_F_128\n",
    "scores = [score for _, score in results_3_F_128]\n",
    "    \n",
    "scores_array = np.array([list(item.values()) for item in scores]).flatten()\n",
    "\n",
    "sorted_scores_array = np.sort(scores_array)\n"
   ]
  },
  {
   "cell_type": "markdown",
   "id": "b1a79074",
   "metadata": {},
   "source": [
    "## Plot the DET curve "
   ]
  },
  {
   "cell_type": "code",
   "execution_count": 31,
   "id": "66b30813",
   "metadata": {},
   "outputs": [
    {
     "data": {
      "image/png": "[encoded data removed]",
      "text/plain": [
       "<Figure size 640x480 with 1 Axes>"
      ]
     },
     "metadata": {},
     "output_type": "display_data"
    }
   ],
   "source": [
    "# Initialize variables\n",
    "genuine_scores = defaultdict(list)  # Dictionary to store genuine scores for each client\n",
    "impostor_scores = []  # List to store impostor scores\n",
    "\n",
    "# Extract genuine scores and impostor scores\n",
    "for result in results_3_F_128:\n",
    "    file_name, score = result\n",
    "    client_name = file_name.split('.')[0]  # Extract client name from file name\n",
    "\n",
    "    genuine_scores[client_name].append(score[client_name])\n",
    "\n",
    "    impostor_scores.extend([s for key, s in score.items() if key != client_name])\n",
    "\n",
    "# Compute the minimum and maximum scores\n",
    "min_score = min(sorted_scores_array)\n",
    "max_score = max(sorted_scores_array)\n",
    "\n",
    "# Set the number of thresholds and generate them using linspace\n",
    "num_thresholds = 1000\n",
    "thresholds = np.geomspace(max_score, min_score, num_thresholds)\n",
    "\n",
    "# Initialize lists for FAR and FRR\n",
    "far = []\n",
    "frr = []\n",
    "\n",
    "# Iterate over thresholds\n",
    "for threshold in thresholds:\n",
    "    # Compute the number of false accepts (FAR) and false rejects (FRR)\n",
    "    false_accepts = sum(score >= threshold for score in impostor_scores)\n",
    "    false_rejects = 0\n",
    "    for client_scores in genuine_scores.values():\n",
    "        false_rejects += sum(score < threshold for score in client_scores)\n",
    "\n",
    "    # Compute the FAR and FRR rates\n",
    "    far_rate = false_accepts / len(impostor_scores)\n",
    "    frr_rate = false_rejects / sum(len(client_scores) for client_scores in genuine_scores.values())\n",
    "\n",
    "    # Append the FAR and FRR rates to the lists\n",
    "    far.append(far_rate)\n",
    "    frr.append(frr_rate)\n",
    "\n",
    "# Find the threshold with the closest FAR and FRR\n",
    "eer_threshold = thresholds[np.argmin(np.abs(np.array(far) - np.array(frr)))]\n",
    "\n",
    "# Compute the EER values\n",
    "eer_far = far[np.argmin(np.abs(np.array(far) - np.array(frr)))]\n",
    "eer_frr = frr[np.argmin(np.abs(np.array(far) - np.array(frr)))]\n",
    "\n",
    "# Plot the FAR and FRR curve\n",
    "plt.plot(far, frr)\n",
    "plt.xlabel('False Acceptance Rate (FAR)')\n",
    "plt.ylabel('False Rejection Rate (FRR)')\n",
    "plt.title('DET Curve')\n",
    "plt.grid(True)\n",
    "\n",
    "# Plot the EER point\n",
    "plt.scatter(eer_far, eer_frr, color='red', marker='o', label='EER')\n",
    "\n",
    "# Add legend\n",
    "plt.legend()\n",
    "\n",
    "# Add text annotation for EER point\n",
    "plt.annotate(f'EER: ({eer_far:.3f}, {eer_frr:.3f})', (eer_far, eer_frr), xytext=(eer_far + 0.05, eer_frr), color='red')\n",
    "\n",
    "plt.show()\n"
   ]
  },
  {
   "cell_type": "markdown",
   "id": "0f6e130c",
   "metadata": {},
   "source": [
    "### 10 seconds segments :"
   ]
  },
  {
   "cell_type": "markdown",
   "id": "041279b3",
   "metadata": {},
   "source": [
    "## Get the scores"
   ]
  },
  {
   "cell_type": "code",
   "execution_count": 32,
   "id": "4f66661b",
   "metadata": {
    "scrolled": true
   },
   "outputs": [
    {
     "name": "stdout",
     "output_type": "stream",
     "text": [
      "File: F1.10.1.mfcc ,Score: {'F1': -58.499178576139805, 'F2': -61.21786799248606, 'F3': -66.00721167108665, 'F4': -88.70835826191005, 'F5': -76.19248946098685, 'F6': -67.81902385818181}\n",
      "File: F1.10.2.mfcc ,Score: {'F1': -58.12897203619011, 'F2': -58.925117902637766, 'F3': -65.06178128935687, 'F4': -88.33375370490603, 'F5': -77.67510323475086, 'F6': -67.47595128030122}\n",
      "File: F1.10.3.mfcc ,Score: {'F1': -58.82554272501089, 'F2': -59.66576836723744, 'F3': -68.15209628233798, 'F4': -91.8959819683473, 'F5': -78.3760961744629, 'F6': -66.96794458074511}\n",
      "File: F1.10.4.mfcc ,Score: {'F1': -57.5656101357579, 'F2': -61.818650776270644, 'F3': -62.85569666610965, 'F4': -85.75165607632849, 'F5': -81.1046072149449, 'F6': -70.14636282651172}\n",
      "File: F1.10.5.mfcc ,Score: {'F1': -56.19541672955876, 'F2': -61.18148864473027, 'F3': -64.69122814068393, 'F4': -88.29393318728121, 'F5': -79.53176437635311, 'F6': -67.31107407423933}\n",
      "File: F1.10.6.mfcc ,Score: {'F1': -55.539373759014694, 'F2': -63.52852067973255, 'F3': -66.14635844622212, 'F4': -84.82184176241998, 'F5': -74.33801725704619, 'F6': -66.56766149800347}\n",
      "File: F2.10.1.mfcc ,Score: {'F1': -66.00845843865073, 'F2': -54.904345015923305, 'F3': -63.02415327002029, 'F4': -89.1394617129045, 'F5': -73.04065951644897, 'F6': -66.64833163707515}\n",
      "File: F2.10.2.mfcc ,Score: {'F1': -63.79843019672499, 'F2': -54.75100773199582, 'F3': -62.669908846143585, 'F4': -89.55843784823054, 'F5': -72.01151074884743, 'F6': -64.47734013924038}\n",
      "File: F2.10.3.mfcc ,Score: {'F1': -65.18297480749386, 'F2': -54.99078815791103, 'F3': -62.92163042704131, 'F4': -89.09565326088443, 'F5': -72.22124491029048, 'F6': -65.48782872443562}\n",
      "File: F2.10.4.mfcc ,Score: {'F1': -64.40951891832705, 'F2': -54.316277148598076, 'F3': -61.606152808581285, 'F4': -87.5505519520415, 'F5': -71.88934488549722, 'F6': -65.21775869296405}\n",
      "File: F2.10.5.mfcc ,Score: {'F1': -65.49869208645956, 'F2': -54.801075334521144, 'F3': -61.042155434849946, 'F4': -86.25091187441224, 'F5': -70.51841039384712, 'F6': -66.1676142242967}\n",
      "File: F2.10.6.mfcc ,Score: {'F1': -65.93116984846273, 'F2': -56.64043369720005, 'F3': -66.20240224633088, 'F4': -92.41556050601356, 'F5': -72.54511608854315, 'F6': -68.42126008264293}\n",
      "File: F3.10.1.mfcc ,Score: {'F1': -65.54832394069686, 'F2': -67.88324585186182, 'F3': -55.06374293510402, 'F4': -93.06484178377502, 'F5': -75.29816175856868, 'F6': -73.95418390749693}\n",
      "File: F3.10.2.mfcc ,Score: {'F1': -65.63479455473531, 'F2': -64.78350668778037, 'F3': -56.24017310560014, 'F4': -102.64713151657264, 'F5': -73.64368409130161, 'F6': -70.77752786225659}\n",
      "File: F3.10.3.mfcc ,Score: {'F1': -68.10897400138346, 'F2': -66.91243976537697, 'F3': -56.1256317491262, 'F4': -103.93822690108394, 'F5': -77.36858503697617, 'F6': -75.07767215148716}\n",
      "File: F3.10.4.mfcc ,Score: {'F1': -65.86696956433393, 'F2': -63.93030597792375, 'F3': -56.36377057588857, 'F4': -94.00906214844764, 'F5': -70.86958716971036, 'F6': -69.48658471245314}\n",
      "File: F3.10.5.mfcc ,Score: {'F1': -66.72670897660072, 'F2': -68.44310040687618, 'F3': -57.45464432494977, 'F4': -98.59362605354112, 'F5': -79.25122774873994, 'F6': -77.81773146893885}\n",
      "File: F3.10.6.mfcc ,Score: {'F1': -62.32986980210614, 'F2': -62.81904650488863, 'F3': -53.129594955935545, 'F4': -87.9465998411119, 'F5': -74.35392834912473, 'F6': -71.30708836343312}\n",
      "File: F4.10.1.mfcc ,Score: {'F1': -64.70677055563687, 'F2': -63.71889737393619, 'F3': -65.524464385466, 'F4': -69.61148843480962, 'F5': -68.24863101192201, 'F6': -67.43184285223805}\n",
      "File: F4.10.2.mfcc ,Score: {'F1': -62.57343873285271, 'F2': -64.81338245747642, 'F3': -65.34306293646445, 'F4': -67.2461913536841, 'F5': -67.58288087736723, 'F6': -65.93497880225496}\n",
      "File: F4.10.3.mfcc ,Score: {'F1': -63.754894502667625, 'F2': -62.66967549969157, 'F3': -66.42809924053849, 'F4': -68.63729919790389, 'F5': -66.13185510198079, 'F6': -65.71355688491644}\n",
      "File: F4.10.4.mfcc ,Score: {'F1': -64.30246975648703, 'F2': -63.77471700289967, 'F3': -66.37407156526496, 'F4': -68.06830254063362, 'F5': -67.20907169386078, 'F6': -67.01661535801044}\n",
      "File: F4.10.5.mfcc ,Score: {'F1': -65.0690880092071, 'F2': -64.31273666388189, 'F3': -65.82706780519374, 'F4': -70.34797510176571, 'F5': -67.28579021387324, 'F6': -68.64221639932988}\n",
      "File: F4.10.6.mfcc ,Score: {'F1': -62.01558035921491, 'F2': -63.43669788859905, 'F3': -66.54627872952234, 'F4': -70.85175368383142, 'F5': -67.40447127268362, 'F6': -65.669531109009}\n",
      "File: F5.10.1.mfcc ,Score: {'F1': -67.09259150021568, 'F2': -67.04010569394079, 'F3': -66.9418005065146, 'F4': -89.4352642677602, 'F5': -52.218387838738344, 'F6': -69.24068701207761}\n",
      "File: F5.10.2.mfcc ,Score: {'F1': -66.57697103151307, 'F2': -67.93622225381775, 'F3': -69.71992109520262, 'F4': -86.27141034115989, 'F5': -51.881252585048465, 'F6': -69.74273701445175}\n",
      "File: F5.10.3.mfcc ,Score: {'F1': -68.81156178415971, 'F2': -67.79907394113462, 'F3': -68.17288100745685, 'F4': -87.77435717507184, 'F5': -53.13116373345642, 'F6': -69.51980136338342}\n",
      "File: F5.10.4.mfcc ,Score: {'F1': -66.36205719661562, 'F2': -66.7439850214199, 'F3': -66.7618553014447, 'F4': -92.5442708189151, 'F5': -53.655970420224406, 'F6': -68.76526733454375}\n",
      "File: F5.10.5.mfcc ,Score: {'F1': -67.34811239468046, 'F2': -70.14288803426953, 'F3': -71.48943080881692, 'F4': -89.16980054630451, 'F5': -54.32188672602779, 'F6': -71.92380738760575}\n",
      "File: F5.10.6.mfcc ,Score: {'F1': -68.49537899974838, 'F2': -69.0610995976118, 'F3': -68.72158998689795, 'F4': -93.34295457914978, 'F5': -55.13965520377602, 'F6': -70.56851033660523}\n",
      "File: F6.10.1.mfcc ,Score: {'F1': -69.86250199745945, 'F2': -68.89174794650278, 'F3': -71.38409159476468, 'F4': -110.76309642375755, 'F5': -81.19956587103664, 'F6': -53.5476078506511}\n",
      "File: F6.10.2.mfcc ,Score: {'F1': -66.68093432243563, 'F2': -66.42160043779717, 'F3': -69.09453295296379, 'F4': -105.29113251142611, 'F5': -81.25471072982674, 'F6': -52.97132149355994}\n",
      "File: F6.10.3.mfcc ,Score: {'F1': -68.05578908546549, 'F2': -67.25625751361446, 'F3': -69.86105106317487, 'F4': -108.25909518867364, 'F5': -79.6641260895167, 'F6': -53.361906243716504}\n",
      "File: F6.10.4.mfcc ,Score: {'F1': -69.20522706160284, 'F2': -66.96983595885378, 'F3': -69.22532060270129, 'F4': -107.32827563446233, 'F5': -81.04695776797674, 'F6': -53.36635221068843}\n",
      "File: F6.10.5.mfcc ,Score: {'F1': -64.49955950105785, 'F2': -65.09810190069004, 'F3': -67.44133198437284, 'F4': -96.11694795214763, 'F5': -75.58345085961298, 'F6': -52.20365644372207}\n",
      "File: F6.10.6.mfcc ,Score: {'F1': -65.88349397383556, 'F2': -65.86051184903974, 'F3': -68.48522784735663, 'F4': -106.0962725721124, 'F5': -77.98518487701115, 'F6': -51.44571934419481}\n"
     ]
    }
   ],
   "source": [
    "results_10_F_128 = []\n",
    "\n",
    "# Calculate scores for each GMM model and store file name with score\n",
    "for test_segment_name, test_segment in test_files_10_F.items():\n",
    "    score = get_scores(test_segment, gmm_models_F_128)\n",
    "    results_10_F_128.append((test_segment_name, score))\n",
    "\n",
    "# Printing the results\n",
    "for result in results_10_F_128:\n",
    "    file_name, score = result\n",
    "    print(f\"File: {file_name} ,Score: {score}\")"
   ]
  },
  {
   "cell_type": "markdown",
   "id": "d0bbe09d",
   "metadata": {},
   "source": [
    "## Sort the scores "
   ]
  },
  {
   "cell_type": "code",
   "execution_count": 33,
   "id": "0b1aa075",
   "metadata": {},
   "outputs": [],
   "source": [
    "# Extract the scores from results_10_F_128\n",
    "scores = [score for _, score in results_10_F_128]\n",
    "    \n",
    "scores_array = np.array([list(item.values()) for item in scores]).flatten()\n",
    "\n",
    "sorted_scores_array = np.sort(scores_array)\n"
   ]
  },
  {
   "cell_type": "markdown",
   "id": "d2f66f07",
   "metadata": {},
   "source": [
    "## Plot the curve "
   ]
  },
  {
   "cell_type": "code",
   "execution_count": 34,
   "id": "fb3c7dda",
   "metadata": {},
   "outputs": [
    {
     "data": {
      "image/png": "[encoded data removed]",
      "text/plain": [
       "<Figure size 640x480 with 1 Axes>"
      ]
     },
     "metadata": {},
     "output_type": "display_data"
    }
   ],
   "source": [
    "# Initialize variables\n",
    "genuine_scores = defaultdict(list)  # Dictionary to store genuine scores for each client\n",
    "impostor_scores = []  # List to store impostor scores\n",
    "\n",
    "# Extract genuine scores and impostor scores\n",
    "for result in results_10_F_128:\n",
    "    file_name, score = result\n",
    "    client_name = file_name.split('.')[0]  # Extract client name from file name\n",
    "\n",
    "    genuine_scores[client_name].append(score[client_name])\n",
    "\n",
    "    impostor_scores.extend([s for key, s in score.items() if key != client_name])\n",
    "\n",
    "# Compute the minimum and maximum scores\n",
    "min_score = min(sorted_scores_array)\n",
    "max_score = max(sorted_scores_array)\n",
    "\n",
    "# Set the number of thresholds and generate them using linspace\n",
    "num_thresholds = 1000\n",
    "thresholds = np.geomspace(max_score, min_score, num_thresholds)\n",
    "\n",
    "# Initialize lists for FAR and FRR\n",
    "far = []\n",
    "frr = []\n",
    "\n",
    "# Iterate over thresholds\n",
    "for threshold in thresholds:\n",
    "    # Compute the number of false accepts (FAR) and false rejects (FRR)\n",
    "    false_accepts = sum(score >= threshold for score in impostor_scores)\n",
    "    false_rejects = 0\n",
    "    for client_scores in genuine_scores.values():\n",
    "        false_rejects += sum(score < threshold for score in client_scores)\n",
    "\n",
    "    # Compute the FAR and FRR rates\n",
    "    far_rate = false_accepts / len(impostor_scores)\n",
    "    frr_rate = false_rejects / sum(len(client_scores) for client_scores in genuine_scores.values())\n",
    "\n",
    "    # Append the FAR and FRR rates to the lists\n",
    "    far.append(far_rate)\n",
    "    frr.append(frr_rate)\n",
    "\n",
    "# Find the threshold with the closest FAR and FRR\n",
    "eer_threshold = thresholds[np.argmin(np.abs(np.array(far) - np.array(frr)))]\n",
    "\n",
    "# Compute the EER values\n",
    "eer_far = far[np.argmin(np.abs(np.array(far) - np.array(frr)))]\n",
    "eer_frr = frr[np.argmin(np.abs(np.array(far) - np.array(frr)))]\n",
    "\n",
    "# Plot the FAR and FRR curve\n",
    "plt.plot(far, frr)\n",
    "plt.xlabel('False Acceptance Rate (FAR)')\n",
    "plt.ylabel('False Rejection Rate (FRR)')\n",
    "plt.title('DET Curve')\n",
    "plt.grid(True)\n",
    "\n",
    "# Plot the EER point\n",
    "plt.scatter(eer_far, eer_frr, color='red', marker='o', label='EER')\n",
    "\n",
    "# Add legend\n",
    "plt.legend()\n",
    "\n",
    "# Add text annotation for EER point\n",
    "plt.annotate(f'EER: ({eer_far:.3f}, {eer_frr:.3f})', (eer_far, eer_frr), xytext=(eer_far + 0.05, eer_frr), color='red')\n",
    "\n",
    "plt.show()\n"
   ]
  },
  {
   "cell_type": "markdown",
   "id": "ed8b3a2e",
   "metadata": {},
   "source": [
    "### 15 seconds segments :"
   ]
  },
  {
   "cell_type": "markdown",
   "id": "a21ea34b",
   "metadata": {},
   "source": [
    "## Get the scores"
   ]
  },
  {
   "cell_type": "code",
   "execution_count": 35,
   "id": "7870fde9",
   "metadata": {
    "scrolled": true
   },
   "outputs": [
    {
     "name": "stdout",
     "output_type": "stream",
     "text": [
      "File: F1.15.1.mfcc ,Score: {'F1': -58.063411898500924, 'F2': -60.14903419136562, 'F3': -65.62716491145274, 'F4': -87.96262718344201, 'F5': -76.81874260925822, 'F6': -67.28978213556249}\n",
      "File: F1.15.2.mfcc ,Score: {'F1': -58.90571699305961, 'F2': -59.72346865020855, 'F3': -67.18689458373495, 'F4': -91.32943544000027, 'F5': -78.01038330420886, 'F6': -67.55216434392294}\n",
      "File: F1.15.3.mfcc ,Score: {'F1': -57.01469071776926, 'F2': -60.73356921154655, 'F3': -63.84376235210593, 'F4': -86.1410800697851, 'F5': -80.1897372449906, 'F6': -68.33851494026896}\n",
      "File: F1.15.4.mfcc ,Score: {'F1': -55.94888851394961, 'F2': -63.646780072241114, 'F3': -65.01904784894779, 'F4': -86.93619453530137, 'F5': -77.11529220930537, 'F6': -68.0212686021447}\n",
      "File: F2.15.1.mfcc ,Score: {'F1': -65.64596255894419, 'F2': -55.38060085955769, 'F3': -63.23034967431846, 'F4': -88.69087891759604, 'F5': -73.03353060792827, 'F6': -66.01366536495799}\n",
      "File: F2.15.2.mfcc ,Score: {'F1': -64.3472797363022, 'F2': -54.38349307766241, 'F3': -62.51344535448499, 'F4': -89.83815629708363, 'F5': -71.81541284246299, 'F6': -65.06200163554279}\n",
      "File: F2.15.3.mfcc ,Score: {'F1': -64.69032661744379, 'F2': -54.47503416815016, 'F3': -61.3532600874954, 'F4': -86.91339835202443, 'F5': -71.18366366610545, 'F6': -65.69600453725008}\n",
      "File: F2.15.4.mfcc ,Score: {'F1': -65.84644006232183, 'F2': -55.805200469366056, 'F3': -63.9370892801107, 'F4': -89.88233609489157, 'F5': -71.96090234393968, 'F6': -67.17193167941682}\n",
      "File: F3.15.1.mfcc ,Score: {'F1': -65.4870561024588, 'F2': -66.88401917448952, 'F3': -55.68713597550218, 'F4': -97.00600293054214, 'F5': -74.73594618779455, 'F6': -72.86536304374674}\n",
      "File: F3.15.2.mfcc ,Score: {'F1': -67.37433889541828, 'F2': -66.16877569552324, 'F3': -55.9325625510514, 'F4': -102.76079720374558, 'F5': -76.13767440343642, 'F6': -73.67422623708038}\n",
      "File: F3.15.3.mfcc ,Score: {'F1': -65.99416909800702, 'F2': -65.78990379101914, 'F3': -55.98379275300191, 'F4': -96.73854820182927, 'F5': -75.39030526836949, 'F6': -73.58098837367228}\n",
      "File: F3.15.4.mfcc ,Score: {'F1': -64.71956587354833, 'F2': -65.05338713805227, 'F3': -56.343250145511725, 'F4': -91.39911550649316, 'F5': -74.21509780141265, 'F6': -72.56129369594979}\n",
      "File: F4.15.1.mfcc ,Score: {'F1': -63.5557499998067, 'F2': -64.03398964959099, 'F3': -65.14495097217242, 'F4': -68.4982286261561, 'F5': -67.77998364537802, 'F6': -66.91033757614989}\n",
      "File: F4.15.2.mfcc ,Score: {'F1': -63.80098586096475, 'F2': -63.433980571145135, 'F3': -66.38546673614022, 'F4': -68.4984240314423, 'F5': -66.86226101546866, 'F6': -65.8099147834564}\n",
      "File: F4.15.3.mfcc ,Score: {'F1': -64.43691025589115, 'F2': -64.06734647228541, 'F3': -66.06636880323609, 'F4': -68.48086910434372, 'F5': -67.19386246745626, 'F6': -67.53467479535831}\n",
      "File: F4.15.4.mfcc ,Score: {'F1': -63.2341268658126, 'F2': -63.62791401845205, 'F3': -66.42391553468879, 'F4': -71.04369173231078, 'F5': -67.4057783841015, 'F6': -66.75516164381524}\n",
      "File: F5.15.1.mfcc ,Score: {'F1': -66.98633398042406, 'F2': -66.53289215226935, 'F3': -67.4706184499133, 'F4': -88.06321035217994, 'F5': -52.18748607971426, 'F6': -68.85533504587653}\n",
      "File: F5.15.2.mfcc ,Score: {'F1': -68.00108223016824, 'F2': -68.65070910699275, 'F3': -69.08578328953608, 'F4': -87.59081083714801, 'F5': -52.633050025114564, 'F6': -70.14681521406533}\n",
      "File: F5.15.3.mfcc ,Score: {'F1': -67.08611270281828, 'F2': -67.38322011997629, 'F3': -68.55799103199773, 'F4': -90.59720675851005, 'F5': -53.87447522666775, 'F6': -69.73922577972472}\n",
      "File: F5.15.4.mfcc ,Score: {'F1': -67.51661309135449, 'F2': -70.13617768227547, 'F3': -69.60540254462954, 'F4': -92.62716929213606, 'F5': -54.800994720858725, 'F6': -71.23627953480975}\n",
      "File: F6.15.1.mfcc ,Score: {'F1': -68.12099641822967, 'F2': -67.67072317539832, 'F3': -70.04222589337536, 'F4': -109.22478507443735, 'F5': -80.9708843609663, 'F6': -53.38948691441676}\n",
      "File: F6.15.2.mfcc ,Score: {'F1': -68.27848718534406, 'F2': -67.37568075654461, 'F3': -70.18422451389354, 'F4': -106.98409767480084, 'F5': -80.44138409928709, 'F6': -53.197736810868264}\n",
      "File: F6.15.3.mfcc ,Score: {'F1': -68.05233206538149, 'F2': -66.65778960352986, 'F3': -68.86398047435505, 'F4': -104.33515331665284, 'F5': -80.08003349793441, 'F6': -53.20601591354825}\n",
      "File: F6.15.4.mfcc ,Score: {'F1': -64.72245379525712, 'F2': -65.11117162814756, 'F3': -67.71564969366135, 'F4': -100.70735582504663, 'F5': -75.79433398749883, 'F6': -51.47936904586359}\n"
     ]
    }
   ],
   "source": [
    "results_15_F_128 = []\n",
    "\n",
    "# Calculate scores for each GMM model and store file name with score\n",
    "for test_segment_name, test_segment in test_files_15_F.items():\n",
    "    score = get_scores(test_segment, gmm_models_F_128)\n",
    "    results_15_F_128.append((test_segment_name, score))\n",
    "\n",
    "# Printing the results\n",
    "for result in results_15_F_128:\n",
    "    file_name, score = result\n",
    "    print(f\"File: {file_name} ,Score: {score}\")"
   ]
  },
  {
   "cell_type": "markdown",
   "id": "24a3deea",
   "metadata": {},
   "source": [
    "## Sort the scores"
   ]
  },
  {
   "cell_type": "code",
   "execution_count": 36,
   "id": "9512c226",
   "metadata": {
    "scrolled": true
   },
   "outputs": [],
   "source": [
    "# Extract the scores from results_15_F_128\n",
    "scores = [score for _, score in results_15_F_128]\n",
    "    \n",
    "scores_array = np.array([list(item.values()) for item in scores]).flatten()\n",
    "\n",
    "sorted_scores_array = np.sort(scores_array)\n"
   ]
  },
  {
   "cell_type": "markdown",
   "id": "e8dc15b4",
   "metadata": {},
   "source": [
    "##  Plot the DET curve "
   ]
  },
  {
   "cell_type": "code",
   "execution_count": 37,
   "id": "b9d13517",
   "metadata": {},
   "outputs": [
    {
     "data": {
      "image/png": "[encoded data removed]",
      "text/plain": [
       "<Figure size 640x480 with 1 Axes>"
      ]
     },
     "metadata": {},
     "output_type": "display_data"
    }
   ],
   "source": [
    "# Initialize variables\n",
    "genuine_scores = defaultdict(list)  # Dictionary to store genuine scores for each client\n",
    "impostor_scores = []  # List to store impostor scores\n",
    "\n",
    "# Extract genuine scores and impostor scores\n",
    "for result in results_15_F_128:\n",
    "    file_name, score = result\n",
    "    client_name = file_name.split('.')[0]  # Extract client name from file name\n",
    "\n",
    "    genuine_scores[client_name].append(score[client_name])\n",
    "\n",
    "    impostor_scores.extend([s for key, s in score.items() if key != client_name])\n",
    "\n",
    "# Compute the minimum and maximum scores\n",
    "min_score = min(sorted_scores_array)\n",
    "max_score = max(sorted_scores_array)\n",
    "\n",
    "# Set the number of thresholds and generate them using linspace\n",
    "num_thresholds = 1000\n",
    "thresholds = np.geomspace(max_score, min_score, num_thresholds)\n",
    "\n",
    "# Initialize lists for FAR and FRR\n",
    "far = []\n",
    "frr = []\n",
    "\n",
    "# Iterate over thresholds\n",
    "for threshold in thresholds:\n",
    "    # Compute the number of false accepts (FAR) and false rejects (FRR)\n",
    "    false_accepts = sum(score >= threshold for score in impostor_scores)\n",
    "    false_rejects = 0\n",
    "    for client_scores in genuine_scores.values():\n",
    "        false_rejects += sum(score < threshold for score in client_scores)\n",
    "\n",
    "    # Compute the FAR and FRR rates\n",
    "    far_rate = false_accepts / len(impostor_scores)\n",
    "    frr_rate = false_rejects / sum(len(client_scores) for client_scores in genuine_scores.values())\n",
    "\n",
    "    # Append the FAR and FRR rates to the lists\n",
    "    far.append(far_rate)\n",
    "    frr.append(frr_rate)\n",
    "\n",
    "# Find the threshold with the closest FAR and FRR\n",
    "eer_threshold = thresholds[np.argmin(np.abs(np.array(far) - np.array(frr)))]\n",
    "\n",
    "# Compute the EER values\n",
    "eer_far = far[np.argmin(np.abs(np.array(far) - np.array(frr)))]\n",
    "eer_frr = frr[np.argmin(np.abs(np.array(far) - np.array(frr)))]\n",
    "\n",
    "# Plot the FAR and FRR curve\n",
    "plt.plot(far, frr)\n",
    "plt.xlabel('False Acceptance Rate (FAR)')\n",
    "plt.ylabel('False Rejection Rate (FRR)')\n",
    "plt.title('DET Curve')\n",
    "plt.grid(True)\n",
    "\n",
    "# Plot the EER point\n",
    "plt.scatter(eer_far, eer_frr, color='red', marker='o', label='EER')\n",
    "\n",
    "# Add legend\n",
    "plt.legend()\n",
    "\n",
    "# Add text annotation for EER point\n",
    "plt.annotate(f'EER: ({eer_far:.3f}, {eer_frr:.3f})', (eer_far, eer_frr), xytext=(eer_far + 0.05, eer_frr), color='red')\n",
    "\n",
    "plt.show()\n"
   ]
  },
  {
   "cell_type": "markdown",
   "id": "8713cfca",
   "metadata": {},
   "source": [
    "### 30 seconds segments :"
   ]
  },
  {
   "cell_type": "markdown",
   "id": "0c19558c",
   "metadata": {},
   "source": [
    "## Get the scores"
   ]
  },
  {
   "cell_type": "code",
   "execution_count": 38,
   "id": "a4e4cf10",
   "metadata": {
    "scrolled": true
   },
   "outputs": [
    {
     "name": "stdout",
     "output_type": "stream",
     "text": [
      "File: F1.30.1.mfcc ,Score: {'F1': -58.48456444578027, 'F2': -59.93625142078709, 'F3': -66.40702974759385, 'F4': -89.64603131172113, 'F5': -77.41456295673353, 'F6': -67.42097323974271}\n",
      "File: F1.30.2.mfcc ,Score: {'F1': -56.553084774618355, 'F2': -61.995299992482295, 'F3': -64.35278622942293, 'F4': -86.48544937344408, 'F5': -78.85817488259632, 'F6': -68.20111346502695}\n",
      "File: F2.30.1.mfcc ,Score: {'F1': -64.99662114762319, 'F2': -54.88204696861005, 'F3': -62.87189751440173, 'F4': -89.26451760733981, 'F5': -72.42447172519563, 'F6': -65.53783350025037}\n",
      "File: F2.30.2.mfcc ,Score: {'F1': -65.17842381913344, 'F2': -55.036614393933135, 'F3': -62.444121718892305, 'F4': -88.16684818491441, 'F5': -71.5118044946518, 'F6': -66.31912323825729}\n",
      "File: F3.30.1.mfcc ,Score: {'F1': -66.43069749893853, 'F2': -66.52639743500639, 'F3': -55.80984926327679, 'F4': -99.88340006714385, 'F5': -75.43681029561549, 'F6': -73.26979464041356}\n",
      "File: F3.30.2.mfcc ,Score: {'F1': -65.47825826905945, 'F2': -65.49178990767541, 'F3': -56.12928741187493, 'F4': -94.57734925371705, 'F5': -74.91462605555363, 'F6': -73.16825481364174}\n",
      "File: F4.30.1.mfcc ,Score: {'F1': -63.67836793038573, 'F2': -63.73398511036807, 'F3': -65.76520885415633, 'F4': -68.49832632879921, 'F5': -67.32112233042335, 'F6': -66.36012617980315}\n",
      "File: F4.30.2.mfcc ,Score: {'F1': -63.85582744648723, 'F2': -63.85505002146723, 'F3': -66.23910502566777, 'F4': -69.71900739669721, 'F5': -67.29624224524282, 'F6': -67.15808022662523}\n",
      "File: F5.30.1.mfcc ,Score: {'F1': -67.49370810529615, 'F2': -67.59180062963105, 'F3': -68.27820086972469, 'F4': -87.82701059466396, 'F5': -52.410268052414416, 'F6': -69.50107512997093}\n",
      "File: F5.30.2.mfcc ,Score: {'F1': -67.27673546029791, 'F2': -68.60221173002853, 'F3': -69.02177800192979, 'F4': -91.4960608967278, 'F5': -54.28473200121292, 'F6': -70.40211139490353}\n",
      "File: F6.30.1.mfcc ,Score: {'F1': -68.19974180178686, 'F2': -67.52320196597147, 'F3': -70.11322520363446, 'F4': -108.1044413746191, 'F5': -80.7061342301267, 'F6': -53.293611862642514}\n",
      "File: F6.30.2.mfcc ,Score: {'F1': -66.61946002586349, 'F2': -65.99226808203038, 'F3': -68.3698449732058, 'F4': -102.77408436185227, 'F5': -78.23586428208803, 'F6': -52.46302658537251}\n"
     ]
    }
   ],
   "source": [
    "results_30_F_128 = []\n",
    "\n",
    "# Calculate scores for each GMM model and store file name with score\n",
    "for test_segment_name, test_segment in test_files_30_F.items():\n",
    "    score = get_scores(test_segment, gmm_models_F_128)\n",
    "    results_30_F_128.append((test_segment_name, score))\n",
    "\n",
    "# Printing the results\n",
    "for result in results_30_F_128:\n",
    "    file_name, score = result\n",
    "    print(f\"File: {file_name} ,Score: {score}\")"
   ]
  },
  {
   "cell_type": "markdown",
   "id": "425e9a3a",
   "metadata": {},
   "source": [
    "## Sort the scores"
   ]
  },
  {
   "cell_type": "code",
   "execution_count": 39,
   "id": "58f15788",
   "metadata": {
    "scrolled": true
   },
   "outputs": [],
   "source": [
    "# Extract the scores from results_30_F_128\n",
    "scores = [score for _, score in results_30_F_128]\n",
    "    \n",
    "scores_array = np.array([list(item.values()) for item in scores]).flatten()\n",
    "\n",
    "sorted_scores_array = np.sort(scores_array)\n"
   ]
  },
  {
   "cell_type": "markdown",
   "id": "0ea742ca",
   "metadata": {},
   "source": [
    "## Plot the DET curve"
   ]
  },
  {
   "cell_type": "code",
   "execution_count": 40,
   "id": "8ea2291b",
   "metadata": {},
   "outputs": [
    {
     "data": {
      "image/png": "[encoded data removed]",
      "text/plain": [
       "<Figure size 640x480 with 1 Axes>"
      ]
     },
     "metadata": {},
     "output_type": "display_data"
    }
   ],
   "source": [
    "# Initialize variables\n",
    "genuine_scores = defaultdict(list)  # Dictionary to store genuine scores for each client\n",
    "impostor_scores = []  # List to store impostor scores\n",
    "\n",
    "# Extract genuine scores and impostor scores\n",
    "for result in results_30_F_128:\n",
    "    file_name, score = result\n",
    "    client_name = file_name.split('.')[0]  # Extract client name from file name\n",
    "\n",
    "    genuine_scores[client_name].append(score[client_name])\n",
    "\n",
    "    impostor_scores.extend([s for key, s in score.items() if key != client_name])\n",
    "\n",
    "# Compute the minimum and maximum scores\n",
    "min_score = min(sorted_scores_array)\n",
    "max_score = max(sorted_scores_array)\n",
    "\n",
    "# Set the number of thresholds and generate them using linspace\n",
    "num_thresholds = 1000\n",
    "thresholds = np.geomspace(max_score, min_score, num_thresholds)\n",
    "\n",
    "# Initialize lists for FAR and FRR\n",
    "far = []\n",
    "frr = []\n",
    "\n",
    "# Iterate over thresholds\n",
    "for threshold in thresholds:\n",
    "    # Compute the number of false accepts (FAR) and false rejects (FRR)\n",
    "    false_accepts = sum(score >= threshold for score in impostor_scores)\n",
    "    false_rejects = 0\n",
    "    for client_scores in genuine_scores.values():\n",
    "        false_rejects += sum(score < threshold for score in client_scores)\n",
    "\n",
    "    # Compute the FAR and FRR rates\n",
    "    far_rate = false_accepts / len(impostor_scores)\n",
    "    frr_rate = false_rejects / sum(len(client_scores) for client_scores in genuine_scores.values())\n",
    "\n",
    "    # Append the FAR and FRR rates to the lists\n",
    "    far.append(far_rate)\n",
    "    frr.append(frr_rate)\n",
    "\n",
    "# Find the threshold with the closest FAR and FRR\n",
    "eer_threshold = thresholds[np.argmin(np.abs(np.array(far) - np.array(frr)))]\n",
    "\n",
    "# Compute the EER values\n",
    "eer_far = far[np.argmin(np.abs(np.array(far) - np.array(frr)))]\n",
    "eer_frr = frr[np.argmin(np.abs(np.array(far) - np.array(frr)))]\n",
    "\n",
    "# Plot the FAR and FRR curve\n",
    "plt.plot(far, frr)\n",
    "plt.xlabel('False Acceptance Rate (FAR)')\n",
    "plt.ylabel('False Rejection Rate (FRR)')\n",
    "plt.title('DET Curve')\n",
    "plt.grid(True)\n",
    "\n",
    "# Plot the EER point\n",
    "plt.scatter(eer_far, eer_frr, color='red', marker='o', label='EER')\n",
    "\n",
    "# Add legend\n",
    "plt.legend()\n",
    "\n",
    "# Add text annotation for EER point\n",
    "plt.annotate(f'EER: ({eer_far:.3f}, {eer_frr:.3f})', (eer_far, eer_frr), xytext=(eer_far + 0.05, eer_frr), color='red')\n",
    "\n",
    "plt.show()\n"
   ]
  },
  {
   "cell_type": "markdown",
   "id": "e1932eaf",
   "metadata": {},
   "source": [
    "## d. GMM 256:\n",
    "### 3 seconds segments :"
   ]
  },
  {
   "cell_type": "markdown",
   "id": "84228c19",
   "metadata": {},
   "source": [
    "## Get the scores"
   ]
  },
  {
   "cell_type": "code",
   "execution_count": 41,
   "id": "117226ec",
   "metadata": {},
   "outputs": [
    {
     "name": "stdout",
     "output_type": "stream",
     "text": [
      "File: F1.3.1.mfcc ,Score: {'F1': -69.29361420117765, 'F2': -71.92981528344862, 'F3': -77.66099185315579, 'F4': -151.09928827725494, 'F5': -86.90109477111085, 'F6': -76.68064463954686}\n",
      "File: F1.3.10.mfcc ,Score: {'F1': -64.14965393259259, 'F2': -67.55900567519112, 'F3': -73.34072537291597, 'F4': -146.5483427852155, 'F5': -87.25823656576512, 'F6': -69.79461739365583}\n",
      "File: F1.3.11.mfcc ,Score: {'F1': -71.70064586181618, 'F2': -70.01722047069651, 'F3': -75.58392120157386, 'F4': -156.68912555814285, 'F5': -95.37494541316943, 'F6': -76.84664544310502}\n",
      "File: F1.3.12.mfcc ,Score: {'F1': -67.14000739928228, 'F2': -64.02058848966767, 'F3': -70.25551881773181, 'F4': -132.74712936147873, 'F5': -92.97943308020527, 'F6': -74.75319292473073}\n",
      "File: F1.3.13.mfcc ,Score: {'F1': -91.35644794608031, 'F2': -85.58236272320052, 'F3': -69.12962805214407, 'F4': -135.4661908775266, 'F5': -98.32554883376746, 'F6': -93.8638726750503}\n",
      "File: F1.3.14.mfcc ,Score: {'F1': -63.397650848829436, 'F2': -66.22664493046764, 'F3': -75.85922624823428, 'F4': -138.8896796012216, 'F5': -89.85713807307212, 'F6': -73.05529621480703}\n",
      "File: F1.3.15.mfcc ,Score: {'F1': -63.60425407097703, 'F2': -66.26108383233719, 'F3': -75.76927110170415, 'F4': -140.36487054343286, 'F5': -90.51620444214251, 'F6': -71.7637799802118}\n",
      "File: F1.3.16.mfcc ,Score: {'F1': -64.3305897351763, 'F2': -70.04462811694803, 'F3': -75.79837600126761, 'F4': -145.79579553885267, 'F5': -91.03545021231652, 'F6': -74.07172735010977}\n",
      "File: F1.3.17.mfcc ,Score: {'F1': -76.11587612084818, 'F2': -75.56636332005428, 'F3': -72.79174806981912, 'F4': -144.14171566015645, 'F5': -93.70051868219309, 'F6': -82.10839754872966}\n",
      "File: F1.3.18.mfcc ,Score: {'F1': -61.91281370258411, 'F2': -69.74131221952766, 'F3': -74.62140687217995, 'F4': -142.61347402396692, 'F5': -87.51349634172306, 'F6': -73.3036024209089}\n",
      "File: F1.3.19.mfcc ,Score: {'F1': -63.228269535326405, 'F2': -82.57065787751941, 'F3': -80.66623019966494, 'F4': -145.4550178063442, 'F5': -90.51212351434475, 'F6': -77.59866469469445}\n",
      "File: F1.3.2.mfcc ,Score: {'F1': -65.47429325269138, 'F2': -70.36213028070654, 'F3': -71.67063584815054, 'F4': -146.29269182695057, 'F5': -92.12827601075072, 'F6': -76.41878735246952}\n",
      "File: F1.3.3.mfcc ,Score: {'F1': -71.59865203495688, 'F2': -71.81458646645852, 'F3': -76.43954326137073, 'F4': -157.9120483008256, 'F5': -90.46980256707612, 'F6': -73.6091148488841}\n",
      "File: F1.3.4.mfcc ,Score: {'F1': -61.25094053170166, 'F2': -64.66804801704579, 'F3': -70.29458253012766, 'F4': -143.63431489134678, 'F5': -87.40685626674569, 'F6': -69.18838227377714}\n",
      "File: F1.3.5.mfcc ,Score: {'F1': -69.54430974985951, 'F2': -68.47822081416193, 'F3': -79.19541465459082, 'F4': -153.5443670884562, 'F5': -98.77657920239845, 'F6': -78.459657347548}\n",
      "File: F1.3.6.mfcc ,Score: {'F1': -74.89139424637791, 'F2': -67.89023003576582, 'F3': -73.52649424208832, 'F4': -151.91566531425875, 'F5': -96.24914074178882, 'F6': -77.40199463001584}\n",
      "File: F1.3.7.mfcc ,Score: {'F1': -73.75555091425218, 'F2': -69.38859154913258, 'F3': -77.67446025106997, 'F4': -154.48697561701925, 'F5': -91.93514678369975, 'F6': -77.272335566825}\n",
      "File: F1.3.8.mfcc ,Score: {'F1': -72.13761276398046, 'F2': -69.74864910805648, 'F3': -81.45191290429668, 'F4': -169.95421082163773, 'F5': -93.48453129546036, 'F6': -75.72927195436274}\n",
      "File: F1.3.9.mfcc ,Score: {'F1': -68.5462402476667, 'F2': -68.16200524935945, 'F3': -80.28531487283942, 'F4': -143.5929269216424, 'F5': -90.04081054767747, 'F6': -74.80410406103157}\n",
      "File: F2.3.1.mfcc ,Score: {'F1': -79.60587188635056, 'F2': -63.44562624996065, 'F3': -73.7050195139322, 'F4': -141.39099565993513, 'F5': -87.36198674773145, 'F6': -75.92463699174279}\n",
      "File: F2.3.10.mfcc ,Score: {'F1': -79.26096937008316, 'F2': -63.400677546008666, 'F3': -70.50852957397639, 'F4': -139.2380572823834, 'F5': -83.23799299249347, 'F6': -73.4150513790923}\n",
      "File: F2.3.11.mfcc ,Score: {'F1': -81.70056548987115, 'F2': -62.87154444157743, 'F3': -74.8873116191316, 'F4': -153.31399754581497, 'F5': -84.77212639417, 'F6': -78.11122779382109}\n",
      "File: F2.3.12.mfcc ,Score: {'F1': -74.92248915857309, 'F2': -58.61649994975492, 'F3': -69.12338195865307, 'F4': -130.8007212967174, 'F5': -89.63244059472191, 'F6': -76.26295716163533}\n",
      "File: F2.3.13.mfcc ,Score: {'F1': -78.25066555104031, 'F2': -62.003603043539286, 'F3': -73.08966585083034, 'F4': -139.9593871908155, 'F5': -83.82676436649768, 'F6': -74.23968643462526}\n",
      "File: F2.3.14.mfcc ,Score: {'F1': -80.58054788859934, 'F2': -62.56775563617713, 'F3': -70.27185780193494, 'F4': -123.1990853360137, 'F5': -80.8385541169574, 'F6': -73.53374801383433}\n",
      "File: F2.3.15.mfcc ,Score: {'F1': -75.61345837589504, 'F2': -60.94897553936531, 'F3': -70.27945048664593, 'F4': -137.8287336041557, 'F5': -87.63578092389253, 'F6': -75.40924301089095}\n",
      "File: F2.3.16.mfcc ,Score: {'F1': -80.9025412113104, 'F2': -64.02296556658338, 'F3': -73.64769283811994, 'F4': -144.45403195685952, 'F5': -83.79099316816188, 'F6': -76.08559678310783}\n",
      "File: F2.3.17.mfcc ,Score: {'F1': -73.03690815373811, 'F2': -61.66718271310434, 'F3': -70.99927696089256, 'F4': -130.50506069064352, 'F5': -81.37525176845475, 'F6': -76.16409526419561}\n",
      "File: F2.3.18.mfcc ,Score: {'F1': -81.30071785557035, 'F2': -67.12107482471343, 'F3': -80.22161794114068, 'F4': -161.3627217610824, 'F5': -86.16808336729055, 'F6': -82.16698514398753}\n",
      "File: F2.3.19.mfcc ,Score: {'F1': -81.98711701188236, 'F2': -64.62239634875057, 'F3': -75.15017755758392, 'F4': -139.36842170725285, 'F5': -87.09155651871126, 'F6': -80.60974296055237}\n",
      "File: F2.3.2.mfcc ,Score: {'F1': -81.4907991216886, 'F2': -59.423215621689884, 'F3': -72.67205292373384, 'F4': -140.3564408284434, 'F5': -91.93725734034643, 'F6': -74.80026486929565}\n",
      "File: F2.3.3.mfcc ,Score: {'F1': -76.23072542349253, 'F2': -62.53881528346055, 'F3': -67.45549641610052, 'F4': -133.61241744357278, 'F5': -89.19939511594066, 'F6': -77.22727420055956}\n",
      "File: F2.3.4.mfcc ,Score: {'F1': -76.76896461444576, 'F2': -64.56894211261123, 'F3': -72.83507621034676, 'F4': -154.24745060843944, 'F5': -87.11213700568095, 'F6': -72.94200788270729}\n",
      "File: F2.3.5.mfcc ,Score: {'F1': -76.80095973465255, 'F2': -63.09288732385898, 'F3': -72.44781354445949, 'F4': -140.19717782477326, 'F5': -87.12848386462902, 'F6': -75.48540068097903}\n",
      "File: F2.3.6.mfcc ,Score: {'F1': -75.66175692118411, 'F2': -61.04920221092723, 'F3': -71.50055657094701, 'F4': -147.21217800363561, 'F5': -87.39868285698293, 'F6': -75.3468950324052}\n",
      "File: F2.3.7.mfcc ,Score: {'F1': -74.96420540844264, 'F2': -58.05589890729152, 'F3': -70.3576750036686, 'F4': -137.92853750544668, 'F5': -82.53271845500885, 'F6': -71.01373255111498}\n",
      "File: F2.3.8.mfcc ,Score: {'F1': -81.68364653434422, 'F2': -64.17790785635302, 'F3': -75.10753991682473, 'F4': -143.4674393262248, 'F5': -84.55199752489688, 'F6': -75.85696472823582}\n",
      "File: F2.3.9.mfcc ,Score: {'F1': -77.64771387800273, 'F2': -63.68874368073244, 'F3': -72.01580072666997, 'F4': -132.3605131522406, 'F5': -86.24982391651227, 'F6': -76.81943704404111}\n",
      "File: F3.3.1.mfcc ,Score: {'F1': -73.48096984694823, 'F2': -73.58260769072587, 'F3': -62.89452804509331, 'F4': -143.06276996003328, 'F5': -84.57258236565313, 'F6': -79.58833337418264}\n",
      "File: F3.3.10.mfcc ,Score: {'F1': -76.08484811860495, 'F2': -75.06044546366134, 'F3': -59.102825642586204, 'F4': -146.00313234104107, 'F5': -89.01907190604533, 'F6': -83.02974206185735}\n",
      "File: F3.3.11.mfcc ,Score: {'F1': -78.80818642100081, 'F2': -77.29654634436436, 'F3': -63.832588005285906, 'F4': -156.3454191978977, 'F5': -79.69611471310469, 'F6': -77.52630792218098}\n",
      "File: F3.3.12.mfcc ,Score: {'F1': -81.03208201365172, 'F2': -76.36979855941856, 'F3': -66.08456339761135, 'F4': -159.66731296275077, 'F5': -87.85902247304713, 'F6': -82.27995423561354}\n",
      "File: F3.3.13.mfcc ,Score: {'F1': -74.33847839725274, 'F2': -73.07251490952076, 'F3': -62.79229535210982, 'F4': -145.86394932838667, 'F5': -83.80944639406083, 'F6': -81.35507404500429}\n",
      "File: F3.3.14.mfcc ,Score: {'F1': -97.22672068591804, 'F2': -87.3848417118135, 'F3': -62.100605488088874, 'F4': -152.13935222197583, 'F5': -98.07936066365416, 'F6': -97.30606780261589}\n",
      "File: F3.3.15.mfcc ,Score: {'F1': -87.13168788662139, 'F2': -80.68588249203623, 'F3': -67.32396165949666, 'F4': -162.72504442475952, 'F5': -93.5035016642174, 'F6': -91.14183893948056}\n",
      "File: F3.3.16.mfcc ,Score: {'F1': -82.73927171584717, 'F2': -80.56851149798449, 'F3': -73.79287153968434, 'F4': -166.68719536904413, 'F5': -83.76283452778199, 'F6': -81.41264656750757}\n",
      "File: F3.3.17.mfcc ,Score: {'F1': -78.82246156070173, 'F2': -75.45664350271159, 'F3': -66.46116397076504, 'F4': -138.9161669810804, 'F5': -89.96332897119844, 'F6': -86.12010191356799}\n",
      "File: F3.3.18.mfcc ,Score: {'F1': -82.13954029540281, 'F2': -78.21402840833562, 'F3': -57.41351237480012, 'F4': -136.7187638648144, 'F5': -88.8899020772014, 'F6': -84.46349631575157}\n",
      "File: F3.3.19.mfcc ,Score: {'F1': -70.53956213240853, 'F2': -70.53117363324834, 'F3': -59.27725981974574, 'F4': -136.51022966522513, 'F5': -89.71938432220959, 'F6': -79.3142442013015}\n",
      "File: F3.3.2.mfcc ,Score: {'F1': -78.20362044700414, 'F2': -79.44379641182037, 'F3': -64.32852670589486, 'F4': -165.06382661326197, 'F5': -85.04488188272626, 'F6': -86.42637229675432}\n",
      "File: F3.3.3.mfcc ,Score: {'F1': -94.34582433045038, 'F2': -85.54035903643845, 'F3': -62.75000960296665, 'F4': -143.91747325880905, 'F5': -99.2088869119299, 'F6': -94.49335939309294}\n",
      "File: F3.3.4.mfcc ,Score: {'F1': -84.37333070524718, 'F2': -81.16114893383472, 'F3': -71.04460544481978, 'F4': -169.50822183901573, 'F5': -88.80079404945594, 'F6': -88.75647571997091}\n",
      "File: F3.3.5.mfcc ,Score: {'F1': -75.06312229307308, 'F2': -73.7824684139139, 'F3': -62.3152441239695, 'F4': -146.21524354940948, 'F5': -84.68533127963259, 'F6': -75.95693176470479}\n",
      "File: F3.3.6.mfcc ,Score: {'F1': -80.75468460179908, 'F2': -78.12930674095772, 'F3': -66.15169965493035, 'F4': -148.8544316448646, 'F5': -86.49568792466125, 'F6': -83.90412220089264}\n",
      "File: F3.3.7.mfcc ,Score: {'F1': -81.65083665281414, 'F2': -74.59758095823219, 'F3': -64.787817175039, 'F4': -165.12601040883595, 'F5': -88.52084323930436, 'F6': -82.5070854636742}\n",
      "File: F3.3.8.mfcc ,Score: {'F1': -81.5249745050859, 'F2': -81.18625009451156, 'F3': -68.50019603406399, 'F4': -174.33899120856663, 'F5': -93.58918500849833, 'F6': -90.92633797372784}\n",
      "File: F3.3.9.mfcc ,Score: {'F1': -97.47538424060423, 'F2': -86.82172555761896, 'F3': -70.0983201319042, 'F4': -160.612645810236, 'F5': -95.66265212610924, 'F6': -91.52845836291853}\n",
      "File: F4.3.1.mfcc ,Score: {'F1': -73.35700886518065, 'F2': -72.89089657067618, 'F3': -76.48868825885766, 'F4': -111.6997798552971, 'F5': -80.37076794890457, 'F6': -76.3722912904823}\n",
      "File: F4.3.10.mfcc ,Score: {'F1': -71.2304701323441, 'F2': -75.71914733586166, 'F3': -74.77038190342037, 'F4': -124.04825354046596, 'F5': -77.1575857610279, 'F6': -74.45417991114624}\n",
      "File: F4.3.11.mfcc ,Score: {'F1': -74.29970499453515, 'F2': -79.86597093404737, 'F3': -76.76496864245915, 'F4': -120.63009624290886, 'F5': -77.57215748134443, 'F6': -80.94986370203945}\n",
      "File: F4.3.12.mfcc ,Score: {'F1': -72.98996603148431, 'F2': -75.87053040002303, 'F3': -73.84743681954586, 'F4': -115.94353477636095, 'F5': -76.8506970146431, 'F6': -76.87778019677415}\n",
      "File: F4.3.13.mfcc ,Score: {'F1': -71.45723628070229, 'F2': -71.22117615414055, 'F3': -72.59220868601024, 'F4': -107.29455891033805, 'F5': -76.5312198640044, 'F6': -73.77398571654015}\n",
      "File: F4.3.14.mfcc ,Score: {'F1': -75.58985208409369, 'F2': -79.80709433968572, 'F3': -75.59013452738058, 'F4': -136.49918769154516, 'F5': -80.49804841339753, 'F6': -83.3524597780666}\n",
      "File: F4.3.15.mfcc ,Score: {'F1': -73.88618821291844, 'F2': -73.96872380549331, 'F3': -75.6859119029902, 'F4': -106.54754459698489, 'F5': -78.71137737152118, 'F6': -78.00699328071792}\n",
      "File: F4.3.16.mfcc ,Score: {'F1': -75.81580954894973, 'F2': -76.74236477468934, 'F3': -73.6345248738313, 'F4': -122.47319790996548, 'F5': -78.26939039768989, 'F6': -84.94056644155927}\n",
      "File: F4.3.17.mfcc ,Score: {'F1': -73.22593442238139, 'F2': -70.06742127870396, 'F3': -71.64086643721984, 'F4': -107.25046228992926, 'F5': -75.69305340132578, 'F6': -76.79209863174388}\n",
      "File: F4.3.18.mfcc ,Score: {'F1': -72.01446313321605, 'F2': -77.41920390441439, 'F3': -77.01846811136957, 'F4': -127.01219651103271, 'F5': -80.2155532043173, 'F6': -81.41843472158963}\n",
      "File: F4.3.19.mfcc ,Score: {'F1': -68.252582093604, 'F2': -73.58089802014243, 'F3': -73.1937496932322, 'F4': -112.44418358423451, 'F5': -75.4826540018301, 'F6': -71.16759585526786}\n",
      "File: F4.3.2.mfcc ,Score: {'F1': -74.89557171570773, 'F2': -79.64748248928908, 'F3': -76.6485280083371, 'F4': -129.75266091330846, 'F5': -77.39694036251922, 'F6': -80.30132833270036}\n",
      "File: F4.3.20.mfcc ,Score: {'F1': -67.69226115753747, 'F2': -79.2548178850509, 'F3': -77.62578866881896, 'F4': -132.3961512433404, 'F5': -81.64938584377329, 'F6': -76.22661537686191}\n",
      "File: F4.3.3.mfcc ,Score: {'F1': -74.29899206724865, 'F2': -68.66786592462512, 'F3': -70.87881919961525, 'F4': -106.2622945318106, 'F5': -77.65561060797066, 'F6': -70.44683868658011}\n",
      "File: F4.3.4.mfcc ,Score: {'F1': -73.70284977648116, 'F2': -78.77761015099158, 'F3': -79.0040986519643, 'F4': -114.73710238980593, 'F5': -79.40248480287126, 'F6': -80.22318798010983}\n",
      "File: F4.3.5.mfcc ,Score: {'F1': -64.75295670442317, 'F2': -74.86791980143535, 'F3': -70.23603894792618, 'F4': -116.04843815619509, 'F5': -74.49049484792742, 'F6': -72.6891694503573}\n",
      "File: F4.3.6.mfcc ,Score: {'F1': -71.6154253430176, 'F2': -77.11816687376088, 'F3': -72.54590244044245, 'F4': -120.7885270227211, 'F5': -80.24284557965528, 'F6': -78.59968709791012}\n",
      "File: F4.3.7.mfcc ,Score: {'F1': -72.11000417808799, 'F2': -79.28247116201797, 'F3': -76.12726967862267, 'F4': -117.27468470091762, 'F5': -78.75107055556892, 'F6': -78.82629709573139}\n",
      "File: F4.3.8.mfcc ,Score: {'F1': -74.38849258086624, 'F2': -77.20759323719163, 'F3': -74.84390426532099, 'F4': -117.72247568961713, 'F5': -78.19960176821023, 'F6': -79.12035872497455}\n",
      "File: F4.3.9.mfcc ,Score: {'F1': -69.04388988297751, 'F2': -68.81433561076186, 'F3': -71.56824043695562, 'F4': -107.16571115803242, 'F5': -71.33039741933412, 'F6': -71.11046266222156}\n",
      "File: F5.3.1.mfcc ,Score: {'F1': -82.3587167544557, 'F2': -81.90890961534127, 'F3': -78.22996956465782, 'F4': -165.18431228411785, 'F5': -56.177642970314, 'F6': -80.5182593294456}\n",
      "File: F5.3.10.mfcc ,Score: {'F1': -84.58595843050999, 'F2': -87.07169474856833, 'F3': -83.501277457532, 'F4': -172.0656331081433, 'F5': -60.476987514287806, 'F6': -83.69200322448916}\n",
      "File: F5.3.11.mfcc ,Score: {'F1': -80.563668864962, 'F2': -80.04623061795007, 'F3': -75.6550347296789, 'F4': -162.4262955502817, 'F5': -56.66978796388007, 'F6': -76.16722112883889}\n",
      "File: F5.3.12.mfcc ,Score: {'F1': -80.57147379252477, 'F2': -82.84611624879064, 'F3': -80.46972641286214, 'F4': -177.47912336207264, 'F5': -59.030298497893334, 'F6': -82.38917776318422}\n",
      "File: F5.3.13.mfcc ,Score: {'F1': -74.44148871840291, 'F2': -78.79454584821353, 'F3': -76.64085912479733, 'F4': -166.96508497691454, 'F5': -61.083776993045554, 'F6': -81.41899418270435}\n",
      "File: F5.3.14.mfcc ,Score: {'F1': -81.94098129371655, 'F2': -83.83896969905413, 'F3': -83.36022969338691, 'F4': -167.6390790919223, 'F5': -62.6487565453238, 'F6': -79.9773263424363}\n",
      "File: F5.3.15.mfcc ,Score: {'F1': -84.47867853561323, 'F2': -82.37895080287049, 'F3': -82.44911649858408, 'F4': -180.26688363244756, 'F5': -58.72921337951142, 'F6': -85.70535520260428}\n",
      "File: F5.3.16.mfcc ,Score: {'F1': -76.67849730262483, 'F2': -83.34941483934546, 'F3': -78.49208302913377, 'F4': -169.89161081400022, 'F5': -61.66186261599724, 'F6': -86.59256218858351}\n",
      "File: F5.3.17.mfcc ,Score: {'F1': -84.00367447111188, 'F2': -84.46611357530587, 'F3': -82.95760476580304, 'F4': -164.85708022212722, 'F5': -62.14235525595131, 'F6': -85.64034614352909}\n",
      "File: F5.3.18.mfcc ,Score: {'F1': -81.54862209104677, 'F2': -82.76261417081068, 'F3': -82.23808079153669, 'F4': -172.66315618441766, 'F5': -63.61541590809179, 'F6': -82.19624724954949}\n",
      "File: F5.3.19.mfcc ,Score: {'F1': -83.69243963359803, 'F2': -86.68395658259242, 'F3': -78.17028556536356, 'F4': -165.6402366356484, 'F5': -64.67998445459504, 'F6': -84.74450578306869}\n",
      "File: F5.3.2.mfcc ,Score: {'F1': -80.7689627235573, 'F2': -80.78276591627336, 'F3': -81.74025782013128, 'F4': -162.2866487289858, 'F5': -56.912183561781156, 'F6': -79.92157986505379}\n",
      "File: F5.3.3.mfcc ,Score: {'F1': -80.68737941002954, 'F2': -81.5217149330155, 'F3': -80.10983844943179, 'F4': -152.74594083966872, 'F5': -60.20791162771214, 'F6': -78.43871400757176}\n",
      "File: F5.3.4.mfcc ,Score: {'F1': -77.46654291668288, 'F2': -80.4933600972777, 'F3': -77.17738071902804, 'F4': -144.0878554440684, 'F5': -58.95302042372491, 'F6': -77.77772282300111}\n",
      "File: F5.3.5.mfcc ,Score: {'F1': -78.66424411226289, 'F2': -80.50957006674497, 'F3': -78.61968173836708, 'F4': -152.9550971299037, 'F5': -57.48661560689096, 'F6': -78.59118837074455}\n",
      "File: F5.3.6.mfcc ,Score: {'F1': -76.48850452756398, 'F2': -87.80058899249185, 'F3': -80.63043669770597, 'F4': -164.2763369269949, 'F5': -59.67056400969246, 'F6': -84.93907042693293}\n",
      "File: F5.3.7.mfcc ,Score: {'F1': -83.87413261160383, 'F2': -83.97064560978588, 'F3': -79.30213309229835, 'F4': -163.90877303782193, 'F5': -55.28698366226878, 'F6': -81.02438085756492}\n",
      "File: F5.3.8.mfcc ,Score: {'F1': -77.80324814160308, 'F2': -78.02450014221223, 'F3': -75.41787596449701, 'F4': -149.82657364264549, 'F5': -56.912913474283826, 'F6': -74.35314105383031}\n",
      "File: F5.3.9.mfcc ,Score: {'F1': -81.23674382215928, 'F2': -83.84880286401894, 'F3': -82.13876617849077, 'F4': -171.51064809546432, 'F5': -61.8484021879779, 'F6': -84.53957402631546}\n",
      "File: F6.3.1.mfcc ,Score: {'F1': -83.1360919087272, 'F2': -82.005218271288, 'F3': -82.58698663350445, 'F4': -147.4315408579869, 'F5': -96.41388598262512, 'F6': -59.23888231396707}\n",
      "File: F6.3.10.mfcc ,Score: {'F1': -83.34693114362469, 'F2': -77.54981281075877, 'F3': -80.17451928469924, 'F4': -146.33681875602502, 'F5': -92.14121014750766, 'F6': -56.776168207514296}\n",
      "File: F6.3.11.mfcc ,Score: {'F1': -74.78065367248452, 'F2': -74.26623408250147, 'F3': -74.83972165279673, 'F4': -139.15403099271515, 'F5': -85.3671317318957, 'F6': -60.0186027808265}\n",
      "File: F6.3.12.mfcc ,Score: {'F1': -76.38370309049064, 'F2': -75.45238300225132, 'F3': -76.93344041226173, 'F4': -137.56200318815164, 'F5': -89.69861396261688, 'F6': -58.71109934142005}\n",
      "File: F6.3.13.mfcc ,Score: {'F1': -86.67231327637565, 'F2': -86.60163100501363, 'F3': -84.71304524633133, 'F4': -177.47219976671954, 'F5': -98.95769775417097, 'F6': -56.55106984386611}\n",
      "File: F6.3.14.mfcc ,Score: {'F1': -75.53028524361847, 'F2': -75.88302528775736, 'F3': -79.1969116790379, 'F4': -151.14742325802757, 'F5': -89.6222452925821, 'F6': -59.41558322348706}\n",
      "File: F6.3.15.mfcc ,Score: {'F1': -78.79587573824467, 'F2': -79.86401361225022, 'F3': -79.30750083796411, 'F4': -153.44821630262766, 'F5': -94.67262698423293, 'F6': -58.35739965307421}\n",
      "File: F6.3.16.mfcc ,Score: {'F1': -70.7740438099921, 'F2': -72.65614663316934, 'F3': -72.96182582392903, 'F4': -124.56990075599948, 'F5': -81.64652783746149, 'F6': -56.39996870556589}\n",
      "File: F6.3.17.mfcc ,Score: {'F1': -86.00609569083072, 'F2': -83.2555098596111, 'F3': -82.55079954832208, 'F4': -164.38463576518367, 'F5': -92.56628397943742, 'F6': -55.53777976360047}\n",
      "File: F6.3.18.mfcc ,Score: {'F1': -76.51534634919831, 'F2': -74.90212449251733, 'F3': -78.21805235104449, 'F4': -148.4179529177379, 'F5': -89.23401934231255, 'F6': -58.09334783664963}\n",
      "File: F6.3.19.mfcc ,Score: {'F1': -74.06748497968742, 'F2': -71.66099592365914, 'F3': -76.07131508257957, 'F4': -132.1979337620877, 'F5': -85.18662099760792, 'F6': -57.243194384894096}\n",
      "File: F6.3.2.mfcc ,Score: {'F1': -88.34970678157407, 'F2': -80.44518000400411, 'F3': -81.92765585371417, 'F4': -156.65370283182554, 'F5': -98.37513754270498, 'F6': -58.68092847501607}\n",
      "File: F6.3.3.mfcc ,Score: {'F1': -79.67169894514214, 'F2': -79.31094514653971, 'F3': -81.6621236390185, 'F4': -152.33969958893616, 'F5': -90.0880944173211, 'F6': -59.67242649223254}\n",
      "File: F6.3.4.mfcc ,Score: {'F1': -80.00514256242873, 'F2': -81.37274668691998, 'F3': -82.69838714104081, 'F4': -161.56719285239646, 'F5': -89.88302519952408, 'F6': -59.25466253099793}\n",
      "File: F6.3.5.mfcc ,Score: {'F1': -71.86273849954593, 'F2': -71.4799609193969, 'F3': -74.80932802349494, 'F4': -147.64070325966276, 'F5': -88.20175202775228, 'F6': -59.256820764021114}\n",
      "File: F6.3.6.mfcc ,Score: {'F1': -83.77716578798635, 'F2': -83.03792495251479, 'F3': -82.43515971317994, 'F4': -149.02686549766068, 'F5': -95.64882347816996, 'F6': -57.03810084367411}\n",
      "File: F6.3.7.mfcc ,Score: {'F1': -73.43019779586648, 'F2': -71.70833389177676, 'F3': -77.63660588292043, 'F4': -144.0098871020182, 'F5': -86.82094061203158, 'F6': -57.060613287414405}\n",
      "File: F6.3.8.mfcc ,Score: {'F1': -86.14766622473891, 'F2': -80.82631668355302, 'F3': -84.71238895203759, 'F4': -158.21239985702613, 'F5': -95.58531445456263, 'F6': -59.3721820972376}\n",
      "File: F6.3.9.mfcc ,Score: {'F1': -81.28366578639844, 'F2': -76.05903536590692, 'F3': -78.7743517337193, 'F4': -147.48883391956852, 'F5': -91.85052921755495, 'F6': -58.346945745969876}\n"
     ]
    }
   ],
   "source": [
    "results_3_F_256 = []\n",
    "\n",
    "# Calculate scores for each GMM model and store file name with score\n",
    "for test_segment_name, test_segment in test_files_3_F.items():\n",
    "    score = get_scores(test_segment, gmm_models_F_256)\n",
    "    results_3_F_256.append((test_segment_name, score))\n",
    "\n",
    "# Printing the results\n",
    "for result in results_3_F_256:\n",
    "    file_name, score = result\n",
    "    print(f\"File: {file_name} ,Score: {score}\")"
   ]
  },
  {
   "cell_type": "markdown",
   "id": "0a38fc76",
   "metadata": {},
   "source": [
    "## Sort the scores"
   ]
  },
  {
   "cell_type": "code",
   "execution_count": 42,
   "id": "0f26aab2",
   "metadata": {},
   "outputs": [],
   "source": [
    "# Extract the scores from results_3_F_256\n",
    "scores = [score for _, score in results_3_F_256]\n",
    "    \n",
    "scores_array = np.array([list(item.values()) for item in scores]).flatten()\n",
    "\n",
    "sorted_scores_array = np.sort(scores_array)\n"
   ]
  },
  {
   "cell_type": "markdown",
   "id": "0ff14d01",
   "metadata": {},
   "source": [
    "## Plot the DET curve"
   ]
  },
  {
   "cell_type": "code",
   "execution_count": 43,
   "id": "165299b3",
   "metadata": {},
   "outputs": [
    {
     "data": {
      "image/png": "[encoded data removed]",
      "text/plain": [
       "<Figure size 640x480 with 1 Axes>"
      ]
     },
     "metadata": {},
     "output_type": "display_data"
    }
   ],
   "source": [
    "# Initialize variables\n",
    "genuine_scores = defaultdict(list)  # Dictionary to store genuine scores for each client\n",
    "impostor_scores = []  # List to store impostor scores\n",
    "\n",
    "# Extract genuine scores and impostor scores\n",
    "for result in results_3_F_256:\n",
    "    file_name, score = result\n",
    "    client_name = file_name.split('.')[0]  # Extract client name from file name\n",
    "\n",
    "    genuine_scores[client_name].append(score[client_name])\n",
    "\n",
    "    impostor_scores.extend([s for key, s in score.items() if key != client_name])\n",
    "\n",
    "# Compute the minimum and maximum scores\n",
    "min_score = min(sorted_scores_array)\n",
    "max_score = max(sorted_scores_array)\n",
    "\n",
    "# Set the number of thresholds and generate them using linspace\n",
    "num_thresholds = 1000\n",
    "thresholds = np.geomspace(max_score, min_score, num_thresholds)\n",
    "\n",
    "# Initialize lists for FAR and FRR\n",
    "far = []\n",
    "frr = []\n",
    "\n",
    "# Iterate over thresholds\n",
    "for threshold in thresholds:\n",
    "    # Compute the number of false accepts (FAR) and false rejects (FRR)\n",
    "    false_accepts = sum(score >= threshold for score in impostor_scores)\n",
    "    false_rejects = 0\n",
    "    for client_scores in genuine_scores.values():\n",
    "        false_rejects += sum(score < threshold for score in client_scores)\n",
    "\n",
    "    # Compute the FAR and FRR rates\n",
    "    far_rate = false_accepts / len(impostor_scores)\n",
    "    frr_rate = false_rejects / sum(len(client_scores) for client_scores in genuine_scores.values())\n",
    "\n",
    "    # Append the FAR and FRR rates to the lists\n",
    "    far.append(far_rate)\n",
    "    frr.append(frr_rate)\n",
    "\n",
    "# Find the threshold with the closest FAR and FRR\n",
    "eer_threshold = thresholds[np.argmin(np.abs(np.array(far) - np.array(frr)))]\n",
    "\n",
    "# Compute the EER values\n",
    "eer_far = far[np.argmin(np.abs(np.array(far) - np.array(frr)))]\n",
    "eer_frr = frr[np.argmin(np.abs(np.array(far) - np.array(frr)))]\n",
    "\n",
    "# Plot the FAR and FRR curve\n",
    "plt.plot(far, frr)\n",
    "plt.xlabel('False Acceptance Rate (FAR)')\n",
    "plt.ylabel('False Rejection Rate (FRR)')\n",
    "plt.title('DET Curve')\n",
    "plt.grid(True)\n",
    "\n",
    "# Plot the EER point\n",
    "plt.scatter(eer_far, eer_frr, color='red', marker='o', label='EER')\n",
    "\n",
    "# Add legend\n",
    "plt.legend()\n",
    "\n",
    "# Add text annotation for EER point\n",
    "plt.annotate(f'EER: ({eer_far:.3f}, {eer_frr:.3f})', (eer_far, eer_frr), xytext=(eer_far + 0.05, eer_frr), color='red')\n",
    "\n",
    "plt.show()\n"
   ]
  },
  {
   "cell_type": "markdown",
   "id": "96b6f834",
   "metadata": {},
   "source": [
    "### 10 seconds segments :"
   ]
  },
  {
   "cell_type": "markdown",
   "id": "549b9063",
   "metadata": {},
   "source": [
    "## Get the scores"
   ]
  },
  {
   "cell_type": "code",
   "execution_count": 44,
   "id": "66b41b32",
   "metadata": {},
   "outputs": [
    {
     "name": "stdout",
     "output_type": "stream",
     "text": [
      "File: F1.10.1.mfcc ,Score: {'F1': -68.05627334020252, 'F2': -70.82149483290223, 'F3': -75.03381653212482, 'F4': -151.36119231233525, 'F5': -90.2032358018524, 'F6': -75.11595749997583}\n",
      "File: F1.10.2.mfcc ,Score: {'F1': -70.09472342437448, 'F2': -67.70351285718553, 'F3': -75.28280283554966, 'F4': -149.41208124896332, 'F5': -93.31000875147818, 'F6': -75.25810818092168}\n",
      "File: F1.10.3.mfcc ,Score: {'F1': -69.04168179800011, 'F2': -68.4753770537103, 'F3': -78.14540336950729, 'F4': -154.92097599208378, 'F5': -90.88189787241144, 'F6': -74.43360733953746}\n",
      "File: F1.10.4.mfcc ,Score: {'F1': -75.22962774223357, 'F2': -72.6001599527958, 'F3': -71.84667422161236, 'F4': -141.3114766202331, 'F5': -94.68790145554414, 'F6': -80.98909718356352}\n",
      "File: F1.10.5.mfcc ,Score: {'F1': -67.63717284456786, 'F2': -70.11764087484102, 'F3': -74.99347668378941, 'F4': -141.88197528498043, 'F5': -91.74604316380821, 'F6': -75.78249445905631}\n",
      "File: F1.10.6.mfcc ,Score: {'F1': -62.77838920211615, 'F2': -74.04433783452446, 'F3': -77.31651800791373, 'F4': -144.89299818046558, 'F5': -89.19947103522183, 'F6': -74.68674030893338}\n",
      "File: F2.10.1.mfcc ,Score: {'F1': -78.93184450725606, 'F2': -62.377867882613764, 'F3': -71.40664597365321, 'F4': -141.25573370539203, 'F5': -89.65729126480595, 'F6': -76.00224895097017}\n",
      "File: F2.10.2.mfcc ,Score: {'F1': -75.93452141940473, 'F2': -61.648912047379866, 'F3': -72.30454793901144, 'F4': -144.0471120258924, 'F5': -85.84263437766366, 'F6': -73.79114452870927}\n",
      "File: F2.10.3.mfcc ,Score: {'F1': -79.16831794114528, 'F2': -63.00579510787462, 'F3': -71.87047420753319, 'F4': -137.70051655924414, 'F5': -84.51321710359726, 'F6': -74.85610612837269}\n",
      "File: F2.10.4.mfcc ,Score: {'F1': -77.84429995142055, 'F2': -60.88793263931917, 'F3': -71.96564172192336, 'F4': -138.7046042958225, 'F5': -85.68794202171563, 'F6': -75.94095573023472}\n",
      "File: F2.10.5.mfcc ,Score: {'F1': -77.94516164600459, 'F2': -62.58311315210139, 'F3': -71.71130890736774, 'F4': -135.85472432293707, 'F5': -83.61228126250437, 'F6': -75.20469101828562}\n",
      "File: F2.10.6.mfcc ,Score: {'F1': -80.82614335953546, 'F2': -65.67252417345492, 'F3': -76.86000135771822, 'F4': -149.63759035317582, 'F5': -85.87536946894531, 'F6': -80.94953817714314}\n",
      "File: F3.10.1.mfcc ,Score: {'F1': -82.71149128873053, 'F2': -80.17405902943493, 'F3': -63.68413593709609, 'F4': -154.4408098623451, 'F5': -89.08048021458713, 'F6': -87.12904033103413}\n",
      "File: F3.10.2.mfcc ,Score: {'F1': -78.336646559924, 'F2': -75.33005255348546, 'F3': -65.60429716605394, 'F4': -151.19821679969854, 'F5': -86.94071494161396, 'F6': -81.27030802425203}\n",
      "File: F3.10.3.mfcc ,Score: {'F1': -85.83914087383486, 'F2': -81.28759520759414, 'F3': -66.30369866523033, 'F4': -163.17179732817849, 'F5': -92.6587798520038, 'F6': -88.73581722824667}\n",
      "File: F3.10.4.mfcc ,Score: {'F1': -78.00327238011609, 'F2': -74.82417928440944, 'F3': -63.95960935853807, 'F4': -153.2334105524902, 'F5': -84.08603090261991, 'F6': -79.70693657774126}\n",
      "File: F3.10.5.mfcc ,Score: {'F1': -88.26124632966133, 'F2': -83.15314021929493, 'F3': -68.11495774998934, 'F4': -158.7227432119973, 'F5': -92.69469094477229, 'F6': -91.59564396825536}\n",
      "File: F3.10.6.mfcc ,Score: {'F1': -78.59953353659716, 'F2': -75.38663761565569, 'F3': -59.57533193498983, 'F4': -134.89237519336984, 'F5': -87.79741868567837, 'F6': -82.1091828474544}\n",
      "File: F4.10.1.mfcc ,Score: {'F1': -73.90161947897614, 'F2': -73.97891753289147, 'F3': -74.95238557631887, 'F4': -116.01456762983157, 'F5': -78.61751848812489, 'F6': -76.15157096200629}\n",
      "File: F4.10.2.mfcc ,Score: {'F1': -70.0659225069195, 'F2': -77.30719764847605, 'F3': -73.63180158929104, 'F4': -117.88192606560976, 'F5': -78.14087953683597, 'F6': -77.13507433243993}\n",
      "File: F4.10.3.mfcc ,Score: {'F1': -71.85115638800478, 'F2': -74.61193156561588, 'F3': -74.34937437182884, 'F4': -115.75348469201008, 'F5': -75.74094187123602, 'F6': -75.35649507521791}\n",
      "File: F4.10.4.mfcc ,Score: {'F1': -73.30198760974834, 'F2': -76.04727351911865, 'F3': -74.76948188456814, 'F4': -116.49118194548102, 'F5': -77.26223954191475, 'F6': -77.9424778439303}\n",
      "File: F4.10.5.mfcc ,Score: {'F1': -73.9764792749153, 'F2': -75.09634758725235, 'F3': -73.62896912994867, 'F4': -118.19366637569092, 'F5': -78.44705540325609, 'F6': -80.92310619944395}\n",
      "File: F4.10.6.mfcc ,Score: {'F1': -70.57083249415128, 'F2': -75.86348912395933, 'F3': -75.69006563724645, 'F4': -120.71802991571262, 'F5': -78.4158828606358, 'F6': -76.18195760536757}\n",
      "File: F5.10.1.mfcc ,Score: {'F1': -80.50446618967838, 'F2': -81.4721478716181, 'F3': -79.3326795012376, 'F4': -159.91986649171722, 'F5': -57.75463108098396, 'F6': -79.55633148414331}\n",
      "File: F5.10.2.mfcc ,Score: {'F1': -79.68679096489878, 'F2': -83.40016433989399, 'F3': -79.6047880998741, 'F4': -154.24932224609734, 'F5': -58.10149665320542, 'F6': -80.46704951731854}\n",
      "File: F5.10.3.mfcc ,Score: {'F1': -80.9890728805514, 'F2': -82.90745368420693, 'F3': -80.12281770353033, 'F4': -165.48515703352973, 'F5': -59.32383977749078, 'F6': -81.115309194023}\n",
      "File: F5.10.4.mfcc ,Score: {'F1': -78.92204184752947, 'F2': -80.9441925360127, 'F3': -78.00287142035273, 'F4': -168.7893006077395, 'F5': -59.01166805504939, 'F6': -79.7241314337771}\n",
      "File: F5.10.5.mfcc ,Score: {'F1': -81.82473378282143, 'F2': -84.09798089598371, 'F3': -81.95269146875813, 'F4': -171.6849330076009, 'F5': -61.21802298328528, 'F6': -85.52859697405592}\n",
      "File: F5.10.6.mfcc ,Score: {'F1': -82.31147725962518, 'F2': -83.54686218327, 'F3': -80.27309394466786, 'F4': -168.42371334179782, 'F5': -64.06257885883731, 'F6': -83.11970569545102}\n",
      "File: F6.10.1.mfcc ,Score: {'F1': -83.26412303184628, 'F2': -80.55694219000266, 'F3': -82.07054563142486, 'F4': -154.0342149253599, 'F5': -93.51030470882776, 'F6': -59.43271329767427}\n",
      "File: F6.10.2.mfcc ,Score: {'F1': -77.53028063845055, 'F2': -76.9921278435415, 'F3': -79.39005598625977, 'F4': -150.2497588096908, 'F5': -92.3331004136033, 'F6': -57.86843705962655}\n",
      "File: F6.10.3.mfcc ,Score: {'F1': -82.50889796051305, 'F2': -77.58957238625351, 'F3': -80.76465043951417, 'F4': -148.92831962188117, 'F5': -91.65920880149523, 'F6': -58.108168870112685}\n",
      "File: F6.10.4.mfcc ,Score: {'F1': -79.83799340217948, 'F2': -79.27406954850929, 'F3': -79.72780992450285, 'F4': -154.5083147185478, 'F5': -92.0076365317165, 'F6': -58.653934770027}\n",
      "File: F6.10.5.mfcc ,Score: {'F1': -75.42334904452161, 'F2': -75.79549774757119, 'F3': -76.51160550221667, 'F4': -140.7852196345587, 'F5': -87.31289961040335, 'F6': -57.889509386837766}\n",
      "File: F6.10.6.mfcc ,Score: {'F1': -78.41054757493933, 'F2': -76.60626405474508, 'F3': -79.14943167934872, 'F4': -149.0608105807404, 'F5': -90.1382158226474, 'F6': -56.42918717118883}\n"
     ]
    }
   ],
   "source": [
    "results_10_F_256 = []\n",
    "\n",
    "# Calculate scores for each GMM model and store file name with score\n",
    "for test_segment_name, test_segment in test_files_10_F.items():\n",
    "    score = get_scores(test_segment, gmm_models_F_256)\n",
    "    results_10_F_256.append((test_segment_name, score))\n",
    "\n",
    "# Printing the results\n",
    "for result in results_10_F_256:\n",
    "    file_name, score = result\n",
    "    print(f\"File: {file_name} ,Score: {score}\")"
   ]
  },
  {
   "cell_type": "markdown",
   "id": "4075ff59",
   "metadata": {},
   "source": [
    "## Sort the scores"
   ]
  },
  {
   "cell_type": "code",
   "execution_count": 45,
   "id": "851eb9da",
   "metadata": {},
   "outputs": [],
   "source": [
    "# Extract the scores from results_10_F_256\n",
    "scores = [score for _, score in results_10_F_256]\n",
    "    \n",
    "scores_array = np.array([list(item.values()) for item in scores]).flatten()\n",
    "\n",
    "sorted_scores_array = np.sort(scores_array)\n"
   ]
  },
  {
   "cell_type": "markdown",
   "id": "efeda259",
   "metadata": {},
   "source": [
    "##  Plot the DET curve "
   ]
  },
  {
   "cell_type": "code",
   "execution_count": 46,
   "id": "4fab2cf8",
   "metadata": {},
   "outputs": [
    {
     "data": {
      "image/png": "[encoded data removed]",
      "text/plain": [
       "<Figure size 640x480 with 1 Axes>"
      ]
     },
     "metadata": {},
     "output_type": "display_data"
    }
   ],
   "source": [
    "# Initialize variables\n",
    "genuine_scores = defaultdict(list)  # Dictionary to store genuine scores for each client\n",
    "impostor_scores = []  # List to store impostor scores\n",
    "\n",
    "# Extract genuine scores and impostor scores\n",
    "for result in results_10_F_256:\n",
    "    file_name, score = result\n",
    "    client_name = file_name.split('.')[0]  # Extract client name from file name\n",
    "\n",
    "    genuine_scores[client_name].append(score[client_name])\n",
    "\n",
    "    impostor_scores.extend([s for key, s in score.items() if key != client_name])\n",
    "\n",
    "# Compute the minimum and maximum scores\n",
    "min_score = min(sorted_scores_array)\n",
    "max_score = max(sorted_scores_array)\n",
    "\n",
    "# Set the number of thresholds and generate them using linspace\n",
    "num_thresholds = 1000\n",
    "thresholds = np.geomspace(max_score, min_score, num_thresholds)\n",
    "\n",
    "# Initialize lists for FAR and FRR\n",
    "far = []\n",
    "frr = []\n",
    "\n",
    "# Iterate over thresholds\n",
    "for threshold in thresholds:\n",
    "    # Compute the number of false accepts (FAR) and false rejects (FRR)\n",
    "    false_accepts = sum(score >= threshold for score in impostor_scores)\n",
    "    false_rejects = 0\n",
    "    for client_scores in genuine_scores.values():\n",
    "        false_rejects += sum(score < threshold for score in client_scores)\n",
    "\n",
    "    # Compute the FAR and FRR rates\n",
    "    far_rate = false_accepts / len(impostor_scores)\n",
    "    frr_rate = false_rejects / sum(len(client_scores) for client_scores in genuine_scores.values())\n",
    "\n",
    "    # Append the FAR and FRR rates to the lists\n",
    "    far.append(far_rate)\n",
    "    frr.append(frr_rate)\n",
    "\n",
    "# Find the threshold with the closest FAR and FRR\n",
    "eer_threshold = thresholds[np.argmin(np.abs(np.array(far) - np.array(frr)))]\n",
    "\n",
    "# Compute the EER values\n",
    "eer_far = far[np.argmin(np.abs(np.array(far) - np.array(frr)))]\n",
    "eer_frr = frr[np.argmin(np.abs(np.array(far) - np.array(frr)))]\n",
    "\n",
    "# Plot the FAR and FRR curve\n",
    "plt.plot(far, frr)\n",
    "plt.xlabel('False Acceptance Rate (FAR)')\n",
    "plt.ylabel('False Rejection Rate (FRR)')\n",
    "plt.title('DET Curve')\n",
    "plt.grid(True)\n",
    "\n",
    "# Plot the EER point\n",
    "plt.scatter(eer_far, eer_frr, color='red', marker='o', label='EER')\n",
    "\n",
    "# Add legend\n",
    "plt.legend()\n",
    "\n",
    "# Add text annotation for EER point\n",
    "plt.annotate(f'EER: ({eer_far:.3f}, {eer_frr:.3f})', (eer_far, eer_frr), xytext=(eer_far + 0.05, eer_frr), color='red')\n",
    "\n",
    "plt.show()\n"
   ]
  },
  {
   "cell_type": "markdown",
   "id": "eda4c038",
   "metadata": {},
   "source": [
    "### 15 seconds segments :"
   ]
  },
  {
   "cell_type": "markdown",
   "id": "fb98c31e",
   "metadata": {},
   "source": [
    "## Get the scores"
   ]
  },
  {
   "cell_type": "code",
   "execution_count": 47,
   "id": "b06360a2",
   "metadata": {
    "scrolled": true
   },
   "outputs": [
    {
     "name": "stdout",
     "output_type": "stream",
     "text": [
      "File: F1.15.1.mfcc ,Score: {'F1': -67.43236195407742, 'F2': -69.45056017236428, 'F3': -75.05223362947912, 'F4': -150.49654207696682, 'F5': -91.13652176361636, 'F6': -74.87131729244513}\n",
      "File: F1.15.2.mfcc ,Score: {'F1': -70.69609042097397, 'F2': -68.5496963235011, 'F3': -77.25578152864207, 'F4': -153.29962429195473, 'F5': -91.7935731868783, 'F6': -75.0004647211782}\n",
      "File: F1.15.3.mfcc ,Score: {'F1': -71.43980122539705, 'F2': -70.4215800892739, 'F3': -73.31951308427763, 'F4': -140.83139918836054, 'F5': -93.41065396847138, 'F6': -78.05655744758097}\n",
      "File: F1.15.4.mfcc ,Score: {'F1': -66.54619386847546, 'F2': -74.09954008274762, 'F3': -75.74812557774658, 'F4': -144.45657063460163, 'F5': -90.69879751779983, 'F6': -76.73157915429262}\n",
      "File: F2.15.1.mfcc ,Score: {'F1': -78.179464156126, 'F2': -62.613897318316255, 'F3': -71.82309172171458, 'F4': -141.9608964730328, 'F5': -88.54785201486571, 'F6': -75.27591692505686}\n",
      "File: F2.15.2.mfcc ,Score: {'F1': -77.84365842241138, 'F2': -62.07448604026257, 'F3': -71.89802035841734, 'F4': -140.04134505398625, 'F5': -84.79424314917888, 'F6': -74.49041614697788}\n",
      "File: F2.15.3.mfcc ,Score: {'F1': -78.21354529279579, 'F2': -61.40167572208282, 'F3': -71.53033354343917, 'F4': -137.02038499470345, 'F5': -85.34113327924791, 'F6': -75.51137248296139}\n",
      "File: F2.15.4.mfcc ,Score: {'F1': -79.05248640557903, 'F2': -64.33335457634622, 'F3': -74.99088606143467, 'F4': -144.3547034463478, 'F5': -84.37066019054704, 'F6': -78.58075983362734}\n",
      "File: F3.15.1.mfcc ,Score: {'F1': -81.0933735245446, 'F2': -78.70207609734666, 'F3': -64.66658278454882, 'F4': -153.5535070441059, 'F5': -88.46249529787956, 'F6': -85.04429450974112}\n",
      "File: F3.15.2.mfcc ,Score: {'F1': -83.49814562378165, 'F2': -79.15906176299634, 'F3': -65.72817172770476, 'F4': -158.98704228270884, 'F5': -90.65748804092371, 'F6': -86.37914921261411}\n",
      "File: F3.15.3.mfcc ,Score: {'F1': -83.70743108088894, 'F2': -78.96191680343068, 'F3': -64.42680278051853, 'F4': -155.3482156271541, 'F5': -88.58948918161684, 'F6': -85.92184858897905}\n",
      "File: F3.15.4.mfcc ,Score: {'F1': -79.97561718379856, 'F2': -77.19166260656796, 'F3': -65.11130935680818, 'F4': -146.15477002383204, 'F5': -87.79524097207813, 'F6': -83.4476301403964}\n",
      "File: F4.15.1.mfcc ,Score: {'F1': -72.20147582580827, 'F2': -74.97035498740345, 'F3': -74.6512346133401, 'F4': -115.70005516928343, 'F5': -77.86325971403862, 'F6': -76.00656314804597}\n",
      "File: F4.15.2.mfcc ,Score: {'F1': -71.6776564234587, 'F2': -75.6283428439188, 'F3': -73.97113974495242, 'F4': -117.39993042235085, 'F5': -77.1363002167593, 'F6': -76.42219709839678}\n",
      "File: F4.15.3.mfcc ,Score: {'F1': -73.64458952074678, 'F2': -76.146699126678, 'F3': -74.89613211567722, 'F4': -117.38298444362756, 'F5': -78.03270002898213, 'F6': -78.59221653482766}\n",
      "File: F4.15.4.mfcc ,Score: {'F1': -71.65939622914973, 'F2': -75.1443934423433, 'F3': -74.41276180156726, 'F4': -119.4707807701165, 'F5': -78.02522913123475, 'F6': -78.240645507257}\n",
      "File: F5.15.1.mfcc ,Score: {'F1': -79.98916918339766, 'F2': -81.04326412573057, 'F3': -79.1754256583232, 'F4': -155.45197088534889, 'F5': -57.94747483808464, 'F6': -79.04949287916337}\n",
      "File: F5.15.2.mfcc ,Score: {'F1': -80.79771750668803, 'F2': -84.14324647141545, 'F3': -80.19809787810482, 'F4': -164.31759296221398, 'F5': -58.83917016970215, 'F6': -81.70963391782655}\n",
      "File: F5.15.3.mfcc ,Score: {'F1': -80.3992582410439, 'F2': -81.58096264337578, 'F3': -79.71499329186189, 'F4': -170.95529332272775, 'F5': -59.63236667593083, 'F6': -81.1316149239536}\n",
      "File: F5.15.4.mfcc ,Score: {'F1': -81.46596521178327, 'F2': -84.29962927664057, 'F3': -80.47991104113105, 'F4': -168.2806235434336, 'F5': -63.01379663989416, 'F6': -84.79374359325057}\n",
      "File: F6.15.1.mfcc ,Score: {'F1': -80.60507573948362, 'F2': -78.92281020562974, 'F3': -80.73689625815457, 'F4': -153.12656787816155, 'F5': -92.59237903398551, 'F6': -59.220744115246944}\n",
      "File: F6.15.2.mfcc ,Score: {'F1': -81.59712534772298, 'F2': -77.83628474090204, 'F3': -80.7466051133113, 'F4': -149.0149610264597, 'F5': -92.40936358196535, 'F6': -57.71880203636206}\n",
      "File: F6.15.3.mfcc ,Score: {'F1': -78.43256620424279, 'F2': -78.4134573979548, 'F3': -78.99812396567837, 'F4': -151.7567747016483, 'F5': -91.6636631450997, 'F6': -58.61075096853479}\n",
      "File: F6.15.4.mfcc ,Score: {'F1': -77.00473941330407, 'F2': -75.85273287361157, 'F3': -77.53205624998209, 'F4': -142.9954681361366, 'F5': -87.27496208314746, 'F6': -56.79346265086066}\n"
     ]
    }
   ],
   "source": [
    "results_15_F_256 = []\n",
    "\n",
    "# Calculate scores for each GMM model and store file name with score\n",
    "for test_segment_name, test_segment in test_files_15_F.items():\n",
    "    score = get_scores(test_segment, gmm_models_F_256)\n",
    "    results_15_F_256.append((test_segment_name, score))\n",
    "\n",
    "# Printing the results\n",
    "for result in results_15_F_256:\n",
    "    file_name, score = result\n",
    "    print(f\"File: {file_name} ,Score: {score}\")"
   ]
  },
  {
   "cell_type": "markdown",
   "id": "fb96faea",
   "metadata": {},
   "source": [
    "## Sort the scores"
   ]
  },
  {
   "cell_type": "code",
   "execution_count": 48,
   "id": "a41da472",
   "metadata": {
    "scrolled": true
   },
   "outputs": [],
   "source": [
    "# Extract the scores from results_15_F_256\n",
    "scores = [score for _, score in results_15_F_256]\n",
    "    \n",
    "scores_array = np.array([list(item.values()) for item in scores]).flatten()\n",
    "\n",
    "sorted_scores_array = np.sort(scores_array)\n"
   ]
  },
  {
   "cell_type": "markdown",
   "id": "ce55ff5b",
   "metadata": {},
   "source": [
    "## Plot the DET curve"
   ]
  },
  {
   "cell_type": "code",
   "execution_count": 49,
   "id": "0a09a22e",
   "metadata": {},
   "outputs": [
    {
     "data": {
      "image/png": "[encoded data removed]",
      "text/plain": [
       "<Figure size 640x480 with 1 Axes>"
      ]
     },
     "metadata": {},
     "output_type": "display_data"
    }
   ],
   "source": [
    "# Initialize variables\n",
    "genuine_scores = defaultdict(list)  # Dictionary to store genuine scores for each client\n",
    "impostor_scores = []  # List to store impostor scores\n",
    "\n",
    "# Extract genuine scores and impostor scores\n",
    "for result in results_15_F_256:\n",
    "    file_name, score = result\n",
    "    client_name = file_name.split('.')[0]  # Extract client name from file name\n",
    "\n",
    "    genuine_scores[client_name].append(score[client_name])\n",
    "\n",
    "    impostor_scores.extend([s for key, s in score.items() if key != client_name])\n",
    "\n",
    "# Compute the minimum and maximum scores\n",
    "min_score = min(sorted_scores_array)\n",
    "max_score = max(sorted_scores_array)\n",
    "\n",
    "# Set the number of thresholds and generate them using linspace\n",
    "num_thresholds = 1000\n",
    "thresholds = np.geomspace(max_score, min_score, num_thresholds)\n",
    "\n",
    "# Initialize lists for FAR and FRR\n",
    "far = []\n",
    "frr = []\n",
    "\n",
    "# Iterate over thresholds\n",
    "for threshold in thresholds:\n",
    "    # Compute the number of false accepts (FAR) and false rejects (FRR)\n",
    "    false_accepts = sum(score >= threshold for score in impostor_scores)\n",
    "    false_rejects = 0\n",
    "    for client_scores in genuine_scores.values():\n",
    "        false_rejects += sum(score < threshold for score in client_scores)\n",
    "\n",
    "    # Compute the FAR and FRR rates\n",
    "    far_rate = false_accepts / len(impostor_scores)\n",
    "    frr_rate = false_rejects / sum(len(client_scores) for client_scores in genuine_scores.values())\n",
    "\n",
    "    # Append the FAR and FRR rates to the lists\n",
    "    far.append(far_rate)\n",
    "    frr.append(frr_rate)\n",
    "\n",
    "# Find the threshold with the closest FAR and FRR\n",
    "eer_threshold = thresholds[np.argmin(np.abs(np.array(far) - np.array(frr)))]\n",
    "\n",
    "# Compute the EER values\n",
    "eer_far = far[np.argmin(np.abs(np.array(far) - np.array(frr)))]\n",
    "eer_frr = frr[np.argmin(np.abs(np.array(far) - np.array(frr)))]\n",
    "\n",
    "# Plot the FAR and FRR curve\n",
    "plt.plot(far, frr)\n",
    "plt.xlabel('False Acceptance Rate (FAR)')\n",
    "plt.ylabel('False Rejection Rate (FRR)')\n",
    "plt.title('DET Curve')\n",
    "plt.grid(True)\n",
    "\n",
    "# Plot the EER point\n",
    "plt.scatter(eer_far, eer_frr, color='red', marker='o', label='EER')\n",
    "\n",
    "# Add legend\n",
    "plt.legend()\n",
    "\n",
    "# Add text annotation for EER point\n",
    "plt.annotate(f'EER: ({eer_far:.3f}, {eer_frr:.3f})', (eer_far, eer_frr), xytext=(eer_far + 0.05, eer_frr), color='red')\n",
    "\n",
    "plt.show()\n"
   ]
  },
  {
   "cell_type": "markdown",
   "id": "8a4dd1aa",
   "metadata": {},
   "source": [
    "### 30 seconds segments :"
   ]
  },
  {
   "cell_type": "markdown",
   "id": "e4d742c7",
   "metadata": {},
   "source": [
    "## Get the scores"
   ]
  },
  {
   "cell_type": "code",
   "execution_count": 50,
   "id": "79032c65",
   "metadata": {
    "scrolled": true
   },
   "outputs": [
    {
     "name": "stdout",
     "output_type": "stream",
     "text": [
      "File: F1.30.1.mfcc ,Score: {'F1': -69.06422618752569, 'F2': -69.00012824793268, 'F3': -76.15400757906059, 'F4': -151.89808318446077, 'F5': -91.46504747524733, 'F6': -74.93589100681166}\n",
      "File: F1.30.2.mfcc ,Score: {'F1': -69.32034769892987, 'F2': -72.01452874857885, 'F3': -74.37136112566668, 'F4': -142.40148478072348, 'F5': -92.2361311066159, 'F6': -77.4827006357486}\n",
      "File: F2.30.1.mfcc ,Score: {'F1': -78.01156128926868, 'F2': -62.34419167928941, 'F3': -71.86055604006596, 'F4': -141.0011207635095, 'F5': -86.67104758202228, 'F6': -74.88316653601738}\n",
      "File: F2.30.2.mfcc ,Score: {'F1': -78.5677361478075, 'F2': -62.63939529999988, 'F3': -72.9913372259211, 'F4': -140.11684609755483, 'F5': -84.9314112048195, 'F6': -76.80723093301143}\n",
      "File: F3.30.1.mfcc ,Score: {'F1': -82.29575957416313, 'F2': -78.9305689301715, 'F3': -65.19737725612679, 'F4': -156.27027466340735, 'F5': -89.55999166940164, 'F6': -85.71172186117762}\n",
      "File: F3.30.2.mfcc ,Score: {'F1': -82.1969349796857, 'F2': -78.24538534279576, 'F3': -64.70386496615957, 'F4': -151.6270590734285, 'F5': -88.26800776347021, 'F6': -84.9203792169337}\n",
      "File: F4.30.1.mfcc ,Score: {'F1': -71.93956612463347, 'F2': -75.29934891566113, 'F3': -74.31118717914626, 'F4': -116.54999279581715, 'F5': -77.49977996539896, 'F6': -76.21438012322137}\n",
      "File: F4.30.2.mfcc ,Score: {'F1': -72.68551267897591, 'F2': -75.66247012273683, 'F3': -74.66260862140356, 'F4': -118.39163036014637, 'F5': -78.02909072552181, 'F6': -78.42236726513293}\n",
      "File: F5.30.1.mfcc ,Score: {'F1': -80.39344334504285, 'F2': -82.59325529857301, 'F3': -79.686761768214, 'F4': -159.88478192378145, 'F5': -58.393322503893394, 'F6': -80.37956339849495}\n",
      "File: F5.30.2.mfcc ,Score: {'F1': -80.8715891136744, 'F2': -82.78477045424191, 'F3': -80.05369387029013, 'F4': -169.77096703115322, 'F5': -61.12964175655651, 'F6': -82.75318155612374}\n",
      "File: F6.30.1.mfcc ,Score: {'F1': -81.1011005436033, 'F2': -78.37954747326589, 'F3': -80.74175068573292, 'F4': -151.07076445231064, 'F5': -92.50087130797542, 'F6': -58.469773075804504}\n",
      "File: F6.30.2.mfcc ,Score: {'F1': -77.81816143624675, 'F2': -77.31155808687204, 'F3': -78.36726383583262, 'F4': -147.98671760376573, 'F5': -89.77517157533447, 'F6': -57.82875793248284}\n"
     ]
    }
   ],
   "source": [
    "results_30_F_256 = []\n",
    "\n",
    "# Calculate scores for each GMM model and store file name with score\n",
    "for test_segment_name, test_segment in test_files_30_F.items():\n",
    "    score = get_scores(test_segment, gmm_models_F_256)\n",
    "    results_30_F_256.append((test_segment_name, score))\n",
    "\n",
    "# Printing the results\n",
    "for result in results_30_F_256:\n",
    "    file_name, score = result\n",
    "    print(f\"File: {file_name} ,Score: {score}\")"
   ]
  },
  {
   "cell_type": "markdown",
   "id": "c20c38e7",
   "metadata": {},
   "source": [
    "## Sort the scores"
   ]
  },
  {
   "cell_type": "code",
   "execution_count": 51,
   "id": "3398b5b8",
   "metadata": {
    "scrolled": true
   },
   "outputs": [],
   "source": [
    "# Extract the scores from results_30_F_256\n",
    "scores = [score for _, score in results_30_F_256]\n",
    "    \n",
    "scores_array = np.array([list(item.values()) for item in scores]).flatten()\n",
    "\n",
    "sorted_scores_array = np.sort(scores_array)\n"
   ]
  },
  {
   "cell_type": "markdown",
   "id": "59156903",
   "metadata": {},
   "source": [
    "## Plot  the DET curve"
   ]
  },
  {
   "cell_type": "code",
   "execution_count": 52,
   "id": "f1d0c027",
   "metadata": {},
   "outputs": [
    {
     "data": {
      "image/png": "[encoded data removed]",
      "text/plain": [
       "<Figure size 640x480 with 1 Axes>"
      ]
     },
     "metadata": {},
     "output_type": "display_data"
    }
   ],
   "source": [
    "# Initialize variables\n",
    "genuine_scores = defaultdict(list)  # Dictionary to store genuine scores for each client\n",
    "impostor_scores = []  # List to store impostor scores\n",
    "\n",
    "# Extract genuine scores and impostor scores\n",
    "for result in results_30_F_256:\n",
    "    file_name, score = result\n",
    "    client_name = file_name.split('.')[0]  # Extract client name from file name\n",
    "\n",
    "    genuine_scores[client_name].append(score[client_name])\n",
    "\n",
    "    impostor_scores.extend([s for key, s in score.items() if key != client_name])\n",
    "\n",
    "# Compute the minimum and maximum scores\n",
    "min_score = min(sorted_scores_array)\n",
    "max_score = max(sorted_scores_array)\n",
    "\n",
    "# Set the number of thresholds and generate them using linspace\n",
    "num_thresholds = 1000\n",
    "thresholds = np.geomspace(max_score, min_score, num_thresholds)\n",
    "\n",
    "# Initialize lists for FAR and FRR\n",
    "far = []\n",
    "frr = []\n",
    "\n",
    "# Iterate over thresholds\n",
    "for threshold in thresholds:\n",
    "    # Compute the number of false accepts (FAR) and false rejects (FRR)\n",
    "    false_accepts = sum(score >= threshold for score in impostor_scores)\n",
    "    false_rejects = 0\n",
    "    for client_scores in genuine_scores.values():\n",
    "        false_rejects += sum(score < threshold for score in client_scores)\n",
    "\n",
    "    # Compute the FAR and FRR rates\n",
    "    far_rate = false_accepts / len(impostor_scores)\n",
    "    frr_rate = false_rejects / sum(len(client_scores) for client_scores in genuine_scores.values())\n",
    "\n",
    "    # Append the FAR and FRR rates to the lists\n",
    "    far.append(far_rate)\n",
    "    frr.append(frr_rate)\n",
    "\n",
    "# Find the threshold with the closest FAR and FRR\n",
    "eer_threshold = thresholds[np.argmin(np.abs(np.array(far) - np.array(frr)))]\n",
    "\n",
    "# Compute the EER values\n",
    "eer_far = far[np.argmin(np.abs(np.array(far) - np.array(frr)))]\n",
    "eer_frr = frr[np.argmin(np.abs(np.array(far) - np.array(frr)))]\n",
    "\n",
    "# Plot the FAR and FRR curve\n",
    "plt.plot(far, frr)\n",
    "plt.xlabel('False Acceptance Rate (FAR)')\n",
    "plt.ylabel('False Rejection Rate (FRR)')\n",
    "plt.title('DET Curve')\n",
    "plt.grid(True)\n",
    "\n",
    "# Plot the EER point\n",
    "plt.scatter(eer_far, eer_frr, color='red', marker='o', label='EER')\n",
    "\n",
    "# Add legend\n",
    "plt.legend()\n",
    "\n",
    "# Add text annotation for EER point\n",
    "plt.annotate(f'EER: ({eer_far:.3f}, {eer_frr:.3f})', (eer_far, eer_frr), xytext=(eer_far + 0.05, eer_frr), color='red')\n",
    "\n",
    "plt.show()\n"
   ]
  },
  {
   "cell_type": "code",
   "execution_count": null,
   "id": "171e38b6",
   "metadata": {},
   "outputs": [],
   "source": []
  }
 ],
 "metadata": {
  "kernelspec": {
   "display_name": "Python 3 (ipykernel)",
   "language": "python",
   "name": "python3"
  },
  "language_info": {
   "codemirror_mode": {
    "name": "ipython",
    "version": 3
   },
   "file_extension": ".py",
   "mimetype": "text/x-python",
   "name": "python",
   "nbconvert_exporter": "python",
   "pygments_lexer": "ipython3",
   "version": "3.9.18"
  }
 },
 "nbformat": 4,
 "nbformat_minor": 5
}
