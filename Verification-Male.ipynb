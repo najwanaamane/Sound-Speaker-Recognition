{
 "cells": [
  {
   "cell_type": "code",
   "execution_count": 1,
   "id": "5e9444f0",
   "metadata": {},
   "outputs": [],
   "source": [
    "import math\n",
    "import numpy as np\n",
    "import joblib\n",
    "import os\n",
    "import matplotlib.pyplot as plt\n",
    "from collections import defaultdict\n"
   ]
  },
  {
   "cell_type": "markdown",
   "id": "c92f01fc",
   "metadata": {},
   "source": [
    "# Defining the function that predicts the speaker :"
   ]
  },
  {
   "cell_type": "code",
   "execution_count": 2,
   "id": "64e9b8bf",
   "metadata": {},
   "outputs": [],
   "source": [
    "def get_scores(mfcc_features, gmm_models):\n",
    "    scores = {}\n",
    "    for model_name, gmm_model in gmm_models.items():\n",
    "        scores[model_name.split(\".\")[0]] = gmm_model.score(mfcc_features)\n",
    "    return scores\n"
   ]
  },
  {
   "cell_type": "markdown",
   "id": "e3bda8c1",
   "metadata": {},
   "source": [
    "# Loading all the gmm models and storing them in dictionaries according to the  n_components and gender : \n",
    "## key: model_name , value: gmm model "
   ]
  },
  {
   "cell_type": "code",
   "execution_count": 8,
   "id": "303cbfef",
   "metadata": {},
   "outputs": [],
   "source": [
    "# Load all GMM models from the appropriate folder\n",
    "model_folder = r'GMM\\H'\n",
    "gmm_models_H_16 = {}\n",
    "gmm_models_H_32 = {}\n",
    "gmm_models_H_128 = {}\n",
    "gmm_models_H_256 = {}\n",
    "for model_filename in os.listdir(model_folder):\n",
    "    model_path = os.path.join(model_folder, model_filename)\n",
    "    gmm_model = joblib.load(model_path)\n",
    "    if model_filename.endswith(\".16.gmm\"):\n",
    "        gmm_models_H_16[model_filename] = gmm_model\n",
    "    elif model_filename.endswith(\".32.gmm\"):\n",
    "        gmm_models_H_32[model_filename] = gmm_model\n",
    "    elif model_filename.endswith(\".128.gmm\"):\n",
    "        gmm_models_H_128[model_filename] = gmm_model\n",
    "    elif model_filename.endswith(\".256.gmm\"):\n",
    "        gmm_models_H_256[model_filename] = gmm_model"
   ]
  },
  {
   "cell_type": "markdown",
   "id": "33a9f830",
   "metadata": {},
   "source": [
    "# Loading the files containing the mfcc features and storing them in dictionaries according to duration and gender:\n",
    "## key: file_name , value: mfcc_features"
   ]
  },
  {
   "cell_type": "code",
   "execution_count": 9,
   "id": "a0e6f019",
   "metadata": {},
   "outputs": [],
   "source": [
    "# Set the path to the test folder\n",
    "test_folder = r'MFCC\\Test-segments'\n",
    "\n",
    "# Initialize dictionaries to store the loaded test files\n",
    "test_files_3_H = {}\n",
    "test_files_3_F = {}\n",
    "test_files_10_H = {}\n",
    "test_files_10_F = {}\n",
    "test_files_15_H = {}\n",
    "test_files_15_F = {}\n",
    "test_files_30_H = {}\n",
    "test_files_30_F = {}\n",
    "\n",
    "# Set the duration sub-folders\n",
    "duration_folders = [\"3\", \"10\", \"15\", \"30\"]\n",
    "\n",
    "for duration_folder in duration_folders:\n",
    "    duration_folder_path = os.path.join(test_folder, duration_folder)\n",
    "\n",
    "    # Check if the duration sub-folder exists\n",
    "    if os.path.isdir(duration_folder_path):\n",
    "        # Iterate over the gender sub-folders\n",
    "        for gender_folder in os.listdir(duration_folder_path):\n",
    "            gender_folder_path = os.path.join(duration_folder_path, gender_folder)\n",
    "\n",
    "            # Check if the item in the duration sub-folder is a directory\n",
    "            if os.path.isdir(gender_folder_path):\n",
    "                # Determine the appropriate dictionary based on duration and gender\n",
    "                if duration_folder == \"3\" and gender_folder == \"H\":\n",
    "                    test_files_dict = test_files_3_H\n",
    "                elif duration_folder == \"3\" and gender_folder == \"F\":\n",
    "                    test_files_dict = test_files_3_F\n",
    "                elif duration_folder == \"10\" and gender_folder == \"H\":\n",
    "                    test_files_dict = test_files_10_H\n",
    "                elif duration_folder == \"10\" and gender_folder == \"F\":\n",
    "                    test_files_dict = test_files_10_F\n",
    "                elif duration_folder == \"15\" and gender_folder == \"H\":\n",
    "                    test_files_dict = test_files_15_H\n",
    "                elif duration_folder == \"15\" and gender_folder == \"F\":\n",
    "                    test_files_dict = test_files_15_F\n",
    "                elif duration_folder == \"30\" and gender_folder == \"H\":\n",
    "                    test_files_dict = test_files_30_H\n",
    "                elif duration_folder == \"30\" and gender_folder == \"F\":\n",
    "                    test_files_dict = test_files_30_F\n",
    "\n",
    "                # Iterate over the test segments within the gender sub-folder\n",
    "                for filename in os.listdir(gender_folder_path):\n",
    "                    if filename.endswith(\".mfcc\"):\n",
    "                        test_segment_path = os.path.join(gender_folder_path, filename)\n",
    "\n",
    "                        # Load the MFCC features\n",
    "                        mfcc_features = np.genfromtxt(test_segment_path, delimiter=',')\n",
    "\n",
    "                        # Add the loaded features to the corresponding dictionary with the filename as the key\n",
    "                        test_files_dict[filename] = mfcc_features\n"
   ]
  },
  {
   "cell_type": "markdown",
   "id": "7c8545c6",
   "metadata": {},
   "source": [
    "# Plotting the DET curve :"
   ]
  },
  {
   "cell_type": "markdown",
   "id": "643092b8",
   "metadata": {},
   "source": [
    "\n",
    "## a. GMM 16 :\n",
    "### 3 second segments :\n"
   ]
  },
  {
   "cell_type": "markdown",
   "id": "56ea06d2",
   "metadata": {},
   "source": [
    "## Get the scores :"
   ]
  },
  {
   "cell_type": "code",
   "execution_count": 10,
   "id": "06793481",
   "metadata": {
    "scrolled": true
   },
   "outputs": [
    {
     "name": "stdout",
     "output_type": "stream",
     "text": [
      "File: H1.3.1.mfcc ,Score: {'H1': -51.52940474414831, 'H2': -57.3244456504897, 'H3': -56.949202616767764, 'H4': -58.041491962648436, 'H5': -56.5650520059886, 'H6': -56.990691211217744}\n",
      "File: H1.3.2.mfcc ,Score: {'H1': -52.465690318385434, 'H2': -58.004266161038245, 'H3': -59.47993670891943, 'H4': -59.80404143825708, 'H5': -55.81324000108756, 'H6': -57.84271070499451}\n",
      "File: H2.3.1.mfcc ,Score: {'H1': -74.01012746546817, 'H2': -45.912425888508494, 'H3': -55.87318711011042, 'H4': -53.04837496409297, 'H5': -53.07477707288116, 'H6': -61.48717247619522}\n",
      "File: H2.3.10.mfcc ,Score: {'H1': -78.05116171045985, 'H2': -49.85159587397941, 'H3': -57.73492786498356, 'H4': -60.03891585484403, 'H5': -57.81095374068866, 'H6': -58.95795318620588}\n",
      "File: H2.3.11.mfcc ,Score: {'H1': -83.2550632190541, 'H2': -48.5519808154403, 'H3': -56.94701393572774, 'H4': -57.230469576641745, 'H5': -56.23766462968112, 'H6': -60.85656960844847}\n",
      "File: H2.3.12.mfcc ,Score: {'H1': -76.40611745316184, 'H2': -47.177554909925384, 'H3': -56.54090052463637, 'H4': -56.54751038436724, 'H5': -54.34682128460911, 'H6': -60.06035858904933}\n",
      "File: H2.3.13.mfcc ,Score: {'H1': -76.80276461672132, 'H2': -48.297910817777215, 'H3': -55.609821161243914, 'H4': -57.037243619812166, 'H5': -54.20015463981537, 'H6': -58.85142622829781}\n",
      "File: H2.3.14.mfcc ,Score: {'H1': -81.29927851139786, 'H2': -47.60293112695236, 'H3': -56.34848151475215, 'H4': -54.48710254796208, 'H5': -54.02585932154409, 'H6': -58.42199768016425}\n",
      "File: H2.3.15.mfcc ,Score: {'H1': -77.47039866596327, 'H2': -45.325586451244504, 'H3': -56.49887988452161, 'H4': -54.70860580787131, 'H5': -53.754072735089245, 'H6': -62.97631137209537}\n",
      "File: H2.3.16.mfcc ,Score: {'H1': -83.65998902477408, 'H2': -49.34983951467928, 'H3': -59.15109858161877, 'H4': -59.17312719775619, 'H5': -56.33109696987154, 'H6': -56.9432917827404}\n",
      "File: H2.3.17.mfcc ,Score: {'H1': -79.28964397868721, 'H2': -44.34941728350635, 'H3': -56.67826526138341, 'H4': -53.358521852643264, 'H5': -51.904320958273466, 'H6': -65.1632282761236}\n",
      "File: H2.3.18.mfcc ,Score: {'H1': -75.92164852593055, 'H2': -49.578839781104925, 'H3': -53.46939991588022, 'H4': -57.522180686468445, 'H5': -54.80977479828035, 'H6': -55.032787678629084}\n",
      "File: H2.3.2.mfcc ,Score: {'H1': -78.33941410601702, 'H2': -48.82953208904932, 'H3': -57.15387429016072, 'H4': -57.88383117234071, 'H5': -56.976052628211185, 'H6': -60.32330619812138}\n",
      "File: H2.3.3.mfcc ,Score: {'H1': -76.2292653760912, 'H2': -48.03008394547698, 'H3': -55.443965626196686, 'H4': -57.0138676784072, 'H5': -55.42015405043128, 'H6': -62.58488331542304}\n",
      "File: H2.3.4.mfcc ,Score: {'H1': -81.18640143049846, 'H2': -46.62029425613417, 'H3': -55.76407268794729, 'H4': -57.956780760628405, 'H5': -55.852092298189525, 'H6': -61.61426080577838}\n",
      "File: H2.3.5.mfcc ,Score: {'H1': -78.55360786940909, 'H2': -47.28548147512471, 'H3': -57.034713384966295, 'H4': -57.8806706980504, 'H5': -57.88644954231695, 'H6': -60.4489558370971}\n",
      "File: H2.3.6.mfcc ,Score: {'H1': -78.40940956395617, 'H2': -48.002785197969494, 'H3': -56.48899801881147, 'H4': -57.00096939006027, 'H5': -55.22256968168083, 'H6': -60.68026827997677}\n",
      "File: H2.3.7.mfcc ,Score: {'H1': -80.46194921961035, 'H2': -49.04912257535718, 'H3': -56.017515400393336, 'H4': -58.59954856811346, 'H5': -55.581118028364884, 'H6': -56.920907780256094}\n",
      "File: H2.3.8.mfcc ,Score: {'H1': -80.66671288321237, 'H2': -48.2093422924429, 'H3': -54.79337875557053, 'H4': -56.97114936320017, 'H5': -55.92271523970708, 'H6': -57.41891678387075}\n",
      "File: H2.3.9.mfcc ,Score: {'H1': -80.95605635629326, 'H2': -46.26802971537779, 'H3': -57.0760712091908, 'H4': -56.730141535783645, 'H5': -54.43108893278896, 'H6': -61.395899114522535}\n",
      "File: H3.3.1.mfcc ,Score: {'H1': -91.67228035596176, 'H2': -55.02187301800751, 'H3': -48.53092133121253, 'H4': -58.81169705820225, 'H5': -61.21607014908112, 'H6': -58.38903602343786}\n",
      "File: H3.3.10.mfcc ,Score: {'H1': -83.15090028087839, 'H2': -54.903847479457106, 'H3': -51.2134255846692, 'H4': -56.47677002165856, 'H5': -58.47761301364587, 'H6': -55.754901432504774}\n",
      "File: H3.3.11.mfcc ,Score: {'H1': -82.35542904863641, 'H2': -54.15896219738702, 'H3': -49.230890204869475, 'H4': -56.471919715169776, 'H5': -58.562550922275015, 'H6': -56.827319042387}\n",
      "File: H3.3.12.mfcc ,Score: {'H1': -87.22007315657196, 'H2': -55.6433195343024, 'H3': -51.839372315759874, 'H4': -57.944382591811845, 'H5': -60.35581326536565, 'H6': -57.782009182905945}\n",
      "File: H3.3.13.mfcc ,Score: {'H1': -95.49196053346856, 'H2': -58.516004532551115, 'H3': -51.69814267648216, 'H4': -59.25076181637543, 'H5': -60.27550642096234, 'H6': -58.548650919102485}\n",
      "File: H3.3.14.mfcc ,Score: {'H1': -79.71018765968559, 'H2': -55.74170253184084, 'H3': -47.98525138922634, 'H4': -56.645630232744516, 'H5': -60.57531292008247, 'H6': -57.45026015759751}\n",
      "File: H3.3.15.mfcc ,Score: {'H1': -80.7659531346551, 'H2': -53.830271944726135, 'H3': -48.20444878507684, 'H4': -57.04589634496212, 'H5': -58.41313700036108, 'H6': -56.08766988564286}\n",
      "File: H3.3.16.mfcc ,Score: {'H1': -100.02511427369616, 'H2': -59.14120465710393, 'H3': -47.909663873430084, 'H4': -58.172323387025045, 'H5': -63.91460564055345, 'H6': -61.51871630610648}\n",
      "File: H3.3.2.mfcc ,Score: {'H1': -94.34523000065026, 'H2': -56.839561066840666, 'H3': -49.32768873724782, 'H4': -59.14133256725501, 'H5': -59.852872230690096, 'H6': -58.66927027088932}\n",
      "File: H3.3.3.mfcc ,Score: {'H1': -102.40079672404465, 'H2': -58.13390289908828, 'H3': -51.4872274010256, 'H4': -59.05637034486733, 'H5': -64.39571624902514, 'H6': -60.359015245756964}\n",
      "File: H3.3.4.mfcc ,Score: {'H1': -85.91732157361882, 'H2': -55.169245895282366, 'H3': -47.734742028315544, 'H4': -59.24768371480069, 'H5': -61.00100681388782, 'H6': -58.3096609301171}\n",
      "File: H3.3.5.mfcc ,Score: {'H1': -87.0054952843004, 'H2': -54.391675827003056, 'H3': -48.07930280948349, 'H4': -58.36022689802756, 'H5': -61.106878960166696, 'H6': -57.402748422546686}\n",
      "File: H3.3.6.mfcc ,Score: {'H1': -99.26439610813082, 'H2': -57.68532348798314, 'H3': -49.92084065080571, 'H4': -57.99912121441235, 'H5': -61.45800520807878, 'H6': -58.766637289594435}\n",
      "File: H3.3.7.mfcc ,Score: {'H1': -85.31453676799266, 'H2': -55.47745343540754, 'H3': -49.06628613094594, 'H4': -58.21013558003479, 'H5': -59.51934537531893, 'H6': -58.53249787179648}\n",
      "File: H3.3.8.mfcc ,Score: {'H1': -95.05626335606584, 'H2': -55.341351059143854, 'H3': -48.539017712569695, 'H4': -57.49058257403357, 'H5': -61.77028274442503, 'H6': -58.699753909430605}\n",
      "File: H3.3.9.mfcc ,Score: {'H1': -97.72866203025892, 'H2': -55.943152245547694, 'H3': -50.057797938072326, 'H4': -59.1110032913947, 'H5': -60.11816429764788, 'H6': -58.807929537217085}\n",
      "File: H4.3.1.mfcc ,Score: {'H1': -80.43684427805262, 'H2': -59.880168942737185, 'H3': -62.079608461715324, 'H4': -49.804070036528216, 'H5': -60.05873627345781, 'H6': -51.906606449356076}\n",
      "File: H4.3.10.mfcc ,Score: {'H1': -81.25999676459966, 'H2': -56.90480365518936, 'H3': -58.309226345812895, 'H4': -48.58785103855621, 'H5': -55.89558783984774, 'H6': -51.55852476608327}\n",
      "File: H4.3.11.mfcc ,Score: {'H1': -80.20868132264259, 'H2': -55.37867400782643, 'H3': -56.878116281792344, 'H4': -49.583135074259296, 'H5': -56.9752272248052, 'H6': -51.86900002266464}\n",
      "File: H4.3.12.mfcc ,Score: {'H1': -80.2197061617839, 'H2': -55.596166425597794, 'H3': -57.190910135531084, 'H4': -48.78996857369279, 'H5': -57.8608621781855, 'H6': -51.08958682918011}\n",
      "File: H4.3.13.mfcc ,Score: {'H1': -83.31650849450162, 'H2': -57.97130862071368, 'H3': -59.91454836248663, 'H4': -48.95349108500255, 'H5': -57.516740033129416, 'H6': -51.23455583349285}\n",
      "File: H4.3.14.mfcc ,Score: {'H1': -78.60958902510988, 'H2': -55.36321975655872, 'H3': -57.259717618941345, 'H4': -49.56064635502346, 'H5': -55.43558701408882, 'H6': -51.5580925674781}\n",
      "File: H4.3.15.mfcc ,Score: {'H1': -76.97951755307346, 'H2': -58.20226851917835, 'H3': -58.701689063705224, 'H4': -49.31992276227577, 'H5': -56.845991053620416, 'H6': -51.83567304922879}\n",
      "File: H4.3.16.mfcc ,Score: {'H1': -86.49516609866187, 'H2': -56.79780424407547, 'H3': -58.84460448985281, 'H4': -49.21004167526686, 'H5': -58.391431141103496, 'H6': -51.64953792968095}\n",
      "File: H4.3.2.mfcc ,Score: {'H1': -86.10041422012422, 'H2': -58.096513965513026, 'H3': -61.128320064695984, 'H4': -50.37924621564914, 'H5': -59.37801665232004, 'H6': -53.04973903752768}\n",
      "File: H4.3.3.mfcc ,Score: {'H1': -82.52268006513287, 'H2': -55.628529969272265, 'H3': -56.823297934351416, 'H4': -49.50766285280056, 'H5': -58.738634681776496, 'H6': -51.73071178897815}\n",
      "File: H4.3.4.mfcc ,Score: {'H1': -85.65940409187945, 'H2': -57.09198308083117, 'H3': -58.2437864221715, 'H4': -50.73576141894652, 'H5': -59.46529504828374, 'H6': -53.29484511385881}\n",
      "File: H4.3.5.mfcc ,Score: {'H1': -81.26602237897313, 'H2': -55.953193430456665, 'H3': -57.21979511249284, 'H4': -49.50420997835261, 'H5': -58.10416640630669, 'H6': -51.81414353160251}\n",
      "File: H4.3.6.mfcc ,Score: {'H1': -78.34419343738902, 'H2': -56.078826373546505, 'H3': -58.567570948905534, 'H4': -49.43994595806711, 'H5': -56.58175790662869, 'H6': -51.20402220763681}\n",
      "File: H4.3.7.mfcc ,Score: {'H1': -77.54767411194148, 'H2': -56.59110178692537, 'H3': -58.07223314127, 'H4': -49.440058672432436, 'H5': -56.64740927608393, 'H6': -51.28803222167891}\n",
      "File: H4.3.8.mfcc ,Score: {'H1': -79.68944739948178, 'H2': -56.95003853519663, 'H3': -58.747733468454705, 'H4': -50.19871137020993, 'H5': -58.23395715935462, 'H6': -52.5478753649592}\n",
      "File: H4.3.9.mfcc ,Score: {'H1': -87.99978717217887, 'H2': -58.75762043191205, 'H3': -61.289567049996016, 'H4': -49.61336963175652, 'H5': -58.17402743101384, 'H6': -53.06180072581844}\n",
      "File: H5.3.1.mfcc ,Score: {'H1': -72.87042373170847, 'H2': -54.77417662942916, 'H3': -57.96776257096535, 'H4': -56.87808245129134, 'H5': -51.245366911129906, 'H6': -56.11446292217307}\n",
      "File: H5.3.10.mfcc ,Score: {'H1': -78.67860339459556, 'H2': -56.20387735417519, 'H3': -61.06996710194796, 'H4': -57.00648342415493, 'H5': -52.7130544137787, 'H6': -56.89909061622561}\n",
      "File: H5.3.11.mfcc ,Score: {'H1': -75.54144904998002, 'H2': -54.43326081184719, 'H3': -57.965029074198576, 'H4': -56.21870179616822, 'H5': -50.50266052429551, 'H6': -56.01964010540799}\n",
      "File: H5.3.12.mfcc ,Score: {'H1': -70.75635199395315, 'H2': -57.211941026469525, 'H3': -59.07458388149634, 'H4': -57.77088334866408, 'H5': -52.633725805863364, 'H6': -57.242148811962494}\n",
      "File: H5.3.13.mfcc ,Score: {'H1': -78.86400958385155, 'H2': -59.806918154278286, 'H3': -61.8420150719917, 'H4': -59.090017353923926, 'H5': -54.69393787247915, 'H6': -60.326052803668546}\n",
      "File: H5.3.14.mfcc ,Score: {'H1': -78.18916870887513, 'H2': -58.84180130388695, 'H3': -60.62063027989329, 'H4': -58.417944657816676, 'H5': -54.7440058938028, 'H6': -61.57999027346732}\n",
      "File: H5.3.15.mfcc ,Score: {'H1': -77.8861961494509, 'H2': -59.103343521596784, 'H3': -60.77147104745891, 'H4': -59.99865766877046, 'H5': -53.99642850281842, 'H6': -60.498691294098805}\n",
      "File: H5.3.16.mfcc ,Score: {'H1': -78.92493421847885, 'H2': -57.416742809548836, 'H3': -58.689581693451956, 'H4': -57.35768608393465, 'H5': -52.872587222273324, 'H6': -57.99873153838248}\n",
      "File: H5.3.17.mfcc ,Score: {'H1': -72.34139355000669, 'H2': -57.06448720270164, 'H3': -57.60680303644702, 'H4': -54.82154434867261, 'H5': -52.81997745895583, 'H6': -56.72558313861341}\n",
      "File: H5.3.2.mfcc ,Score: {'H1': -78.53431161542707, 'H2': -56.46403749529111, 'H3': -60.93456714167085, 'H4': -58.60405183724871, 'H5': -52.58073364170456, 'H6': -57.8485278423522}\n",
      "File: H5.3.3.mfcc ,Score: {'H1': -77.51974793176106, 'H2': -57.256492205036615, 'H3': -61.18716960197779, 'H4': -59.33866127958909, 'H5': -51.48629582898777, 'H6': -60.351959275805484}\n",
      "File: H5.3.4.mfcc ,Score: {'H1': -72.3372997261745, 'H2': -55.900644987509004, 'H3': -59.55303932435825, 'H4': -57.80053888634585, 'H5': -50.602252829446094, 'H6': -56.13751022640713}\n",
      "File: H5.3.5.mfcc ,Score: {'H1': -73.3696938348834, 'H2': -55.902025789547245, 'H3': -58.85455047950019, 'H4': -57.067872637827385, 'H5': -50.444855386424344, 'H6': -56.46185858531612}\n",
      "File: H5.3.6.mfcc ,Score: {'H1': -77.3596611624377, 'H2': -55.02876615778698, 'H3': -58.384301352759174, 'H4': -57.77303184950654, 'H5': -50.60452640927333, 'H6': -55.50864597720881}\n",
      "File: H5.3.7.mfcc ,Score: {'H1': -81.93753130791947, 'H2': -58.30763606524374, 'H3': -62.3766649232164, 'H4': -59.56390209579793, 'H5': -51.318953782735846, 'H6': -59.57189832969721}\n",
      "File: H5.3.8.mfcc ,Score: {'H1': -82.7698479267462, 'H2': -56.76675984497061, 'H3': -63.3035722720979, 'H4': -61.17521576588173, 'H5': -51.549963935926, 'H6': -59.683857746279415}\n",
      "File: H5.3.9.mfcc ,Score: {'H1': -76.28606666276848, 'H2': -54.275521615133606, 'H3': -60.30872046456141, 'H4': -58.289729002656095, 'H5': -51.297427594684585, 'H6': -57.60351035319909}\n",
      "File: H6.3.1.mfcc ,Score: {'H1': -84.73964601903555, 'H2': -54.957140867782094, 'H3': -58.824242450267754, 'H4': -52.369734815415875, 'H5': -57.23980937058984, 'H6': -50.26260984094071}\n",
      "File: H6.3.10.mfcc ,Score: {'H1': -82.97735659368911, 'H2': -56.56926087497161, 'H3': -57.46724047834837, 'H4': -53.088111063115456, 'H5': -57.4628103821582, 'H6': -48.995136845289494}\n",
      "File: H6.3.11.mfcc ,Score: {'H1': -81.4302742532221, 'H2': -58.73651339364951, 'H3': -59.984313202582754, 'H4': -53.01258500442164, 'H5': -59.52568791905313, 'H6': -50.764635240403614}\n",
      "File: H6.3.12.mfcc ,Score: {'H1': -81.95597507390472, 'H2': -56.071219778047876, 'H3': -58.637488029695206, 'H4': -52.6429584685126, 'H5': -58.0420783863619, 'H6': -49.20394798707615}\n",
      "File: H6.3.13.mfcc ,Score: {'H1': -76.77158294574299, 'H2': -58.42915066367629, 'H3': -61.18039444929767, 'H4': -55.40804735544033, 'H5': -58.308534257532784, 'H6': -51.97284747410981}\n",
      "File: H6.3.14.mfcc ,Score: {'H1': -81.5070280361803, 'H2': -55.00171043524268, 'H3': -58.9426818886961, 'H4': -53.77433131590034, 'H5': -57.34509772276366, 'H6': -50.87538222201332}\n",
      "File: H6.3.15.mfcc ,Score: {'H1': -90.87761312995359, 'H2': -56.16044646947377, 'H3': -59.274749145492095, 'H4': -54.96757935437957, 'H5': -59.213756990289816, 'H6': -51.31515287247403}\n",
      "File: H6.3.16.mfcc ,Score: {'H1': -87.68347197522537, 'H2': -57.941865034102385, 'H3': -59.48600550562032, 'H4': -55.260728785341904, 'H5': -60.87925890799697, 'H6': -50.45900442949896}\n",
      "File: H6.3.17.mfcc ,Score: {'H1': -92.52117019212298, 'H2': -57.684075320963615, 'H3': -59.72497487259479, 'H4': -53.66895894658205, 'H5': -60.76830859467569, 'H6': -50.86894060028823}\n",
      "File: H6.3.18.mfcc ,Score: {'H1': -82.71710034827107, 'H2': -57.053072367791394, 'H3': -59.96996498203666, 'H4': -52.89977752657599, 'H5': -58.21938625999862, 'H6': -50.02866200631586}\n",
      "File: H6.3.19.mfcc ,Score: {'H1': -93.83563684232998, 'H2': -58.70146757869176, 'H3': -65.82472167403174, 'H4': -55.09927482617184, 'H5': -66.07993902312703, 'H6': -52.2547225887916}\n",
      "File: H6.3.2.mfcc ,Score: {'H1': -76.30260029620439, 'H2': -56.77597625147229, 'H3': -61.51440722430793, 'H4': -53.00462068362667, 'H5': -58.83913472144013, 'H6': -50.38103716610608}\n",
      "File: H6.3.3.mfcc ,Score: {'H1': -79.24448227060488, 'H2': -57.67966521997224, 'H3': -63.711221589083145, 'H4': -55.055687245489246, 'H5': -59.61320464647024, 'H6': -51.81923159603404}\n",
      "File: H6.3.4.mfcc ,Score: {'H1': -94.70488586142586, 'H2': -59.770946450804296, 'H3': -61.61290557760583, 'H4': -52.463450261859684, 'H5': -61.76469415292394, 'H6': -51.06713910568378}\n",
      "File: H6.3.5.mfcc ,Score: {'H1': -84.47697441308533, 'H2': -57.03935657276111, 'H3': -58.94654122701869, 'H4': -51.76376534304748, 'H5': -57.504686131317015, 'H6': -50.872091964072666}\n",
      "File: H6.3.6.mfcc ,Score: {'H1': -80.34021922799364, 'H2': -56.832902396525824, 'H3': -58.12251414302829, 'H4': -52.570235538698206, 'H5': -58.25666994856867, 'H6': -50.106937171614945}\n",
      "File: H6.3.7.mfcc ,Score: {'H1': -76.72733586963561, 'H2': -56.193070814992, 'H3': -58.91387603044696, 'H4': -51.61628906410293, 'H5': -57.55627779088435, 'H6': -49.00880855006955}\n",
      "File: H6.3.8.mfcc ,Score: {'H1': -84.63356177300903, 'H2': -56.89774815174285, 'H3': -58.655514226754946, 'H4': -51.96364802507447, 'H5': -59.09216205200081, 'H6': -49.68218608705498}\n",
      "File: H6.3.9.mfcc ,Score: {'H1': -80.47987352670567, 'H2': -57.698880897354854, 'H3': -58.41647181098417, 'H4': -51.11448007759193, 'H5': -57.77543613850699, 'H6': -49.44562095607626}\n"
     ]
    }
   ],
   "source": [
    "results_3_H_16 = []\n",
    "\n",
    "# Calculate scores for each GMM model and store file name with score\n",
    "for test_segment_name, test_segment in test_files_3_H.items():\n",
    "    score = get_scores(test_segment, gmm_models_H_16)\n",
    "    results_3_H_16.append((test_segment_name, score))\n",
    "\n",
    "# Printing the results\n",
    "for result in results_3_H_16:\n",
    "    file_name, score = result\n",
    "    print(f\"File: {file_name} ,Score: {score}\")\n"
   ]
  },
  {
   "cell_type": "markdown",
   "id": "1285224a",
   "metadata": {},
   "source": [
    "## Sort the scores :"
   ]
  },
  {
   "cell_type": "code",
   "execution_count": 11,
   "id": "f64ed4de",
   "metadata": {},
   "outputs": [],
   "source": [
    "scores = [score for _, score in results_3_H_16]\n",
    "    \n",
    "scores_array = np.array([list(item.values()) for item in scores]).flatten()\n",
    "\n",
    "sorted_scores_array = np.sort(scores_array)"
   ]
  },
  {
   "cell_type": "markdown",
   "id": "7618e3a9",
   "metadata": {},
   "source": [
    "# Plot DET curve :"
   ]
  },
  {
   "cell_type": "code",
   "execution_count": 12,
   "id": "4c673b27",
   "metadata": {},
   "outputs": [
    {
     "data": {
      "image/png": "[encoded data removed]",
      "text/plain": [
       "<Figure size 640x480 with 1 Axes>"
      ]
     },
     "metadata": {},
     "output_type": "display_data"
    }
   ],
   "source": [
    "# Initialize variables\n",
    "genuine_scores = defaultdict(list)  # Dictionary to store genuine scores for each client\n",
    "impostor_scores = []  # List to store impostor scores\n",
    "\n",
    "# Extract genuine scores and impostor scores\n",
    "for result in results_3_H_16:\n",
    "    file_name, score = result\n",
    "    client_name = file_name.split('.')[0]  # Extract client name from file name\n",
    "\n",
    "    genuine_scores[client_name].append(score[client_name])\n",
    "\n",
    "    impostor_scores.extend([s for key, s in score.items() if key != client_name])\n",
    "\n",
    "# Compute the minimum and maximum scores\n",
    "min_score = min(sorted_scores_array)\n",
    "max_score = max(sorted_scores_array)\n",
    "\n",
    "# Set the number of thresholds and generate them using linspace\n",
    "num_thresholds = 1000\n",
    "thresholds = np.geomspace(max_score, min_score, num_thresholds)\n",
    "\n",
    "# Initialize lists for FAR and FRR\n",
    "far = []\n",
    "frr = []\n",
    "\n",
    "# Iterate over thresholds\n",
    "for threshold in thresholds:\n",
    "    # Compute the number of false accepts (FAR) and false rejects (FRR)\n",
    "    false_accepts = sum(score >= threshold for score in impostor_scores)\n",
    "    false_rejects = 0\n",
    "    for client_scores in genuine_scores.values():\n",
    "        false_rejects += sum(score < threshold for score in client_scores)\n",
    "\n",
    "    # Compute the FAR and FRR rates\n",
    "    far_rate = false_accepts / len(impostor_scores)\n",
    "    frr_rate = false_rejects / sum(len(client_scores) for client_scores in genuine_scores.values())\n",
    "\n",
    "    # Append the FAR and FRR rates to the lists\n",
    "    far.append(far_rate)\n",
    "    frr.append(frr_rate)\n",
    "\n",
    "# Find the threshold with the closest FAR and FRR\n",
    "eer_threshold = thresholds[np.argmin(np.abs(np.array(far) - np.array(frr)))]\n",
    "\n",
    "# Compute the EER values\n",
    "eer_far = far[np.argmin(np.abs(np.array(far) - np.array(frr)))]\n",
    "eer_frr = frr[np.argmin(np.abs(np.array(far) - np.array(frr)))]\n",
    "\n",
    "# Plot the FAR and FRR curve\n",
    "plt.plot(far, frr)\n",
    "plt.xlabel('False Acceptance Rate (FAR)')\n",
    "plt.ylabel('False Rejection Rate (FRR)')\n",
    "plt.title('DET Curve')\n",
    "plt.grid(True)\n",
    "\n",
    "# Plot the EER point\n",
    "plt.scatter(eer_far, eer_frr, color='red', marker='o', label='EER')\n",
    "\n",
    "# Add legend\n",
    "plt.legend()\n",
    "\n",
    "# Add text annotation for EER point\n",
    "plt.annotate(f'EER: ({eer_far:.3f}, {eer_frr:.3f})', (eer_far, eer_frr), xytext=(eer_far + 0.05, eer_frr), color='red')\n",
    "\n",
    "plt.show()\n"
   ]
  },
  {
   "cell_type": "markdown",
   "id": "796760a7",
   "metadata": {},
   "source": [
    "## 10 seconds segments :"
   ]
  },
  {
   "cell_type": "markdown",
   "id": "d81c4f02",
   "metadata": {},
   "source": [
    "### Get the scores "
   ]
  },
  {
   "cell_type": "code",
   "execution_count": 13,
   "id": "5b358c1f",
   "metadata": {
    "scrolled": true
   },
   "outputs": [
    {
     "name": "stdout",
     "output_type": "stream",
     "text": [
      "File: H1.10.1.mfcc ,Score: {'H1': -51.900527999932436, 'H2': -57.59391172811156, 'H3': -57.95233061707738, 'H4': -58.74012827390578, 'H5': -56.267050064408096, 'H6': -57.32841322384152}\n",
      "File: H2.10.1.mfcc ,Score: {'H1': -75.87386716220854, 'H2': -47.59165502416482, 'H3': -55.95851316400235, 'H4': -56.19078680707136, 'H5': -55.29452533875476, 'H6': -61.126645204443875}\n",
      "File: H2.10.2.mfcc ,Score: {'H1': -80.44629218478204, 'H2': -47.711462224363785, 'H3': -56.46735161694866, 'H4': -58.02790403077384, 'H5': -56.475265275142455, 'H6': -60.212038002492314}\n",
      "File: H2.10.3.mfcc ,Score: {'H1': -79.73907244731421, 'H2': -48.11449074429754, 'H3': -56.58834652354833, 'H4': -57.718584157811186, 'H5': -55.68360075068094, 'H6': -59.21107392629794}\n",
      "File: H2.10.4.mfcc ,Score: {'H1': -79.43112249466422, 'H2': -48.18464130807604, 'H3': -56.43725962250482, 'H4': -56.874585984547394, 'H5': -55.047036580057785, 'H6': -59.478950190262644}\n",
      "File: H2.10.5.mfcc ,Score: {'H1': -80.4189195851549, 'H2': -47.01479604363635, 'H3': -57.21453626608659, 'H4': -55.96541026813718, 'H5': -54.28040030860757, 'H6': -59.96464091496191}\n",
      "File: H2.10.6.mfcc ,Score: {'H1': -76.02806276356162, 'H2': -41.57254766472773, 'H3': -56.24941974076157, 'H4': -50.61018047634162, 'H5': -50.07296474137863, 'H6': -71.99183091186502}\n",
      "File: H3.10.1.mfcc ,Score: {'H1': -95.94057709291712, 'H2': -56.7173173853395, 'H3': -49.825053047373075, 'H4': -59.141849163549615, 'H5': -62.16436135838102, 'H6': -59.20125411733869}\n",
      "File: H3.10.2.mfcc ,Score: {'H1': -90.5495522089505, 'H2': -55.598782945127226, 'H3': -48.61348036710843, 'H4': -58.4091406802813, 'H5': -60.607080152912516, 'H6': -58.30883940052838}\n",
      "File: H3.10.3.mfcc ,Score: {'H1': -90.06663544270315, 'H2': -55.35611559366164, 'H3': -49.74864168282286, 'H4': -57.62048713557513, 'H5': -59.90334500129668, 'H6': -57.59734176212033}\n",
      "File: H3.10.4.mfcc ,Score: {'H1': -86.62507366488015, 'H2': -56.12278667381219, 'H3': -50.49133597088151, 'H4': -57.77910847493782, 'H5': -59.68458726096956, 'H6': -57.614800401450715}\n",
      "File: H3.10.5.mfcc ,Score: {'H1': -87.88093329693982, 'H2': -55.993287498616915, 'H3': -48.2361370856464, 'H4': -57.282346447740544, 'H5': -60.95493862765451, 'H6': -58.31792361569619}\n",
      "File: H4.10.1.mfcc ,Score: {'H1': -82.34420117999802, 'H2': -57.60300629528325, 'H3': -59.52166480617781, 'H4': -49.83581266121441, 'H5': -59.314977970211125, 'H6': -52.214149852051776}\n",
      "File: H4.10.2.mfcc ,Score: {'H1': -82.5039327187507, 'H2': -56.79418954511713, 'H3': -58.680801815454686, 'H4': -50.01038147221591, 'H5': -57.973099918437036, 'H6': -52.088990535858365}\n",
      "File: H4.10.3.mfcc ,Score: {'H1': -81.3998052771772, 'H2': -57.18263821107369, 'H3': -58.94187506332736, 'H4': -49.31707201855944, 'H5': -57.09519871387392, 'H6': -52.13374997433982}\n",
      "File: H4.10.4.mfcc ,Score: {'H1': -81.28417688357611, 'H2': -56.33140560810012, 'H3': -58.25722777706736, 'H4': -49.11716614190686, 'H5': -57.320631676247224, 'H6': -51.41916820818954}\n",
      "File: H4.10.5.mfcc ,Score: {'H1': -80.38204056148666, 'H2': -56.82775704617448, 'H3': -57.94533371045129, 'H4': -49.390871359421745, 'H5': -56.93661848522473, 'H6': -51.691056427850626}\n",
      "File: H5.10.1.mfcc ,Score: {'H1': -75.3264808452939, 'H2': -55.905655447673226, 'H3': -59.78209169008517, 'H4': -57.85194933541142, 'H5': -51.405089253371536, 'H6': -57.41408313989188}\n",
      "File: H5.10.2.mfcc ,Score: {'H1': -77.19839207026146, 'H2': -56.37665852471812, 'H3': -59.703954925089256, 'H4': -58.37159291770376, 'H5': -50.98545454217313, 'H6': -57.47336244174323}\n",
      "File: H5.10.3.mfcc ,Score: {'H1': -78.97408327277124, 'H2': -55.98166747084564, 'H3': -61.69604795474216, 'H4': -58.8257285159747, 'H5': -51.76248542468267, 'H6': -57.96695098076413}\n",
      "File: H5.10.4.mfcc ,Score: {'H1': -74.86953743195397, 'H2': -57.31586696491802, 'H3': -59.79901165354275, 'H4': -57.555116417120935, 'H5': -52.91411443371997, 'H6': -57.85976072250002}\n",
      "File: H5.10.5.mfcc ,Score: {'H1': -78.25664509896718, 'H2': -58.26487244373725, 'H3': -59.618552458795804, 'H4': -58.43783796820926, 'H5': -53.55900460006523, 'H6': -59.91326342256608}\n",
      "File: H6.10.1.mfcc ,Score: {'H1': -81.05474524326307, 'H2': -56.84275406219658, 'H3': -61.73982478070373, 'H4': -53.45034915798309, 'H5': -59.3054065285686, 'H6': -50.91229632937275}\n",
      "File: H6.10.2.mfcc ,Score: {'H1': -85.38805735857213, 'H2': -57.437347070696454, 'H3': -59.34219968040304, 'H4': -52.05744019282483, 'H5': -58.431874926928444, 'H6': -50.22493206080509}\n",
      "File: H6.10.3.mfcc ,Score: {'H1': -80.94527815358151, 'H2': -56.84438341662072, 'H3': -57.77345596624706, 'H4': -51.99521728459867, 'H5': -57.794184144961015, 'H6': -49.35501139470491}\n",
      "File: H6.10.4.mfcc ,Score: {'H1': -80.17682500425667, 'H2': -57.50917353125814, 'H3': -59.56696370240804, 'H4': -53.54074331803718, 'H5': -58.45264348095296, 'H6': -50.629119746929646}\n",
      "File: H6.10.5.mfcc ,Score: {'H1': -89.23782299118372, 'H2': -56.61148946223652, 'H3': -59.703066693738194, 'H4': -54.64574777268499, 'H5': -59.79279296975782, 'H6': -50.76916979097668}\n",
      "File: H6.10.6.mfcc ,Score: {'H1': -84.72435154426354, 'H2': -57.69124773495581, 'H3': -60.66669325340963, 'H4': -53.5438604624412, 'H5': -59.765394946256365, 'H6': -50.872890191817014}\n"
     ]
    }
   ],
   "source": [
    "results_10_H_16 = []\n",
    "\n",
    "# Calculate scores for each GMM model and store file name with score\n",
    "for test_segment_name, test_segment in test_files_10_H.items():\n",
    "    score = get_scores(test_segment, gmm_models_H_16)\n",
    "    results_10_H_16.append((test_segment_name, score))\n",
    "\n",
    "# Printing the results\n",
    "for result in results_10_H_16:\n",
    "    file_name, score = result\n",
    "    print(f\"File: {file_name} ,Score: {score}\")\n",
    "\n",
    "\n"
   ]
  },
  {
   "cell_type": "markdown",
   "id": "419b7e5b",
   "metadata": {},
   "source": [
    "## Sort the scores :"
   ]
  },
  {
   "cell_type": "code",
   "execution_count": 14,
   "id": "d81b9cf4",
   "metadata": {},
   "outputs": [],
   "source": [
    "scores = [score for _, score in results_10_H_16]\n",
    "    \n",
    "scores_array = np.array([list(item.values()) for item in scores]).flatten()\n",
    "\n",
    "sorted_scores_array = np.sort(scores_array)"
   ]
  },
  {
   "cell_type": "markdown",
   "id": "d62d7d16",
   "metadata": {},
   "source": [
    "## Plot DET curve"
   ]
  },
  {
   "cell_type": "code",
   "execution_count": 15,
   "id": "f426b03a",
   "metadata": {},
   "outputs": [
    {
     "data": {
      "image/png": "[encoded data removed]",
      "text/plain": [
       "<Figure size 640x480 with 1 Axes>"
      ]
     },
     "metadata": {},
     "output_type": "display_data"
    }
   ],
   "source": [
    "# Initialize variables\n",
    "genuine_scores = defaultdict(list)  # Dictionary to store genuine scores for each client\n",
    "impostor_scores = []  # List to store impostor scores\n",
    "\n",
    "# Extract genuine scores and impostor scores\n",
    "for result in results_10_H_16:\n",
    "    file_name, score = result\n",
    "    client_name = file_name.split('.')[0]  # Extract client name from file name\n",
    "\n",
    "    genuine_scores[client_name].append(score[client_name])\n",
    "\n",
    "    impostor_scores.extend([s for key, s in score.items() if key != client_name])\n",
    "\n",
    "# Compute the minimum and maximum scores\n",
    "min_score = min(sorted_scores_array)\n",
    "max_score = max(sorted_scores_array)\n",
    "\n",
    "# Set the number of thresholds and generate them using linspace\n",
    "num_thresholds = 1000\n",
    "thresholds = np.geomspace(max_score, min_score, num_thresholds)\n",
    "\n",
    "# Initialize lists for FAR and FRR\n",
    "far = []\n",
    "frr = []\n",
    "\n",
    "# Iterate over thresholds\n",
    "for threshold in thresholds:\n",
    "    # Compute the number of false accepts (FAR) and false rejects (FRR)\n",
    "    false_accepts = sum(score >= threshold for score in impostor_scores)\n",
    "    false_rejects = 0\n",
    "    for client_scores in genuine_scores.values():\n",
    "        false_rejects += sum(score < threshold for score in client_scores)\n",
    "\n",
    "    # Compute the FAR and FRR rates\n",
    "    far_rate = false_accepts / len(impostor_scores)\n",
    "    frr_rate = false_rejects / sum(len(client_scores) for client_scores in genuine_scores.values())\n",
    "\n",
    "    # Append the FAR and FRR rates to the lists\n",
    "    far.append(far_rate)\n",
    "    frr.append(frr_rate)\n",
    "\n",
    "# Find the threshold with the closest FAR and FRR\n",
    "eer_threshold = thresholds[np.argmin(np.abs(np.array(far) - np.array(frr)))]\n",
    "\n",
    "# Compute the EER values\n",
    "eer_far = far[np.argmin(np.abs(np.array(far) - np.array(frr)))]\n",
    "eer_frr = frr[np.argmin(np.abs(np.array(far) - np.array(frr)))]\n",
    "\n",
    "# Plot the FAR and FRR curve\n",
    "plt.plot(far, frr)\n",
    "plt.xlabel('False Acceptance Rate (FAR)')\n",
    "plt.ylabel('False Rejection Rate (FRR)')\n",
    "plt.title('DET Curve')\n",
    "plt.grid(True)\n",
    "\n",
    "# Plot the EER point\n",
    "plt.scatter(eer_far, eer_frr, color='red', marker='o', label='EER')\n",
    "\n",
    "# Add legend\n",
    "plt.legend()\n",
    "\n",
    "# Add text annotation for EER point\n",
    "plt.annotate(f'EER: ({eer_far:.3f}, {eer_frr:.3f})', (eer_far, eer_frr), xytext=(eer_far + 0.05, eer_frr), color='red')\n",
    "\n",
    "plt.show()\n"
   ]
  },
  {
   "cell_type": "markdown",
   "id": "6391f646",
   "metadata": {},
   "source": [
    "### 15 seconds segments :"
   ]
  },
  {
   "cell_type": "markdown",
   "id": "853a6bb3",
   "metadata": {},
   "source": [
    "## Get the scores"
   ]
  },
  {
   "cell_type": "code",
   "execution_count": 16,
   "id": "513db731",
   "metadata": {
    "scrolled": true
   },
   "outputs": [
    {
     "name": "stdout",
     "output_type": "stream",
     "text": [
      "File: H1.15.1.mfcc ,Score: {'H1': -51.900527999932436, 'H2': -57.59391172811156, 'H3': -57.95233061707738, 'H4': -58.74012827390578, 'H5': -56.267050064408096, 'H6': -57.32841322384152}\n",
      "File: H2.15.1.mfcc ,Score: {'H1': -77.6637632494968, 'H2': -47.33556353085874, 'H3': -56.253962619876276, 'H4': -56.75670505470394, 'H5': -55.84190511840601, 'H6': -61.29171572652303}\n",
      "File: H2.15.2.mfcc ,Score: {'H1': -79.70905794670641, 'H2': -48.276175131025354, 'H3': -56.42217824978994, 'H4': -57.86814494240032, 'H5': -55.79368912464607, 'H6': -59.0747890289664}\n",
      "File: H2.15.3.mfcc ,Score: {'H1': -79.04672449325967, 'H2': -47.391192824267954, 'H3': -56.38901940417635, 'H4': -56.002186387330916, 'H5': -54.51291452214779, 'H6': -60.233332695611054}\n",
      "File: H2.15.4.mfcc ,Score: {'H1': -81.29568205089839, 'H2': -46.93766747593192, 'H3': -57.77128572777139, 'H4': -56.306352143305155, 'H5': -54.14003366840179, 'H6': -60.85905124392224}\n",
      "File: H3.15.1.mfcc ,Score: {'H1': -92.26822478771517, 'H2': -55.91125174124438, 'H3': -49.03197646145699, 'H4': -58.923462116630574, 'H5': -61.51450888057018, 'H6': -58.62594617854959}\n",
      "File: H3.15.2.mfcc ,Score: {'H1': -92.10295170866532, 'H2': -55.870225541507864, 'H3': -49.75947360341258, 'H4': -57.857522536306796, 'H5': -60.2686821278233, 'H6': -58.11234400810867}\n",
      "File: H3.15.3.mfcc ,Score: {'H1': -85.10872070660353, 'H2': -55.578052148161504, 'H3': -49.791621074282936, 'H4': -57.471718140212744, 'H5': -59.636464105809324, 'H6': -57.33918183752716}\n",
      "File: H3.15.4.mfcc ,Score: {'H1': -100.02511427369616, 'H2': -59.14120465710393, 'H3': -47.909663873430084, 'H4': -58.172323387025045, 'H5': -63.91460564055345, 'H6': -61.51871630610648}\n",
      "File: H4.15.1.mfcc ,Score: {'H1': -83.19707300683247, 'H2': -57.33007787776206, 'H3': -59.09896159908541, 'H4': -49.98619010045542, 'H5': -59.148969812428945, 'H6': -52.35920918426465}\n",
      "File: H4.15.2.mfcc ,Score: {'H1': -80.96821977711816, 'H2': -57.05647815655398, 'H3': -58.99726619088783, 'H4': -49.45598733420444, 'H5': -57.10654792258576, 'H6': -51.93205105723533}\n",
      "File: H4.15.3.mfcc ,Score: {'H1': -79.8668005114223, 'H2': -56.502327465975, 'H3': -57.98899629249133, 'H4': -49.24143277005077, 'H5': -56.92688150076587, 'H6': -51.5173816604089}\n",
      "File: H4.15.4.mfcc ,Score: {'H1': -86.49516609866187, 'H2': -56.79780424407547, 'H3': -58.84460448985281, 'H4': -49.21004167526686, 'H5': -58.391431141103496, 'H6': -51.64953792968095}\n",
      "File: H5.15.1.mfcc ,Score: {'H1': -74.9262953679909, 'H2': -56.05947542136263, 'H3': -59.69941782369448, 'H4': -57.93784141846048, 'H5': -51.27190091953853, 'H6': -57.38286377041081}\n",
      "File: H5.15.2.mfcc ,Score: {'H1': -79.40634209089349, 'H2': -56.11651220746202, 'H3': -61.088645222916576, 'H4': -58.76167242759946, 'H5': -51.496785227279695, 'H6': -57.85340060452203}\n",
      "File: H5.15.3.mfcc ,Score: {'H1': -76.24743509722214, 'H2': -57.87945296361575, 'H3': -60.05474587100776, 'H4': -58.29924096506867, 'H5': -53.31415171985184, 'H6': -59.13330465772102}\n",
      "File: H5.15.4.mfcc ,Score: {'H1': -77.31636130955745, 'H2': -57.33067531870708, 'H3': -58.4250236840578, 'H4': -56.73802424937441, 'H5': -52.85973294760885, 'H6': -57.68766001501322}\n",
      "File: H6.15.1.mfcc ,Score: {'H1': -83.8937177720712, 'H2': -57.244617072558405, 'H3': -60.921863613656676, 'H4': -52.931451669887785, 'H5': -58.992305804548224, 'H6': -50.88042193456745}\n",
      "File: H6.15.2.mfcc ,Score: {'H1': -81.03166939820662, 'H2': -56.83837262711743, 'H3': -58.315123337912546, 'H4': -52.07055275371659, 'H5': -58.028671262423806, 'H6': -49.447737922021055}\n",
      "File: H6.15.3.mfcc ,Score: {'H1': -82.50849468780075, 'H2': -56.87980814801803, 'H3': -59.60392534315276, 'H4': -53.961100299730894, 'H5': -58.48703105520026, 'H6': -50.82639315921538}\n",
      "File: H6.15.4.mfcc ,Score: {'H1': -88.10536921292488, 'H2': -57.6453349949658, 'H3': -60.18446895198339, 'H4': -54.02989377169633, 'H5': -60.415130192692345, 'H6': -50.58743767709425}\n"
     ]
    }
   ],
   "source": [
    "results_15_H_16 = []\n",
    "\n",
    "# Calculate scores for each GMM model and store file name with score\n",
    "for test_segment_name, test_segment in test_files_15_H.items():\n",
    "    score = get_scores(test_segment, gmm_models_H_16)\n",
    "    results_15_H_16.append((test_segment_name, score))\n",
    "\n",
    "# Printing the results\n",
    "for result in results_15_H_16:\n",
    "    file_name, score = result\n",
    "    print(f\"File: {file_name} ,Score: {score}\")"
   ]
  },
  {
   "cell_type": "markdown",
   "id": "7b5ab0ad",
   "metadata": {},
   "source": [
    "## Sort the scores "
   ]
  },
  {
   "cell_type": "code",
   "execution_count": 17,
   "id": "fbeebd66",
   "metadata": {
    "scrolled": true
   },
   "outputs": [],
   "source": [
    "# Extract the scores from results_15_H_16\n",
    "scores = [score for _, score in results_15_H_16]\n",
    "    \n",
    "scores_array = np.array([list(item.values()) for item in scores]).flatten()\n",
    "\n",
    "sorted_scores_array = np.sort(scores_array)\n"
   ]
  },
  {
   "cell_type": "markdown",
   "id": "9ae150fd",
   "metadata": {},
   "source": [
    "## Plot the Det curve "
   ]
  },
  {
   "cell_type": "code",
   "execution_count": 18,
   "id": "943f1eb0",
   "metadata": {},
   "outputs": [
    {
     "data": {
      "image/png": "[encoded data removed]",
      "text/plain": [
       "<Figure size 640x480 with 1 Axes>"
      ]
     },
     "metadata": {},
     "output_type": "display_data"
    }
   ],
   "source": [
    "# Initialize variables\n",
    "genuine_scores = defaultdict(list)  # Dictionary to store genuine scores for each client\n",
    "impostor_scores = []  # List to store impostor scores\n",
    "\n",
    "# Extract genuine scores and impostor scores\n",
    "for result in results_15_H_16:\n",
    "    file_name, score = result\n",
    "    client_name = file_name.split('.')[0]  # Extract client name from file name\n",
    "\n",
    "    genuine_scores[client_name].append(score[client_name])\n",
    "\n",
    "    impostor_scores.extend([s for key, s in score.items() if key != client_name])\n",
    "\n",
    "# Compute the minimum and maximum scores\n",
    "min_score = min(sorted_scores_array)\n",
    "max_score = max(sorted_scores_array)\n",
    "\n",
    "# Set the number of thresholds and generate them using linspace\n",
    "num_thresholds = 1000\n",
    "thresholds = np.geomspace(max_score, min_score, num_thresholds)\n",
    "\n",
    "# Initialize lists for FAR and FRR\n",
    "far = []\n",
    "frr = []\n",
    "\n",
    "# Iterate over thresholds\n",
    "for threshold in thresholds:\n",
    "    # Compute the number of false accepts (FAR) and false rejects (FRR)\n",
    "    false_accepts = sum(score >= threshold for score in impostor_scores)\n",
    "    false_rejects = 0\n",
    "    for client_scores in genuine_scores.values():\n",
    "        false_rejects += sum(score < threshold for score in client_scores)\n",
    "\n",
    "    # Compute the FAR and FRR rates\n",
    "    far_rate = false_accepts / len(impostor_scores)\n",
    "    frr_rate = false_rejects / sum(len(client_scores) for client_scores in genuine_scores.values())\n",
    "\n",
    "    # Append the FAR and FRR rates to the lists\n",
    "    far.append(far_rate)\n",
    "    frr.append(frr_rate)\n",
    "\n",
    "# Find the threshold with the closest FAR and FRR\n",
    "eer_threshold = thresholds[np.argmin(np.abs(np.array(far) - np.array(frr)))]\n",
    "\n",
    "# Compute the EER values\n",
    "eer_far = far[np.argmin(np.abs(np.array(far) - np.array(frr)))]\n",
    "eer_frr = frr[np.argmin(np.abs(np.array(far) - np.array(frr)))]\n",
    "\n",
    "# Plot the FAR and FRR curve\n",
    "plt.plot(far, frr)\n",
    "plt.xlabel('False Acceptance Rate (FAR)')\n",
    "plt.ylabel('False Rejection Rate (FRR)')\n",
    "plt.title('DET Curve')\n",
    "plt.grid(True)\n",
    "\n",
    "# Plot the EER point\n",
    "plt.scatter(eer_far, eer_frr, color='red', marker='o', label='EER')\n",
    "\n",
    "# Add legend\n",
    "plt.legend()\n",
    "\n",
    "# Add text annotation for EER point\n",
    "plt.annotate(f'EER: ({eer_far:.3f}, {eer_frr:.3f})', (eer_far, eer_frr), xytext=(eer_far + 0.05, eer_frr), color='red')\n",
    "\n",
    "plt.show()\n"
   ]
  },
  {
   "cell_type": "markdown",
   "id": "30125d8e",
   "metadata": {},
   "source": [
    "### 30 seconds segments :"
   ]
  },
  {
   "cell_type": "markdown",
   "id": "3abb2265",
   "metadata": {},
   "source": [
    "## Get the scores"
   ]
  },
  {
   "cell_type": "code",
   "execution_count": 19,
   "id": "6f1b32f3",
   "metadata": {
    "scrolled": true
   },
   "outputs": [
    {
     "name": "stdout",
     "output_type": "stream",
     "text": [
      "File: H1.30.1.mfcc ,Score: {'H1': -51.900527999932436, 'H2': -57.59391172811156, 'H3': -57.95233061707738, 'H4': -58.74012827390578, 'H5': -56.267050064408096, 'H6': -57.32841322384152}\n",
      "File: H2.30.1.mfcc ,Score: {'H1': -78.6864105981016, 'H2': -47.80586933094205, 'H3': -56.338070434833114, 'H4': -57.31242499855213, 'H5': -55.817797121526056, 'H6': -60.183252377744715}\n",
      "File: H2.30.2.mfcc ,Score: {'H1': -79.70443849596532, 'H2': -47.258558052584775, 'H3': -56.79326710258622, 'H4': -56.09114052351206, 'H5': -54.40386446114659, 'H6': -60.41632585596621}\n",
      "File: H3.30.1.mfcc ,Score: {'H1': -92.18558824819026, 'H2': -55.890738641376124, 'H3': -49.39572503243479, 'H4': -58.39049232646869, 'H5': -60.89159550419674, 'H6': -58.369145093329124}\n",
      "File: H3.30.2.mfcc ,Score: {'H1': -87.15875984549665, 'H2': -56.06775510942501, 'H3': -49.53297370740322, 'H4': -57.568006037848235, 'H5': -60.224431803798886, 'H6': -57.91359744304209}\n",
      "File: H4.30.1.mfcc ,Score: {'H1': -82.08264639197532, 'H2': -57.19327801715802, 'H3': -59.04811389498662, 'H4': -49.72108871732992, 'H5': -58.12775886750735, 'H6': -52.14563012074999}\n",
      "File: H4.30.2.mfcc ,Score: {'H1': -80.89057287382569, 'H2': -56.547964803742495, 'H3': -58.1211477277095, 'H4': -49.23658431459938, 'H5': -57.15308589842793, 'H6': -51.53779362082634}\n",
      "File: H5.30.1.mfcc ,Score: {'H1': -77.1663187294422, 'H2': -56.08799381441232, 'H3': -60.394031523305536, 'H4': -58.34975692302996, 'H5': -51.384343073409106, 'H6': -57.61813218746641}\n",
      "File: H5.30.2.mfcc ,Score: {'H1': -76.47113763085267, 'H2': -57.76460598152363, 'H3': -59.713681185599675, 'H4': -57.97251295445685, 'H5': -53.21905195570821, 'H6': -58.830763317101635}\n",
      "File: H6.30.1.mfcc ,Score: {'H1': -82.46269358513891, 'H2': -57.04149484983792, 'H3': -59.618493475784604, 'H4': -52.501002211802195, 'H5': -58.51048853348601, 'H6': -50.16407992829425}\n",
      "File: H6.30.2.mfcc ,Score: {'H1': -84.7105807828051, 'H2': -57.18100411327487, 'H3': -59.83233979175454, 'H4': -53.98816703981273, 'H5': -59.24564021847555, 'H6': -50.73237630353246}\n"
     ]
    }
   ],
   "source": [
    "results_30_H_16 = []\n",
    "\n",
    "# Calculate scores for each GMM model and store file name with score\n",
    "for test_segment_name, test_segment in test_files_30_H.items():\n",
    "    score = get_scores(test_segment, gmm_models_H_16)\n",
    "    results_30_H_16.append((test_segment_name, score))\n",
    "\n",
    "# Printing the results\n",
    "for result in results_30_H_16:\n",
    "    file_name, score = result\n",
    "    print(f\"File: {file_name} ,Score: {score}\")"
   ]
  },
  {
   "cell_type": "markdown",
   "id": "5664467b",
   "metadata": {},
   "source": [
    "## Sort the scores "
   ]
  },
  {
   "cell_type": "code",
   "execution_count": 20,
   "id": "09c49427",
   "metadata": {
    "scrolled": true
   },
   "outputs": [],
   "source": [
    "# Extract the scores from results_30_H_16\n",
    "scores = [score for _, score in results_30_H_16]\n",
    "    \n",
    "scores_array = np.array([list(item.values()) for item in scores]).flatten()\n",
    "\n",
    "sorted_scores_array = np.sort(scores_array)\n"
   ]
  },
  {
   "cell_type": "markdown",
   "id": "112a3800",
   "metadata": {},
   "source": [
    "## Plot the Det curve"
   ]
  },
  {
   "cell_type": "code",
   "execution_count": 21,
   "id": "6a5d0d38",
   "metadata": {},
   "outputs": [
    {
     "data": {
      "image/png": "[encoded data removed]",
      "text/plain": [
       "<Figure size 640x480 with 1 Axes>"
      ]
     },
     "metadata": {},
     "output_type": "display_data"
    }
   ],
   "source": [
    "# Initialize variables\n",
    "genuine_scores = defaultdict(list)  # Dictionary to store genuine scores for each client\n",
    "impostor_scores = []  # List to store impostor scores\n",
    "\n",
    "# Extract genuine scores and impostor scores\n",
    "for result in results_30_H_16:\n",
    "    file_name, score = result\n",
    "    client_name = file_name.split('.')[0]  # Extract client name from file name\n",
    "\n",
    "    genuine_scores[client_name].append(score[client_name])\n",
    "\n",
    "    impostor_scores.extend([s for key, s in score.items() if key != client_name])\n",
    "\n",
    "# Compute the minimum and maximum scores\n",
    "min_score = min(sorted_scores_array)\n",
    "max_score = max(sorted_scores_array)\n",
    "\n",
    "# Set the number of thresholds and generate them using linspace\n",
    "num_thresholds = 1000\n",
    "thresholds = np.geomspace(max_score, min_score, num_thresholds)\n",
    "\n",
    "# Initialize lists for FAR and FRR\n",
    "far = []\n",
    "frr = []\n",
    "\n",
    "# Iterate over thresholds\n",
    "for threshold in thresholds:\n",
    "    # Compute the number of false accepts (FAR) and false rejects (FRR)\n",
    "    false_accepts = sum(score >= threshold for score in impostor_scores)\n",
    "    false_rejects = 0\n",
    "    for client_scores in genuine_scores.values():\n",
    "        false_rejects += sum(score < threshold for score in client_scores)\n",
    "\n",
    "    # Compute the FAR and FRR rates\n",
    "    far_rate = false_accepts / len(impostor_scores)\n",
    "    frr_rate = false_rejects / sum(len(client_scores) for client_scores in genuine_scores.values())\n",
    "\n",
    "    # Append the FAR and FRR rates to the lists\n",
    "    far.append(far_rate)\n",
    "    frr.append(frr_rate)\n",
    "\n",
    "# Find the threshold with the closest FAR and FRR\n",
    "eer_threshold = thresholds[np.argmin(np.abs(np.array(far) - np.array(frr)))]\n",
    "\n",
    "# Compute the EER values\n",
    "eer_far = far[np.argmin(np.abs(np.array(far) - np.array(frr)))]\n",
    "eer_frr = frr[np.argmin(np.abs(np.array(far) - np.array(frr)))]\n",
    "\n",
    "# Plot the FAR and FRR curve\n",
    "plt.plot(far, frr)\n",
    "plt.xlabel('False Acceptance Rate (FAR)')\n",
    "plt.ylabel('False Rejection Rate (FRR)')\n",
    "plt.title('DET Curve')\n",
    "plt.grid(True)\n",
    "\n",
    "# Plot the EER point\n",
    "plt.scatter(eer_far, eer_frr, color='red', marker='o', label='EER')\n",
    "\n",
    "# Add legend\n",
    "plt.legend()\n",
    "\n",
    "# Add text annotation for EER point\n",
    "plt.annotate(f'EER: ({eer_far:.3f}, {eer_frr:.3f})', (eer_far, eer_frr), xytext=(eer_far + 0.05, eer_frr), color='red')\n",
    "\n",
    "plt.show()\n"
   ]
  },
  {
   "cell_type": "markdown",
   "id": "4040ba37",
   "metadata": {},
   "source": [
    "## b. GMM 32:\n",
    "### 3 seconds segments :"
   ]
  },
  {
   "cell_type": "markdown",
   "id": "14ac5eef",
   "metadata": {},
   "source": [
    "## Get scores"
   ]
  },
  {
   "cell_type": "code",
   "execution_count": 22,
   "id": "303519b5",
   "metadata": {},
   "outputs": [
    {
     "name": "stdout",
     "output_type": "stream",
     "text": [
      "File: H1.3.1.mfcc ,Score: {'H1': -57.056195515478834, 'H2': -59.802886986992746, 'H3': -60.698516277853315, 'H4': -60.84919758056278, 'H5': -58.44762968283358, 'H6': -58.29354519753227}\n",
      "File: H1.3.2.mfcc ,Score: {'H1': -62.31266367256537, 'H2': -59.811936329793355, 'H3': -63.49640100107854, 'H4': -61.16774751689935, 'H5': -57.86210074172724, 'H6': -59.75235713259932}\n",
      "File: H2.3.1.mfcc ,Score: {'H1': -90.73883307154529, 'H2': -46.21093257789106, 'H3': -56.21241865604621, 'H4': -55.437241371079736, 'H5': -54.538018553472625, 'H6': -63.89382966581019}\n",
      "File: H2.3.10.mfcc ,Score: {'H1': -103.86040026951808, 'H2': -50.90901212256735, 'H3': -59.32901330563635, 'H4': -60.87886569666296, 'H5': -58.665830146028284, 'H6': -60.1440923523879}\n",
      "File: H2.3.11.mfcc ,Score: {'H1': -104.77691862607071, 'H2': -49.508647148184416, 'H3': -58.74096954648782, 'H4': -59.56289530163259, 'H5': -57.79661077230828, 'H6': -62.54002033225879}\n",
      "File: H2.3.12.mfcc ,Score: {'H1': -94.80881401200695, 'H2': -47.60501736085521, 'H3': -58.027243612525005, 'H4': -57.95388845310685, 'H5': -55.268672303856754, 'H6': -62.2332102887875}\n",
      "File: H2.3.13.mfcc ,Score: {'H1': -103.6632269485184, 'H2': -48.93383769888162, 'H3': -58.123957052207636, 'H4': -58.03389886697895, 'H5': -54.8844974134047, 'H6': -60.599637161021576}\n",
      "File: H2.3.14.mfcc ,Score: {'H1': -97.38144000722511, 'H2': -48.05687558104445, 'H3': -59.24510277727226, 'H4': -56.53349058227863, 'H5': -55.50611996992372, 'H6': -60.57389462634601}\n",
      "File: H2.3.15.mfcc ,Score: {'H1': -95.56915494987965, 'H2': -46.02235415648402, 'H3': -56.65601124194922, 'H4': -56.52525195306191, 'H5': -54.35915317334113, 'H6': -65.72296775289036}\n",
      "File: H2.3.16.mfcc ,Score: {'H1': -100.21662421119629, 'H2': -49.14292809372941, 'H3': -61.85667310786021, 'H4': -61.496911974756536, 'H5': -58.575060370806874, 'H6': -57.147019413281235}\n",
      "File: H2.3.17.mfcc ,Score: {'H1': -98.58836032046958, 'H2': -44.81830093686913, 'H3': -56.72129171998726, 'H4': -53.95824476533933, 'H5': -53.12670967998273, 'H6': -68.67088237865072}\n",
      "File: H2.3.18.mfcc ,Score: {'H1': -88.17947467215598, 'H2': -49.20330789831983, 'H3': -56.49135805135952, 'H4': -61.201438433455756, 'H5': -54.447352598747656, 'H6': -57.19416018138791}\n",
      "File: H2.3.2.mfcc ,Score: {'H1': -104.09358610496082, 'H2': -49.65754409247466, 'H3': -59.35877212351271, 'H4': -59.6580281073731, 'H5': -58.85581839618245, 'H6': -62.174605984912}\n",
      "File: H2.3.3.mfcc ,Score: {'H1': -101.33690535530717, 'H2': -49.01307484636531, 'H3': -55.545467992535485, 'H4': -58.08917088158, 'H5': -56.788939952138975, 'H6': -64.34917931103082}\n",
      "File: H2.3.4.mfcc ,Score: {'H1': -111.40566090793371, 'H2': -46.77417550122665, 'H3': -56.770079573881276, 'H4': -59.27216048795669, 'H5': -56.68015279485272, 'H6': -63.61242761233089}\n",
      "File: H2.3.5.mfcc ,Score: {'H1': -101.68981897711113, 'H2': -48.02835754467021, 'H3': -58.89110226595966, 'H4': -60.70959114110847, 'H5': -58.63191493103412, 'H6': -62.450058650183855}\n",
      "File: H2.3.6.mfcc ,Score: {'H1': -101.0214122808677, 'H2': -48.313909043127744, 'H3': -57.423700886536956, 'H4': -59.32903107541822, 'H5': -56.16877523940572, 'H6': -61.765787086021724}\n",
      "File: H2.3.7.mfcc ,Score: {'H1': -100.41388912044279, 'H2': -50.138812460529344, 'H3': -58.84691874772722, 'H4': -59.99571611433992, 'H5': -57.34585425270112, 'H6': -57.70683606696093}\n",
      "File: H2.3.8.mfcc ,Score: {'H1': -106.15956897067275, 'H2': -48.647788026106255, 'H3': -56.99334098410771, 'H4': -58.67903158167562, 'H5': -56.77157593639493, 'H6': -58.779938123505815}\n",
      "File: H2.3.9.mfcc ,Score: {'H1': -99.9721085390459, 'H2': -46.51095331535533, 'H3': -58.85022737053162, 'H4': -59.20649972272227, 'H5': -55.9421102029786, 'H6': -63.70259090114824}\n",
      "File: H3.3.1.mfcc ,Score: {'H1': -117.23971476103024, 'H2': -56.25457036054515, 'H3': -50.48692494626453, 'H4': -61.94947551353002, 'H5': -64.36651847626865, 'H6': -59.10995365551013}\n",
      "File: H3.3.10.mfcc ,Score: {'H1': -109.67953542928944, 'H2': -56.31568505593616, 'H3': -51.96246574610752, 'H4': -58.19040432002791, 'H5': -60.23712159757822, 'H6': -56.677670991133176}\n",
      "File: H3.3.11.mfcc ,Score: {'H1': -103.79549273391618, 'H2': -55.610432109284446, 'H3': -49.51221305379317, 'H4': -58.384221457298, 'H5': -61.21850390006194, 'H6': -57.82158272860159}\n",
      "File: H3.3.12.mfcc ,Score: {'H1': -117.34753415712599, 'H2': -57.52450891775774, 'H3': -52.92903996191493, 'H4': -60.3204912724334, 'H5': -62.527386627151316, 'H6': -59.26286506948027}\n",
      "File: H3.3.13.mfcc ,Score: {'H1': -139.66314000337763, 'H2': -60.417533586845856, 'H3': -52.12085347957759, 'H4': -60.648873549706806, 'H5': -64.46073850552517, 'H6': -59.95928835340383}\n",
      "File: H3.3.14.mfcc ,Score: {'H1': -103.97937481157845, 'H2': -57.24012684706625, 'H3': -48.498938227825825, 'H4': -58.86470942998681, 'H5': -62.33892181668011, 'H6': -58.21709780684551}\n",
      "File: H3.3.15.mfcc ,Score: {'H1': -98.52574112485486, 'H2': -55.245316834298855, 'H3': -49.129425462955105, 'H4': -59.87473143084065, 'H5': -59.76653124410725, 'H6': -57.156362808752235}\n",
      "File: H3.3.16.mfcc ,Score: {'H1': -145.50302403450848, 'H2': -60.963189080274425, 'H3': -51.972412176305156, 'H4': -59.83392685700484, 'H5': -68.78250672060646, 'H6': -61.47725528305491}\n",
      "File: H3.3.2.mfcc ,Score: {'H1': -131.58510747127002, 'H2': -57.74095108533717, 'H3': -49.81010505164902, 'H4': -62.958101595111536, 'H5': -62.69934576536007, 'H6': -58.74204997017335}\n",
      "File: H3.3.3.mfcc ,Score: {'H1': -151.81055348875728, 'H2': -58.931890437394834, 'H3': -52.48930503148685, 'H4': -62.78835455233338, 'H5': -66.66930837078867, 'H6': -60.96181341872288}\n",
      "File: H3.3.4.mfcc ,Score: {'H1': -108.93062603994814, 'H2': -56.22346545079672, 'H3': -48.50417647101048, 'H4': -62.39470911926099, 'H5': -63.11794030643444, 'H6': -59.31115998233273}\n",
      "File: H3.3.5.mfcc ,Score: {'H1': -111.11899762224438, 'H2': -55.49407790240769, 'H3': -49.20071898496113, 'H4': -60.87122226394724, 'H5': -63.25721428126477, 'H6': -57.50428138061689}\n",
      "File: H3.3.6.mfcc ,Score: {'H1': -143.21018771656907, 'H2': -59.16741039483055, 'H3': -51.315258812762174, 'H4': -60.2165807969577, 'H5': -65.81736763536156, 'H6': -60.36077195296088}\n",
      "File: H3.3.7.mfcc ,Score: {'H1': -109.02393507352555, 'H2': -57.03737939407831, 'H3': -50.767699237915274, 'H4': -61.12683097448795, 'H5': -61.90264332966835, 'H6': -58.75402575208158}\n",
      "File: H3.3.8.mfcc ,Score: {'H1': -118.57855436826634, 'H2': -56.76492608646493, 'H3': -49.74121886823755, 'H4': -59.67924006650093, 'H5': -64.90448728299437, 'H6': -58.627633574654844}\n",
      "File: H3.3.9.mfcc ,Score: {'H1': -132.7253102248509, 'H2': -58.40970853969592, 'H3': -52.11904350076008, 'H4': -61.71847066166205, 'H5': -63.18828108043417, 'H6': -58.01597235753744}\n",
      "File: H4.3.1.mfcc ,Score: {'H1': -100.70986608571552, 'H2': -62.188133968110364, 'H3': -65.5139614867054, 'H4': -51.266016310142554, 'H5': -63.31766669671068, 'H6': -52.32799888477485}\n",
      "File: H4.3.10.mfcc ,Score: {'H1': -100.0017417082117, 'H2': -57.58884981090427, 'H3': -61.73581839136983, 'H4': -49.309996594632565, 'H5': -57.57096819482187, 'H6': -52.346355173151764}\n",
      "File: H4.3.11.mfcc ,Score: {'H1': -98.0821648838088, 'H2': -56.896221684149715, 'H3': -60.93666484861382, 'H4': -50.68140010312359, 'H5': -58.58332375663137, 'H6': -52.86402165528178}\n",
      "File: H4.3.12.mfcc ,Score: {'H1': -96.88102470690934, 'H2': -56.99069831677507, 'H3': -61.49782446161105, 'H4': -49.78336373052316, 'H5': -59.28117309513989, 'H6': -51.61142268653305}\n",
      "File: H4.3.13.mfcc ,Score: {'H1': -101.72305371102154, 'H2': -58.96218745021376, 'H3': -64.9250426332224, 'H4': -49.779458098552595, 'H5': -58.35564115296699, 'H6': -52.09941766551554}\n",
      "File: H4.3.14.mfcc ,Score: {'H1': -99.48887954564138, 'H2': -57.37649745657766, 'H3': -60.175384941796935, 'H4': -50.7048682570759, 'H5': -57.35667134934966, 'H6': -52.47793863703021}\n",
      "File: H4.3.15.mfcc ,Score: {'H1': -93.93222795069512, 'H2': -58.83020226425106, 'H3': -62.27646156242833, 'H4': -50.064790713872156, 'H5': -59.11715251477908, 'H6': -52.48997164483085}\n",
      "File: H4.3.16.mfcc ,Score: {'H1': -107.2984410219545, 'H2': -59.00937817135641, 'H3': -63.721301818905815, 'H4': -50.28449368748047, 'H5': -60.77081198358179, 'H6': -52.35741396951417}\n",
      "File: H4.3.2.mfcc ,Score: {'H1': -104.20975007454982, 'H2': -60.12908598543281, 'H3': -64.98411218889487, 'H4': -51.4498042131026, 'H5': -62.21103047398147, 'H6': -54.286019227835205}\n",
      "File: H4.3.3.mfcc ,Score: {'H1': -97.62637657295244, 'H2': -56.963791632161225, 'H3': -59.94293880735854, 'H4': -50.93489071733047, 'H5': -60.63734692959253, 'H6': -52.40959734197679}\n",
      "File: H4.3.4.mfcc ,Score: {'H1': -111.13773143791832, 'H2': -58.26996091670005, 'H3': -61.78160045065403, 'H4': -52.34122863200424, 'H5': -61.7252460245028, 'H6': -54.300944809152}\n",
      "File: H4.3.5.mfcc ,Score: {'H1': -97.47215304376058, 'H2': -57.01292977222588, 'H3': -60.63937213221987, 'H4': -51.003370502008465, 'H5': -60.14000916464287, 'H6': -52.655893608760856}\n",
      "File: H4.3.6.mfcc ,Score: {'H1': -95.59090243657498, 'H2': -57.8720601745348, 'H3': -63.49474746803466, 'H4': -50.523155080058594, 'H5': -58.22807432757436, 'H6': -52.36991522741551}\n",
      "File: H4.3.7.mfcc ,Score: {'H1': -96.75199010775921, 'H2': -58.34449051532633, 'H3': -61.919316984071315, 'H4': -50.34899529982169, 'H5': -59.048014536963066, 'H6': -51.7637491960301}\n",
      "File: H4.3.8.mfcc ,Score: {'H1': -95.60356007563803, 'H2': -58.58906646020057, 'H3': -61.930339355621946, 'H4': -52.222948301515984, 'H5': -60.326029750254456, 'H6': -53.089192869135545}\n",
      "File: H4.3.9.mfcc ,Score: {'H1': -112.00941251142247, 'H2': -60.011751317137104, 'H3': -65.70734353148829, 'H4': -50.82032771008147, 'H5': -59.44645037638538, 'H6': -54.365531252234824}\n",
      "File: H5.3.1.mfcc ,Score: {'H1': -89.64046632680878, 'H2': -57.37803284163861, 'H3': -60.958063757676086, 'H4': -59.53861179153863, 'H5': -52.33390913305893, 'H6': -57.281680382765046}\n",
      "File: H5.3.10.mfcc ,Score: {'H1': -97.05445111118046, 'H2': -57.82605841224861, 'H3': -66.01248487145308, 'H4': -60.540108310736144, 'H5': -53.738072980585315, 'H6': -58.21655259891841}\n",
      "File: H5.3.11.mfcc ,Score: {'H1': -87.9610617248971, 'H2': -55.96516945237066, 'H3': -61.649995006000125, 'H4': -59.90356952206228, 'H5': -51.36283181831663, 'H6': -57.18644711284527}\n",
      "File: H5.3.12.mfcc ,Score: {'H1': -86.2821871442183, 'H2': -60.07023923546473, 'H3': -62.570473697465324, 'H4': -61.33095102315047, 'H5': -53.36204906663543, 'H6': -59.00579363139676}\n",
      "File: H5.3.13.mfcc ,Score: {'H1': -95.88651646248431, 'H2': -63.7718870484291, 'H3': -65.32794225602055, 'H4': -63.604062098633925, 'H5': -56.89595244353646, 'H6': -62.09940943991746}\n",
      "File: H5.3.14.mfcc ,Score: {'H1': -98.59917405458526, 'H2': -61.617697819899014, 'H3': -64.38371328659237, 'H4': -61.08605579344836, 'H5': -56.19382241595369, 'H6': -62.716420522702414}\n",
      "File: H5.3.15.mfcc ,Score: {'H1': -105.81926525976866, 'H2': -61.1853821784653, 'H3': -64.48696791247278, 'H4': -63.30151773512346, 'H5': -55.68979223640946, 'H6': -62.06967094028844}\n",
      "File: H5.3.16.mfcc ,Score: {'H1': -93.44969395287083, 'H2': -58.26632198616462, 'H3': -61.66386120167396, 'H4': -59.809006895183366, 'H5': -53.93806107081625, 'H6': -58.895595756859}\n",
      "File: H5.3.17.mfcc ,Score: {'H1': -91.2657332206765, 'H2': -58.18617841894369, 'H3': -60.49492081475288, 'H4': -56.28893862842154, 'H5': -54.64279764496108, 'H6': -57.30936353801486}\n",
      "File: H5.3.2.mfcc ,Score: {'H1': -100.63401014663896, 'H2': -59.5520972820422, 'H3': -66.21195873445892, 'H4': -62.48770956419379, 'H5': -54.01136869060408, 'H6': -59.303229397464285}\n",
      "File: H5.3.3.mfcc ,Score: {'H1': -100.56878712260264, 'H2': -60.550373933311484, 'H3': -64.98490168787839, 'H4': -62.3614391229466, 'H5': -52.63832146689094, 'H6': -62.50693257741788}\n",
      "File: H5.3.4.mfcc ,Score: {'H1': -88.42875714625946, 'H2': -58.751243503972326, 'H3': -64.02602395127975, 'H4': -61.36127660031188, 'H5': -51.28342170665081, 'H6': -58.10216177522782}\n",
      "File: H5.3.5.mfcc ,Score: {'H1': -92.47848508101742, 'H2': -58.366046138036765, 'H3': -63.341415703764035, 'H4': -60.39075821599649, 'H5': -51.45334477786933, 'H6': -58.18207740111122}\n",
      "File: H5.3.6.mfcc ,Score: {'H1': -94.52925054859088, 'H2': -57.23300573786781, 'H3': -62.59001011176035, 'H4': -60.789046504461425, 'H5': -51.413307368354744, 'H6': -56.51532113924106}\n",
      "File: H5.3.7.mfcc ,Score: {'H1': -103.78454547889277, 'H2': -59.89651095449685, 'H3': -66.13371226298581, 'H4': -63.256657278670176, 'H5': -52.15938769923321, 'H6': -61.352618498422856}\n",
      "File: H5.3.8.mfcc ,Score: {'H1': -99.57014613541449, 'H2': -59.822424355345525, 'H3': -67.46117481524136, 'H4': -63.61198018593766, 'H5': -52.82281258699357, 'H6': -61.92326191461661}\n",
      "File: H5.3.9.mfcc ,Score: {'H1': -87.98660634635186, 'H2': -56.18225195657676, 'H3': -64.26820824313283, 'H4': -61.134006150865645, 'H5': -52.34636928126567, 'H6': -58.72702773006942}\n",
      "File: H6.3.1.mfcc ,Score: {'H1': -103.71490627893616, 'H2': -57.039730208598876, 'H3': -63.374315409929174, 'H4': -54.15014661611129, 'H5': -59.11282493840047, 'H6': -51.06054597809241}\n",
      "File: H6.3.10.mfcc ,Score: {'H1': -94.02150896929365, 'H2': -58.36714077091811, 'H3': -60.87092317614173, 'H4': -55.615304089194176, 'H5': -59.64964560834148, 'H6': -49.13131889846839}\n",
      "File: H6.3.11.mfcc ,Score: {'H1': -96.00016440273707, 'H2': -60.54513789103073, 'H3': -64.6958708305669, 'H4': -55.24861915365077, 'H5': -62.42680985389134, 'H6': -51.03004523080355}\n",
      "File: H6.3.12.mfcc ,Score: {'H1': -98.62528655994956, 'H2': -57.84931502825636, 'H3': -62.93013187702265, 'H4': -54.11407671825804, 'H5': -60.345991372479915, 'H6': -49.96395574110129}\n",
      "File: H6.3.13.mfcc ,Score: {'H1': -93.23851857981622, 'H2': -61.09912940455237, 'H3': -66.18205460106716, 'H4': -57.895289234196035, 'H5': -60.933105272078485, 'H6': -52.70197860232164}\n",
      "File: H6.3.14.mfcc ,Score: {'H1': -100.20577567539092, 'H2': -57.381801604683304, 'H3': -63.61979874736705, 'H4': -56.32744803719087, 'H5': -59.14194173640986, 'H6': -51.14364347386888}\n",
      "File: H6.3.15.mfcc ,Score: {'H1': -109.84406634602433, 'H2': -58.19864034135067, 'H3': -63.75187780527109, 'H4': -56.90493041732268, 'H5': -61.65690638804914, 'H6': -52.18758037053729}\n",
      "File: H6.3.16.mfcc ,Score: {'H1': -98.2135588341277, 'H2': -60.21333129820031, 'H3': -63.64785831587569, 'H4': -56.70598152438608, 'H5': -62.489761966749114, 'H6': -51.14075776889519}\n",
      "File: H6.3.17.mfcc ,Score: {'H1': -112.28739220276681, 'H2': -58.977006547691985, 'H3': -65.17918713442772, 'H4': -55.97909102918922, 'H5': -63.56789905173254, 'H6': -51.24459366463259}\n",
      "File: H6.3.18.mfcc ,Score: {'H1': -104.17458192079457, 'H2': -59.02350730188129, 'H3': -65.43759851950558, 'H4': -54.975291682076275, 'H5': -60.682132607347015, 'H6': -50.22646188727643}\n",
      "File: H6.3.19.mfcc ,Score: {'H1': -122.84379406378588, 'H2': -62.50037333590388, 'H3': -75.82812813596725, 'H4': -57.08014377262989, 'H5': -71.236079876207, 'H6': -53.448903924705995}\n",
      "File: H6.3.2.mfcc ,Score: {'H1': -94.87620808690316, 'H2': -60.3112123624921, 'H3': -66.22105248047839, 'H4': -55.23960198813009, 'H5': -61.57850612907234, 'H6': -51.091454093280966}\n",
      "File: H6.3.3.mfcc ,Score: {'H1': -95.67779825200603, 'H2': -61.13387829811757, 'H3': -70.3847965220643, 'H4': -57.61755662120687, 'H5': -61.5853553703016, 'H6': -53.102269745469826}\n",
      "File: H6.3.4.mfcc ,Score: {'H1': -115.46219164799082, 'H2': -61.66454421095608, 'H3': -66.48047285191048, 'H4': -54.66926934796012, 'H5': -65.02233755592984, 'H6': -51.98261308349789}\n",
      "File: H6.3.5.mfcc ,Score: {'H1': -99.4443044485444, 'H2': -58.847619295223204, 'H3': -62.87786118746119, 'H4': -53.560516884859226, 'H5': -59.76088604617379, 'H6': -51.39279456584276}\n",
      "File: H6.3.6.mfcc ,Score: {'H1': -93.85868318298999, 'H2': -59.1512333688924, 'H3': -62.205296935181565, 'H4': -54.894459190789775, 'H5': -60.48442712499302, 'H6': -50.350451790832075}\n",
      "File: H6.3.7.mfcc ,Score: {'H1': -94.664174707361, 'H2': -58.40677999134734, 'H3': -62.86255762506068, 'H4': -53.27075645693036, 'H5': -60.113716527212006, 'H6': -49.36542290446282}\n",
      "File: H6.3.8.mfcc ,Score: {'H1': -103.0547356836307, 'H2': -58.93531620974527, 'H3': -64.024386148983, 'H4': -54.060010164517095, 'H5': -62.01635350498511, 'H6': -50.40552361624117}\n",
      "File: H6.3.9.mfcc ,Score: {'H1': -95.63898049096895, 'H2': -59.686321198642396, 'H3': -61.895885210101554, 'H4': -52.63661570015717, 'H5': -59.81494918810757, 'H6': -49.9891301358791}\n"
     ]
    }
   ],
   "source": [
    "results_3_H_32 = []\n",
    "\n",
    "# Calculate scores for each GMM model and store file name with score\n",
    "for test_segment_name, test_segment in test_files_3_H.items():\n",
    "    score = get_scores(test_segment, gmm_models_H_32)\n",
    "    results_3_H_32.append((test_segment_name, score))\n",
    "\n",
    "# Printing the results\n",
    "for result in results_3_H_32:\n",
    "    file_name, score = result\n",
    "    print(f\"File: {file_name} ,Score: {score}\")"
   ]
  },
  {
   "cell_type": "markdown",
   "id": "955c41ab",
   "metadata": {},
   "source": [
    "## Sort the scores"
   ]
  },
  {
   "cell_type": "code",
   "execution_count": 23,
   "id": "62452a9b",
   "metadata": {},
   "outputs": [],
   "source": [
    "# Extract the scores from results_3_H_32\n",
    "scores = [score for _, score in results_3_H_32]\n",
    "    \n",
    "scores_array = np.array([list(item.values()) for item in scores]).flatten()\n",
    "\n",
    "sorted_scores_array = np.sort(scores_array)\n"
   ]
  },
  {
   "cell_type": "markdown",
   "id": "1c7f463a",
   "metadata": {},
   "source": [
    "## Plot the Det curve"
   ]
  },
  {
   "cell_type": "code",
   "execution_count": 24,
   "id": "dcf0def4",
   "metadata": {},
   "outputs": [
    {
     "data": {
      "image/png": "[encoded data removed]",
      "text/plain": [
       "<Figure size 640x480 with 1 Axes>"
      ]
     },
     "metadata": {},
     "output_type": "display_data"
    }
   ],
   "source": [
    "# Initialize variables\n",
    "genuine_scores = defaultdict(list)  # Dictionary to store genuine scores for each client\n",
    "impostor_scores = []  # List to store impostor scores\n",
    "\n",
    "# Extract genuine scores and impostor scores\n",
    "for result in results_3_H_32:\n",
    "    file_name, score = result\n",
    "    client_name = file_name.split('.')[0]  # Extract client name from file name\n",
    "\n",
    "    genuine_scores[client_name].append(score[client_name])\n",
    "\n",
    "    impostor_scores.extend([s for key, s in score.items() if key != client_name])\n",
    "\n",
    "# Compute the minimum and maximum scores\n",
    "min_score = min(sorted_scores_array)\n",
    "max_score = max(sorted_scores_array)\n",
    "\n",
    "# Set the number of thresholds and generate them using linspace\n",
    "num_thresholds = 1000\n",
    "thresholds = np.geomspace(max_score, min_score, num_thresholds)\n",
    "\n",
    "# Initialize lists for FAR and FRR\n",
    "far = []\n",
    "frr = []\n",
    "\n",
    "# Iterate over thresholds\n",
    "for threshold in thresholds:\n",
    "    # Compute the number of false accepts (FAR) and false rejects (FRR)\n",
    "    false_accepts = sum(score >= threshold for score in impostor_scores)\n",
    "    false_rejects = 0\n",
    "    for client_scores in genuine_scores.values():\n",
    "        false_rejects += sum(score < threshold for score in client_scores)\n",
    "\n",
    "    # Compute the FAR and FRR rates\n",
    "    far_rate = false_accepts / len(impostor_scores)\n",
    "    frr_rate = false_rejects / sum(len(client_scores) for client_scores in genuine_scores.values())\n",
    "\n",
    "    # Append the FAR and FRR rates to the lists\n",
    "    far.append(far_rate)\n",
    "    frr.append(frr_rate)\n",
    "\n",
    "# Find the threshold with the closest FAR and FRR\n",
    "eer_threshold = thresholds[np.argmin(np.abs(np.array(far) - np.array(frr)))]\n",
    "\n",
    "# Compute the EER values\n",
    "eer_far = far[np.argmin(np.abs(np.array(far) - np.array(frr)))]\n",
    "eer_frr = frr[np.argmin(np.abs(np.array(far) - np.array(frr)))]\n",
    "\n",
    "# Plot the FAR and FRR curve\n",
    "plt.plot(far, frr)\n",
    "plt.xlabel('False Acceptance Rate (FAR)')\n",
    "plt.ylabel('False Rejection Rate (FRR)')\n",
    "plt.title('DET Curve')\n",
    "plt.grid(True)\n",
    "\n",
    "# Plot the EER point\n",
    "plt.scatter(eer_far, eer_frr, color='red', marker='o', label='EER')\n",
    "\n",
    "# Add legend\n",
    "plt.legend()\n",
    "\n",
    "# Add text annotation for EER point\n",
    "plt.annotate(f'EER: ({eer_far:.3f}, {eer_frr:.3f})', (eer_far, eer_frr), xytext=(eer_far + 0.05, eer_frr), color='red')\n",
    "\n",
    "plt.show()\n"
   ]
  },
  {
   "cell_type": "markdown",
   "id": "e9595ac8",
   "metadata": {},
   "source": [
    "### 10 seconds segments :"
   ]
  },
  {
   "cell_type": "markdown",
   "id": "0d3ce7ef",
   "metadata": {},
   "source": [
    "## Get scores"
   ]
  },
  {
   "cell_type": "code",
   "execution_count": 25,
   "id": "e13c79c5",
   "metadata": {
    "scrolled": true
   },
   "outputs": [
    {
     "name": "stdout",
     "output_type": "stream",
     "text": [
      "File: H1.10.1.mfcc ,Score: {'H1': -59.13974526788537, 'H2': -59.806473949833226, 'H3': -61.807536983035156, 'H4': -60.9754638531147, 'H5': -58.215538734346765, 'H6': -58.8717865480518}\n",
      "File: H2.10.1.mfcc ,Score: {'H1': -99.42820990855665, 'H2': -48.29854560229488, 'H3': -56.97495790803386, 'H4': -57.91053228202016, 'H5': -56.85306335037227, 'H6': -63.039924435667146}\n",
      "File: H2.10.2.mfcc ,Score: {'H1': -104.66926724130617, 'H2': -48.19618160349569, 'H3': -57.929364107523824, 'H4': -60.07994201638882, 'H5': -57.43107059617912, 'H6': -61.6745631181205}\n",
      "File: H2.10.3.mfcc ,Score: {'H1': -102.11017792935873, 'H2': -48.7666406533036, 'H3': -58.56199055638487, 'H4': -59.386126555566136, 'H5': -56.832563175005475, 'H6': -60.85931617250005}\n",
      "File: H2.10.4.mfcc ,Score: {'H1': -100.862025319697, 'H2': -48.81448717162482, 'H3': -58.626310825502806, 'H4': -58.66800561834783, 'H5': -56.17801153138816, 'H6': -61.24488260433401}\n",
      "File: H2.10.5.mfcc ,Score: {'H1': -97.236555365682, 'H2': -47.331600759930005, 'H3': -58.814895695601386, 'H4': -57.64871453203836, 'H5': -55.70367642677256, 'H6': -61.86817158104743}\n",
      "File: H2.10.6.mfcc ,Score: {'H1': -101.38642108895095, 'H2': -42.20305432688371, 'H3': -54.16662797841507, 'H4': -51.055693228578015, 'H5': -50.51921832417906, 'H6': -77.30932170180971}\n",
      "File: H3.10.1.mfcc ,Score: {'H1': -133.3271750301941, 'H2': -57.63725706133408, 'H3': -50.92777214643603, 'H4': -62.69130493158618, 'H5': -64.83798450908816, 'H6': -59.775210880692185}\n",
      "File: H3.10.2.mfcc ,Score: {'H1': -118.63844255202127, 'H2': -56.98931253621627, 'H3': -49.90659209029805, 'H4': -61.0980420883329, 'H5': -63.491904729917785, 'H6': -58.97165325363955}\n",
      "File: H3.10.3.mfcc ,Score: {'H1': -118.20513907651004, 'H2': -57.075449814695894, 'H3': -51.084710758612296, 'H4': -59.77866993922683, 'H5': -62.518179198840045, 'H6': -57.67273577638542}\n",
      "File: H3.10.4.mfcc ,Score: {'H1': -117.34473446506352, 'H2': -57.85300407441039, 'H3': -51.06097859913543, 'H4': -59.6653473114239, 'H5': -62.60906364692303, 'H6': -58.84130346420723}\n",
      "File: H3.10.5.mfcc ,Score: {'H1': -116.94705430100127, 'H2': -57.548814078959595, 'H3': -50.09143297269483, 'H4': -59.624992353829434, 'H5': -63.496048832692345, 'H6': -58.967414855978255}\n",
      "File: H4.10.1.mfcc ,Score: {'H1': -100.6702076056322, 'H2': -59.47550380029626, 'H3': -62.87932658433053, 'H4': -51.17199642811168, 'H5': -61.80136300988287, 'H6': -53.01682505719219}\n",
      "File: H4.10.2.mfcc ,Score: {'H1': -102.05990107280088, 'H2': -58.1887186276976, 'H3': -62.75019508153347, 'H4': -51.348827656083806, 'H5': -60.2932042678526, 'H6': -53.01274672353191}\n",
      "File: H4.10.3.mfcc ,Score: {'H1': -100.60393653791785, 'H2': -58.42681373782616, 'H3': -62.665343573061605, 'H4': -50.54539592401411, 'H5': -58.700683664893376, 'H6': -52.944987496416125}\n",
      "File: H4.10.4.mfcc ,Score: {'H1': -100.24565234662816, 'H2': -57.83475179508016, 'H3': -62.57922751370669, 'H4': -50.13966714573763, 'H5': -58.67499694543114, 'H6': -52.18412750075855}\n",
      "File: H4.10.5.mfcc ,Score: {'H1': -98.43194539122767, 'H2': -58.20485784943368, 'H3': -61.787884649838844, 'H4': -50.313240821157926, 'H5': -59.15296395184801, 'H6': -52.48660931995576}\n",
      "File: H5.10.1.mfcc ,Score: {'H1': -95.03098953702562, 'H2': -58.90851521998691, 'H3': -63.786903723982235, 'H4': -61.1536150152784, 'H5': -52.521541570618254, 'H6': -59.08815627005516}\n",
      "File: H5.10.2.mfcc ,Score: {'H1': -96.72519435625698, 'H2': -58.56955568766568, 'H3': -63.877942201163805, 'H4': -61.76179593337986, 'H5': -51.84562418620917, 'H6': -59.03443421188994}\n",
      "File: H5.10.3.mfcc ,Score: {'H1': -94.64646773984474, 'H2': -58.189342627008486, 'H3': -66.13154031674317, 'H4': -61.72606716903927, 'H5': -52.89292895062457, 'H6': -59.51066854263129}\n",
      "File: H5.10.4.mfcc ,Score: {'H1': -90.10052508119601, 'H2': -60.121997724122, 'H3': -63.33890410685129, 'H4': -61.28896830691871, 'H5': -54.18572717906657, 'H6': -59.33189997633309}\n",
      "File: H5.10.5.mfcc ,Score: {'H1': -99.38865175123402, 'H2': -59.96106008779663, 'H3': -63.047925552115146, 'H4': -61.18350909734531, 'H5': -55.01379811370683, 'H6': -61.11383445714287}\n",
      "File: H6.10.1.mfcc ,Score: {'H1': -100.14636676032829, 'H2': -59.869725975287494, 'H3': -67.09154172255847, 'H4': -55.720388787003905, 'H5': -61.46013917252305, 'H6': -51.86921400268958}\n",
      "File: H6.10.2.mfcc ,Score: {'H1': -100.9886187950612, 'H2': -59.46437988565347, 'H3': -63.607593277246494, 'H4': -54.001414971037335, 'H5': -61.19120809490081, 'H6': -50.725771068695074}\n",
      "File: H6.10.3.mfcc ,Score: {'H1': -95.98906196919793, 'H2': -58.729026913539045, 'H3': -61.66012926438866, 'H4': -53.99246735991561, 'H5': -60.09035333063132, 'H6': -49.76647237223556}\n",
      "File: H6.10.4.mfcc ,Score: {'H1': -95.57894182756131, 'H2': -59.599877049797286, 'H3': -63.9098966334649, 'H4': -55.59109580475874, 'H5': -60.945423584995474, 'H6': -51.098055752132865}\n",
      "File: H6.10.5.mfcc ,Score: {'H1': -107.04493321507688, 'H2': -58.64705423785934, 'H3': -64.66207145980044, 'H4': -56.72212009948278, 'H5': -62.11062994975434, 'H6': -51.452973780573316}\n",
      "File: H6.10.6.mfcc ,Score: {'H1': -105.96305556131146, 'H2': -59.83500378680437, 'H3': -66.80084272725458, 'H4': -55.60011190283605, 'H5': -62.40495723220832, 'H6': -51.252527432618194}\n"
     ]
    }
   ],
   "source": [
    "results_10_H_32 = []\n",
    "\n",
    "# Calculate scores for each GMM model and store file name with score\n",
    "for test_segment_name, test_segment in test_files_10_H.items():\n",
    "    score = get_scores(test_segment, gmm_models_H_32)\n",
    "    results_10_H_32.append((test_segment_name, score))\n",
    "\n",
    "# Printing the results\n",
    "for result in results_10_H_32:\n",
    "    file_name, score = result\n",
    "    print(f\"File: {file_name} ,Score: {score}\")"
   ]
  },
  {
   "cell_type": "markdown",
   "id": "7bfbbbfe",
   "metadata": {},
   "source": [
    "## Sort the scores "
   ]
  },
  {
   "cell_type": "code",
   "execution_count": 26,
   "id": "b5576588",
   "metadata": {},
   "outputs": [],
   "source": [
    "# Extract the scores from results_3_H_32\n",
    "scores = [score for _, score in results_10_H_32]\n",
    "    \n",
    "scores_array = np.array([list(item.values()) for item in scores]).flatten()\n",
    "\n",
    "sorted_scores_array = np.sort(scores_array)\n"
   ]
  },
  {
   "cell_type": "markdown",
   "id": "95203b41",
   "metadata": {},
   "source": [
    "## Plot the Det curve "
   ]
  },
  {
   "cell_type": "code",
   "execution_count": 27,
   "id": "89e2347a",
   "metadata": {},
   "outputs": [
    {
     "data": {
      "image/png": "[encoded data removed]",
      "text/plain": [
       "<Figure size 640x480 with 1 Axes>"
      ]
     },
     "metadata": {},
     "output_type": "display_data"
    }
   ],
   "source": [
    "# Initialize variables\n",
    "genuine_scores = defaultdict(list)  # Dictionary to store genuine scores for each client\n",
    "impostor_scores = []  # List to store impostor scores\n",
    "\n",
    "# Extract genuine scores and impostor scores\n",
    "for result in results_10_H_32:\n",
    "    file_name, score = result\n",
    "    client_name = file_name.split('.')[0]  # Extract client name from file name\n",
    "\n",
    "    genuine_scores[client_name].append(score[client_name])\n",
    "\n",
    "    impostor_scores.extend([s for key, s in score.items() if key != client_name])\n",
    "\n",
    "# Compute the minimum and maximum scores\n",
    "min_score = min(sorted_scores_array)\n",
    "max_score = max(sorted_scores_array)\n",
    "\n",
    "# Set the number of thresholds and generate them using linspace\n",
    "num_thresholds = 1000\n",
    "thresholds = np.geomspace(max_score, min_score, num_thresholds)\n",
    "\n",
    "# Initialize lists for FAR and FRR\n",
    "far = []\n",
    "frr = []\n",
    "\n",
    "# Iterate over thresholds\n",
    "for threshold in thresholds:\n",
    "    # Compute the number of false accepts (FAR) and false rejects (FRR)\n",
    "    false_accepts = sum(score >= threshold for score in impostor_scores)\n",
    "    false_rejects = 0\n",
    "    for client_scores in genuine_scores.values():\n",
    "        false_rejects += sum(score < threshold for score in client_scores)\n",
    "\n",
    "    # Compute the FAR and FRR rates\n",
    "    far_rate = false_accepts / len(impostor_scores)\n",
    "    frr_rate = false_rejects / sum(len(client_scores) for client_scores in genuine_scores.values())\n",
    "\n",
    "    # Append the FAR and FRR rates to the lists\n",
    "    far.append(far_rate)\n",
    "    frr.append(frr_rate)\n",
    "\n",
    "# Find the threshold with the closest FAR and FRR\n",
    "eer_threshold = thresholds[np.argmin(np.abs(np.array(far) - np.array(frr)))]\n",
    "\n",
    "# Compute the EER values\n",
    "eer_far = far[np.argmin(np.abs(np.array(far) - np.array(frr)))]\n",
    "eer_frr = frr[np.argmin(np.abs(np.array(far) - np.array(frr)))]\n",
    "\n",
    "# Plot the FAR and FRR curve\n",
    "plt.plot(far, frr)\n",
    "plt.xlabel('False Acceptance Rate (FAR)')\n",
    "plt.ylabel('False Rejection Rate (FRR)')\n",
    "plt.title('DET Curve')\n",
    "plt.grid(True)\n",
    "\n",
    "# Plot the EER point\n",
    "plt.scatter(eer_far, eer_frr, color='red', marker='o', label='EER')\n",
    "\n",
    "# Add legend\n",
    "plt.legend()\n",
    "\n",
    "# Add text annotation for EER point\n",
    "plt.annotate(f'EER: ({eer_far:.3f}, {eer_frr:.3f})', (eer_far, eer_frr), xytext=(eer_far + 0.05, eer_frr), color='red')\n",
    "\n",
    "plt.show()\n"
   ]
  },
  {
   "cell_type": "markdown",
   "id": "86e34de4",
   "metadata": {},
   "source": [
    "### 15 seconds segments :"
   ]
  },
  {
   "cell_type": "markdown",
   "id": "d46c46be",
   "metadata": {},
   "source": [
    "## Get the scores "
   ]
  },
  {
   "cell_type": "code",
   "execution_count": 28,
   "id": "5a142c1f",
   "metadata": {
    "scrolled": true
   },
   "outputs": [
    {
     "name": "stdout",
     "output_type": "stream",
     "text": [
      "File: H1.15.1.mfcc ,Score: {'H1': -59.13974526788537, 'H2': -59.806473949833226, 'H3': -61.807536983035156, 'H4': -60.9754638531147, 'H5': -58.215538734346765, 'H6': -58.8717865480518}\n",
      "File: H2.15.1.mfcc ,Score: {'H1': -101.85296088337161, 'H2': -47.93681691252558, 'H3': -57.35556812238707, 'H4': -58.63323839781961, 'H5': -57.098968925536184, 'H6': -63.29602024485355}\n",
      "File: H2.15.2.mfcc ,Score: {'H1': -102.28547583610944, 'H2': -48.90409499353719, 'H3': -58.28864025890797, 'H4': -59.6178288381638, 'H5': -56.97882915550173, 'H6': -60.419848906004916}\n",
      "File: H2.15.3.mfcc ,Score: {'H1': -99.23991090874017, 'H2': -48.02534638908993, 'H3': -58.158656846088384, 'H4': -57.721885031411794, 'H5': -55.56301072656691, 'H6': -62.33394603226085}\n",
      "File: H2.15.4.mfcc ,Score: {'H1': -99.04045944023046, 'H2': -47.05231430184832, 'H3': -59.19873646674423, 'H4': -57.83963837209334, 'H5': -55.80560978582554, 'H6': -62.72460280839893}\n",
      "File: H3.15.1.mfcc ,Score: {'H1': -124.13699987665001, 'H2': -56.928991047296314, 'H3': -50.0982460970744, 'H4': -62.19237260883662, 'H5': -64.02206544002333, 'H6': -59.12585168147119}\n",
      "File: H3.15.2.mfcc ,Score: {'H1': -122.64350456250024, 'H2': -57.53902189420118, 'H3': -51.18113723315652, 'H4': -60.18630536392732, 'H5': -63.20998018520733, 'H6': -58.48721492567358}\n",
      "File: H3.15.3.mfcc ,Score: {'H1': -112.66225656617063, 'H2': -57.207583659050634, 'H3': -50.438094037213325, 'H4': -59.61860542805314, 'H5': -62.062416418705155, 'H6': -58.48343935341669}\n",
      "File: H3.15.4.mfcc ,Score: {'H1': -145.50302403450848, 'H2': -60.963189080274425, 'H3': -51.972412176305156, 'H4': -59.83392685700484, 'H5': -68.78250672060646, 'H6': -61.47725528305491}\n",
      "File: H4.15.1.mfcc ,Score: {'H1': -102.23117544297932, 'H2': -58.912780454926065, 'H3': -62.572397013166544, 'H4': -51.39906207491768, 'H5': -61.60625985788607, 'H6': -53.196090774499936}\n",
      "File: H4.15.2.mfcc ,Score: {'H1': -99.99152136792127, 'H2': -58.48124365562061, 'H3': -62.957513146117215, 'H4': -50.64508459722206, 'H5': -58.92390743719982, 'H6': -52.78694874359355}\n",
      "File: H4.15.3.mfcc ,Score: {'H1': -98.02147015961523, 'H2': -57.811161434393455, 'H3': -61.9622756895345, 'H4': -50.202776180629485, 'H5': -58.53879237377339, 'H6': -52.30855445783829}\n",
      "File: H4.15.4.mfcc ,Score: {'H1': -107.2984410219545, 'H2': -59.00937817135641, 'H3': -63.721301818905815, 'H4': -50.28449368748047, 'H5': -60.77081198358179, 'H6': -52.35741396951417}\n",
      "File: H5.15.1.mfcc ,Score: {'H1': -94.35010116466546, 'H2': -58.91955873980028, 'H3': -63.904472767011434, 'H4': -61.22795905899747, 'H5': -52.344073155014826, 'H6': -59.075216306797245}\n",
      "File: H5.15.2.mfcc ,Score: {'H1': -96.58499992408608, 'H2': -58.19205028330711, 'H3': -65.29311806091468, 'H4': -61.86635968613421, 'H5': -52.495989983286506, 'H6': -59.346956376253665}\n",
      "File: H5.15.3.mfcc ,Score: {'H1': -94.90964092919072, 'H2': -60.522075146925765, 'H3': -63.683818431710236, 'H4': -61.84523123448369, 'H5': -54.70088959617033, 'H6': -60.61554832943007}\n",
      "File: H5.15.4.mfcc ,Score: {'H1': -92.91608138102485, 'H2': -58.246740308531294, 'H3': -61.37825108194767, 'H4': -58.94893983756145, 'H5': -54.1102511153806, 'H6': -58.50802768323714}\n",
      "File: H6.15.1.mfcc ,Score: {'H1': -101.8350817428761, 'H2': -59.79939687507757, 'H3': -65.86769969036871, 'H4': -55.04741829165353, 'H5': -61.4119820079756, 'H6': -51.725935493236776}\n",
      "File: H6.15.2.mfcc ,Score: {'H1': -96.24761660684885, 'H2': -58.909358307909116, 'H3': -62.37180981909371, 'H4': -54.09542912031771, 'H5': -60.415818390727836, 'H6': -49.8483694691767}\n",
      "File: H6.15.3.mfcc ,Score: {'H1': -99.58276231278363, 'H2': -59.01480485397469, 'H3': -64.23594677225897, 'H4': -56.09807271212369, 'H5': -60.90095092458175, 'H6': -51.405440683726525}\n",
      "File: H6.15.4.mfcc ,Score: {'H1': -106.23870180263422, 'H2': -59.63687646233613, 'H3': -65.58565934724388, 'H4': -55.976320417366345, 'H5': -62.92103999867597, 'H6': -51.064043147733614}\n"
     ]
    }
   ],
   "source": [
    "results_15_H_32 = []\n",
    "\n",
    "# Calculate scores for each GMM model and store file name with score\n",
    "for test_segment_name, test_segment in test_files_15_H.items():\n",
    "    score = get_scores(test_segment, gmm_models_H_32)\n",
    "    results_15_H_32.append((test_segment_name, score))\n",
    "\n",
    "# Printing the results\n",
    "for result in results_15_H_32:\n",
    "    file_name, score = result\n",
    "    print(f\"File: {file_name} ,Score: {score}\")"
   ]
  },
  {
   "cell_type": "markdown",
   "id": "c5154f3d",
   "metadata": {},
   "source": [
    "## Sort the scores "
   ]
  },
  {
   "cell_type": "code",
   "execution_count": 29,
   "id": "8f01ed5a",
   "metadata": {
    "scrolled": true
   },
   "outputs": [
    {
     "name": "stdout",
     "output_type": "stream",
     "text": [
      "[-145.50302403 -124.13699988 -122.64350456 -112.66225657 -107.29844102\n",
      " -106.2387018  -102.28547584 -102.23117544 -101.85296088 -101.83508174\n",
      "  -99.99152137  -99.58276231  -99.23991091  -99.04045944  -98.02147016\n",
      "  -96.58499992  -96.24761661  -94.90964093  -94.35010116  -92.91608138\n",
      "  -68.78250672  -65.86769969  -65.58565935  -65.29311806  -64.23594677\n",
      "  -64.02206544  -63.90447277  -63.72130182  -63.68381843  -63.29602024\n",
      "  -63.20998019  -62.95751315  -62.92104     -62.72460281  -62.57239701\n",
      "  -62.37180982  -62.33394603  -62.19237261  -62.06241642  -61.96227569\n",
      "  -61.86635969  -61.84523123  -61.80753698  -61.60625986  -61.47725528\n",
      "  -61.41198201  -61.37825108  -61.22795906  -60.97546385  -60.96318908\n",
      "  -60.90095092  -60.77081198  -60.61554833  -60.52207515  -60.41984891\n",
      "  -60.41581839  -60.18630536  -59.83392686  -59.80647395  -59.79939688\n",
      "  -59.63687646  -59.61860543  -59.61782884  -59.34695638  -59.19873647\n",
      "  -59.13974527  -59.12585168  -59.07521631  -59.01480485  -59.00937817\n",
      "  -58.94893984  -58.92390744  -58.91955874  -58.91278045  -58.90935831\n",
      "  -58.87178655  -58.6332384   -58.53879237  -58.50802768  -58.48721493\n",
      "  -58.48343935  -58.48124366  -58.28864026  -58.24674031  -58.21553873\n",
      "  -58.19205028  -58.15865685  -57.83963837  -57.81116143  -57.72188503\n",
      "  -57.53902189  -57.35556812  -57.20758366  -57.09896893  -56.97882916\n",
      "  -56.92899105  -56.09807271  -55.97632042  -55.80560979  -55.56301073\n",
      "  -55.04741829  -54.7008896   -54.11025112  -54.09542912  -53.19609077\n",
      "  -52.78694874  -52.49598998  -52.35741397  -52.34407316  -52.30855446\n",
      "  -51.97241218  -51.72593549  -51.40544068  -51.39906207  -51.18113723\n",
      "  -51.06404315  -50.6450846   -50.43809404  -50.28449369  -50.20277618\n",
      "  -50.0982461   -49.84836947  -48.90409499  -48.02534639  -47.93681691\n",
      "  -47.0523143 ]\n"
     ]
    }
   ],
   "source": [
    "# Extract the scores from results_15_H_32\n",
    "scores = [score for _, score in results_15_H_32]\n",
    "    \n",
    "scores_array = np.array([list(item.values()) for item in scores]).flatten()\n",
    "\n",
    "sorted_scores_array = np.sort(scores_array)\n",
    "\n",
    "# Print the sorted array\n",
    "print(sorted_scores_array)"
   ]
  },
  {
   "cell_type": "markdown",
   "id": "e05b9589",
   "metadata": {},
   "source": [
    "## Plot the Det curve"
   ]
  },
  {
   "cell_type": "code",
   "execution_count": 30,
   "id": "b6b3d1ff",
   "metadata": {},
   "outputs": [
    {
     "data": {
      "image/png": "[encoded data removed]",
      "text/plain": [
       "<Figure size 640x480 with 1 Axes>"
      ]
     },
     "metadata": {},
     "output_type": "display_data"
    }
   ],
   "source": [
    "# Initialize variables\n",
    "genuine_scores = defaultdict(list)  # Dictionary to store genuine scores for each client\n",
    "impostor_scores = []  # List to store impostor scores\n",
    "\n",
    "# Extract genuine scores and impostor scores\n",
    "for result in results_15_H_32:\n",
    "    file_name, score = result\n",
    "    client_name = file_name.split('.')[0]  # Extract client name from file name\n",
    "\n",
    "    genuine_scores[client_name].append(score[client_name])\n",
    "\n",
    "    impostor_scores.extend([s for key, s in score.items() if key != client_name])\n",
    "\n",
    "# Compute the minimum and maximum scores\n",
    "min_score = min(sorted_scores_array)\n",
    "max_score = max(sorted_scores_array)\n",
    "\n",
    "# Set the number of thresholds and generate them using linspace\n",
    "num_thresholds = 1000\n",
    "thresholds = np.geomspace(max_score, min_score, num_thresholds)\n",
    "\n",
    "# Initialize lists for FAR and FRR\n",
    "far = []\n",
    "frr = []\n",
    "\n",
    "# Iterate over thresholds\n",
    "for threshold in thresholds:\n",
    "    # Compute the number of false accepts (FAR) and false rejects (FRR)\n",
    "    false_accepts = sum(score >= threshold for score in impostor_scores)\n",
    "    false_rejects = 0\n",
    "    for client_scores in genuine_scores.values():\n",
    "        false_rejects += sum(score < threshold for score in client_scores)\n",
    "\n",
    "    # Compute the FAR and FRR rates\n",
    "    far_rate = false_accepts / len(impostor_scores)\n",
    "    frr_rate = false_rejects / sum(len(client_scores) for client_scores in genuine_scores.values())\n",
    "\n",
    "    # Append the FAR and FRR rates to the lists\n",
    "    far.append(far_rate)\n",
    "    frr.append(frr_rate)\n",
    "\n",
    "# Find the threshold with the closest FAR and FRR\n",
    "eer_threshold = thresholds[np.argmin(np.abs(np.array(far) - np.array(frr)))]\n",
    "\n",
    "# Compute the EER values\n",
    "eer_far = far[np.argmin(np.abs(np.array(far) - np.array(frr)))]\n",
    "eer_frr = frr[np.argmin(np.abs(np.array(far) - np.array(frr)))]\n",
    "\n",
    "# Plot the FAR and FRR curve\n",
    "plt.plot(far, frr)\n",
    "plt.xlabel('False Acceptance Rate (FAR)')\n",
    "plt.ylabel('False Rejection Rate (FRR)')\n",
    "plt.title('DET Curve')\n",
    "plt.grid(True)\n",
    "\n",
    "# Plot the EER point\n",
    "plt.scatter(eer_far, eer_frr, color='red', marker='o', label='EER')\n",
    "\n",
    "# Add legend\n",
    "plt.legend()\n",
    "\n",
    "# Add text annotation for EER point\n",
    "plt.annotate(f'EER: ({eer_far:.3f}, {eer_frr:.3f})', (eer_far, eer_frr), xytext=(eer_far + 0.05, eer_frr), color='red')\n",
    "\n",
    "plt.show()\n"
   ]
  },
  {
   "cell_type": "markdown",
   "id": "551a5e34",
   "metadata": {},
   "source": [
    "### 30 seconds segments :"
   ]
  },
  {
   "cell_type": "markdown",
   "id": "0698f285",
   "metadata": {},
   "source": [
    "## Get the scores "
   ]
  },
  {
   "cell_type": "code",
   "execution_count": 31,
   "id": "13ca140e",
   "metadata": {
    "scrolled": true
   },
   "outputs": [
    {
     "name": "stdout",
     "output_type": "stream",
     "text": [
      "File: H1.30.1.mfcc ,Score: {'H1': -59.13974526788537, 'H2': -59.806473949833226, 'H3': -61.807536983035156, 'H4': -60.9754638531147, 'H5': -58.215538734346765, 'H6': -58.8717865480518}\n",
      "File: H2.30.1.mfcc ,Score: {'H1': -102.06921835974053, 'H2': -48.42045595303139, 'H3': -57.82210419064752, 'H4': -59.1255336179917, 'H5': -57.03889904051895, 'H6': -61.85793457542925}\n",
      "File: H2.30.2.mfcc ,Score: {'H1': -99.18158076228922, 'H2': -47.74078040131173, 'H3': -58.46283107477076, 'H4': -57.75632232915828, 'H5': -55.63395950804821, 'H6': -62.448194712074816}\n",
      "File: H3.30.1.mfcc ,Score: {'H1': -123.39025221957515, 'H2': -57.234006470748746, 'H3': -50.63969166511546, 'H4': -61.18933898638197, 'H5': -63.61602281261532, 'H6': -58.80653330357239}\n",
      "File: H3.30.2.mfcc ,Score: {'H1': -117.1757375465805, 'H2': -57.7237364455213, 'H3': -50.64896352268943, 'H4': -59.64819819488433, 'H5': -62.9859940967698, 'H6': -58.894895366748216}\n",
      "File: H4.30.1.mfcc ,Score: {'H1': -101.11134840545031, 'H2': -58.69701205527334, 'H3': -62.76495507964187, 'H4': -51.02207333606986, 'H5': -60.26508364754295, 'H6': -52.99151975904674}\n",
      "File: H4.30.2.mfcc ,Score: {'H1': -99.45432811693257, 'H2': -57.99622985938096, 'H3': -62.2339629271037, 'H4': -50.21539771212732, 'H5': -58.883534974160945, 'H6': -52.31610096640604}\n",
      "File: H5.30.1.mfcc ,Score: {'H1': -95.46755054437578, 'H2': -58.55580451155369, 'H3': -64.59879541396307, 'H4': -61.547159372565844, 'H5': -52.420031569150666, 'H6': -59.211086341525466}\n",
      "File: H5.30.2.mfcc ,Score: {'H1': -94.49243315869951, 'H2': -60.045898061610735, 'H3': -63.20131435271406, 'H4': -61.239101722318104, 'H5': -54.57728207014316, 'H6': -60.174491030253165}\n",
      "File: H6.30.1.mfcc ,Score: {'H1': -99.04134917486248, 'H2': -59.35437759149334, 'H3': -64.1197547547312, 'H4': -54.571423705985616, 'H5': -60.913900199351716, 'H6': -50.78715248120674}\n",
      "File: H6.30.2.mfcc ,Score: {'H1': -102.20153672589507, 'H2': -59.25955846292564, 'H3': -64.7669901751948, 'H4': -56.050169362831774, 'H5': -61.695753459597384, 'H6': -51.271118078582525}\n"
     ]
    }
   ],
   "source": [
    "results_30_H_32 = []\n",
    "\n",
    "# Calculate scores for each GMM model and store file name with score\n",
    "for test_segment_name, test_segment in test_files_30_H.items():\n",
    "    score = get_scores(test_segment, gmm_models_H_32)\n",
    "    results_30_H_32.append((test_segment_name, score))\n",
    "\n",
    "# Printing the results\n",
    "for result in results_30_H_32:\n",
    "    file_name, score = result\n",
    "    print(f\"File: {file_name} ,Score: {score}\")"
   ]
  },
  {
   "cell_type": "markdown",
   "id": "442ea0f6",
   "metadata": {},
   "source": [
    "## Sort the scores"
   ]
  },
  {
   "cell_type": "code",
   "execution_count": 32,
   "id": "30f432f4",
   "metadata": {
    "scrolled": true
   },
   "outputs": [],
   "source": [
    "# Extract the scores from results_30_H_32\n",
    "scores = [score for _, score in results_30_H_32]\n",
    "    \n",
    "scores_array = np.array([list(item.values()) for item in scores]).flatten()\n",
    "\n",
    "sorted_scores_array = np.sort(scores_array)\n"
   ]
  },
  {
   "cell_type": "markdown",
   "id": "644d4388",
   "metadata": {},
   "source": [
    "## Plot the Det curve "
   ]
  },
  {
   "cell_type": "code",
   "execution_count": 33,
   "id": "38a0357c",
   "metadata": {},
   "outputs": [
    {
     "data": {
      "image/png": "[encoded data removed]",
      "text/plain": [
       "<Figure size 640x480 with 1 Axes>"
      ]
     },
     "metadata": {},
     "output_type": "display_data"
    }
   ],
   "source": [
    "# Initialize variables\n",
    "genuine_scores = defaultdict(list)  # Dictionary to store genuine scores for each client\n",
    "impostor_scores = []  # List to store impostor scores\n",
    "\n",
    "# Extract genuine scores and impostor scores\n",
    "for result in results_30_H_32:\n",
    "    file_name, score = result\n",
    "    client_name = file_name.split('.')[0]  # Extract client name from file name\n",
    "\n",
    "    genuine_scores[client_name].append(score[client_name])\n",
    "\n",
    "    impostor_scores.extend([s for key, s in score.items() if key != client_name])\n",
    "\n",
    "# Compute the minimum and maximum scores\n",
    "min_score = min(sorted_scores_array)\n",
    "max_score = max(sorted_scores_array)\n",
    "\n",
    "# Set the number of thresholds and generate them using linspace\n",
    "num_thresholds = 1000\n",
    "thresholds = np.geomspace(max_score, min_score, num_thresholds)\n",
    "\n",
    "# Initialize lists for FAR and FRR\n",
    "far = []\n",
    "frr = []\n",
    "\n",
    "# Iterate over thresholds\n",
    "for threshold in thresholds:\n",
    "    # Compute the number of false accepts (FAR) and false rejects (FRR)\n",
    "    false_accepts = sum(score >= threshold for score in impostor_scores)\n",
    "    false_rejects = 0\n",
    "    for client_scores in genuine_scores.values():\n",
    "        false_rejects += sum(score < threshold for score in client_scores)\n",
    "\n",
    "    # Compute the FAR and FRR rates\n",
    "    far_rate = false_accepts / len(impostor_scores)\n",
    "    frr_rate = false_rejects / sum(len(client_scores) for client_scores in genuine_scores.values())\n",
    "\n",
    "    # Append the FAR and FRR rates to the lists\n",
    "    far.append(far_rate)\n",
    "    frr.append(frr_rate)\n",
    "\n",
    "# Find the threshold with the closest FAR and FRR\n",
    "eer_threshold = thresholds[np.argmin(np.abs(np.array(far) - np.array(frr)))]\n",
    "\n",
    "# Compute the EER values\n",
    "eer_far = far[np.argmin(np.abs(np.array(far) - np.array(frr)))]\n",
    "eer_frr = frr[np.argmin(np.abs(np.array(far) - np.array(frr)))]\n",
    "\n",
    "# Plot the FAR and FRR curve\n",
    "plt.plot(far, frr)\n",
    "plt.xlabel('False Acceptance Rate (FAR)')\n",
    "plt.ylabel('False Rejection Rate (FRR)')\n",
    "plt.title('DET Curve')\n",
    "plt.grid(True)\n",
    "\n",
    "# Plot the EER point\n",
    "plt.scatter(eer_far, eer_frr, color='red', marker='o', label='EER')\n",
    "\n",
    "# Add legend\n",
    "plt.legend()\n",
    "\n",
    "# Add text annotation for EER point\n",
    "plt.annotate(f'EER: ({eer_far:.3f}, {eer_frr:.3f})', (eer_far, eer_frr), xytext=(eer_far + 0.05, eer_frr), color='red')\n",
    "\n",
    "plt.show()\n"
   ]
  },
  {
   "cell_type": "markdown",
   "id": "b029370e",
   "metadata": {},
   "source": [
    "## c. GMM 128:\n",
    "### 3 seconds segments :"
   ]
  },
  {
   "cell_type": "markdown",
   "id": "5788eb3d",
   "metadata": {},
   "source": [
    "## Get the scores"
   ]
  },
  {
   "cell_type": "code",
   "execution_count": 34,
   "id": "4ac963e5",
   "metadata": {},
   "outputs": [
    {
     "name": "stdout",
     "output_type": "stream",
     "text": [
      "File: H1.3.1.mfcc ,Score: {'H1': -378.1810395798632, 'H2': -68.29789875424703, 'H3': -74.64991684243915, 'H4': -71.37475954805653, 'H5': -67.12437475476736, 'H6': -65.18358486637837}\n",
      "File: H1.3.2.mfcc ,Score: {'H1': -386.18102234004044, 'H2': -69.47036968139227, 'H3': -81.58079109408746, 'H4': -75.44567833232131, 'H5': -65.95428266009172, 'H6': -64.80291456605453}\n",
      "File: H2.3.1.mfcc ,Score: {'H1': -409.1050396808534, 'H2': -49.61134683916424, 'H3': -83.43560629662639, 'H4': -68.30976137687288, 'H5': -61.097964159149825, 'H6': -71.14394838798104}\n",
      "File: H2.3.10.mfcc ,Score: {'H1': -614.8896712016939, 'H2': -56.653503817953414, 'H3': -74.96431877835707, 'H4': -75.61201037090771, 'H5': -69.01881601213928, 'H6': -66.75487664251767}\n",
      "File: H2.3.11.mfcc ,Score: {'H1': -499.2907200046035, 'H2': -55.89161801724559, 'H3': -80.08743368843983, 'H4': -73.03193419813604, 'H5': -67.0255410711301, 'H6': -69.11037120701943}\n",
      "File: H2.3.12.mfcc ,Score: {'H1': -415.54656355931365, 'H2': -51.72349695158573, 'H3': -79.54789147908885, 'H4': -72.6114235443822, 'H5': -62.73777076068955, 'H6': -69.10162747954183}\n",
      "File: H2.3.13.mfcc ,Score: {'H1': -480.9765555700706, 'H2': -53.412643139216364, 'H3': -75.57461338767864, 'H4': -70.73070052428123, 'H5': -62.497319502024986, 'H6': -67.07699161995971}\n",
      "File: H2.3.14.mfcc ,Score: {'H1': -474.5321568316841, 'H2': -53.86074005518757, 'H3': -78.8154443316752, 'H4': -69.54804466856234, 'H5': -63.15682312385556, 'H6': -66.66040150880262}\n",
      "File: H2.3.15.mfcc ,Score: {'H1': -399.72802624110057, 'H2': -49.95442934154267, 'H3': -87.696082560181, 'H4': -69.00578252148829, 'H5': -61.9153555371311, 'H6': -74.31661225557896}\n",
      "File: H2.3.16.mfcc ,Score: {'H1': -486.93753223834324, 'H2': -54.51594934678825, 'H3': -73.50493327022394, 'H4': -79.01801024669209, 'H5': -66.92322832263247, 'H6': -63.08595920223617}\n",
      "File: H2.3.17.mfcc ,Score: {'H1': -420.0256720057088, 'H2': -49.02588176386102, 'H3': -91.95308260505092, 'H4': -66.46941325165442, 'H5': -60.99604987247269, 'H6': -77.95347653350514}\n",
      "File: H2.3.18.mfcc ,Score: {'H1': -539.7549296861604, 'H2': -52.216259287466016, 'H3': -63.94611212810264, 'H4': -76.95184584989596, 'H5': -56.994028448696156, 'H6': -57.60419979999009}\n",
      "File: H2.3.2.mfcc ,Score: {'H1': -508.368104106811, 'H2': -54.90727820760356, 'H3': -80.5307078811344, 'H4': -72.8112059452126, 'H5': -67.3865955108522, 'H6': -68.63679935591036}\n",
      "File: H2.3.3.mfcc ,Score: {'H1': -500.2751161596674, 'H2': -56.162549982218614, 'H3': -79.28527760234203, 'H4': -69.48210031957638, 'H5': -66.70443807597019, 'H6': -72.02251607890231}\n",
      "File: H2.3.4.mfcc ,Score: {'H1': -508.3329957808925, 'H2': -51.618532894553915, 'H3': -77.82339962350535, 'H4': -74.76950591082421, 'H5': -66.28354752151166, 'H6': -71.48285138901605}\n",
      "File: H2.3.5.mfcc ,Score: {'H1': -524.818788119408, 'H2': -54.71642649775048, 'H3': -80.6464130637768, 'H4': -74.4811233212624, 'H5': -68.29052017517364, 'H6': -70.57479705842213}\n",
      "File: H2.3.6.mfcc ,Score: {'H1': -502.2403118875156, 'H2': -53.15726967092034, 'H3': -73.77209382246443, 'H4': -72.35254003251518, 'H5': -64.60516207023406, 'H6': -68.20854472161353}\n",
      "File: H2.3.7.mfcc ,Score: {'H1': -453.4568479897678, 'H2': -55.13022790862451, 'H3': -69.74039724843227, 'H4': -73.10614057751539, 'H5': -66.33171141399673, 'H6': -63.71613105981822}\n",
      "File: H2.3.8.mfcc ,Score: {'H1': -502.8724539594555, 'H2': -53.13251189777628, 'H3': -69.36380325087538, 'H4': -72.77544787053152, 'H5': -64.8343987659421, 'H6': -63.04246635087065}\n",
      "File: H2.3.9.mfcc ,Score: {'H1': -466.182416356781, 'H2': -50.64022523875856, 'H3': -83.2315163699759, 'H4': -74.84857696737548, 'H5': -63.95802827382977, 'H6': -72.40358918563557}\n",
      "File: H3.3.1.mfcc ,Score: {'H1': -581.9486151531756, 'H2': -65.82265046285218, 'H3': -57.61760552018163, 'H4': -72.49679110388148, 'H5': -78.62160827890627, 'H6': -65.3771704155245}\n",
      "File: H3.3.10.mfcc ,Score: {'H1': -534.846136462873, 'H2': -65.90351613194171, 'H3': -60.37883125174371, 'H4': -71.11273005900021, 'H5': -72.13794217455403, 'H6': -62.13720482442335}\n",
      "File: H3.3.11.mfcc ,Score: {'H1': -487.28939693958023, 'H2': -65.5831316039463, 'H3': -57.15652192309021, 'H4': -69.12924002854683, 'H5': -71.48684345041865, 'H6': -63.15552369243776}\n",
      "File: H3.3.12.mfcc ,Score: {'H1': -548.9423205439826, 'H2': -67.36455371209719, 'H3': -61.49086563409929, 'H4': -72.66070601601497, 'H5': -75.24939141570246, 'H6': -64.75906848028866}\n",
      "File: H3.3.13.mfcc ,Score: {'H1': -596.4918793475553, 'H2': -72.53150020631816, 'H3': -62.09717924924017, 'H4': -74.15257173949576, 'H5': -84.38374534730112, 'H6': -67.79817097118472}\n",
      "File: H3.3.14.mfcc ,Score: {'H1': -476.51534848726743, 'H2': -66.83686260038914, 'H3': -55.0809783274688, 'H4': -68.25266486798277, 'H5': -75.8596470187136, 'H6': -62.99608979676284}\n",
      "File: H3.3.15.mfcc ,Score: {'H1': -461.0918524099207, 'H2': -63.42529049218511, 'H3': -56.190245868009264, 'H4': -70.19417005305695, 'H5': -70.84092867389795, 'H6': -62.14423476743286}\n",
      "File: H3.3.16.mfcc ,Score: {'H1': -559.9906967720627, 'H2': -74.06501633490639, 'H3': -59.01509183222022, 'H4': -73.88988863328919, 'H5': -93.66570962802177, 'H6': -70.08354297046328}\n",
      "File: H3.3.2.mfcc ,Score: {'H1': -510.31302124180735, 'H2': -69.4450610778438, 'H3': -60.78669171850063, 'H4': -77.72576532726659, 'H5': -75.38787858957201, 'H6': -64.90425078231706}\n",
      "File: H3.3.3.mfcc ,Score: {'H1': -636.8361532571124, 'H2': -73.25707683594722, 'H3': -63.829366356954885, 'H4': -78.43794746664848, 'H5': -88.16496330612513, 'H6': -67.72818720179004}\n",
      "File: H3.3.4.mfcc ,Score: {'H1': -448.7058384542872, 'H2': -66.36320647750208, 'H3': -55.42940684047199, 'H4': -74.36656879217763, 'H5': -76.37149065213232, 'H6': -65.19387020481274}\n",
      "File: H3.3.5.mfcc ,Score: {'H1': -523.1403978220616, 'H2': -64.99721007998023, 'H3': -54.34737568943735, 'H4': -70.15113077191995, 'H5': -76.24978619545477, 'H6': -64.0862023760209}\n",
      "File: H3.3.6.mfcc ,Score: {'H1': -644.6402756664149, 'H2': -71.25482014081601, 'H3': -58.61185214079793, 'H4': -71.7506166114403, 'H5': -83.3442971553385, 'H6': -66.37404114064927}\n",
      "File: H3.3.7.mfcc ,Score: {'H1': -461.2042962563701, 'H2': -67.87539266567619, 'H3': -57.23615485810384, 'H4': -70.36994388540788, 'H5': -73.90797341228217, 'H6': -66.01698446581815}\n",
      "File: H3.3.8.mfcc ,Score: {'H1': -488.7424265296509, 'H2': -68.20313953922833, 'H3': -56.35257398332348, 'H4': -71.27079519876526, 'H5': -78.60002852093105, 'H6': -66.33055210072297}\n",
      "File: H3.3.9.mfcc ,Score: {'H1': -572.0514467173971, 'H2': -69.34973362479596, 'H3': -60.1402606012304, 'H4': -75.03769741828641, 'H5': -78.3213146598314, 'H6': -66.76407793181416}\n",
      "File: H4.3.1.mfcc ,Score: {'H1': -807.7769245594925, 'H2': -83.02774803550085, 'H3': -78.2136484036128, 'H4': -57.21744273324923, 'H5': -73.87709175846233, 'H6': -58.316350168741906}\n",
      "File: H4.3.10.mfcc ,Score: {'H1': -684.7231942646318, 'H2': -70.17608294131023, 'H3': -75.59939453692476, 'H4': -56.06480011912992, 'H5': -69.04832068569051, 'H6': -56.854519872355255}\n",
      "File: H4.3.11.mfcc ,Score: {'H1': -673.1441204838114, 'H2': -69.60214475990223, 'H3': -73.574274851607, 'H4': -58.82109090355842, 'H5': -69.5461999538227, 'H6': -57.41955437205492}\n",
      "File: H4.3.12.mfcc ,Score: {'H1': -606.7206634001748, 'H2': -69.19585819678667, 'H3': -74.09739700974984, 'H4': -56.34832729360079, 'H5': -70.22054311836891, 'H6': -55.833460818121104}\n",
      "File: H4.3.13.mfcc ,Score: {'H1': -644.9909706067348, 'H2': -73.16695989813776, 'H3': -78.68488994571507, 'H4': -56.96641636177213, 'H5': -71.22024552524381, 'H6': -57.102068955980926}\n",
      "File: H4.3.14.mfcc ,Score: {'H1': -584.800030888044, 'H2': -68.09026400054393, 'H3': -72.46641974583659, 'H4': -57.71608197687934, 'H5': -69.49102504922955, 'H6': -56.58491504167463}\n",
      "File: H4.3.15.mfcc ,Score: {'H1': -566.7394448543906, 'H2': -75.40839855184741, 'H3': -74.41305803794272, 'H4': -56.38286520054428, 'H5': -71.30909405452593, 'H6': -57.00616752881224}\n",
      "File: H4.3.16.mfcc ,Score: {'H1': -666.5477405773239, 'H2': -77.03178532773535, 'H3': -75.17280621037862, 'H4': -57.26811088740866, 'H5': -72.4968002117707, 'H6': -56.629529929149925}\n",
      "File: H4.3.2.mfcc ,Score: {'H1': -905.7350982165103, 'H2': -75.51045750369956, 'H3': -80.98725910107397, 'H4': -59.543182264608795, 'H5': -73.891331697778, 'H6': -58.91292175294009}\n",
      "File: H4.3.3.mfcc ,Score: {'H1': -681.6164688682161, 'H2': -70.32030233908785, 'H3': -75.60872737092053, 'H4': -58.48790222103256, 'H5': -71.6389767609255, 'H6': -56.67144796312907}\n",
      "File: H4.3.4.mfcc ,Score: {'H1': -745.4043520123838, 'H2': -71.94350651266123, 'H3': -75.46297004167745, 'H4': -59.92767211297794, 'H5': -75.66062681226995, 'H6': -58.925532503536054}\n",
      "File: H4.3.5.mfcc ,Score: {'H1': -617.2137190156034, 'H2': -72.5102273969182, 'H3': -74.76463861543178, 'H4': -58.08737118557903, 'H5': -72.69631698554781, 'H6': -57.43872257392982}\n",
      "File: H4.3.6.mfcc ,Score: {'H1': -716.3394450036006, 'H2': -70.9596796276567, 'H3': -74.54338909468015, 'H4': -58.718008577762376, 'H5': -69.64803802747002, 'H6': -56.7531706246066}\n",
      "File: H4.3.7.mfcc ,Score: {'H1': -599.0339133825995, 'H2': -73.74483454315909, 'H3': -72.41001623438368, 'H4': -57.45210853686003, 'H5': -69.84409971888927, 'H6': -57.05854579964916}\n",
      "File: H4.3.8.mfcc ,Score: {'H1': -798.4488382113077, 'H2': -74.35053308842284, 'H3': -74.45115840122948, 'H4': -60.20791180323838, 'H5': -72.25490507709584, 'H6': -57.87692612619633}\n",
      "File: H4.3.9.mfcc ,Score: {'H1': -670.9397254242399, 'H2': -75.2632231359323, 'H3': -81.31382878937802, 'H4': -59.039076060052224, 'H5': -74.00332322536528, 'H6': -59.37905773353009}\n",
      "File: H5.3.1.mfcc ,Score: {'H1': -509.8463844056637, 'H2': -66.38986622670689, 'H3': -72.88033947956806, 'H4': -72.56590814041724, 'H5': -59.08184842479372, 'H6': -64.12131297338715}\n",
      "File: H5.3.10.mfcc ,Score: {'H1': -549.6539765062273, 'H2': -69.20603657029481, 'H3': -82.08272165837715, 'H4': -73.41417436956726, 'H5': -61.26511401027518, 'H6': -64.5941755199328}\n",
      "File: H5.3.11.mfcc ,Score: {'H1': -436.9259417352843, 'H2': -63.70185000558344, 'H3': -73.03623418055143, 'H4': -72.32719026302208, 'H5': -57.19895650513687, 'H6': -62.46309965713449}\n",
      "File: H5.3.12.mfcc ,Score: {'H1': -540.6631094698748, 'H2': -70.5136560691715, 'H3': -77.3950251274285, 'H4': -73.92444697966795, 'H5': -61.29839566617116, 'H6': -66.01359830627679}\n",
      "File: H5.3.13.mfcc ,Score: {'H1': -591.3149061092398, 'H2': -77.5496329701249, 'H3': -74.29825885028364, 'H4': -78.67269991959814, 'H5': -66.49021428331693, 'H6': -72.03670887172179}\n",
      "File: H5.3.14.mfcc ,Score: {'H1': -603.4691094738685, 'H2': -76.67021206244387, 'H3': -85.3871704309479, 'H4': -80.77196426130438, 'H5': -68.0895133055594, 'H6': -74.13527735842403}\n",
      "File: H5.3.15.mfcc ,Score: {'H1': -687.9805380369818, 'H2': -76.79512326585689, 'H3': -79.4141352223745, 'H4': -79.79855021418373, 'H5': -64.74303105468786, 'H6': -69.88314948493827}\n",
      "File: H5.3.16.mfcc ,Score: {'H1': -566.0392956316269, 'H2': -70.30016025041428, 'H3': -76.70259273789993, 'H4': -75.07324237203719, 'H5': -63.49256339030874, 'H6': -65.64614130983165}\n",
      "File: H5.3.17.mfcc ,Score: {'H1': -543.096702976516, 'H2': -69.78204820844526, 'H3': -74.325275735903, 'H4': -69.93129870121864, 'H5': -65.58339594046927, 'H6': -64.47335618974539}\n",
      "File: H5.3.2.mfcc ,Score: {'H1': -603.4488106362842, 'H2': -70.08092897611324, 'H3': -78.4812490022791, 'H4': -77.74857764198336, 'H5': -61.09570625945187, 'H6': -65.67300512510165}\n",
      "File: H5.3.3.mfcc ,Score: {'H1': -542.7063643605848, 'H2': -73.31080698218818, 'H3': -81.21027982517803, 'H4': -79.24225787182542, 'H5': -60.569706097261175, 'H6': -70.60086075827456}\n",
      "File: H5.3.4.mfcc ,Score: {'H1': -449.08473589989774, 'H2': -68.15339388713573, 'H3': -76.61626387849455, 'H4': -74.26650032464546, 'H5': -57.45785103791632, 'H6': -64.03014748964353}\n",
      "File: H5.3.5.mfcc ,Score: {'H1': -470.31408374591535, 'H2': -67.24897740456042, 'H3': -75.89000017940432, 'H4': -74.58882953091688, 'H5': -58.44970844315869, 'H6': -65.26290547309652}\n",
      "File: H5.3.6.mfcc ,Score: {'H1': -471.07285602224545, 'H2': -66.43292254816993, 'H3': -73.66363926047966, 'H4': -73.1058299306599, 'H5': -56.60203225667562, 'H6': -62.9875107865565}\n",
      "File: H5.3.7.mfcc ,Score: {'H1': -596.304734545608, 'H2': -73.91339601994102, 'H3': -78.3678299323823, 'H4': -79.84410975540806, 'H5': -59.50070241309666, 'H6': -70.61684383116233}\n",
      "File: H5.3.8.mfcc ,Score: {'H1': -531.3767054084462, 'H2': -72.25075206822713, 'H3': -85.12234709646688, 'H4': -82.42133513040429, 'H5': -61.281503536011634, 'H6': -69.8616305677122}\n",
      "File: H5.3.9.mfcc ,Score: {'H1': -480.9375731476089, 'H2': -65.3589675763854, 'H3': -80.30661817873741, 'H4': -76.84822660158689, 'H5': -59.192522650500884, 'H6': -66.34552394938842}\n",
      "File: H6.3.1.mfcc ,Score: {'H1': -625.7062721620201, 'H2': -67.47132963161748, 'H3': -75.36195513785098, 'H4': -66.07659372137645, 'H5': -69.39604496099662, 'H6': -54.42922935712614}\n",
      "File: H6.3.10.mfcc ,Score: {'H1': -625.9605907330057, 'H2': -70.95605567625243, 'H3': -71.26782084912972, 'H4': -65.66564912584644, 'H5': -68.75922688688374, 'H6': -52.59841478201283}\n",
      "File: H6.3.11.mfcc ,Score: {'H1': -821.8465300658714, 'H2': -74.42390861747009, 'H3': -76.85235443873297, 'H4': -65.03539285860536, 'H5': -74.10511815855631, 'H6': -54.8697763786869}\n",
      "File: H6.3.12.mfcc ,Score: {'H1': -670.733504270946, 'H2': -71.96365379748846, 'H3': -77.63631491581182, 'H4': -63.76512858200818, 'H5': -71.43013745610712, 'H6': -53.767066279827674}\n",
      "File: H6.3.13.mfcc ,Score: {'H1': -603.9760924518039, 'H2': -76.56885244906564, 'H3': -81.51858881600454, 'H4': -68.21495398327876, 'H5': -72.33458040711018, 'H6': -57.5770803994231}\n",
      "File: H6.3.14.mfcc ,Score: {'H1': -584.3663939417049, 'H2': -67.04338844915975, 'H3': -76.54325423887575, 'H4': -68.04086907495044, 'H5': -70.28331954112055, 'H6': -54.00565107015021}\n",
      "File: H6.3.15.mfcc ,Score: {'H1': -517.8118820788432, 'H2': -69.98372241808305, 'H3': -77.0899597018088, 'H4': -70.0431544481345, 'H5': -72.95354572843995, 'H6': -57.23629045924459}\n",
      "File: H6.3.16.mfcc ,Score: {'H1': -639.7847406686639, 'H2': -73.29558408063039, 'H3': -74.25985900237652, 'H4': -66.97956017542725, 'H5': -73.8694912691848, 'H6': -56.599895536968}\n",
      "File: H6.3.17.mfcc ,Score: {'H1': -784.5515402375881, 'H2': -72.04325771716746, 'H3': -77.97775654547956, 'H4': -66.9005604658797, 'H5': -76.65531279040576, 'H6': -55.68465453290233}\n",
      "File: H6.3.18.mfcc ,Score: {'H1': -697.7401953688562, 'H2': -71.90208511498192, 'H3': -76.60722936421524, 'H4': -64.61599968071666, 'H5': -71.02332987841551, 'H6': -53.55923199278284}\n",
      "File: H6.3.19.mfcc ,Score: {'H1': -816.3688509974343, 'H2': -84.7293875411243, 'H3': -89.43270406465025, 'H4': -69.90211895595455, 'H5': -81.09903231236693, 'H6': -59.351968498918346}\n",
      "File: H6.3.2.mfcc ,Score: {'H1': -799.9903271354542, 'H2': -74.4564859545045, 'H3': -77.83189624231558, 'H4': -64.30356497720607, 'H5': -72.62930858039815, 'H6': -55.936186891373204}\n",
      "File: H6.3.3.mfcc ,Score: {'H1': -821.1165397038792, 'H2': -77.45420069410449, 'H3': -89.94560164027858, 'H4': -68.73233100598897, 'H5': -74.88240053085764, 'H6': -59.116212108309995}\n",
      "File: H6.3.4.mfcc ,Score: {'H1': -933.9491207879671, 'H2': -78.7436863155638, 'H3': -82.85009496160525, 'H4': -63.46222335843881, 'H5': -76.5719540249976, 'H6': -57.114767168336854}\n",
      "File: H6.3.5.mfcc ,Score: {'H1': -734.9226032683822, 'H2': -71.37089011475719, 'H3': -76.72136421074542, 'H4': -63.4448457180877, 'H5': -70.84611075609995, 'H6': -55.747241391001786}\n",
      "File: H6.3.6.mfcc ,Score: {'H1': -765.7137836241839, 'H2': -73.02648934868313, 'H3': -75.06259328387307, 'H4': -62.30358065546779, 'H5': -69.0541363501483, 'H6': -53.819123875066275}\n",
      "File: H6.3.7.mfcc ,Score: {'H1': -644.5913601983352, 'H2': -70.33649162476252, 'H3': -76.80563973472391, 'H4': -62.21323097882715, 'H5': -71.21284162288835, 'H6': -52.417853686826795}\n",
      "File: H6.3.8.mfcc ,Score: {'H1': -735.6705003649306, 'H2': -73.81923081213951, 'H3': -76.15044722271163, 'H4': -64.16875426642937, 'H5': -72.24885193322044, 'H6': -54.08244690545711}\n",
      "File: H6.3.9.mfcc ,Score: {'H1': -648.3476064507468, 'H2': -72.49812869044965, 'H3': -74.9652914895564, 'H4': -60.95870185687459, 'H5': -72.18068942268813, 'H6': -53.351549153290975}\n"
     ]
    }
   ],
   "source": [
    "results_3_H_128 = []\n",
    "\n",
    "# Calculate scores for each GMM model and store file name with score\n",
    "for test_segment_name, test_segment in test_files_3_H.items():\n",
    "    score = get_scores(test_segment, gmm_models_H_128)\n",
    "    results_3_H_128.append((test_segment_name, score))\n",
    "\n",
    "# Printing the results\n",
    "for result in results_3_H_128:\n",
    "    file_name, score = result\n",
    "    print(f\"File: {file_name} ,Score: {score}\")"
   ]
  },
  {
   "cell_type": "markdown",
   "id": "52ef2721",
   "metadata": {},
   "source": [
    "## Sort the scores"
   ]
  },
  {
   "cell_type": "code",
   "execution_count": 35,
   "id": "a42e3f04",
   "metadata": {},
   "outputs": [],
   "source": [
    "# Extract the scores from results_3_H_128\n",
    "scores = [score for _, score in results_3_H_128]\n",
    "    \n",
    "scores_array = np.array([list(item.values()) for item in scores]).flatten()\n",
    "\n",
    "sorted_scores_array = np.sort(scores_array)\n"
   ]
  },
  {
   "cell_type": "markdown",
   "id": "b1a79074",
   "metadata": {},
   "source": [
    "## Plot the DET curve "
   ]
  },
  {
   "cell_type": "code",
   "execution_count": 36,
   "id": "66b30813",
   "metadata": {},
   "outputs": [
    {
     "data": {
      "image/png": "[encoded data removed]",
      "text/plain": [
       "<Figure size 640x480 with 1 Axes>"
      ]
     },
     "metadata": {},
     "output_type": "display_data"
    }
   ],
   "source": [
    "# Initialize variables\n",
    "genuine_scores = defaultdict(list)  # Dictionary to store genuine scores for each client\n",
    "impostor_scores = []  # List to store impostor scores\n",
    "\n",
    "# Extract genuine scores and impostor scores\n",
    "for result in results_3_H_128:\n",
    "    file_name, score = result\n",
    "    client_name = file_name.split('.')[0]  # Extract client name from file name\n",
    "\n",
    "    genuine_scores[client_name].append(score[client_name])\n",
    "\n",
    "    impostor_scores.extend([s for key, s in score.items() if key != client_name])\n",
    "\n",
    "# Compute the minimum and maximum scores\n",
    "min_score = min(sorted_scores_array)\n",
    "max_score = max(sorted_scores_array)\n",
    "\n",
    "# Set the number of thresholds and generate them using linspace\n",
    "num_thresholds = 1000\n",
    "thresholds = np.geomspace(max_score, min_score, num_thresholds)\n",
    "\n",
    "# Initialize lists for FAR and FRR\n",
    "far = []\n",
    "frr = []\n",
    "\n",
    "# Iterate over thresholds\n",
    "for threshold in thresholds:\n",
    "    # Compute the number of false accepts (FAR) and false rejects (FRR)\n",
    "    false_accepts = sum(score >= threshold for score in impostor_scores)\n",
    "    false_rejects = 0\n",
    "    for client_scores in genuine_scores.values():\n",
    "        false_rejects += sum(score < threshold for score in client_scores)\n",
    "\n",
    "    # Compute the FAR and FRR rates\n",
    "    far_rate = false_accepts / len(impostor_scores)\n",
    "    frr_rate = false_rejects / sum(len(client_scores) for client_scores in genuine_scores.values())\n",
    "\n",
    "    # Append the FAR and FRR rates to the lists\n",
    "    far.append(far_rate)\n",
    "    frr.append(frr_rate)\n",
    "\n",
    "# Find the threshold with the closest FAR and FRR\n",
    "eer_threshold = thresholds[np.argmin(np.abs(np.array(far) - np.array(frr)))]\n",
    "\n",
    "# Compute the EER values\n",
    "eer_far = far[np.argmin(np.abs(np.array(far) - np.array(frr)))]\n",
    "eer_frr = frr[np.argmin(np.abs(np.array(far) - np.array(frr)))]\n",
    "\n",
    "# Plot the FAR and FRR curve\n",
    "plt.plot(far, frr)\n",
    "plt.xlabel('False Acceptance Rate (FAR)')\n",
    "plt.ylabel('False Rejection Rate (FRR)')\n",
    "plt.title('DET Curve')\n",
    "plt.grid(True)\n",
    "\n",
    "# Plot the EER point\n",
    "plt.scatter(eer_far, eer_frr, color='red', marker='o', label='EER')\n",
    "\n",
    "# Add legend\n",
    "plt.legend()\n",
    "\n",
    "# Add text annotation for EER point\n",
    "plt.annotate(f'EER: ({eer_far:.3f}, {eer_frr:.3f})', (eer_far, eer_frr), xytext=(eer_far + 0.05, eer_frr), color='red')\n",
    "\n",
    "plt.show()\n"
   ]
  },
  {
   "cell_type": "markdown",
   "id": "0f6e130c",
   "metadata": {},
   "source": [
    "### 10 seconds segments :"
   ]
  },
  {
   "cell_type": "markdown",
   "id": "041279b3",
   "metadata": {},
   "source": [
    "## Get the scores"
   ]
  },
  {
   "cell_type": "code",
   "execution_count": 37,
   "id": "4f66661b",
   "metadata": {
    "scrolled": true
   },
   "outputs": [
    {
     "name": "stdout",
     "output_type": "stream",
     "text": [
      "File: H1.10.1.mfcc ,Score: {'H1': -381.3520589033137, 'H2': -68.76264075152594, 'H3': -77.39716478524541, 'H4': -72.98838329151761, 'H5': -66.66057567498648, 'H6': -65.03269543144114}\n",
      "File: H2.10.1.mfcc ,Score: {'H1': -484.65890277712845, 'H2': -53.54672186232101, 'H3': -80.06127120084058, 'H4': -70.58997492409183, 'H5': -65.35948931423219, 'H6': -70.1712043444606}\n",
      "File: H2.10.2.mfcc ,Score: {'H1': -499.42414714172526, 'H2': -53.659721223753586, 'H3': -75.74789398292906, 'H4': -73.80593347815554, 'H5': -66.74918377550489, 'H6': -68.94146725408724}\n",
      "File: H2.10.3.mfcc ,Score: {'H1': -513.0794736540003, 'H2': -53.51251880052258, 'H3': -76.02889499747738, 'H4': -74.16861540553076, 'H5': -65.44468150390276, 'H6': -67.2832844706584}\n",
      "File: H2.10.4.mfcc ,Score: {'H1': -467.0998867738135, 'H2': -53.85147617352285, 'H3': -77.59744352941044, 'H4': -72.2554443408958, 'H5': -64.38633754433735, 'H6': -67.56386557500025}\n",
      "File: H2.10.5.mfcc ,Score: {'H1': -438.965130900132, 'H2': -52.217736810503105, 'H3': -81.18716437735783, 'H4': -72.05117161739516, 'H5': -63.467983086758466, 'H6': -69.09312806785557}\n",
      "File: H2.10.6.mfcc ,Score: {'H1': -482.0104071252089, 'H2': -45.754498219596066, 'H3': -105.40132277079407, 'H4': -61.30844704388286, 'H5': -57.17655329049196, 'H6': -89.05601912614277}\n",
      "File: H3.10.1.mfcc ,Score: {'H1': -571.1687051336626, 'H2': -69.71415758356494, 'H3': -60.51275444062848, 'H4': -76.3011423327743, 'H5': -81.21890776883944, 'H6': -66.21138498375512}\n",
      "File: H3.10.2.mfcc ,Score: {'H1': -533.3769666577829, 'H2': -67.4572018109666, 'H3': -56.442513565283576, 'H4': -71.7169368109687, 'H5': -77.54886088180328, 'H6': -65.41070305235914}\n",
      "File: H3.10.3.mfcc ,Score: {'H1': -516.1829104768997, 'H2': -67.5701827164436, 'H3': -58.463767682311705, 'H4': -71.79791684669523, 'H5': -75.56441623289557, 'H6': -64.85167439705367}\n",
      "File: H3.10.4.mfcc ,Score: {'H1': -530.8384993354115, 'H2': -68.39765934558605, 'H3': -59.43872721730782, 'H4': -71.43271030828873, 'H5': -76.42470022865997, 'H6': -64.8924937057114}\n",
      "File: H3.10.5.mfcc ,Score: {'H1': -506.22262044871906, 'H2': -67.69456176310871, 'H3': -57.199752410236975, 'H4': -71.10118929174098, 'H5': -80.25381751589632, 'H6': -65.10608846638887}\n",
      "File: H4.10.1.mfcc ,Score: {'H1': -775.5426275629665, 'H2': -75.50278236555081, 'H3': -77.4668425466047, 'H4': -58.204659495706466, 'H5': -72.93671800221333, 'H6': -57.66579894343678}\n",
      "File: H4.10.2.mfcc ,Score: {'H1': -704.8576837072899, 'H2': -73.12381749261712, 'H3': -75.59454494598798, 'H4': -59.27513838308946, 'H5': -72.94884154600587, 'H6': -58.12648240689287}\n",
      "File: H4.10.3.mfcc ,Score: {'H1': -687.7691924173193, 'H2': -72.7153786791367, 'H3': -75.94512168420115, 'H4': -57.943844805551215, 'H5': -70.8833496766292, 'H6': -57.66387718525465}\n",
      "File: H4.10.4.mfcc ,Score: {'H1': -654.0224668185799, 'H2': -70.6791675878951, 'H3': -75.8069752651652, 'H4': -57.5690043371299, 'H5': -70.79514314908424, 'H6': -56.719662844622654}\n",
      "File: H4.10.5.mfcc ,Score: {'H1': -583.3723296764256, 'H2': -73.7294951086173, 'H3': -73.33486500482418, 'H4': -56.83836248956921, 'H5': -70.54924085180646, 'H6': -56.82258187462219}\n",
      "File: H5.10.1.mfcc ,Score: {'H1': -535.8720363245039, 'H2': -69.35260181812816, 'H3': -76.5056250183205, 'H4': -75.61567884075764, 'H5': -59.504771648735556, 'H6': -65.89423891938935}\n",
      "File: H5.10.2.mfcc ,Score: {'H1': -507.5154484599674, 'H2': -69.01664526480157, 'H3': -77.28516840066915, 'H4': -76.12309589768108, 'H5': -58.47299342114545, 'H6': -66.48078338061646}\n",
      "File: H5.10.3.mfcc ,Score: {'H1': -518.036382619073, 'H2': -69.33456739498709, 'H3': -81.59559312842062, 'H4': -77.47495005078571, 'H5': -60.371243468861515, 'H6': -66.8531526422709}\n",
      "File: H5.10.4.mfcc ,Score: {'H1': -531.677185509432, 'H2': -71.54026420223117, 'H3': -75.78580153429479, 'H4': -74.99209879819833, 'H5': -62.61214329982006, 'H6': -66.86342072962084}\n",
      "File: H5.10.5.mfcc ,Score: {'H1': -611.9521346893566, 'H2': -73.4534948283907, 'H3': -79.48023988509874, 'H4': -77.9951676463366, 'H5': -64.81967488066861, 'H6': -69.61414416642427}\n",
      "File: H6.10.1.mfcc ,Score: {'H1': -765.67937582388, 'H2': -74.21720619216369, 'H3': -82.3275286703467, 'H4': -66.23130327454568, 'H5': -73.258522602223, 'H6': -56.65930330553222}\n",
      "File: H6.10.2.mfcc ,Score: {'H1': -783.0992908866832, 'H2': -72.79738817457074, 'H3': -77.36454905205666, 'H4': -62.9833299424132, 'H5': -71.35679032539544, 'H6': -54.6542414863265}\n",
      "File: H6.10.3.mfcc ,Score: {'H1': -652.0119446181083, 'H2': -72.02530229211595, 'H3': -73.39673370943382, 'H4': -63.184209482404114, 'H5': -70.71915659313524, 'H6': -53.27036280378186}\n",
      "File: H6.10.4.mfcc ,Score: {'H1': -692.0257109230415, 'H2': -73.50278419593995, 'H3': -77.93832964081123, 'H4': -65.61657487702567, 'H5': -72.29315170482512, 'H6': -55.07005463753855}\n",
      "File: H6.10.5.mfcc ,Score: {'H1': -634.0417005210677, 'H2': -70.71207319712371, 'H3': -77.31061336742847, 'H4': -68.74004241342635, 'H5': -73.95330234432365, 'H6': -56.23294277234172}\n",
      "File: H6.10.6.mfcc ,Score: {'H1': -697.1898063509233, 'H2': -74.28694226353576, 'H3': -77.85462895448484, 'H4': -65.16897076962564, 'H5': -72.87574181491769, 'H6': -55.00970462058448}\n"
     ]
    }
   ],
   "source": [
    "results_10_H_128 = []\n",
    "\n",
    "# Calculate scores for each GMM model and store file name with score\n",
    "for test_segment_name, test_segment in test_files_10_H.items():\n",
    "    score = get_scores(test_segment, gmm_models_H_128)\n",
    "    results_10_H_128.append((test_segment_name, score))\n",
    "\n",
    "# Printing the results\n",
    "for result in results_10_H_128:\n",
    "    file_name, score = result\n",
    "    print(f\"File: {file_name} ,Score: {score}\")"
   ]
  },
  {
   "cell_type": "markdown",
   "id": "d0bbe09d",
   "metadata": {},
   "source": [
    "## Sort the scores "
   ]
  },
  {
   "cell_type": "code",
   "execution_count": 38,
   "id": "0b1aa075",
   "metadata": {},
   "outputs": [],
   "source": [
    "# Extract the scores from results_10_H_128\n",
    "scores = [score for _, score in results_10_H_128]\n",
    "    \n",
    "scores_array = np.array([list(item.values()) for item in scores]).flatten()\n",
    "\n",
    "sorted_scores_array = np.sort(scores_array)\n"
   ]
  },
  {
   "cell_type": "markdown",
   "id": "d2f66f07",
   "metadata": {},
   "source": [
    "## Plot the curve "
   ]
  },
  {
   "cell_type": "code",
   "execution_count": 39,
   "id": "fb3c7dda",
   "metadata": {},
   "outputs": [
    {
     "data": {
      "image/png": "[encoded data removed]",
      "text/plain": [
       "<Figure size 640x480 with 1 Axes>"
      ]
     },
     "metadata": {},
     "output_type": "display_data"
    }
   ],
   "source": [
    "# Initialize variables\n",
    "genuine_scores = defaultdict(list)  # Dictionary to store genuine scores for each client\n",
    "impostor_scores = []  # List to store impostor scores\n",
    "\n",
    "# Extract genuine scores and impostor scores\n",
    "for result in results_10_H_128:\n",
    "    file_name, score = result\n",
    "    client_name = file_name.split('.')[0]  # Extract client name from file name\n",
    "\n",
    "    genuine_scores[client_name].append(score[client_name])\n",
    "\n",
    "    impostor_scores.extend([s for key, s in score.items() if key != client_name])\n",
    "\n",
    "# Compute the minimum and maximum scores\n",
    "min_score = min(sorted_scores_array)\n",
    "max_score = max(sorted_scores_array)\n",
    "\n",
    "# Set the number of thresholds and generate them using linspace\n",
    "num_thresholds = 1000\n",
    "thresholds = np.geomspace(max_score, min_score, num_thresholds)\n",
    "\n",
    "# Initialize lists for FAR and FRR\n",
    "far = []\n",
    "frr = []\n",
    "\n",
    "# Iterate over thresholds\n",
    "for threshold in thresholds:\n",
    "    # Compute the number of false accepts (FAR) and false rejects (FRR)\n",
    "    false_accepts = sum(score >= threshold for score in impostor_scores)\n",
    "    false_rejects = 0\n",
    "    for client_scores in genuine_scores.values():\n",
    "        false_rejects += sum(score < threshold for score in client_scores)\n",
    "\n",
    "    # Compute the FAR and FRR rates\n",
    "    far_rate = false_accepts / len(impostor_scores)\n",
    "    frr_rate = false_rejects / sum(len(client_scores) for client_scores in genuine_scores.values())\n",
    "\n",
    "    # Append the FAR and FRR rates to the lists\n",
    "    far.append(far_rate)\n",
    "    frr.append(frr_rate)\n",
    "\n",
    "# Find the threshold with the closest FAR and FRR\n",
    "eer_threshold = thresholds[np.argmin(np.abs(np.array(far) - np.array(frr)))]\n",
    "\n",
    "# Compute the EER values\n",
    "eer_far = far[np.argmin(np.abs(np.array(far) - np.array(frr)))]\n",
    "eer_frr = frr[np.argmin(np.abs(np.array(far) - np.array(frr)))]\n",
    "\n",
    "# Plot the FAR and FRR curve\n",
    "plt.plot(far, frr)\n",
    "plt.xlabel('False Acceptance Rate (FAR)')\n",
    "plt.ylabel('False Rejection Rate (FRR)')\n",
    "plt.title('DET Curve')\n",
    "plt.grid(True)\n",
    "\n",
    "# Plot the EER point\n",
    "plt.scatter(eer_far, eer_frr, color='red', marker='o', label='EER')\n",
    "\n",
    "# Add legend\n",
    "plt.legend()\n",
    "\n",
    "# Add text annotation for EER point\n",
    "plt.annotate(f'EER: ({eer_far:.3f}, {eer_frr:.3f})', (eer_far, eer_frr), xytext=(eer_far + 0.05, eer_frr), color='red')\n",
    "\n",
    "plt.show()\n"
   ]
  },
  {
   "cell_type": "markdown",
   "id": "ed8b3a2e",
   "metadata": {},
   "source": [
    "### 15 seconds segments :"
   ]
  },
  {
   "cell_type": "markdown",
   "id": "a21ea34b",
   "metadata": {},
   "source": [
    "## Get the scores"
   ]
  },
  {
   "cell_type": "code",
   "execution_count": 40,
   "id": "7870fde9",
   "metadata": {
    "scrolled": true
   },
   "outputs": [
    {
     "name": "stdout",
     "output_type": "stream",
     "text": [
      "File: H1.15.1.mfcc ,Score: {'H1': -381.3520589033137, 'H2': -68.76264075152594, 'H3': -77.39716478524541, 'H4': -72.98838329151761, 'H5': -66.66057567498648, 'H6': -65.03269543144114}\n",
      "File: H2.15.1.mfcc ,Score: {'H1': -490.18000876952635, 'H2': -53.40322688425815, 'H3': -80.34428089347699, 'H4': -71.9707393747497, 'H5': -65.95261308853149, 'H6': -70.77218245404637}\n",
      "File: H2.15.2.mfcc ,Score: {'H1': -507.92834027904274, 'H2': -53.74274770680662, 'H3': -74.21442589402102, 'H4': -73.73894316376906, 'H5': -65.74962330722838, 'H6': -66.82512159209115}\n",
      "File: H2.15.3.mfcc ,Score: {'H1': -454.01480444135444, 'H2': -52.96858550095559, 'H3': -80.3442930894127, 'H4': -70.98557709137, 'H5': -63.466561998966256, 'H6': -69.25320081418052}\n",
      "File: H2.15.4.mfcc ,Score: {'H1': -456.26461268861107, 'H2': -51.7852814821679, 'H3': -82.12310807281374, 'H4': -72.87945801048689, 'H5': -63.73494197984753, 'H6': -70.10308825277774}\n",
      "File: H3.15.1.mfcc ,Score: {'H1': -540.1888051856888, 'H2': -67.97704098682512, 'H3': -58.4020892251093, 'H4': -74.63564069237881, 'H5': -78.9591454044381, 'H6': -65.45793619609304}\n",
      "File: H3.15.2.mfcc ,Score: {'H1': -540.2969163265412, 'H2': -68.51732042049164, 'H3': -58.54393456703987, 'H4': -71.90835663458002, 'H5': -77.26231118458745, 'H6': -65.52457209268559}\n",
      "File: H3.15.3.mfcc ,Score: {'H1': -514.0661595456612, 'H2': -67.14826772298719, 'H3': -58.40315820038154, 'H4': -70.87787054101946, 'H5': -75.56411118120677, 'H6': -64.17061754162137}\n",
      "File: H3.15.4.mfcc ,Score: {'H1': -559.9906967720627, 'H2': -74.06501633490639, 'H3': -59.01509183222022, 'H4': -73.88988863328919, 'H5': -93.66570962802177, 'H6': -70.08354297046328}\n",
      "File: H4.15.1.mfcc ,Score: {'H1': -751.5493125344412, 'H2': -74.66244835757355, 'H3': -77.0074487065433, 'H4': -58.652714103489515, 'H5': -73.55286880299673, 'H6': -58.05299499245539}\n",
      "File: H4.15.2.mfcc ,Score: {'H1': -693.8970232572759, 'H2': -72.89887066729622, 'H3': -75.66355741131923, 'H4': -58.296381019408585, 'H5': -70.95973734690217, 'H6': -57.58444403126749}\n",
      "File: H4.15.3.mfcc ,Score: {'H1': -615.2790460466312, 'H2': -71.0927250814436, 'H3': -74.64720791817024, 'H4': -57.24695634727099, 'H5': -70.35742154023818, 'H6': -56.78923334332875}\n",
      "File: H4.15.4.mfcc ,Score: {'H1': -666.5477405773239, 'H2': -77.03178532773535, 'H3': -75.17280621037862, 'H4': -57.26811088740866, 'H5': -72.4968002117707, 'H6': -56.629529929149925}\n",
      "File: H5.15.1.mfcc ,Score: {'H1': -515.0800758096691, 'H2': -69.03679469534089, 'H3': -77.01562647298482, 'H4': -75.68241470195767, 'H5': -59.33096405251636, 'H6': -65.93764636390068}\n",
      "File: H5.15.2.mfcc ,Score: {'H1': -525.8691691260271, 'H2': -69.43241495660367, 'H3': -79.90863122528869, 'H4': -77.12673515752529, 'H5': -59.568374973312004, 'H6': -66.88113693095045}\n",
      "File: H5.15.3.mfcc ,Score: {'H1': -572.0707209650499, 'H2': -73.04609487463613, 'H3': -77.90616476231719, 'H4': -77.09897032755526, 'H5': -63.564022162974446, 'H6': -68.90636673569907}\n",
      "File: H5.15.4.mfcc ,Score: {'H1': -560.4336747561968, 'H2': -70.17356864318256, 'H3': -76.12173694648003, 'H4': -73.81689845246692, 'H5': -64.0034217212044, 'H6': -65.35959179686347}\n",
      "File: H6.15.1.mfcc ,Score: {'H1': -783.1369726115406, 'H2': -73.8993185421095, 'H3': -80.54218243855915, 'H4': -65.2039117562196, 'H5': -72.86516377066998, 'H6': -56.46872738322959}\n",
      "File: H6.15.2.mfcc ,Score: {'H1': -684.0567682742404, 'H2': -72.12727923045745, 'H3': -74.85035851599895, 'H4': -63.061983376689064, 'H5': -70.6911492431658, 'H6': -53.25387768053079}\n",
      "File: H6.15.3.mfcc ,Score: {'H1': -639.7468805618339, 'H2': -71.9967051462534, 'H3': -77.92809442224677, 'H4': -67.01989978939545, 'H5': -72.22134025826682, 'H6': -55.49117291746649}\n",
      "File: H6.15.4.mfcc ,Score: {'H1': -715.5373782172098, 'H2': -73.3376396344666, 'H3': -77.26828455327941, 'H4': -66.44572536525362, 'H5': -74.39328832497904, 'H6': -55.58666836507399}\n"
     ]
    }
   ],
   "source": [
    "results_15_H_128 = []\n",
    "\n",
    "# Calculate scores for each GMM model and store file name with score\n",
    "for test_segment_name, test_segment in test_files_15_H.items():\n",
    "    score = get_scores(test_segment, gmm_models_H_128)\n",
    "    results_15_H_128.append((test_segment_name, score))\n",
    "\n",
    "# Printing the results\n",
    "for result in results_15_H_128:\n",
    "    file_name, score = result\n",
    "    print(f\"File: {file_name} ,Score: {score}\")"
   ]
  },
  {
   "cell_type": "markdown",
   "id": "24a3deea",
   "metadata": {},
   "source": [
    "## Sort the scores"
   ]
  },
  {
   "cell_type": "code",
   "execution_count": 41,
   "id": "9512c226",
   "metadata": {
    "scrolled": true
   },
   "outputs": [],
   "source": [
    "# Extract the scores from results_15_H_128\n",
    "scores = [score for _, score in results_15_H_128]\n",
    "    \n",
    "scores_array = np.array([list(item.values()) for item in scores]).flatten()\n",
    "\n",
    "sorted_scores_array = np.sort(scores_array)\n"
   ]
  },
  {
   "cell_type": "markdown",
   "id": "e8dc15b4",
   "metadata": {},
   "source": [
    "##  Plot the DET curve "
   ]
  },
  {
   "cell_type": "code",
   "execution_count": 42,
   "id": "b9d13517",
   "metadata": {},
   "outputs": [
    {
     "data": {
      "image/png": "[encoded data removed]",
      "text/plain": [
       "<Figure size 640x480 with 1 Axes>"
      ]
     },
     "metadata": {},
     "output_type": "display_data"
    }
   ],
   "source": [
    "# Initialize variables\n",
    "genuine_scores = defaultdict(list)  # Dictionary to store genuine scores for each client\n",
    "impostor_scores = []  # List to store impostor scores\n",
    "\n",
    "# Extract genuine scores and impostor scores\n",
    "for result in results_15_H_128:\n",
    "    file_name, score = result\n",
    "    client_name = file_name.split('.')[0]  # Extract client name from file name\n",
    "\n",
    "    genuine_scores[client_name].append(score[client_name])\n",
    "\n",
    "    impostor_scores.extend([s for key, s in score.items() if key != client_name])\n",
    "\n",
    "# Compute the minimum and maximum scores\n",
    "min_score = min(sorted_scores_array)\n",
    "max_score = max(sorted_scores_array)\n",
    "\n",
    "# Set the number of thresholds and generate them using linspace\n",
    "num_thresholds = 1000\n",
    "thresholds = np.geomspace(max_score, min_score, num_thresholds)\n",
    "\n",
    "# Initialize lists for FAR and FRR\n",
    "far = []\n",
    "frr = []\n",
    "\n",
    "# Iterate over thresholds\n",
    "for threshold in thresholds:\n",
    "    # Compute the number of false accepts (FAR) and false rejects (FRR)\n",
    "    false_accepts = sum(score >= threshold for score in impostor_scores)\n",
    "    false_rejects = 0\n",
    "    for client_scores in genuine_scores.values():\n",
    "        false_rejects += sum(score < threshold for score in client_scores)\n",
    "\n",
    "    # Compute the FAR and FRR rates\n",
    "    far_rate = false_accepts / len(impostor_scores)\n",
    "    frr_rate = false_rejects / sum(len(client_scores) for client_scores in genuine_scores.values())\n",
    "\n",
    "    # Append the FAR and FRR rates to the lists\n",
    "    far.append(far_rate)\n",
    "    frr.append(frr_rate)\n",
    "\n",
    "# Find the threshold with the closest FAR and FRR\n",
    "eer_threshold = thresholds[np.argmin(np.abs(np.array(far) - np.array(frr)))]\n",
    "\n",
    "# Compute the EER values\n",
    "eer_far = far[np.argmin(np.abs(np.array(far) - np.array(frr)))]\n",
    "eer_frr = frr[np.argmin(np.abs(np.array(far) - np.array(frr)))]\n",
    "\n",
    "# Plot the FAR and FRR curve\n",
    "plt.plot(far, frr)\n",
    "plt.xlabel('False Acceptance Rate (FAR)')\n",
    "plt.ylabel('False Rejection Rate (FRR)')\n",
    "plt.title('DET Curve')\n",
    "plt.grid(True)\n",
    "\n",
    "# Plot the EER point\n",
    "plt.scatter(eer_far, eer_frr, color='red', marker='o', label='EER')\n",
    "\n",
    "# Add legend\n",
    "plt.legend()\n",
    "\n",
    "# Add text annotation for EER point\n",
    "plt.annotate(f'EER: ({eer_far:.3f}, {eer_frr:.3f})', (eer_far, eer_frr), xytext=(eer_far + 0.05, eer_frr), color='red')\n",
    "\n",
    "plt.show()\n"
   ]
  },
  {
   "cell_type": "markdown",
   "id": "8713cfca",
   "metadata": {},
   "source": [
    "### 30 seconds segments :"
   ]
  },
  {
   "cell_type": "markdown",
   "id": "0c19558c",
   "metadata": {},
   "source": [
    "## Get the scores"
   ]
  },
  {
   "cell_type": "code",
   "execution_count": 43,
   "id": "a4e4cf10",
   "metadata": {
    "scrolled": true
   },
   "outputs": [
    {
     "name": "stdout",
     "output_type": "stream",
     "text": [
      "File: H1.30.1.mfcc ,Score: {'H1': -381.3520589033137, 'H2': -68.76264075152594, 'H3': -77.39716478524541, 'H4': -72.98838329151761, 'H5': -66.66057567498648, 'H6': -65.03269543144114}\n",
      "File: H2.30.1.mfcc ,Score: {'H1': -499.0541745242846, 'H2': -53.57298729553239, 'H3': -77.279353393749, 'H4': -72.85484126925938, 'H5': -65.85111819787993, 'H6': -68.79865202306875}\n",
      "File: H2.30.2.mfcc ,Score: {'H1': -454.6727672306465, 'H2': -52.62252489168749, 'H3': -80.86451256569035, 'H4': -71.53944792620608, 'H5': -63.54505048394096, 'H6': -69.50175280094008}\n",
      "File: H3.30.1.mfcc ,Score: {'H1': -540.2428607561151, 'H2': -68.24718070365837, 'H3': -58.473011896074574, 'H4': -73.27199866347942, 'H5': -78.11072829451277, 'H6': -65.49125414438932}\n",
      "File: H3.30.2.mfcc ,Score: {'H1': -520.3778124479671, 'H2': -68.09887319639068, 'H3': -58.487259487333496, 'H4': -71.29182817417211, 'H5': -78.05190993266666, 'H6': -64.98326226703438}\n",
      "File: H4.30.1.mfcc ,Score: {'H1': -722.7231678958585, 'H2': -73.78065951243488, 'H3': -76.33550305893127, 'H4': -58.47454756144905, 'H5': -72.25630307494946, 'H6': -57.81871951186144}\n",
      "File: H4.30.2.mfcc ,Score: {'H1': -623.1976606472003, 'H2': -72.01003201914594, 'H3': -74.72838826319001, 'H4': -57.250223733966436, 'H5': -70.68785545004647, 'H6': -56.76456663786936}\n",
      "File: H5.30.1.mfcc ,Score: {'H1': -520.4746224678481, 'H2': -69.23460482597227, 'H3': -78.46212884913675, 'H4': -76.40457492974149, 'H5': -59.449669512914184, 'H6': -66.40939164742556}\n",
      "File: H5.30.2.mfcc ,Score: {'H1': -569.6353454537613, 'H2': -72.44493888418431, 'H3': -77.53272362215516, 'H4': -76.41210552291105, 'H5': -63.655978738945606, 'H6': -68.16410545435076}\n",
      "File: H6.30.1.mfcc ,Score: {'H1': -733.5968704428905, 'H2': -73.01329888628347, 'H3': -77.69627047727906, 'H4': -64.13294756645433, 'H5': -71.77815650691788, 'H6': -54.8613025318802}\n",
      "File: H6.30.2.mfcc ,Score: {'H1': -669.5665951670425, 'H2': -72.52429481751562, 'H3': -77.66849272289164, 'H4': -66.79399129174482, 'H5': -73.07589160032545, 'H6': -55.5287455298895}\n"
     ]
    }
   ],
   "source": [
    "results_30_H_128 = []\n",
    "\n",
    "# Calculate scores for each GMM model and store file name with score\n",
    "for test_segment_name, test_segment in test_files_30_H.items():\n",
    "    score = get_scores(test_segment, gmm_models_H_128)\n",
    "    results_30_H_128.append((test_segment_name, score))\n",
    "\n",
    "# Printing the results\n",
    "for result in results_30_H_128:\n",
    "    file_name, score = result\n",
    "    print(f\"File: {file_name} ,Score: {score}\")"
   ]
  },
  {
   "cell_type": "markdown",
   "id": "425e9a3a",
   "metadata": {},
   "source": [
    "## Sort the scores"
   ]
  },
  {
   "cell_type": "code",
   "execution_count": 44,
   "id": "58f15788",
   "metadata": {
    "scrolled": true
   },
   "outputs": [],
   "source": [
    "# Extract the scores from results_30_H_128\n",
    "scores = [score for _, score in results_30_H_128]\n",
    "    \n",
    "scores_array = np.array([list(item.values()) for item in scores]).flatten()\n",
    "\n",
    "sorted_scores_array = np.sort(scores_array)\n"
   ]
  },
  {
   "cell_type": "markdown",
   "id": "0ea742ca",
   "metadata": {},
   "source": [
    "## Plot the DET curve"
   ]
  },
  {
   "cell_type": "code",
   "execution_count": 45,
   "id": "8ea2291b",
   "metadata": {},
   "outputs": [
    {
     "data": {
      "image/png": "[encoded data removed]",
      "text/plain": [
       "<Figure size 640x480 with 1 Axes>"
      ]
     },
     "metadata": {},
     "output_type": "display_data"
    }
   ],
   "source": [
    "# Initialize variables\n",
    "genuine_scores = defaultdict(list)  # Dictionary to store genuine scores for each client\n",
    "impostor_scores = []  # List to store impostor scores\n",
    "\n",
    "# Extract genuine scores and impostor scores\n",
    "for result in results_30_H_128:\n",
    "    file_name, score = result\n",
    "    client_name = file_name.split('.')[0]  # Extract client name from file name\n",
    "\n",
    "    genuine_scores[client_name].append(score[client_name])\n",
    "\n",
    "    impostor_scores.extend([s for key, s in score.items() if key != client_name])\n",
    "\n",
    "# Compute the minimum and maximum scores\n",
    "min_score = min(sorted_scores_array)\n",
    "max_score = max(sorted_scores_array)\n",
    "\n",
    "# Set the number of thresholds and generate them using linspace\n",
    "num_thresholds = 1000\n",
    "thresholds = np.geomspace(max_score, min_score, num_thresholds)\n",
    "\n",
    "# Initialize lists for FAR and FRR\n",
    "far = []\n",
    "frr = []\n",
    "\n",
    "# Iterate over thresholds\n",
    "for threshold in thresholds:\n",
    "    # Compute the number of false accepts (FAR) and false rejects (FRR)\n",
    "    false_accepts = sum(score >= threshold for score in impostor_scores)\n",
    "    false_rejects = 0\n",
    "    for client_scores in genuine_scores.values():\n",
    "        false_rejects += sum(score < threshold for score in client_scores)\n",
    "\n",
    "    # Compute the FAR and FRR rates\n",
    "    far_rate = false_accepts / len(impostor_scores)\n",
    "    frr_rate = false_rejects / sum(len(client_scores) for client_scores in genuine_scores.values())\n",
    "\n",
    "    # Append the FAR and FRR rates to the lists\n",
    "    far.append(far_rate)\n",
    "    frr.append(frr_rate)\n",
    "\n",
    "# Find the threshold with the closest FAR and FRR\n",
    "eer_threshold = thresholds[np.argmin(np.abs(np.array(far) - np.array(frr)))]\n",
    "\n",
    "# Compute the EER values\n",
    "eer_far = far[np.argmin(np.abs(np.array(far) - np.array(frr)))]\n",
    "eer_frr = frr[np.argmin(np.abs(np.array(far) - np.array(frr)))]\n",
    "\n",
    "# Plot the FAR and FRR curve\n",
    "plt.plot(far, frr)\n",
    "plt.xlabel('False Acceptance Rate (FAR)')\n",
    "plt.ylabel('False Rejection Rate (FRR)')\n",
    "plt.title('DET Curve')\n",
    "plt.grid(True)\n",
    "\n",
    "# Plot the EER point\n",
    "plt.scatter(eer_far, eer_frr, color='red', marker='o', label='EER')\n",
    "\n",
    "# Add legend\n",
    "plt.legend()\n",
    "\n",
    "# Add text annotation for EER point\n",
    "plt.annotate(f'EER: ({eer_far:.3f}, {eer_frr:.3f})', (eer_far, eer_frr), xytext=(eer_far + 0.05, eer_frr), color='red')\n",
    "\n",
    "plt.show()\n"
   ]
  },
  {
   "cell_type": "markdown",
   "id": "e1932eaf",
   "metadata": {},
   "source": [
    "## d. GMM 256:\n",
    "### 3 seconds segments :"
   ]
  },
  {
   "cell_type": "markdown",
   "id": "84228c19",
   "metadata": {},
   "source": [
    "## Get the scores"
   ]
  },
  {
   "cell_type": "code",
   "execution_count": 46,
   "id": "117226ec",
   "metadata": {},
   "outputs": [
    {
     "name": "stdout",
     "output_type": "stream",
     "text": [
      "File: H1.3.1.mfcc ,Score: {'H1': -24637.332596998705, 'H2': -85.89769586680902, 'H3': -93.18464831356017, 'H4': -82.76170577131991, 'H5': -81.87963195212141, 'H6': -75.50828820992129}\n",
      "File: H1.3.2.mfcc ,Score: {'H1': -38458.258943828245, 'H2': -87.57706920930737, 'H3': -97.68974834570318, 'H4': -85.24423069566107, 'H5': -80.27599907191801, 'H6': -75.4138526420616}\n",
      "File: H2.3.1.mfcc ,Score: {'H1': -105340.7754421042, 'H2': -57.9399743482723, 'H3': -106.917364673459, 'H4': -79.64965370499895, 'H5': -69.31550659575711, 'H6': -83.24355947114014}\n",
      "File: H2.3.10.mfcc ,Score: {'H1': -53905.36807359307, 'H2': -65.65602570904298, 'H3': -94.31161529262423, 'H4': -90.89007553929179, 'H5': -81.52689246068884, 'H6': -76.86353892336523}\n",
      "File: H2.3.11.mfcc ,Score: {'H1': -78418.06792593433, 'H2': -68.63065384208647, 'H3': -102.9308628784789, 'H4': -88.85653998795502, 'H5': -78.14841743449567, 'H6': -80.44882062971944}\n",
      "File: H2.3.12.mfcc ,Score: {'H1': -92122.60057368824, 'H2': -60.51447174821037, 'H3': -102.10397507289345, 'H4': -84.37953720969705, 'H5': -71.06830449298026, 'H6': -81.74944870849268}\n",
      "File: H2.3.13.mfcc ,Score: {'H1': -73803.0539220012, 'H2': -62.777157189702336, 'H3': -94.08941839363106, 'H4': -83.05733287375774, 'H5': -72.99266535508019, 'H6': -78.47352496727893}\n",
      "File: H2.3.14.mfcc ,Score: {'H1': -74101.89271173254, 'H2': -62.77431322471964, 'H3': -103.04124909486848, 'H4': -79.9145001707493, 'H5': -72.6667671381444, 'H6': -77.10679215147769}\n",
      "File: H2.3.15.mfcc ,Score: {'H1': -123411.56975190158, 'H2': -58.798600998858404, 'H3': -115.8165615808856, 'H4': -82.88237745120648, 'H5': -69.70284445543459, 'H6': -87.56841395821415}\n",
      "File: H2.3.16.mfcc ,Score: {'H1': -24249.900800089956, 'H2': -66.68114859114158, 'H3': -99.52938458081609, 'H4': -98.21556147471443, 'H5': -80.01274998016794, 'H6': -69.86617675157972}\n",
      "File: H2.3.17.mfcc ,Score: {'H1': -156342.14340986116, 'H2': -56.27915256032678, 'H3': -120.85705836415528, 'H4': -81.38081628118243, 'H5': -68.39014879012458, 'H6': -92.10481801183309}\n",
      "File: H2.3.18.mfcc ,Score: {'H1': -16612.488083177977, 'H2': -65.09896541724376, 'H3': -75.71252614806394, 'H4': -87.81060959869254, 'H5': -69.58343569950611, 'H6': -67.22956326521401}\n",
      "File: H2.3.2.mfcc ,Score: {'H1': -73572.69034915477, 'H2': -66.8565941244984, 'H3': -103.52654338445137, 'H4': -88.15681031687825, 'H5': -80.6707330589987, 'H6': -80.9502332675507}\n",
      "File: H2.3.3.mfcc ,Score: {'H1': -108379.12552271427, 'H2': -66.41984102249454, 'H3': -103.78414780402179, 'H4': -85.04180537173964, 'H5': -77.63098518661018, 'H6': -86.51201238901984}\n",
      "File: H2.3.4.mfcc ,Score: {'H1': -96997.3449015083, 'H2': -62.02291325965514, 'H3': -101.83458012643293, 'H4': -83.74296740870005, 'H5': -76.98456833458587, 'H6': -81.06839068791196}\n",
      "File: H2.3.5.mfcc ,Score: {'H1': -74815.9070061689, 'H2': -61.667627825113705, 'H3': -103.8988353366692, 'H4': -88.18958264379913, 'H5': -79.92126824219876, 'H6': -80.51330703729046}\n",
      "File: H2.3.6.mfcc ,Score: {'H1': -65918.77356967988, 'H2': -61.222409082767975, 'H3': -93.30230001476961, 'H4': -84.9757233319364, 'H5': -76.73818630269007, 'H6': -78.10484708373014}\n",
      "File: H2.3.7.mfcc ,Score: {'H1': -38904.69139640492, 'H2': -66.1019285367625, 'H3': -94.46494164838049, 'H4': -84.40435313513039, 'H5': -76.19457665534715, 'H6': -70.84838959037751}\n",
      "File: H2.3.8.mfcc ,Score: {'H1': -56880.74766743002, 'H2': -59.83465534691883, 'H3': -85.85994607055702, 'H4': -86.28847655167817, 'H5': -75.87390831335338, 'H6': -70.89865966478453}\n",
      "File: H2.3.9.mfcc ,Score: {'H1': -95169.69784879804, 'H2': -59.07071698329066, 'H3': -107.75345253098777, 'H4': -89.60203487900638, 'H5': -76.10138353193058, 'H6': -84.86993495760606}\n",
      "File: H3.3.1.mfcc ,Score: {'H1': -71894.43157513655, 'H2': -87.72908647391456, 'H3': -68.4512638998612, 'H4': -87.8494925993605, 'H5': -92.32989723966648, 'H6': -77.86653022879119}\n",
      "File: H3.3.10.mfcc ,Score: {'H1': -66013.6813336632, 'H2': -82.99925940606006, 'H3': -78.47757715120507, 'H4': -85.14266625379764, 'H5': -84.3504564764517, 'H6': -68.50453474462579}\n",
      "File: H3.3.11.mfcc ,Score: {'H1': -55914.4182269642, 'H2': -81.05986465637893, 'H3': -69.39192038210257, 'H4': -80.06669301920418, 'H5': -83.75077095030028, 'H6': -71.92338385036018}\n",
      "File: H3.3.12.mfcc ,Score: {'H1': -75120.08069360691, 'H2': -87.69110902649858, 'H3': -80.14616633190718, 'H4': -84.12869347368782, 'H5': -89.22812758421462, 'H6': -74.19191322847486}\n",
      "File: H3.3.13.mfcc ,Score: {'H1': -100291.23002900278, 'H2': -99.47708774659611, 'H3': -79.74958164175409, 'H4': -92.32047256669912, 'H5': -90.77431081156276, 'H6': -79.3617938450022}\n",
      "File: H3.3.14.mfcc ,Score: {'H1': -47258.326259613845, 'H2': -86.08955373882951, 'H3': -63.694126996342604, 'H4': -83.19268407866764, 'H5': -84.58479094084204, 'H6': -72.5566918724616}\n",
      "File: H3.3.15.mfcc ,Score: {'H1': -27722.204295274143, 'H2': -75.16897769847546, 'H3': -66.21632763999415, 'H4': -83.44154816372756, 'H5': -83.79375571911405, 'H6': -68.3277199476719}\n",
      "File: H3.3.16.mfcc ,Score: {'H1': -143421.81785215077, 'H2': -106.65218987077309, 'H3': -67.70379331435768, 'H4': -90.59616736665212, 'H5': -99.12536608009475, 'H6': -91.91953834407927}\n",
      "File: H3.3.2.mfcc ,Score: {'H1': -83152.67456390007, 'H2': -92.93129814481871, 'H3': -81.91141001700682, 'H4': -85.4495703390942, 'H5': -89.45475307894219, 'H6': -74.28984845830259}\n",
      "File: H3.3.3.mfcc ,Score: {'H1': -117755.20156879927, 'H2': -101.56234922835567, 'H3': -81.80048745516972, 'H4': -92.0890999799597, 'H5': -97.70651566955311, 'H6': -81.11662238384557}\n",
      "File: H3.3.4.mfcc ,Score: {'H1': -28511.66952616471, 'H2': -80.0855514518725, 'H3': -64.06662870325738, 'H4': -88.06388987610266, 'H5': -88.23958048328004, 'H6': -73.00810266432671}\n",
      "File: H3.3.5.mfcc ,Score: {'H1': -43695.69556635541, 'H2': -80.15421205124764, 'H3': -65.47281808489939, 'H4': -84.7302131361906, 'H5': -88.81792144126268, 'H6': -73.65683042994208}\n",
      "File: H3.3.6.mfcc ,Score: {'H1': -82185.8323718671, 'H2': -91.35613018099924, 'H3': -71.20052103352043, 'H4': -85.41692901487951, 'H5': -91.54082648111816, 'H6': -78.45800066280003}\n",
      "File: H3.3.7.mfcc ,Score: {'H1': -41562.3948376194, 'H2': -87.59031075790719, 'H3': -69.07108785505422, 'H4': -84.305353602158, 'H5': -84.65495955683112, 'H6': -76.21095216033204}\n",
      "File: H3.3.8.mfcc ,Score: {'H1': -63094.70906100169, 'H2': -89.38257426882696, 'H3': -67.45843199867741, 'H4': -84.84211104345822, 'H5': -93.10861652711677, 'H6': -78.37918105074026}\n",
      "File: H3.3.9.mfcc ,Score: {'H1': -94135.50734207888, 'H2': -96.8791159903277, 'H3': -74.9216719847106, 'H4': -85.93719917825597, 'H5': -93.43089643977918, 'H6': -77.52519009804843}\n",
      "File: H4.3.1.mfcc ,Score: {'H1': -24423.407979783908, 'H2': -99.16850422403107, 'H3': -100.68052107386042, 'H4': -68.73333377867984, 'H5': -88.44984991836478, 'H6': -64.79360748145353}\n",
      "File: H4.3.10.mfcc ,Score: {'H1': -32862.8838627425, 'H2': -88.44758266761305, 'H3': -93.55778943042395, 'H4': -66.12391421157555, 'H5': -76.29093817941235, 'H6': -63.38206404840368}\n",
      "File: H4.3.11.mfcc ,Score: {'H1': -40382.7699011018, 'H2': -82.84434328256818, 'H3': -91.85219285917452, 'H4': -67.37990257360174, 'H5': -80.68248494160133, 'H6': -64.53706667712638}\n",
      "File: H4.3.12.mfcc ,Score: {'H1': -30856.899289171422, 'H2': -83.81198640226573, 'H3': -92.4680740236359, 'H4': -65.81940608826888, 'H5': -78.75908173125016, 'H6': -61.952614269095584}\n",
      "File: H4.3.13.mfcc ,Score: {'H1': -20654.628579030883, 'H2': -89.50327094782861, 'H3': -101.70593970258305, 'H4': -65.93438119565195, 'H5': -78.97954106604593, 'H6': -63.17883645661677}\n",
      "File: H4.3.14.mfcc ,Score: {'H1': -48504.21753038484, 'H2': -83.435839601591, 'H3': -90.89691766022159, 'H4': -66.92984534474965, 'H5': -77.98956184361863, 'H6': -62.603730952047094}\n",
      "File: H4.3.15.mfcc ,Score: {'H1': -23948.32170422812, 'H2': -94.67418780664342, 'H3': -90.72223343685816, 'H4': -66.02710025446932, 'H5': -76.6344517096291, 'H6': -63.53979514877212}\n",
      "File: H4.3.16.mfcc ,Score: {'H1': -37005.697181010604, 'H2': -87.30235581584003, 'H3': -96.59415699554748, 'H4': -65.54252480949746, 'H5': -81.14943496954342, 'H6': -61.680773788469864}\n",
      "File: H4.3.2.mfcc ,Score: {'H1': -41932.57876906351, 'H2': -98.32294599187708, 'H3': -106.01548550708229, 'H4': -69.65006584621858, 'H5': -88.30233588121018, 'H6': -65.20077977205267}\n",
      "File: H4.3.3.mfcc ,Score: {'H1': -35751.39490570726, 'H2': -85.2475986502054, 'H3': -95.86863762021463, 'H4': -70.19890835979051, 'H5': -85.68270906254922, 'H6': -63.13288899610765}\n",
      "File: H4.3.4.mfcc ,Score: {'H1': -55034.22509990058, 'H2': -89.7985329429024, 'H3': -96.88430113337559, 'H4': -70.06761785322621, 'H5': -82.98086136324626, 'H6': -66.00983945387372}\n",
      "File: H4.3.5.mfcc ,Score: {'H1': -27479.805328489063, 'H2': -86.59481247740526, 'H3': -92.24436153360497, 'H4': -68.60431625633794, 'H5': -80.64393135568166, 'H6': -63.22431256937261}\n",
      "File: H4.3.6.mfcc ,Score: {'H1': -30382.80244731209, 'H2': -86.38967081251943, 'H3': -92.96106773705993, 'H4': -66.10441510040611, 'H5': -75.93242208346076, 'H6': -61.67061452092787}\n",
      "File: H4.3.7.mfcc ,Score: {'H1': -31880.29503417372, 'H2': -91.49798505789256, 'H3': -91.93483124818549, 'H4': -65.48395303144896, 'H5': -79.6672401366092, 'H6': -63.28895424739358}\n",
      "File: H4.3.8.mfcc ,Score: {'H1': -35027.64859018733, 'H2': -88.97991276198688, 'H3': -91.01720183630678, 'H4': -71.13233330944747, 'H5': -82.56568639846365, 'H6': -65.24500068939082}\n",
      "File: H4.3.9.mfcc ,Score: {'H1': -30966.583572134154, 'H2': -93.59617049923746, 'H3': -102.06263913505444, 'H4': -67.9601568006863, 'H5': -82.18516876280448, 'H6': -66.15706328021736}\n",
      "File: H5.3.1.mfcc ,Score: {'H1': -38751.96917455857, 'H2': -81.45933652396727, 'H3': -98.16166412414978, 'H4': -84.89244981175669, 'H5': -68.06435873332528, 'H6': -72.56796006328159}\n",
      "File: H5.3.10.mfcc ,Score: {'H1': -34710.89256923918, 'H2': -87.78650538734003, 'H3': -110.1094551862589, 'H4': -93.47553255750503, 'H5': -70.54767169695401, 'H6': -72.9897300263996}\n",
      "File: H5.3.11.mfcc ,Score: {'H1': -29301.582533197005, 'H2': -76.03728173167006, 'H3': -92.75337057161414, 'H4': -88.84513143781905, 'H5': -62.17120472411838, 'H6': -71.68899308957589}\n",
      "File: H5.3.12.mfcc ,Score: {'H1': -26546.707012919345, 'H2': -92.91465817026406, 'H3': -99.55778040382131, 'H4': -87.25368656289689, 'H5': -72.216747986739, 'H6': -75.57938353509641}\n",
      "File: H5.3.13.mfcc ,Score: {'H1': -22835.464315293382, 'H2': -95.27181256832414, 'H3': -105.45751454076492, 'H4': -93.46462376623987, 'H5': -80.40208334550626, 'H6': -79.58741097211512}\n",
      "File: H5.3.14.mfcc ,Score: {'H1': -57175.71815732366, 'H2': -102.30012150320034, 'H3': -118.31838105204338, 'H4': -97.3931618044892, 'H5': -84.3599376781352, 'H6': -85.89206462909065}\n",
      "File: H5.3.15.mfcc ,Score: {'H1': -33065.16386898579, 'H2': -97.23792255744236, 'H3': -107.14929134142322, 'H4': -96.24788665563331, 'H5': -81.10532214614923, 'H6': -82.11580503312493}\n",
      "File: H5.3.16.mfcc ,Score: {'H1': -48128.344793187556, 'H2': -91.2761958063535, 'H3': -102.04643942235579, 'H4': -91.30259611143202, 'H5': -75.36681006660275, 'H6': -75.76804196594269}\n",
      "File: H5.3.17.mfcc ,Score: {'H1': -42869.9121298263, 'H2': -89.6138400716195, 'H3': -100.61193872323517, 'H4': -83.33514950768634, 'H5': -72.81471013481253, 'H6': -74.00892998244359}\n",
      "File: H5.3.2.mfcc ,Score: {'H1': -33625.693817383064, 'H2': -91.38780001454322, 'H3': -106.26754432186739, 'H4': -90.49279306831122, 'H5': -73.73768789339869, 'H6': -75.67744457231267}\n",
      "File: H5.3.3.mfcc ,Score: {'H1': -61987.241578268506, 'H2': -92.52673158283689, 'H3': -113.12709389249783, 'H4': -93.83534253441023, 'H5': -72.05757834874986, 'H6': -81.62560996145895}\n",
      "File: H5.3.4.mfcc ,Score: {'H1': -19169.48339004263, 'H2': -83.54035016316692, 'H3': -102.00465656794759, 'H4': -88.98102778079775, 'H5': -66.27046539222336, 'H6': -72.2361692421819}\n",
      "File: H5.3.5.mfcc ,Score: {'H1': -30460.297762595837, 'H2': -81.28126054549253, 'H3': -102.22774200396141, 'H4': -90.48269936564608, 'H5': -67.921741326943, 'H6': -74.05968148230266}\n",
      "File: H5.3.6.mfcc ,Score: {'H1': -35108.46531270637, 'H2': -81.35318719639449, 'H3': -101.10502225646029, 'H4': -89.36498996772674, 'H5': -66.1137772205993, 'H6': -70.95309294910915}\n",
      "File: H5.3.7.mfcc ,Score: {'H1': -34417.74158359888, 'H2': -91.11410613336018, 'H3': -110.96303467371285, 'H4': -98.80814845084642, 'H5': -70.62774539073031, 'H6': -79.1653507378142}\n",
      "File: H5.3.8.mfcc ,Score: {'H1': -49069.224700368024, 'H2': -87.8646988247577, 'H3': -116.41134831181165, 'H4': -103.33995396411443, 'H5': -72.822970588303, 'H6': -80.487743490345}\n",
      "File: H5.3.9.mfcc ,Score: {'H1': -39115.292951047064, 'H2': -80.7105825996867, 'H3': -106.58641984897137, 'H4': -93.2481521909383, 'H5': -68.20816203290141, 'H6': -76.37556157011808}\n",
      "File: H6.3.1.mfcc ,Score: {'H1': -39682.607582941186, 'H2': -83.25111089126217, 'H3': -99.08565640889404, 'H4': -75.70342284735767, 'H5': -80.5719013164381, 'H6': -59.44237258475703}\n",
      "File: H6.3.10.mfcc ,Score: {'H1': -40735.51099029917, 'H2': -87.8079654805392, 'H3': -91.05964002454259, 'H4': -78.60734461161145, 'H5': -82.19698927660829, 'H6': -58.22502513429009}\n",
      "File: H6.3.11.mfcc ,Score: {'H1': -31004.127252666367, 'H2': -93.85116665544224, 'H3': -94.74534436875874, 'H4': -78.25275971089408, 'H5': -88.47817713609838, 'H6': -61.94380583928489}\n",
      "File: H6.3.12.mfcc ,Score: {'H1': -33546.170374207526, 'H2': -85.9717918346019, 'H3': -98.34269168863561, 'H4': -74.67169298101264, 'H5': -83.72535540861583, 'H6': -60.00896454566127}\n",
      "File: H6.3.13.mfcc ,Score: {'H1': -20454.856306360147, 'H2': -93.17810720909091, 'H3': -102.84062432206355, 'H4': -81.38213000336417, 'H5': -86.37369856496781, 'H6': -65.74995380632244}\n",
      "File: H6.3.14.mfcc ,Score: {'H1': -40254.97172081182, 'H2': -86.37651910457197, 'H3': -98.81319455801116, 'H4': -79.26822297182306, 'H5': -80.82434365835975, 'H6': -60.5154063975912}\n",
      "File: H6.3.15.mfcc ,Score: {'H1': -23185.177047123972, 'H2': -90.73709358259327, 'H3': -108.11831820902349, 'H4': -84.8831062438783, 'H5': -86.68484455152871, 'H6': -63.55716784928307}\n",
      "File: H6.3.16.mfcc ,Score: {'H1': -19522.33041102455, 'H2': -90.68431151251966, 'H3': -95.67419417775568, 'H4': -81.03382975227453, 'H5': -88.14876172590188, 'H6': -62.91598394596714}\n",
      "File: H6.3.17.mfcc ,Score: {'H1': -39754.556829359644, 'H2': -91.7611242088659, 'H3': -102.10493289096604, 'H4': -80.04893768012785, 'H5': -89.51717010486936, 'H6': -61.09019245127636}\n",
      "File: H6.3.18.mfcc ,Score: {'H1': -31447.394421487705, 'H2': -89.37248138898055, 'H3': -101.73864641653864, 'H4': -74.2907247176636, 'H5': -82.8376665401873, 'H6': -58.689477040461895}\n",
      "File: H6.3.19.mfcc ,Score: {'H1': -32919.151383471595, 'H2': -107.73761447268863, 'H3': -129.62850389882732, 'H4': -80.84591122123376, 'H5': -107.97415928357213, 'H6': -67.98909732930304}\n",
      "File: H6.3.2.mfcc ,Score: {'H1': -17414.233307847066, 'H2': -90.0386712387854, 'H3': -102.705279566225, 'H4': -77.03864305747199, 'H5': -88.89721515075733, 'H6': -60.624023779911674}\n",
      "File: H6.3.3.mfcc ,Score: {'H1': -31814.06616670706, 'H2': -96.7962854899685, 'H3': -114.7776370306151, 'H4': -80.86118071779781, 'H5': -87.31974382156311, 'H6': -66.48727724791019}\n",
      "File: H6.3.4.mfcc ,Score: {'H1': -36609.75862245313, 'H2': -97.13522998549092, 'H3': -107.76910312077908, 'H4': -77.75444138317847, 'H5': -92.19566973198012, 'H6': -63.94465670945637}\n",
      "File: H6.3.5.mfcc ,Score: {'H1': -45962.45292157313, 'H2': -87.21942642294061, 'H3': -95.57272888387489, 'H4': -74.09245276374469, 'H5': -80.72666681306475, 'H6': -61.8768946614619}\n",
      "File: H6.3.6.mfcc ,Score: {'H1': -34361.193098214564, 'H2': -90.20731502376138, 'H3': -92.51617148687522, 'H4': -73.66978742398312, 'H5': -80.98518482546616, 'H6': -61.1647103307298}\n",
      "File: H6.3.7.mfcc ,Score: {'H1': -24844.55211745656, 'H2': -85.69677258194785, 'H3': -97.21765330139763, 'H4': -73.22360544231356, 'H5': -85.2870731271922, 'H6': -58.7821028516818}\n",
      "File: H6.3.8.mfcc ,Score: {'H1': -29660.856090954952, 'H2': -91.41060565642375, 'H3': -100.20490373049664, 'H4': -74.18412234965743, 'H5': -87.723181844702, 'H6': -59.47384922071766}\n",
      "File: H6.3.9.mfcc ,Score: {'H1': -29320.4366514142, 'H2': -92.38823169537774, 'H3': -95.44541993131541, 'H4': -70.95824115765878, 'H5': -81.16710090292776, 'H6': -58.96134574047815}\n"
     ]
    }
   ],
   "source": [
    "results_3_H_256 = []\n",
    "\n",
    "# Calculate scores for each GMM model and store file name with score\n",
    "for test_segment_name, test_segment in test_files_3_H.items():\n",
    "    score = get_scores(test_segment, gmm_models_H_256)\n",
    "    results_3_H_256.append((test_segment_name, score))\n",
    "\n",
    "# Printing the results\n",
    "for result in results_3_H_256:\n",
    "    file_name, score = result\n",
    "    print(f\"File: {file_name} ,Score: {score}\")"
   ]
  },
  {
   "cell_type": "markdown",
   "id": "0a38fc76",
   "metadata": {},
   "source": [
    "## Sort the scores"
   ]
  },
  {
   "cell_type": "code",
   "execution_count": 47,
   "id": "0f26aab2",
   "metadata": {},
   "outputs": [],
   "source": [
    "# Extract the scores from results_3_H_256\n",
    "scores = [score for _, score in results_3_H_256]\n",
    "    \n",
    "scores_array = np.array([list(item.values()) for item in scores]).flatten()\n",
    "\n",
    "sorted_scores_array = np.sort(scores_array)\n"
   ]
  },
  {
   "cell_type": "markdown",
   "id": "0ff14d01",
   "metadata": {},
   "source": [
    "## Plot the DET curve"
   ]
  },
  {
   "cell_type": "code",
   "execution_count": 48,
   "id": "165299b3",
   "metadata": {},
   "outputs": [
    {
     "data": {
      "image/png": "[encoded data removed]",
      "text/plain": [
       "<Figure size 640x480 with 1 Axes>"
      ]
     },
     "metadata": {},
     "output_type": "display_data"
    }
   ],
   "source": [
    "# Initialize variables\n",
    "genuine_scores = defaultdict(list)  # Dictionary to store genuine scores for each client\n",
    "impostor_scores = []  # List to store impostor scores\n",
    "\n",
    "# Extract genuine scores and impostor scores\n",
    "for result in results_3_H_256:\n",
    "    file_name, score = result\n",
    "    client_name = file_name.split('.')[0]  # Extract client name from file name\n",
    "\n",
    "    genuine_scores[client_name].append(score[client_name])\n",
    "\n",
    "    impostor_scores.extend([s for key, s in score.items() if key != client_name])\n",
    "\n",
    "# Compute the minimum and maximum scores\n",
    "min_score = min(sorted_scores_array)\n",
    "max_score = max(sorted_scores_array)\n",
    "\n",
    "# Set the number of thresholds and generate them using linspace\n",
    "num_thresholds = 1000\n",
    "thresholds = np.geomspace(max_score, min_score, num_thresholds)\n",
    "\n",
    "# Initialize lists for FAR and FRR\n",
    "far = []\n",
    "frr = []\n",
    "\n",
    "# Iterate over thresholds\n",
    "for threshold in thresholds:\n",
    "    # Compute the number of false accepts (FAR) and false rejects (FRR)\n",
    "    false_accepts = sum(score >= threshold for score in impostor_scores)\n",
    "    false_rejects = 0\n",
    "    for client_scores in genuine_scores.values():\n",
    "        false_rejects += sum(score < threshold for score in client_scores)\n",
    "\n",
    "    # Compute the FAR and FRR rates\n",
    "    far_rate = false_accepts / len(impostor_scores)\n",
    "    frr_rate = false_rejects / sum(len(client_scores) for client_scores in genuine_scores.values())\n",
    "\n",
    "    # Append the FAR and FRR rates to the lists\n",
    "    far.append(far_rate)\n",
    "    frr.append(frr_rate)\n",
    "\n",
    "# Find the threshold with the closest FAR and FRR\n",
    "eer_threshold = thresholds[np.argmin(np.abs(np.array(far) - np.array(frr)))]\n",
    "\n",
    "# Compute the EER values\n",
    "eer_far = far[np.argmin(np.abs(np.array(far) - np.array(frr)))]\n",
    "eer_frr = frr[np.argmin(np.abs(np.array(far) - np.array(frr)))]\n",
    "\n",
    "# Plot the FAR and FRR curve\n",
    "plt.plot(far, frr)\n",
    "plt.xlabel('False Acceptance Rate (FAR)')\n",
    "plt.ylabel('False Rejection Rate (FRR)')\n",
    "plt.title('DET Curve')\n",
    "plt.grid(True)\n",
    "\n",
    "# Plot the EER point\n",
    "plt.scatter(eer_far, eer_frr, color='red', marker='o', label='EER')\n",
    "\n",
    "# Add legend\n",
    "plt.legend()\n",
    "\n",
    "# Add text annotation for EER point\n",
    "plt.annotate(f'EER: ({eer_far:.3f}, {eer_frr:.3f})', (eer_far, eer_frr), xytext=(eer_far + 0.05, eer_frr), color='red')\n",
    "\n",
    "plt.show()\n"
   ]
  },
  {
   "cell_type": "markdown",
   "id": "96b6f834",
   "metadata": {},
   "source": [
    "### 10 seconds segments :"
   ]
  },
  {
   "cell_type": "markdown",
   "id": "549b9063",
   "metadata": {},
   "source": [
    "## Get the scores"
   ]
  },
  {
   "cell_type": "code",
   "execution_count": 49,
   "id": "66b41b32",
   "metadata": {},
   "outputs": [
    {
     "name": "stdout",
     "output_type": "stream",
     "text": [
      "File: H1.10.1.mfcc ,Score: {'H1': -30115.64746686877, 'H2': -86.56336296635062, 'H3': -94.9703720687557, 'H4': -83.74572470511308, 'H5': -81.24398672596433, 'H6': -75.47085600294271}\n",
      "File: H2.10.1.mfcc ,Score: {'H1': -91340.06654390525, 'H2': -63.89503861805794, 'H3': -103.39825901869774, 'H4': -84.37336219869547, 'H5': -76.46870119704481, 'H6': -82.57014453535118}\n",
      "File: H2.10.2.mfcc ,Score: {'H1': -69089.29031904395, 'H2': -62.51163285227638, 'H3': -98.65562453146735, 'H4': -85.453659998065, 'H5': -78.01226012785835, 'H6': -78.19947960675475}\n",
      "File: H2.10.3.mfcc ,Score: {'H1': -70536.17967031772, 'H2': -61.6311344013108, 'H3': -96.64223451454093, 'H4': -88.45542266818728, 'H5': -76.80644127974502, 'H6': -77.39223777972704}\n",
      "File: H2.10.4.mfcc ,Score: {'H1': -75257.66086812291, 'H2': -64.30447624605472, 'H3': -98.66206178760477, 'H4': -84.9756086140304, 'H5': -74.3668929382402, 'H6': -78.828778678537}\n",
      "File: H2.10.5.mfcc ,Score: {'H1': -82791.0046542224, 'H2': -61.460387722482615, 'H3': -108.02479606387203, 'H4': -87.40252767097877, 'H5': -73.2931734872777, 'H6': -79.61274110670801}\n",
      "File: H2.10.6.mfcc ,Score: {'H1': -241819.60806567458, 'H2': -53.948039886010136, 'H3': -136.14954717669278, 'H4': -74.8672961811951, 'H5': -63.551429853337496, 'H6': -109.15391694698302}\n",
      "File: H3.10.1.mfcc ,Score: {'H1': -88282.26278694868, 'H2': -93.57493222710265, 'H3': -76.44353513962412, 'H4': -88.96669603937463, 'H5': -93.61205821247606, 'H6': -77.78015802455812}\n",
      "File: H3.10.2.mfcc ,Score: {'H1': -49790.113680278366, 'H2': -84.72438917580891, 'H3': -67.29551224676433, 'H4': -85.38833628845232, 'H5': -88.35810758035217, 'H6': -75.37582794036337}\n",
      "File: H3.10.3.mfcc ,Score: {'H1': -69528.16285674885, 'H2': -88.90164498338753, 'H3': -73.11052206862021, 'H4': -84.79292517915015, 'H5': -89.12016122537217, 'H6': -74.54875189960492}\n",
      "File: H3.10.4.mfcc ,Score: {'H1': -72344.14337145645, 'H2': -89.19285265504689, 'H3': -74.73458358338874, 'H4': -84.84803279804467, 'H5': -87.08788376288227, 'H6': -74.78535120083103}\n",
      "File: H3.10.5.mfcc ,Score: {'H1': -72835.65486677422, 'H2': -88.15020106103039, 'H3': -66.58465482594445, 'H4': -86.26451771743041, 'H5': -89.6381671611238, 'H6': -77.2555741361233}\n",
      "File: H4.10.1.mfcc ,Score: {'H1': -35985.82232946101, 'H2': -93.42439612689114, 'H3': -99.28342866879268, 'H4': -68.96731755137357, 'H5': -86.42712657026846, 'H6': -64.26334344522576}\n",
      "File: H4.10.2.mfcc ,Score: {'H1': -35771.26297652525, 'H2': -89.62985034304613, 'H3': -95.63857468190541, 'H4': -68.53167802572197, 'H5': -80.83929214839826, 'H6': -64.03587036970015}\n",
      "File: H4.10.3.mfcc ,Score: {'H1': -31965.402370861982, 'H2': -89.35886835576389, 'H3': -94.04604752585247, 'H4': -67.7187087872497, 'H5': -79.54392422387403, 'H6': -64.33232370283213}\n",
      "File: H4.10.4.mfcc ,Score: {'H1': -32503.757415644155, 'H2': -85.84917789863336, 'H3': -96.47805571050421, 'H4': -66.64967573563347, 'H5': -80.17958763755104, 'H6': -63.120723299753855}\n",
      "File: H4.10.5.mfcc ,Score: {'H1': -34806.013841250475, 'H2': -88.31079587490424, 'H3': -90.80407055687049, 'H4': -65.80900090334791, 'H5': -77.47919112628864, 'H6': -62.691759391969356}\n",
      "File: H5.10.1.mfcc ,Score: {'H1': -41185.41805456498, 'H2': -86.9372283595732, 'H3': -104.26171634340308, 'H4': -88.14759072254176, 'H5': -69.90601967226188, 'H6': -74.91979306625961}\n",
      "File: H5.10.2.mfcc ,Score: {'H1': -32877.2856287241, 'H2': -85.01475328936745, 'H3': -104.91952879265432, 'H4': -93.92415838382198, 'H5': -68.62032729529936, 'H6': -75.60564072133468}\n",
      "File: H5.10.3.mfcc ,Score: {'H1': -38862.18716865335, 'H2': -85.75538604252311, 'H3': -110.90794922023433, 'H4': -96.00457780125211, 'H5': -70.38530061967724, 'H6': -76.31606944100285}\n",
      "File: H5.10.4.mfcc ,Score: {'H1': -26068.332045271345, 'H2': -88.97864678334065, 'H3': -99.97701524028732, 'H4': -89.58619194761744, 'H5': -72.97189574592488, 'H6': -75.4890529642739}\n",
      "File: H5.10.5.mfcc ,Score: {'H1': -48167.16124369435, 'H2': -96.12630256943453, 'H3': -108.5475763829134, 'H4': -94.5924676211608, 'H5': -78.90497538609497, 'H6': -81.24785174081029}\n",
      "File: H6.10.1.mfcc ,Score: {'H1': -29290.377657817324, 'H2': -90.97792170070763, 'H3': -106.61928718033005, 'H4': -78.17334599420202, 'H5': -87.76057811654472, 'H6': -62.57482865786884}\n",
      "File: H6.10.2.mfcc ,Score: {'H1': -37878.716745996746, 'H2': -90.00299431746878, 'H3': -97.99323426778524, 'H4': -74.48615768478965, 'H5': -83.16259612154909, 'H6': -61.32463511793299}\n",
      "File: H6.10.3.mfcc ,Score: {'H1': -31952.60586114424, 'H2': -89.60456832177285, 'H3': -94.29373659738935, 'H4': -74.1684688474408, 'H5': -83.19804380511613, 'H6': -58.795213702616564}\n",
      "File: H6.10.4.mfcc ,Score: {'H1': -31069.856389041157, 'H2': -90.38526404696653, 'H3': -97.34292535902951, 'H4': -77.75272075596243, 'H5': -85.23023203411215, 'H6': -62.28811894918567}\n",
      "File: H6.10.5.mfcc ,Score: {'H1': -28931.689257220245, 'H2': -90.5732900766498, 'H3': -103.66724337612102, 'H4': -82.13717824699015, 'H5': -87.55689042586512, 'H6': -62.14097067102949}\n",
      "File: H6.10.6.mfcc ,Score: {'H1': -29920.565990791853, 'H2': -91.93672385177567, 'H3': -103.94523475473511, 'H4': -76.45089584462782, 'H5': -86.83297351983553, 'H6': -61.04735739445758}\n"
     ]
    }
   ],
   "source": [
    "results_10_H_256 = []\n",
    "\n",
    "# Calculate scores for each GMM model and store file name with score\n",
    "for test_segment_name, test_segment in test_files_10_H.items():\n",
    "    score = get_scores(test_segment, gmm_models_H_256)\n",
    "    results_10_H_256.append((test_segment_name, score))\n",
    "\n",
    "# Printing the results\n",
    "for result in results_10_H_256:\n",
    "    file_name, score = result\n",
    "    print(f\"File: {file_name} ,Score: {score}\")"
   ]
  },
  {
   "cell_type": "markdown",
   "id": "4075ff59",
   "metadata": {},
   "source": [
    "## Sort the scores"
   ]
  },
  {
   "cell_type": "code",
   "execution_count": 50,
   "id": "851eb9da",
   "metadata": {},
   "outputs": [],
   "source": [
    "# Extract the scores from results_10_H_256\n",
    "scores = [score for _, score in results_10_H_256]\n",
    "    \n",
    "scores_array = np.array([list(item.values()) for item in scores]).flatten()\n",
    "\n",
    "sorted_scores_array = np.sort(scores_array)\n"
   ]
  },
  {
   "cell_type": "markdown",
   "id": "efeda259",
   "metadata": {},
   "source": [
    "##  Plot the DET curve "
   ]
  },
  {
   "cell_type": "code",
   "execution_count": 51,
   "id": "4fab2cf8",
   "metadata": {},
   "outputs": [
    {
     "data": {
      "image/png": "[encoded data removed]",
      "text/plain": [
       "<Figure size 640x480 with 1 Axes>"
      ]
     },
     "metadata": {},
     "output_type": "display_data"
    }
   ],
   "source": [
    "# Initialize variables\n",
    "genuine_scores = defaultdict(list)  # Dictionary to store genuine scores for each client\n",
    "impostor_scores = []  # List to store impostor scores\n",
    "\n",
    "# Extract genuine scores and impostor scores\n",
    "for result in results_10_H_256:\n",
    "    file_name, score = result\n",
    "    client_name = file_name.split('.')[0]  # Extract client name from file name\n",
    "\n",
    "    genuine_scores[client_name].append(score[client_name])\n",
    "\n",
    "    impostor_scores.extend([s for key, s in score.items() if key != client_name])\n",
    "\n",
    "# Compute the minimum and maximum scores\n",
    "min_score = min(sorted_scores_array)\n",
    "max_score = max(sorted_scores_array)\n",
    "\n",
    "# Set the number of thresholds and generate them using linspace\n",
    "num_thresholds = 1000\n",
    "thresholds = np.geomspace(max_score, min_score, num_thresholds)\n",
    "\n",
    "# Initialize lists for FAR and FRR\n",
    "far = []\n",
    "frr = []\n",
    "\n",
    "# Iterate over thresholds\n",
    "for threshold in thresholds:\n",
    "    # Compute the number of false accepts (FAR) and false rejects (FRR)\n",
    "    false_accepts = sum(score >= threshold for score in impostor_scores)\n",
    "    false_rejects = 0\n",
    "    for client_scores in genuine_scores.values():\n",
    "        false_rejects += sum(score < threshold for score in client_scores)\n",
    "\n",
    "    # Compute the FAR and FRR rates\n",
    "    far_rate = false_accepts / len(impostor_scores)\n",
    "    frr_rate = false_rejects / sum(len(client_scores) for client_scores in genuine_scores.values())\n",
    "\n",
    "    # Append the FAR and FRR rates to the lists\n",
    "    far.append(far_rate)\n",
    "    frr.append(frr_rate)\n",
    "\n",
    "# Find the threshold with the closest FAR and FRR\n",
    "eer_threshold = thresholds[np.argmin(np.abs(np.array(far) - np.array(frr)))]\n",
    "\n",
    "# Compute the EER values\n",
    "eer_far = far[np.argmin(np.abs(np.array(far) - np.array(frr)))]\n",
    "eer_frr = frr[np.argmin(np.abs(np.array(far) - np.array(frr)))]\n",
    "\n",
    "# Plot the FAR and FRR curve\n",
    "plt.plot(far, frr)\n",
    "plt.xlabel('False Acceptance Rate (FAR)')\n",
    "plt.ylabel('False Rejection Rate (FRR)')\n",
    "plt.title('DET Curve')\n",
    "plt.grid(True)\n",
    "\n",
    "# Plot the EER point\n",
    "plt.scatter(eer_far, eer_frr, color='red', marker='o', label='EER')\n",
    "\n",
    "# Add legend\n",
    "plt.legend()\n",
    "\n",
    "# Add text annotation for EER point\n",
    "plt.annotate(f'EER: ({eer_far:.3f}, {eer_frr:.3f})', (eer_far, eer_frr), xytext=(eer_far + 0.05, eer_frr), color='red')\n",
    "\n",
    "plt.show()\n"
   ]
  },
  {
   "cell_type": "markdown",
   "id": "eda4c038",
   "metadata": {},
   "source": [
    "### 15 seconds segments :"
   ]
  },
  {
   "cell_type": "markdown",
   "id": "fb98c31e",
   "metadata": {},
   "source": [
    "## Get the scores"
   ]
  },
  {
   "cell_type": "code",
   "execution_count": 52,
   "id": "b06360a2",
   "metadata": {
    "scrolled": true
   },
   "outputs": [
    {
     "name": "stdout",
     "output_type": "stream",
     "text": [
      "File: H1.15.1.mfcc ,Score: {'H1': -30115.64746686877, 'H2': -86.56336296635062, 'H3': -94.9703720687557, 'H4': -83.74572470511308, 'H5': -81.24398672596433, 'H6': -75.47085600294271}\n",
      "File: H2.15.1.mfcc ,Score: {'H1': -91821.1686443301, 'H2': -62.981390116006814, 'H3': -103.99229426500686, 'H4': -84.9561638892232, 'H5': -76.90461228363012, 'H6': -82.45750057058262}\n",
      "File: H2.15.2.mfcc ,Score: {'H1': -62155.85571118118, 'H2': -62.37714713175659, 'H3': -95.13845111146382, 'H4': -87.23213268740862, 'H5': -77.286989452802, 'H6': -76.3170740439727}\n",
      "File: H2.15.3.mfcc ,Score: {'H1': -88371.43697705158, 'H2': -62.69903940071544, 'H3': -103.59641340415149, 'H4': -83.81805753867312, 'H5': -72.91579977522701, 'H6': -81.06940008303658}\n",
      "File: H2.15.4.mfcc ,Score: {'H1': -87919.13391072403, 'H2': -61.59688653836353, 'H3': -109.0809409781495, 'H4': -89.73407341732728, 'H5': -74.05248120173852, 'H6': -80.54175757149696}\n",
      "File: H3.15.1.mfcc ,Score: {'H1': -69001.93456007121, 'H2': -88.49249947004184, 'H3': -72.3405216320389, 'H4': -87.63645318614152, 'H5': -91.30973358254089, 'H6': -75.98758683304163}\n",
      "File: H3.15.2.mfcc ,Score: {'H1': -69398.42498924605, 'H2': -89.64147812082423, 'H3': -72.22585800463354, 'H4': -85.12885181850987, 'H5': -89.4171510962594, 'H6': -75.8155717433093}\n",
      "File: H3.15.3.mfcc ,Score: {'H1': -61261.25190089238, 'H2': -85.89731857335573, 'H3': -71.83962459842013, 'H4': -84.63001826039726, 'H5': -86.42635120120676, 'H6': -73.27230054879415}\n",
      "File: H3.15.4.mfcc ,Score: {'H1': -143421.81785215077, 'H2': -106.65218987077309, 'H3': -67.70379331435768, 'H4': -90.59616736665212, 'H5': -99.12536608009475, 'H6': -91.91953834407927}\n",
      "File: H4.15.1.mfcc ,Score: {'H1': -36924.28241658886, 'H2': -91.82647885728424, 'H3': -98.33866137362756, 'H4': -69.45084841885061, 'H5': -85.21193751621043, 'H6': -64.47228565457203}\n",
      "File: H4.15.2.mfcc ,Score: {'H1': -32224.042701309958, 'H2': -89.78226435984988, 'H3': -94.30670587740613, 'H4': -67.36095449071288, 'H5': -79.32829111215008, 'H6': -63.948739357266675}\n",
      "File: H4.15.3.mfcc ,Score: {'H1': -32869.36740078341, 'H2': -86.85392560817938, 'H3': -93.52907153649465, 'H4': -66.41812709134831, 'H5': -78.60902425842903, 'H6': -63.1624087007316}\n",
      "File: H4.15.4.mfcc ,Score: {'H1': -37005.697181010604, 'H2': -87.30235581584003, 'H3': -96.59415699554748, 'H4': -65.54252480949746, 'H5': -81.14943496954342, 'H6': -61.680773788469864}\n",
      "File: H5.15.1.mfcc ,Score: {'H1': -36798.93714456972, 'H2': -86.03909576600137, 'H3': -104.35774018208481, 'H4': -89.73686251218439, 'H5': -69.61036633892803, 'H6': -75.23337306430756}\n",
      "File: H5.15.2.mfcc ,Score: {'H1': -38484.32342339189, 'H2': -85.76581602830782, 'H3': -109.03505605544301, 'H4': -95.6473554262262, 'H5': -69.66406538589762, 'H6': -75.9942957547572}\n",
      "File: H5.15.3.mfcc ,Score: {'H1': -33784.92717754384, 'H2': -92.7523593061802, 'H3': -104.64726758193339, 'H4': -92.64089804541565, 'H5': -76.05105917612961, 'H6': -78.9727314518006}\n",
      "File: H5.15.4.mfcc ,Score: {'H1': -46843.5388275804, 'H2': -90.87002828426485, 'H3': -101.69594428932128, 'H4': -89.35589001429517, 'H5': -74.74324912608978, 'H6': -75.33823374831192}\n",
      "File: H6.15.1.mfcc ,Score: {'H1': -34296.62372030432, 'H2': -90.88814480568952, 'H3': -103.98208100207763, 'H4': -77.09002815391013, 'H5': -85.94223936676067, 'H6': -62.475044996699424}\n",
      "File: H6.15.2.mfcc ,Score: {'H1': -31784.509789667885, 'H2': -89.50217808760998, 'H3': -95.2887576949255, 'H4': -74.12862019704485, 'H5': -83.47190599537927, 'H6': -59.321406655579494}\n",
      "File: H6.15.3.mfcc ,Score: {'H1': -29689.060540233964, 'H2': -90.02293567726007, 'H3': -100.57203462929851, 'H4': -79.69158238219445, 'H5': -85.2172838639141, 'H6': -62.35505968762857}\n",
      "File: H6.15.4.mfcc ,Score: {'H1': -30442.325333561148, 'H2': -91.89128570361368, 'H3': -102.07421668056783, 'H4': -78.63699811322698, 'H5': -88.42054793318431, 'H6': -61.43052429224125}\n"
     ]
    }
   ],
   "source": [
    "results_15_H_256 = []\n",
    "\n",
    "# Calculate scores for each GMM model and store file name with score\n",
    "for test_segment_name, test_segment in test_files_15_H.items():\n",
    "    score = get_scores(test_segment, gmm_models_H_256)\n",
    "    results_15_H_256.append((test_segment_name, score))\n",
    "\n",
    "# Printing the results\n",
    "for result in results_15_H_256:\n",
    "    file_name, score = result\n",
    "    print(f\"File: {file_name} ,Score: {score}\")"
   ]
  },
  {
   "cell_type": "markdown",
   "id": "fb96faea",
   "metadata": {},
   "source": [
    "## Sort the scores"
   ]
  },
  {
   "cell_type": "code",
   "execution_count": 53,
   "id": "a41da472",
   "metadata": {
    "scrolled": true
   },
   "outputs": [],
   "source": [
    "# Extract the scores from results_15_H_256\n",
    "scores = [score for _, score in results_15_H_256]\n",
    "    \n",
    "scores_array = np.array([list(item.values()) for item in scores]).flatten()\n",
    "\n",
    "sorted_scores_array = np.sort(scores_array)\n"
   ]
  },
  {
   "cell_type": "markdown",
   "id": "ce55ff5b",
   "metadata": {},
   "source": [
    "## Plot the DET curve"
   ]
  },
  {
   "cell_type": "code",
   "execution_count": 54,
   "id": "0a09a22e",
   "metadata": {},
   "outputs": [
    {
     "data": {
      "image/png": "[encoded data removed]",
      "text/plain": [
       "<Figure size 640x480 with 1 Axes>"
      ]
     },
     "metadata": {},
     "output_type": "display_data"
    }
   ],
   "source": [
    "# Initialize variables\n",
    "genuine_scores = defaultdict(list)  # Dictionary to store genuine scores for each client\n",
    "impostor_scores = []  # List to store impostor scores\n",
    "\n",
    "# Extract genuine scores and impostor scores\n",
    "for result in results_15_H_256:\n",
    "    file_name, score = result\n",
    "    client_name = file_name.split('.')[0]  # Extract client name from file name\n",
    "\n",
    "    genuine_scores[client_name].append(score[client_name])\n",
    "\n",
    "    impostor_scores.extend([s for key, s in score.items() if key != client_name])\n",
    "\n",
    "# Compute the minimum and maximum scores\n",
    "min_score = min(sorted_scores_array)\n",
    "max_score = max(sorted_scores_array)\n",
    "\n",
    "# Set the number of thresholds and generate them using linspace\n",
    "num_thresholds = 1000\n",
    "thresholds = np.geomspace(max_score, min_score, num_thresholds)\n",
    "\n",
    "# Initialize lists for FAR and FRR\n",
    "far = []\n",
    "frr = []\n",
    "\n",
    "# Iterate over thresholds\n",
    "for threshold in thresholds:\n",
    "    # Compute the number of false accepts (FAR) and false rejects (FRR)\n",
    "    false_accepts = sum(score >= threshold for score in impostor_scores)\n",
    "    false_rejects = 0\n",
    "    for client_scores in genuine_scores.values():\n",
    "        false_rejects += sum(score < threshold for score in client_scores)\n",
    "\n",
    "    # Compute the FAR and FRR rates\n",
    "    far_rate = false_accepts / len(impostor_scores)\n",
    "    frr_rate = false_rejects / sum(len(client_scores) for client_scores in genuine_scores.values())\n",
    "\n",
    "    # Append the FAR and FRR rates to the lists\n",
    "    far.append(far_rate)\n",
    "    frr.append(frr_rate)\n",
    "\n",
    "# Find the threshold with the closest FAR and FRR\n",
    "eer_threshold = thresholds[np.argmin(np.abs(np.array(far) - np.array(frr)))]\n",
    "\n",
    "# Compute the EER values\n",
    "eer_far = far[np.argmin(np.abs(np.array(far) - np.array(frr)))]\n",
    "eer_frr = frr[np.argmin(np.abs(np.array(far) - np.array(frr)))]\n",
    "\n",
    "# Plot the FAR and FRR curve\n",
    "plt.plot(far, frr)\n",
    "plt.xlabel('False Acceptance Rate (FAR)')\n",
    "plt.ylabel('False Rejection Rate (FRR)')\n",
    "plt.title('DET Curve')\n",
    "plt.grid(True)\n",
    "\n",
    "# Plot the EER point\n",
    "plt.scatter(eer_far, eer_frr, color='red', marker='o', label='EER')\n",
    "\n",
    "# Add legend\n",
    "plt.legend()\n",
    "\n",
    "# Add text annotation for EER point\n",
    "plt.annotate(f'EER: ({eer_far:.3f}, {eer_frr:.3f})', (eer_far, eer_frr), xytext=(eer_far + 0.05, eer_frr), color='red')\n",
    "\n",
    "plt.show()\n"
   ]
  },
  {
   "cell_type": "markdown",
   "id": "8a4dd1aa",
   "metadata": {},
   "source": [
    "### 30 seconds segments :"
   ]
  },
  {
   "cell_type": "markdown",
   "id": "e4d742c7",
   "metadata": {},
   "source": [
    "## Get the scores"
   ]
  },
  {
   "cell_type": "code",
   "execution_count": 55,
   "id": "79032c65",
   "metadata": {
    "scrolled": true
   },
   "outputs": [
    {
     "name": "stdout",
     "output_type": "stream",
     "text": [
      "File: H1.30.1.mfcc ,Score: {'H1': -30115.64746686877, 'H2': -86.56336296635062, 'H3': -94.9703720687557, 'H4': -83.74572470511308, 'H5': -81.24398672596433, 'H6': -75.47085600294271}\n",
      "File: H2.30.1.mfcc ,Score: {'H1': -76988.51217775563, 'H2': -62.679268623881704, 'H3': -99.56537268823534, 'H4': -86.09414828831592, 'H5': -77.09580086821607, 'H6': -79.38728730727765}\n",
      "File: H2.30.2.mfcc ,Score: {'H1': -88239.15966520106, 'H2': -62.37671167682008, 'H3': -105.20037901541505, 'H4': -85.5482131258267, 'H5': -73.24822547543322, 'H6': -80.91508953720897}\n",
      "File: H3.30.1.mfcc ,Score: {'H1': -69200.17977465862, 'H2': -89.06698879543302, 'H3': -72.28318981833623, 'H4': -86.3826525023257, 'H5': -90.36344233940014, 'H6': -75.90157928817547}\n",
      "File: H3.30.2.mfcc ,Score: {'H1': -72553.01455894341, 'H2': -88.74977069531245, 'H3': -71.27121535351448, 'H4': -85.44997779828967, 'H5': -88.17164421791419, 'H6': -75.83508941197593}\n",
      "File: H4.30.1.mfcc ,Score: {'H1': -34574.162558949414, 'H2': -90.80437160856705, 'H3': -96.32268362551685, 'H4': -68.40590145478174, 'H5': -82.27011431418026, 'H6': -64.21051250591935}\n",
      "File: H4.30.2.mfcc ,Score: {'H1': -33508.23682568885, 'H2': -86.92318709459371, 'H3': -94.00248383400336, 'H4': -66.2828875055382, 'H5': -79.00139885529788, 'H6': -62.93356542792454}\n",
      "File: H5.30.1.mfcc ,Score: {'H1': -37641.630283980805, 'H2': -85.9024558971546, 'H3': -106.69639811876392, 'H4': -92.6921089692053, 'H5': -69.63721586241282, 'H6': -75.61383440953239}\n",
      "File: H5.30.2.mfcc ,Score: {'H1': -36517.80478696108, 'H2': -92.35842919774562, 'H3': -104.02962111531924, 'H4': -91.95341876847584, 'H5': -75.77736355680129, 'H6': -78.21211174263611}\n",
      "File: H6.30.1.mfcc ,Score: {'H1': -33040.566754986095, 'H2': -90.19516144664975, 'H3': -99.63541934850156, 'H4': -75.6093241754775, 'H5': -84.70707268106997, 'H6': -60.898225826139466}\n",
      "File: H6.30.2.mfcc ,Score: {'H1': -29985.432009666783, 'H2': -90.75803659745499, 'H3': -101.16306703361919, 'H4': -79.27665699048181, 'H5': -86.47760571567305, 'H6': -61.99130192793919}\n"
     ]
    }
   ],
   "source": [
    "results_30_H_256 = []\n",
    "\n",
    "# Calculate scores for each GMM model and store file name with score\n",
    "for test_segment_name, test_segment in test_files_30_H.items():\n",
    "    score = get_scores(test_segment, gmm_models_H_256)\n",
    "    results_30_H_256.append((test_segment_name, score))\n",
    "\n",
    "# Printing the results\n",
    "for result in results_30_H_256:\n",
    "    file_name, score = result\n",
    "    print(f\"File: {file_name} ,Score: {score}\")"
   ]
  },
  {
   "cell_type": "markdown",
   "id": "c20c38e7",
   "metadata": {},
   "source": [
    "## Sort the scores"
   ]
  },
  {
   "cell_type": "code",
   "execution_count": 56,
   "id": "3398b5b8",
   "metadata": {
    "scrolled": true
   },
   "outputs": [],
   "source": [
    "# Extract the scores from results_30_H_256\n",
    "scores = [score for _, score in results_30_H_256]\n",
    "    \n",
    "scores_array = np.array([list(item.values()) for item in scores]).flatten()\n",
    "\n",
    "sorted_scores_array = np.sort(scores_array)\n"
   ]
  },
  {
   "cell_type": "markdown",
   "id": "59156903",
   "metadata": {},
   "source": [
    "## Plot  the DET curve"
   ]
  },
  {
   "cell_type": "code",
   "execution_count": 57,
   "id": "f1d0c027",
   "metadata": {},
   "outputs": [
    {
     "data": {
      "image/png": "[encoded data removed]",
      "text/plain": [
       "<Figure size 640x480 with 1 Axes>"
      ]
     },
     "metadata": {},
     "output_type": "display_data"
    }
   ],
   "source": [
    "# Initialize variables\n",
    "genuine_scores = defaultdict(list)  # Dictionary to store genuine scores for each client\n",
    "impostor_scores = []  # List to store impostor scores\n",
    "\n",
    "# Extract genuine scores and impostor scores\n",
    "for result in results_30_H_256:\n",
    "    file_name, score = result\n",
    "    client_name = file_name.split('.')[0]  # Extract client name from file name\n",
    "\n",
    "    genuine_scores[client_name].append(score[client_name])\n",
    "\n",
    "    impostor_scores.extend([s for key, s in score.items() if key != client_name])\n",
    "\n",
    "# Compute the minimum and maximum scores\n",
    "min_score = min(sorted_scores_array)\n",
    "max_score = max(sorted_scores_array)\n",
    "\n",
    "# Set the number of thresholds and generate them using linspace\n",
    "num_thresholds = 1000\n",
    "thresholds = np.geomspace(max_score, min_score, num_thresholds)\n",
    "\n",
    "# Initialize lists for FAR and FRR\n",
    "far = []\n",
    "frr = []\n",
    "\n",
    "# Iterate over thresholds\n",
    "for threshold in thresholds:\n",
    "    # Compute the number of false accepts (FAR) and false rejects (FRR)\n",
    "    false_accepts = sum(score >= threshold for score in impostor_scores)\n",
    "    false_rejects = 0\n",
    "    for client_scores in genuine_scores.values():\n",
    "        false_rejects += sum(score < threshold for score in client_scores)\n",
    "\n",
    "    # Compute the FAR and FRR rates\n",
    "    far_rate = false_accepts / len(impostor_scores)\n",
    "    frr_rate = false_rejects / sum(len(client_scores) for client_scores in genuine_scores.values())\n",
    "\n",
    "    # Append the FAR and FRR rates to the lists\n",
    "    far.append(far_rate)\n",
    "    frr.append(frr_rate)\n",
    "\n",
    "# Find the threshold with the closest FAR and FRR\n",
    "eer_threshold = thresholds[np.argmin(np.abs(np.array(far) - np.array(frr)))]\n",
    "\n",
    "# Compute the EER values\n",
    "eer_far = far[np.argmin(np.abs(np.array(far) - np.array(frr)))]\n",
    "eer_frr = frr[np.argmin(np.abs(np.array(far) - np.array(frr)))]\n",
    "\n",
    "# Plot the FAR and FRR curve\n",
    "plt.plot(far, frr)\n",
    "plt.xlabel('False Acceptance Rate (FAR)')\n",
    "plt.ylabel('False Rejection Rate (FRR)')\n",
    "plt.title('DET Curve')\n",
    "plt.grid(True)\n",
    "\n",
    "# Plot the EER point\n",
    "plt.scatter(eer_far, eer_frr, color='red', marker='o', label='EER')\n",
    "\n",
    "# Add legend\n",
    "plt.legend()\n",
    "\n",
    "# Add text annotation for EER point\n",
    "plt.annotate(f'EER: ({eer_far:.3f}, {eer_frr:.3f})', (eer_far, eer_frr), xytext=(eer_far + 0.05, eer_frr), color='red')\n",
    "\n",
    "plt.show()\n"
   ]
  },
  {
   "cell_type": "code",
   "execution_count": null,
   "id": "84ed4e3a",
   "metadata": {},
   "outputs": [],
   "source": []
  },
  {
   "cell_type": "code",
   "execution_count": null,
   "id": "f83d8cdf",
   "metadata": {},
   "outputs": [],
   "source": []
  }
 ],
 "metadata": {
  "kernelspec": {
   "display_name": "Python 3 (ipykernel)",
   "language": "python",
   "name": "python3"
  },
  "language_info": {
   "codemirror_mode": {
    "name": "ipython",
    "version": 3
   },
   "file_extension": ".py",
   "mimetype": "text/x-python",
   "name": "python",
   "nbconvert_exporter": "python",
   "pygments_lexer": "ipython3",
   "version": "3.9.18"
  }
 },
 "nbformat": 4,
 "nbformat_minor": 5
}
